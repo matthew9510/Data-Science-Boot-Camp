{
 "cells": [
  {
   "cell_type": "markdown",
   "metadata": {},
   "source": [
    "## Lambda Functions\n",
    "\n",
    "A Lambda functions are anonymous functions, i.e. functions without a name. \n",
    "\n",
    "These functions are throw-away functions, i.e. they are just needed where they have been created. \n",
    "\n",
    "Lambda functions are mainly used in combination with the functions filter(), map() and reduce(). \n",
    "\n",
    "The general syntax of a lambda function is quite simple: \n",
    "**lambda argument_list: expression**\n",
    "\n",
    "References:\n",
    "\n",
    "- [Lambda functions](https://www.python-course.eu/python3_lambda.php)"
   ]
  },
  {
   "cell_type": "code",
   "execution_count": 1,
   "metadata": {},
   "outputs": [
    {
     "name": "stdout",
     "output_type": "stream",
     "text": [
      "2\n"
     ]
    }
   ],
   "source": [
    "i = 1\n",
    "func = lambda x : x * 2 \n",
    "print(func(i))"
   ]
  },
  {
   "cell_type": "markdown",
   "metadata": {},
   "source": [
    "## Using Map with lambda functions"
   ]
  },
  {
   "cell_type": "code",
   "execution_count": 6,
   "metadata": {},
   "outputs": [
    {
     "name": "stdout",
     "output_type": "stream",
     "text": [
      "<class 'map'> \n",
      "\n",
      "Help on map object:\n",
      "\n",
      "class map(object)\n",
      " |  map(func, *iterables) --> map object\n",
      " |  \n",
      " |  Make an iterator that computes the function using arguments from\n",
      " |  each of the iterables.  Stops when the shortest iterable is exhausted.\n",
      " |  \n",
      " |  Methods defined here:\n",
      " |  \n",
      " |  __getattribute__(self, name, /)\n",
      " |      Return getattr(self, name).\n",
      " |  \n",
      " |  __iter__(self, /)\n",
      " |      Implement iter(self).\n",
      " |  \n",
      " |  __next__(self, /)\n",
      " |      Implement next(self).\n",
      " |  \n",
      " |  __reduce__(...)\n",
      " |      Return state information for pickling.\n",
      " |  \n",
      " |  ----------------------------------------------------------------------\n",
      " |  Static methods defined here:\n",
      " |  \n",
      " |  __new__(*args, **kwargs) from builtins.type\n",
      " |      Create and return a new object.  See help(type) for accurate signature.\n",
      "\n"
     ]
    }
   ],
   "source": [
    "list_one = [0,1,2,3,4,5]\n",
    "map_obj = map(func, list_one)\n",
    "print(type(map_obj), \"\\n\")\n",
    "help(map_obj)"
   ]
  },
  {
   "cell_type": "markdown",
   "metadata": {},
   "source": [
    "## Making lists using a map "
   ]
  },
  {
   "cell_type": "code",
   "execution_count": 7,
   "metadata": {},
   "outputs": [
    {
     "name": "stdout",
     "output_type": "stream",
     "text": [
      "[2, 3, 4, 5, 6, 7]\n"
     ]
    }
   ],
   "source": [
    "list_two = list(map(lambda x : x + 2, list_one)) \n",
    "print(list_added_by_two)"
   ]
  },
  {
   "cell_type": "markdown",
   "metadata": {},
   "source": [
    "### Note: \n",
    "\n",
    "- ```map()``` can be applied to more than one list\n",
    "\n",
    "- <span style=\"color:red\">The lists don't have to have the same length. </span>\n",
    "\n",
    "- ```map()``` will apply its lambda function to the elements of the argument lists\n",
    "    \n",
    "    - **i.e.** it first applies to the elements with the 0th index, then to the elements with the 1st index until the n-th index is reached.\n",
    "\n",
    "- If one list has fewer elements than the others, map will stop when the shortest list has been consumed."
   ]
  },
  {
   "cell_type": "code",
   "execution_count": 11,
   "metadata": {},
   "outputs": [
    {
     "name": "stdout",
     "output_type": "stream",
     "text": [
      "[2, 4, 6, 8, 10, 12]\n"
     ]
    }
   ],
   "source": [
    "summed_list = list(map(lambda x, y : x + y, list_one, list_two))\n",
    "print(summed_list)"
   ]
  },
  {
   "cell_type": "code",
   "execution_count": 12,
   "metadata": {},
   "outputs": [
    {
     "name": "stdout",
     "output_type": "stream",
     "text": [
      "[0, 6, 12, 18, 24]\n"
     ]
    }
   ],
   "source": [
    "list_one = [x for x in range(5)]\n",
    "list_two = [x for x in range(10)]\n",
    "list_three = [x for x in range(15)]\n",
    "summed_list = list(map(lambda x,y,z : x + y * 2 + z * 3, list_one, list_two, list_three))\n",
    "print(summed_list)"
   ]
  },
  {
   "cell_type": "markdown",
   "metadata": {},
   "source": [
    "### Mapping a list of functions"
   ]
  },
  {
   "cell_type": "code",
   "execution_count": 15,
   "metadata": {},
   "outputs": [
    {
     "name": "stdout",
     "output_type": "stream",
     "text": [
      "[1.2246467991473532e-16, -1.0, -1.2246467991473532e-16]\n"
     ]
    }
   ],
   "source": [
    "from math import sin, cos, tan, pi\n",
    "\n",
    "def map_functions(x, functions):\n",
    "    \"\"\" map an iterable of functions on the the object x \"\"\"\n",
    "    result = []\n",
    "    for func in functions:\n",
    "        result.append(func(x))\n",
    "    return result\n",
    "\n",
    "family_of_functions = (sin, cos, tan)\n",
    "print(map_functions(pi, family_of_functions))"
   ]
  },
  {
   "cell_type": "markdown",
   "metadata": {},
   "source": [
    "### Mapping a list of functions using list comprehension:"
   ]
  },
  {
   "cell_type": "code",
   "execution_count": 17,
   "metadata": {},
   "outputs": [
    {
     "name": "stdout",
     "output_type": "stream",
     "text": [
      "[1.2246467991473532e-16, -1.0, -1.2246467991473532e-16]\n"
     ]
    }
   ],
   "source": [
    "def map_functions(x, functions):\n",
    "     return [ func(x) for func in functions ]\n",
    "\n",
    "family_of_functions = (sin, cos, tan)\n",
    "print(map_functions(pi, family_of_functions))"
   ]
  },
  {
   "cell_type": "markdown",
   "metadata": {},
   "source": [
    "## Filter\n"
   ]
  },
  {
   "cell_type": "markdown",
   "metadata": {},
   "source": [
    "```filter()``` offers an elegant way to filter out all the elements of a sequence \"sequence\", for which the function \"function\" returns True. \n",
    "- **i.e.** An item will be produced by the iterator result of filter(function, sequence) if item is included in the sequence \"sequence\" and if function(item) returns True. \n",
    "\n",
    "The general syntax of using a filter is quite simple: **filter(function, sequence)** \n",
    "\n",
    "The function ```filter(f,l)``` needs a function f as its first argument. f has to return a Boolean value, i.e. either True or False. This function will be applied to every element of the list l. Only if f returns True will the element be produced by the iterator, which is the return value of filter(function, sequence). \n",
    "\n",
    "Resources: \n",
    "\n",
    "- [Filter function](https://www.python-course.eu/python3_lambda.php)"
   ]
  },
  {
   "cell_type": "code",
   "execution_count": 20,
   "metadata": {},
   "outputs": [
    {
     "name": "stdout",
     "output_type": "stream",
     "text": [
      "odd numbers: [1, 1, 3, 5, 13, 21, 55]\n",
      "even numbers: [0, 2, 8, 34]\n"
     ]
    }
   ],
   "source": [
    "fibonacci = [0,1,1,2,3,5,8,13,21,34,55]\n",
    "odd_numbers = list(filter(lambda x: x % 2, fibonacci))\n",
    "print(\"odd numbers:\", odd_numbers)\n",
    "\n",
    "even_numbers = list(filter(lambda x: x % 2 == 0, fibonacci))\n",
    "print(\"even numbers:\",even_numbers)"
   ]
  },
  {
   "attachments": {},
   "cell_type": "markdown",
   "metadata": {},
   "source": [
    "## Reduce \n",
    "\n",
    "Continually applies the function func() to the sequence seq. It returns a single value. \n",
    "\n",
    "The general syntax of using reduce is quite simple: ```filter(function, sequence)```\n",
    "\n",
    "**Note: We have to ```import functools``` to be capable of using reduce**\n",
    "\n",
    "<br></br>\n",
    "\n",
    "If seq = [ s1, s2, s3, ... , sn ], calling reduce(func, seq) works like this:\n",
    "\n",
    "- At first the first two elements of seq will be applied to func\n",
    "    - i.e. func(s1,s2) The list on which reduce() works looks now like this: [ func(s1, s2), s3, ... , sn ]\n",
    "    \n",
    "\n",
    "- In the next step func will be applied on the previous result and the third element of the list\n",
    "    - i.e. func(func(s1, s2),s3)\n",
    "\n",
    "The list looks like this now: [ func(func(s1, s2),s3), ... , sn ]\n",
    "\n",
    "Continue like this until just one element is left and return this element as the result of reduce()\n",
    "\n",
    "\n",
    "If there are 4 elements in the sequence the previous explanation can be illustrated like this:\n",
    "<img src=\"Images/reduce.jpg\" style=\"width:50%; height:50%\" > </img>"
   ]
  },
  {
   "cell_type": "code",
   "execution_count": 25,
   "metadata": {},
   "outputs": [
    {
     "name": "stdout",
     "output_type": "stream",
     "text": [
      "55\n"
     ]
    }
   ],
   "source": [
    "import functools\n",
    "list_one = [x for x in range(1, 11)]\n",
    "sum_of_all_elements = functools.reduce(lambda x, y: x + y, list_one)\n",
    "print(sum_of_all_elements)"
   ]
  },
  {
   "cell_type": "code",
   "execution_count": 28,
   "metadata": {},
   "outputs": [
    {
     "name": "stdout",
     "output_type": "stream",
     "text": [
      "102\n"
     ]
    }
   ],
   "source": [
    "from functools import reduce \n",
    "func = lambda a,b: a if (a > b) else b\n",
    "result = reduce(func, [47,11,42,102,13])\n",
    "print(result)"
   ]
  },
  {
   "cell_type": "code",
   "execution_count": 35,
   "metadata": {},
   "outputs": [
    {
     "name": "stdout",
     "output_type": "stream",
     "text": [
      "362880\n"
     ]
    }
   ],
   "source": [
    "factorial = reduce(lambda x, y: x * y, range(1, 10))\n",
    "print(factorial)"
   ]
  },
  {
   "cell_type": "markdown",
   "metadata": {},
   "source": [
    "# Exercises \n",
    "\n",
    "Imagine an accounting routine used in a book shop. It works on a list with sublists, which look like this: \n",
    "<table>\n",
    "    <th>Order Number</th>\t<th>Book Title and Author</th>\t<th>Quantity</th> <th>Price per Item</th>\n",
    "    <tr>\n",
    "        <td>34587</td>\n",
    "        <td>Learning Python, Mark Lutz</td>\n",
    "        <td>4</td>\n",
    "        <td>40.95</td>\n",
    "    </tr>\n",
    "    <tr>\n",
    "        <td>98762</td>\n",
    "        <td>Programming Python, Mark Lutz</td>\n",
    "        <td>5</td>\n",
    "        <td>56.80</td>\n",
    "    </tr>\n",
    "    <tr>\n",
    "        <td>77226</td>\n",
    "        <td>Head First Python, Paul Barry</td>\n",
    "        <td>3</td>\n",
    "        <td>32.95</td>\n",
    "    </tr>\n",
    "    <tr>\n",
    "        <td>88112</td>\n",
    "        <td>Einführung in Python3, Bernd Klein</td>\n",
    "        <td>3</td>\n",
    "        <td>24.99</td>\n",
    "    </tr>\n",
    "</table>\n",
    "\n",
    "Write a Python program, which returns a list with 2-tuples. \n",
    "- Each tuple consists of a the order number and the product of the price per items and the quantity. - The product should be increased by 10,- € if the value of the order is smaller than 100,00 €. \n",
    "- Write the Python program using lambda and map."
   ]
  },
  {
   "cell_type": "code",
   "execution_count": 53,
   "metadata": {},
   "outputs": [
    {
     "name": "stdout",
     "output_type": "stream",
     "text": [
      "[('34587', 163.8), ('98762', 284.0), ('77226', 108.85000000000001), ('88112', 84.97)]\n"
     ]
    }
   ],
   "source": [
    "orders = [ [\"34587\", \"Learning Python, Mark Lutz\", 4, 40.95], \n",
    "\t       [\"98762\", \"Programming Python, Mark Lutz\", 5, 56.80], \n",
    "           [\"77226\", \"Head First Python, Paul Barry\", 3,32.95],\n",
    "           [\"88112\", \"Einführung in Python3, Bernd Klein\", \t3, 24.99]]\n",
    "\n",
    "\n",
    "# Incremental work\n",
    "#product = lambda x if x[1] >= 100 else (x[0], (x[1] + 10))\n",
    "#map(product, orders[2],orders[3])\n",
    "#print([(order[0]), (order[2],order[3]) for order in orders])\n",
    "#product_list = [map(product, order[2], order[3]) for order in orders] # order[2] is not iterable\n",
    "\n",
    "\n",
    "# hint: index inside lambdas\n",
    "invoice = list(map(lambda x: x if x[1] >= 100 else (x[0], (x[1] + 10)), map(lambda x: (x[0], (x[2]*x[3])), orders)))\n",
    "print(invoice)\n",
    "\n",
    "\n"
   ]
  }
 ],
 "metadata": {
  "kernelspec": {
   "display_name": "Python 3",
   "language": "python",
   "name": "python3"
  },
  "language_info": {
   "codemirror_mode": {
    "name": "ipython",
    "version": 3
   },
   "file_extension": ".py",
   "mimetype": "text/x-python",
   "name": "python",
   "nbconvert_exporter": "python",
   "pygments_lexer": "ipython3",
   "version": "3.7.3"
  }
 },
 "nbformat": 4,
 "nbformat_minor": 2
}
