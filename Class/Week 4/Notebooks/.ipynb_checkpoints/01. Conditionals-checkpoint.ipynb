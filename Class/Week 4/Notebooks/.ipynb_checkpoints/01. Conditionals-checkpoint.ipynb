{
 "cells": [
  {
   "cell_type": "markdown",
   "metadata": {},
   "source": [
    "# Conditionals"
   ]
  },
  {
   "cell_type": "markdown",
   "metadata": {},
   "source": [
    "***"
   ]
  },
  {
   "cell_type": "markdown",
   "metadata": {},
   "source": [
    "## Everything is a Bool."
   ]
  },
  {
   "cell_type": "markdown",
   "metadata": {},
   "source": [
    "<img src=\"http://www.trytoprogram.com/images/python_bool_function.jpg\">"
   ]
  },
  {
   "cell_type": "markdown",
   "metadata": {},
   "source": [
    "#### `type(bool)`"
   ]
  },
  {
   "cell_type": "markdown",
   "metadata": {},
   "source": [
    "```python\n",
    "print('Type of \"True\":', type(True))\n",
    "print('Type of \"False\":', type(False))```"
   ]
  },
  {
   "cell_type": "code",
   "execution_count": 1,
   "metadata": {},
   "outputs": [
    {
     "name": "stdout",
     "output_type": "stream",
     "text": [
      "Type of \"True\": <class 'bool'>\n",
      "Type of \"False\": <class 'bool'>\n"
     ]
    }
   ],
   "source": [
    "print('Type of \"True\":', type(True))\n",
    "print('Type of \"False\":', type(False))"
   ]
  },
  {
   "cell_type": "markdown",
   "metadata": {},
   "source": [
    "#### `bool(number)`"
   ]
  },
  {
   "cell_type": "markdown",
   "metadata": {},
   "source": [
    "```python\n",
    "print('0:', bool(0))\n",
    "print('1:', bool(1))```"
   ]
  },
  {
   "cell_type": "code",
   "execution_count": 2,
   "metadata": {},
   "outputs": [
    {
     "name": "stdout",
     "output_type": "stream",
     "text": [
      "0: False\n",
      "1: True\n"
     ]
    }
   ],
   "source": [
    "print('0:', bool(0))\n",
    "print('1:', bool(1))"
   ]
  },
  {
   "cell_type": "markdown",
   "metadata": {},
   "source": [
    "#### `bool(list)`"
   ]
  },
  {
   "cell_type": "markdown",
   "metadata": {},
   "source": [
    "```python\n",
    "print('Empty list:', bool([])) \n",
    "print('list with values:', bool([\"a\",\"b\"]))```\n",
    "\n",
    "Empty data structure will return 0 "
   ]
  },
  {
   "cell_type": "code",
   "execution_count": 9,
   "metadata": {},
   "outputs": [
    {
     "name": "stdout",
     "output_type": "stream",
     "text": [
      "Empty list: False\n",
      "list with values: True\n"
     ]
    }
   ],
   "source": [
    "import numpy as np \n",
    "print('Empty list:', bool([]))\n",
    "print('list with values:', bool([\"a\",\"b\"]))\n",
    "\n",
    "while alist ~= [] # While a list is not empty"
   ]
  },
  {
   "cell_type": "markdown",
   "metadata": {},
   "source": [
    "#### `bool(dict)`"
   ]
  },
  {
   "cell_type": "markdown",
   "metadata": {},
   "source": [
    "```python\n",
    "print('Empty dict:', bool({}))\n",
    "print('dict with values:', bool({'Python': 'cool'}))```"
   ]
  },
  {
   "cell_type": "code",
   "execution_count": 10,
   "metadata": {},
   "outputs": [
    {
     "name": "stdout",
     "output_type": "stream",
     "text": [
      "Empty dict: False\n",
      "dict with values: True\n"
     ]
    }
   ],
   "source": [
    "print('Empty dict:', bool({}))\n",
    "print('dict with values:', bool({'Python': 'cool'}))"
   ]
  },
  {
   "cell_type": "markdown",
   "metadata": {},
   "source": [
    "***\n",
    "<br>\n",
    "<br>"
   ]
  },
  {
   "cell_type": "markdown",
   "metadata": {},
   "source": [
    "## Conditional Operators"
   ]
  },
  {
   "cell_type": "markdown",
   "metadata": {},
   "source": [
    "<img width=\"350px\" src=\"https://media.giphy.com/media/xT8qBit7YomT80d0M8/giphy.gif\">"
   ]
  },
  {
   "cell_type": "markdown",
   "metadata": {},
   "source": [
    "#### Equal To `==`"
   ]
  },
  {
   "cell_type": "markdown",
   "metadata": {},
   "source": [
    "```python\n",
    "print('1 == 0:', 1 == 0)```"
   ]
  },
  {
   "cell_type": "code",
   "execution_count": 11,
   "metadata": {},
   "outputs": [
    {
     "name": "stdout",
     "output_type": "stream",
     "text": [
      "1 == 0: False\n"
     ]
    }
   ],
   "source": [
    "print('1 == 0:', 1 == 0)"
   ]
  },
  {
   "cell_type": "markdown",
   "metadata": {},
   "source": [
    "#### Not-Equal To `!=`"
   ]
  },
  {
   "cell_type": "markdown",
   "metadata": {
    "collapsed": true
   },
   "source": [
    "```python\n",
    "print('1 != 0:', 1 != 0)```"
   ]
  },
  {
   "cell_type": "code",
   "execution_count": 12,
   "metadata": {},
   "outputs": [
    {
     "name": "stdout",
     "output_type": "stream",
     "text": [
      "1 != 0: True\n"
     ]
    }
   ],
   "source": [
    "print('1 != 0:', 1 != 0)"
   ]
  },
  {
   "cell_type": "markdown",
   "metadata": {},
   "source": [
    "#### Greater Than `>`"
   ]
  },
  {
   "cell_type": "markdown",
   "metadata": {
    "collapsed": true
   },
   "source": [
    "```python\n",
    "print('1 > 0:', 1 > 0)\n",
    "print('1 > 1:', 1 > 1)```"
   ]
  },
  {
   "cell_type": "code",
   "execution_count": 13,
   "metadata": {},
   "outputs": [
    {
     "name": "stdout",
     "output_type": "stream",
     "text": [
      "1 > 0: True\n",
      "1 > 1: False\n"
     ]
    }
   ],
   "source": [
    "print('1 > 0:', 1 > 0)\n",
    "print('1 > 1:', 1 > 1)"
   ]
  },
  {
   "cell_type": "code",
   "execution_count": 15,
   "metadata": {},
   "outputs": [
    {
     "name": "stderr",
     "output_type": "stream",
     "text": [
      "C:\\ProgramData\\Anaconda3\\lib\\importlib\\_bootstrap.py:219: RuntimeWarning: numpy.ufunc size changed, may indicate binary incompatibility. Expected 192 from C header, got 216 from PyObject\n",
      "  return f(*args, **kwds)\n",
      "C:\\ProgramData\\Anaconda3\\lib\\importlib\\_bootstrap.py:219: RuntimeWarning: numpy.ufunc size changed, may indicate binary incompatibility. Expected 192 from C header, got 216 from PyObject\n",
      "  return f(*args, **kwds)\n"
     ]
    },
    {
     "data": {
      "text/plain": [
       "0     True\n",
       "1     True\n",
       "2     True\n",
       "3    False\n",
       "4    False\n",
       "5    False\n",
       "dtype: bool"
      ]
     },
     "execution_count": 15,
     "metadata": {},
     "output_type": "execute_result"
    }
   ],
   "source": [
    "import pandas as pd\n",
    "ser = pd.Series([1,2,3,4,5,6])\n",
    "ser < 4"
   ]
  },
  {
   "cell_type": "markdown",
   "metadata": {},
   "source": [
    "#### Less Than `<`"
   ]
  },
  {
   "cell_type": "markdown",
   "metadata": {
    "collapsed": true
   },
   "source": [
    "```python\n",
    "print('1 < 0:', 1 < 0)\n",
    "print('1 < 1:', 1 < 1)```"
   ]
  },
  {
   "cell_type": "code",
   "execution_count": 16,
   "metadata": {},
   "outputs": [
    {
     "name": "stdout",
     "output_type": "stream",
     "text": [
      "1 < 0: False\n",
      "1 < 1: False\n"
     ]
    }
   ],
   "source": [
    "print('1 < 0:', 1 < 0)\n",
    "print('1 < 1:', 1 < 1)"
   ]
  },
  {
   "cell_type": "markdown",
   "metadata": {},
   "source": [
    "#### Greater Than or Equal To `>=` "
   ]
  },
  {
   "cell_type": "markdown",
   "metadata": {
    "collapsed": true
   },
   "source": [
    "```python\n",
    "print('1 >= 0:', 1 >= 0)\n",
    "print('1 >= 1:', 1 >= 1)```"
   ]
  },
  {
   "cell_type": "code",
   "execution_count": 17,
   "metadata": {},
   "outputs": [
    {
     "name": "stdout",
     "output_type": "stream",
     "text": [
      "1 >= 0: True\n",
      "1 >= 1: True\n"
     ]
    }
   ],
   "source": [
    "print('1 >= 0:', 1 >= 0)\n",
    "print('1 >= 1:', 1 >= 1)"
   ]
  },
  {
   "cell_type": "markdown",
   "metadata": {},
   "source": [
    "#### Less Than or Equal To `<=`"
   ]
  },
  {
   "cell_type": "markdown",
   "metadata": {
    "collapsed": true
   },
   "source": [
    "```python\n",
    "print('1 <= 0:', 1 <= 0)\n",
    "print('1 <= 1:', 1 <= 1)```"
   ]
  },
  {
   "cell_type": "code",
   "execution_count": 18,
   "metadata": {},
   "outputs": [
    {
     "name": "stdout",
     "output_type": "stream",
     "text": [
      "1 <= 0: False\n",
      "1 <= 1: True\n"
     ]
    }
   ],
   "source": [
    "print('1 <= 0:', 1 <= 0)\n",
    "print('1 <= 1:', 1 <= 1)"
   ]
  },
  {
   "cell_type": "markdown",
   "metadata": {},
   "source": [
    "#### We can combine them!"
   ]
  },
  {
   "cell_type": "markdown",
   "metadata": {},
   "source": [
    "```python\n",
    "bool_operation = 0 <= 1 <= 2\n",
    "print('1 <= 2 <= 3:', bool_operation)```"
   ]
  },
  {
   "cell_type": "code",
   "execution_count": 19,
   "metadata": {},
   "outputs": [
    {
     "name": "stdout",
     "output_type": "stream",
     "text": [
      "1 <= 2 <= 3: True\n"
     ]
    }
   ],
   "source": [
    "bool_operation = 0 <= 1 <= 2\n",
    "print('1 <= 2 <= 3:', bool_operation)"
   ]
  },
  {
   "cell_type": "markdown",
   "metadata": {},
   "source": [
    "***\n",
    "<br>\n",
    "<br>"
   ]
  },
  {
   "cell_type": "markdown",
   "metadata": {},
   "source": [
    "## Logical Operators"
   ]
  },
  {
   "cell_type": "markdown",
   "metadata": {},
   "source": [
    "### `and`"
   ]
  },
  {
   "cell_type": "markdown",
   "metadata": {},
   "source": [
    "```python\n",
    "print('True and True:', True and True)\n",
    "print('True and False:', True and False)```"
   ]
  },
  {
   "cell_type": "code",
   "execution_count": 20,
   "metadata": {},
   "outputs": [
    {
     "name": "stdout",
     "output_type": "stream",
     "text": [
      "True and True: True\n",
      "True and False: False\n"
     ]
    },
    {
     "data": {
      "text/plain": [
       "True"
      ]
     },
     "execution_count": 20,
     "metadata": {},
     "output_type": "execute_result"
    }
   ],
   "source": [
    "print('True and True:', True and True)\n",
    "print('True and False:', True and False)\n",
    "(1 < 2) and True"
   ]
  },
  {
   "cell_type": "markdown",
   "metadata": {},
   "source": [
    "### `or`"
   ]
  },
  {
   "cell_type": "markdown",
   "metadata": {},
   "source": [
    "```python\n",
    "print('True or True:', True or True)\n",
    "print('True or False:', True or False)\n",
    "print('Fasle or False:', False or False)```"
   ]
  },
  {
   "cell_type": "code",
   "execution_count": 22,
   "metadata": {},
   "outputs": [
    {
     "name": "stdout",
     "output_type": "stream",
     "text": [
      "True or True: True\n",
      "True or False: True\n",
      "Fasle or False: False\n"
     ]
    },
    {
     "data": {
      "text/plain": [
       "True"
      ]
     },
     "execution_count": 22,
     "metadata": {},
     "output_type": "execute_result"
    }
   ],
   "source": [
    "print('True or True:', True or True)\n",
    "print('True or False:', True or False)\n",
    "print('Fasle or False:', False or False)\n",
    "(2 < 1) or True"
   ]
  },
  {
   "cell_type": "markdown",
   "metadata": {},
   "source": [
    "### `not`"
   ]
  },
  {
   "cell_type": "markdown",
   "metadata": {},
   "source": [
    "```python\n",
    "python_is_cool = False\n",
    "print('Python is cool:', not python_is_cool)```"
   ]
  },
  {
   "cell_type": "code",
   "execution_count": 23,
   "metadata": {},
   "outputs": [
    {
     "name": "stdout",
     "output_type": "stream",
     "text": [
      "Python is cool: True\n"
     ]
    }
   ],
   "source": [
    "python_is_cool = False\n",
    "print('Python is cool:', not python_is_cool)"
   ]
  },
  {
   "cell_type": "markdown",
   "metadata": {},
   "source": [
    "#### We can combine them! \n",
    ">Be sure to use parentheses to group operations!"
   ]
  },
  {
   "cell_type": "markdown",
   "metadata": {},
   "source": [
    "```python\n",
    "eval_false = True and False\n",
    "eval_true = True or False\n",
    "print(\"(True and False) or (True or False):\", eval_false or eval_true)\n",
    "print(\"(True and False) and (True or False):\", eval_false and eval_true)```"
   ]
  },
  {
   "cell_type": "code",
   "execution_count": 24,
   "metadata": {},
   "outputs": [
    {
     "name": "stdout",
     "output_type": "stream",
     "text": [
      "(True and False) or (True or False): True\n",
      "(True and False) and (True or False): False\n"
     ]
    }
   ],
   "source": [
    "eval_false = True and False\n",
    "eval_true = True or False\n",
    "print(\"(True and False) or (True or False):\", eval_false or eval_true)\n",
    "print(\"(True and False) and (True or False):\", eval_false and eval_true)"
   ]
  },
  {
   "cell_type": "markdown",
   "metadata": {},
   "source": [
    "***\n",
    "<br>\n",
    "<br>"
   ]
  },
  {
   "cell_type": "markdown",
   "metadata": {},
   "source": [
    "## If Statements"
   ]
  },
  {
   "cell_type": "markdown",
   "metadata": {},
   "source": [
    "<img width = \"500px\" src=\"https://data36.com/wp-content/uploads/2018/01/1-Python-if-statement-logic-768x374.png\">"
   ]
  },
  {
   "cell_type": "markdown",
   "metadata": {},
   "source": [
    "#### Basic Example"
   ]
  },
  {
   "cell_type": "markdown",
   "metadata": {
    "collapsed": true
   },
   "source": [
    "```python\n",
    "statement = True\n",
    "\n",
    "if statement:\n",
    "    print(\"statement is True\")\n",
    "    \n",
    "if not statement:\n",
    "    print(\"statement is not True\")```"
   ]
  },
  {
   "cell_type": "code",
   "execution_count": 25,
   "metadata": {},
   "outputs": [
    {
     "name": "stdout",
     "output_type": "stream",
     "text": [
      "statement is True\n"
     ]
    }
   ],
   "source": [
    "statement = True\n",
    "\n",
    "# don't need to test if a statment == True, if statement executes only if the statement is True\n",
    "if statement:\n",
    "    print(\"statement is True\")\n",
    "\n",
    "if not statement:\n",
    "    print(\"statement is not True\")"
   ]
  },
  {
   "cell_type": "markdown",
   "metadata": {},
   "source": [
    "#### With `if()` statements, conversion to `bool` is implicit."
   ]
  },
  {
   "cell_type": "markdown",
   "metadata": {
    "collapsed": true
   },
   "source": [
    "```python\n",
    "empty_list = []\n",
    "\n",
    "if empty_list:\n",
    "    # this won't be executed\n",
    "    print('empty list will not evaluate to True')  ```"
   ]
  },
  {
   "cell_type": "code",
   "execution_count": 28,
   "metadata": {},
   "outputs": [],
   "source": [
    "empty_list = []\n",
    "\n",
    "if empty_list:\n",
    "    # this won't be executed\n",
    "    print('empty list will not evaluate to True')"
   ]
  },
  {
   "cell_type": "markdown",
   "metadata": {},
   "source": [
    "#### `if()` statements can handle *multiple* conditions."
   ]
  },
  {
   "cell_type": "markdown",
   "metadata": {
    "collapsed": true
   },
   "source": [
    "```python\n",
    "val = 3\n",
    "\n",
    "if (0 <= val < 1 ) or (val == 3):\n",
    "    print('Value is positive and less than one --or-- value is three')```"
   ]
  },
  {
   "cell_type": "code",
   "execution_count": 29,
   "metadata": {},
   "outputs": [
    {
     "name": "stdout",
     "output_type": "stream",
     "text": [
      "Value is positive and less than one --or-- value is three\n"
     ]
    }
   ],
   "source": [
    "val = 3\n",
    "\n",
    "if (0 <= val < 1 ) or (val == 3):\n",
    "    print('Value is positive and less than one --or-- value is three')"
   ]
  },
  {
   "cell_type": "markdown",
   "metadata": {},
   "source": [
    "<br>"
   ]
  },
  {
   "cell_type": "markdown",
   "metadata": {},
   "source": [
    "### `if-else`"
   ]
  },
  {
   "cell_type": "markdown",
   "metadata": {
    "collapsed": true
   },
   "source": [
    "```python\n",
    "my_dict = {}\n",
    "\n",
    "if my_dict:\n",
    "    print(\"there is something in my dict\")\n",
    "    \n",
    "else:\n",
    "    print(\"my dict is empty\")```"
   ]
  },
  {
   "cell_type": "code",
   "execution_count": 30,
   "metadata": {},
   "outputs": [
    {
     "name": "stdout",
     "output_type": "stream",
     "text": [
      "my dict is empty\n"
     ]
    }
   ],
   "source": [
    "my_dict = {}\n",
    "\n",
    "if my_dict:\n",
    "    print(\"there is something in my dict\")\n",
    "\n",
    "else:\n",
    "    print(\"my dict is empty\")"
   ]
  },
  {
   "cell_type": "markdown",
   "metadata": {},
   "source": [
    "<br>"
   ]
  },
  {
   "cell_type": "markdown",
   "metadata": {},
   "source": [
    "### `if-elif-else`"
   ]
  },
  {
   "cell_type": "markdown",
   "metadata": {
    "collapsed": true
   },
   "source": [
    "```python\n",
    "val = 110\n",
    "\n",
    "if val >= 100:\n",
    "    print(\"value is equal or greater than 100\")\n",
    "    \n",
    "elif val > 10:\n",
    "    print(\"value is greater than 10 but less than 100\")\n",
    "    \n",
    "else:\n",
    "    print(\"value is equal or less than 10\")```"
   ]
  },
  {
   "cell_type": "code",
   "execution_count": 34,
   "metadata": {},
   "outputs": [
    {
     "name": "stdout",
     "output_type": "stream",
     "text": [
      "value is greater than 10 but less than 100\n"
     ]
    }
   ],
   "source": [
    "val = 40\n",
    "\n",
    "if val >= 100:\n",
    "    print(\"value is equal or greater than 100\")\n",
    "\n",
    "elif val > 10:\n",
    "    print(\"value is greater than 10 but less than 100\") \n",
    "    \n",
    "else:\n",
    "    print(\"value is equal or less than 10\")"
   ]
  },
  {
   "cell_type": "markdown",
   "metadata": {},
   "source": [
    "<br>"
   ]
  },
  {
   "cell_type": "markdown",
   "metadata": {},
   "source": [
    "#### You can have as many `elif` statements as you need. In addition, `else` at the end is not mandatory."
   ]
  },
  {
   "cell_type": "markdown",
   "metadata": {},
   "source": [
    "```python\n",
    "# Hint: Change value of language\n",
    "\n",
    "language = 'Swedish'\n",
    "\n",
    "if language == 'Swedish':\n",
    "    special_greeting = 'Hejsan!'\n",
    "elif language == 'Finnish':\n",
    "    special_greeting = 'Latua perkele!'\n",
    "elif language == 'Spanish':\n",
    "    special_greeting = 'Hola!'\n",
    "elif language == 'German':\n",
    "    special_greeting = 'Guten Tag!'\n",
    "else:\n",
    "    special_greeting = 'Hello!'\n",
    "\n",
    "greeting = special_greeting + ' fellow Pythonista!'\n",
    "print(greeting)```"
   ]
  },
  {
   "cell_type": "code",
   "execution_count": 35,
   "metadata": {},
   "outputs": [
    {
     "name": "stdout",
     "output_type": "stream",
     "text": [
      "Guten Tag! fellow Pythonista!\n"
     ]
    }
   ],
   "source": [
    "language = 'German'\n",
    "\n",
    "if language == 'Swedish':\n",
    "    special_greeting = 'Hejsan!'\n",
    "elif language == 'Finnish':\n",
    "    special_greeting = 'Latua perkele!'\n",
    "elif language == 'Spanish':\n",
    "    special_greeting = 'Hola!'\n",
    "elif language == 'German':\n",
    "    special_greeting = 'Guten Tag!'\n",
    "else:\n",
    "    special_greeting = 'Hello!'\n",
    "\n",
    "greeting = special_greeting + ' fellow Pythonista!'\n",
    "print(greeting)"
   ]
  },
  {
   "cell_type": "markdown",
   "metadata": {},
   "source": [
    "For more detailed overview about conditionals, check this [tutorial from Real Python](https://realpython.com/python-conditional-statements/)."
   ]
  }
 ],
 "metadata": {
  "kernelspec": {
   "display_name": "Python 3",
   "language": "python",
   "name": "python3"
  },
  "language_info": {
   "codemirror_mode": {
    "name": "ipython",
    "version": 3
   },
   "file_extension": ".py",
   "mimetype": "text/x-python",
   "name": "python",
   "nbconvert_exporter": "python",
   "pygments_lexer": "ipython3",
   "version": "3.7.3"
  }
 },
 "nbformat": 4,
 "nbformat_minor": 1
}
