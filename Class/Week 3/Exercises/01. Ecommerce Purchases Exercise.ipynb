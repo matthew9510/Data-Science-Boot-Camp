{
 "cells": [
  {
   "cell_type": "markdown",
   "metadata": {},
   "source": [
    "# Ecommerce Purchases Exercise\n",
    "\n",
    "In this Exercise you will be given some Fake Data about some purchases done through Amazon! Just go ahead and follow the directions and try your best to answer the questions and complete the tasks. Feel free to reference the solutions. Most of the tasks can be solved in different ways. For the most part, the questions get progressively harder.\n",
    "\n",
    "Please excuse anything that doesn't make \"Real-World\" sense in the dataframe, all the data is fake and made-up.\n",
    "\n",
    "Also note that all of these questions can be answered with one line of code."
   ]
  },
  {
   "cell_type": "markdown",
   "metadata": {},
   "source": [
    "<hr>\n",
    "<br>\n",
    "<br>"
   ]
  },
  {
   "cell_type": "markdown",
   "metadata": {},
   "source": [
    "**1. Import pandas and read in the E-commerce_Purchases.csv file and set it to a DataFrame called ecom.**"
   ]
  },
  {
   "cell_type": "code",
   "execution_count": 1,
   "metadata": {},
   "outputs": [],
   "source": [
    "import pandas as pd\n",
    "ecom = pd.read_csv(\"E-commerce_Purchases.csv\")"
   ]
  },
  {
   "cell_type": "markdown",
   "metadata": {},
   "source": [
    "<br>"
   ]
  },
  {
   "cell_type": "markdown",
   "metadata": {},
   "source": [
    "**2. Check the head of the DataFrame.**"
   ]
  },
  {
   "cell_type": "code",
   "execution_count": 88,
   "metadata": {},
   "outputs": [
    {
     "data": {
      "text/html": [
       "<div>\n",
       "<style scoped>\n",
       "    .dataframe tbody tr th:only-of-type {\n",
       "        vertical-align: middle;\n",
       "    }\n",
       "\n",
       "    .dataframe tbody tr th {\n",
       "        vertical-align: top;\n",
       "    }\n",
       "\n",
       "    .dataframe thead th {\n",
       "        text-align: right;\n",
       "    }\n",
       "</style>\n",
       "<table border=\"1\" class=\"dataframe\">\n",
       "  <thead>\n",
       "    <tr style=\"text-align: right;\">\n",
       "      <th></th>\n",
       "      <th>Address</th>\n",
       "      <th>Lot</th>\n",
       "      <th>AM or PM</th>\n",
       "      <th>Browser Info</th>\n",
       "      <th>Company</th>\n",
       "      <th>Credit Card</th>\n",
       "      <th>CC Exp Date</th>\n",
       "      <th>CC Security Code</th>\n",
       "      <th>CC Provider</th>\n",
       "      <th>Email</th>\n",
       "      <th>Job</th>\n",
       "      <th>IP Address</th>\n",
       "      <th>Language</th>\n",
       "      <th>Purchase Price</th>\n",
       "    </tr>\n",
       "  </thead>\n",
       "  <tbody>\n",
       "    <tr>\n",
       "      <th>0</th>\n",
       "      <td>16629 Pace Camp Apt. 448\\nAlexisborough, NE 77...</td>\n",
       "      <td>46 in</td>\n",
       "      <td>PM</td>\n",
       "      <td>Opera/9.56.(X11; Linux x86_64; sl-SI) Presto/2...</td>\n",
       "      <td>Martinez-Herman</td>\n",
       "      <td>6011929061123406</td>\n",
       "      <td>02/20</td>\n",
       "      <td>900</td>\n",
       "      <td>JCB 16 digit</td>\n",
       "      <td>pdunlap@yahoo.com</td>\n",
       "      <td>Scientist, product/process development</td>\n",
       "      <td>149.146.147.205</td>\n",
       "      <td>el</td>\n",
       "      <td>98.14</td>\n",
       "    </tr>\n",
       "    <tr>\n",
       "      <th>1</th>\n",
       "      <td>9374 Jasmine Spurs Suite 508\\nSouth John, TN 8...</td>\n",
       "      <td>28 rn</td>\n",
       "      <td>PM</td>\n",
       "      <td>Opera/8.93.(Windows 98; Win 9x 4.90; en-US) Pr...</td>\n",
       "      <td>Fletcher, Richards and Whitaker</td>\n",
       "      <td>3337758169645356</td>\n",
       "      <td>11/18</td>\n",
       "      <td>561</td>\n",
       "      <td>Mastercard</td>\n",
       "      <td>anthony41@reed.com</td>\n",
       "      <td>Drilling engineer</td>\n",
       "      <td>15.160.41.51</td>\n",
       "      <td>fr</td>\n",
       "      <td>70.73</td>\n",
       "    </tr>\n",
       "    <tr>\n",
       "      <th>2</th>\n",
       "      <td>Unit 0065 Box 5052\\nDPO AP 27450</td>\n",
       "      <td>94 vE</td>\n",
       "      <td>PM</td>\n",
       "      <td>Mozilla/5.0 (compatible; MSIE 9.0; Windows NT ...</td>\n",
       "      <td>Simpson, Williams and Pham</td>\n",
       "      <td>675957666125</td>\n",
       "      <td>08/19</td>\n",
       "      <td>699</td>\n",
       "      <td>JCB 16 digit</td>\n",
       "      <td>amymiller@morales-harrison.com</td>\n",
       "      <td>Customer service manager</td>\n",
       "      <td>132.207.160.22</td>\n",
       "      <td>de</td>\n",
       "      <td>0.95</td>\n",
       "    </tr>\n",
       "    <tr>\n",
       "      <th>3</th>\n",
       "      <td>7780 Julia Fords\\nNew Stacy, WA 45798</td>\n",
       "      <td>36 vm</td>\n",
       "      <td>PM</td>\n",
       "      <td>Mozilla/5.0 (Macintosh; Intel Mac OS X 10_8_0 ...</td>\n",
       "      <td>Williams, Marshall and Buchanan</td>\n",
       "      <td>6011578504430710</td>\n",
       "      <td>02/24</td>\n",
       "      <td>384</td>\n",
       "      <td>Discover</td>\n",
       "      <td>brent16@olson-robinson.info</td>\n",
       "      <td>Drilling engineer</td>\n",
       "      <td>30.250.74.19</td>\n",
       "      <td>es</td>\n",
       "      <td>78.04</td>\n",
       "    </tr>\n",
       "    <tr>\n",
       "      <th>4</th>\n",
       "      <td>23012 Munoz Drive Suite 337\\nNew Cynthia, TX 5...</td>\n",
       "      <td>20 IE</td>\n",
       "      <td>AM</td>\n",
       "      <td>Opera/9.58.(X11; Linux x86_64; it-IT) Presto/2...</td>\n",
       "      <td>Brown, Watson and Andrews</td>\n",
       "      <td>6011456623207998</td>\n",
       "      <td>10/25</td>\n",
       "      <td>678</td>\n",
       "      <td>Diners Club / Carte Blanche</td>\n",
       "      <td>christopherwright@gmail.com</td>\n",
       "      <td>Fine artist</td>\n",
       "      <td>24.140.33.94</td>\n",
       "      <td>es</td>\n",
       "      <td>77.82</td>\n",
       "    </tr>\n",
       "    <tr>\n",
       "      <th>5</th>\n",
       "      <td>7502 Powell Mission Apt. 768\\nTravisland, VA 3...</td>\n",
       "      <td>21 XT</td>\n",
       "      <td>PM</td>\n",
       "      <td>Mozilla/5.0 (Macintosh; U; PPC Mac OS X 10_8_5...</td>\n",
       "      <td>Silva-Anderson</td>\n",
       "      <td>30246185196287</td>\n",
       "      <td>07/25</td>\n",
       "      <td>7169</td>\n",
       "      <td>Discover</td>\n",
       "      <td>ynguyen@gmail.com</td>\n",
       "      <td>Fish farm manager</td>\n",
       "      <td>55.96.152.147</td>\n",
       "      <td>ru</td>\n",
       "      <td>25.15</td>\n",
       "    </tr>\n",
       "    <tr>\n",
       "      <th>6</th>\n",
       "      <td>93971 Conway Causeway\\nAndersonburgh, AZ 75107</td>\n",
       "      <td>96 Xt</td>\n",
       "      <td>AM</td>\n",
       "      <td>Mozilla/5.0 (compatible; MSIE 7.0; Windows NT ...</td>\n",
       "      <td>Gibson and Sons</td>\n",
       "      <td>6011398782655569</td>\n",
       "      <td>07/24</td>\n",
       "      <td>714</td>\n",
       "      <td>VISA 16 digit</td>\n",
       "      <td>olivia04@yahoo.com</td>\n",
       "      <td>Dancer</td>\n",
       "      <td>127.252.144.18</td>\n",
       "      <td>de</td>\n",
       "      <td>88.56</td>\n",
       "    </tr>\n",
       "    <tr>\n",
       "      <th>7</th>\n",
       "      <td>260 Rachel Plains Suite 366\\nCastroberg, WV 24...</td>\n",
       "      <td>96 pG</td>\n",
       "      <td>PM</td>\n",
       "      <td>Mozilla/5.0 (X11; Linux i686) AppleWebKit/5350...</td>\n",
       "      <td>Marshall-Collins</td>\n",
       "      <td>561252141909</td>\n",
       "      <td>06/25</td>\n",
       "      <td>256</td>\n",
       "      <td>VISA 13 digit</td>\n",
       "      <td>phillip48@parks.info</td>\n",
       "      <td>Event organiser</td>\n",
       "      <td>224.247.97.150</td>\n",
       "      <td>pt</td>\n",
       "      <td>44.25</td>\n",
       "    </tr>\n",
       "    <tr>\n",
       "      <th>8</th>\n",
       "      <td>2129 Dylan Burg\\nNew Michelle, ME 28650</td>\n",
       "      <td>45 JN</td>\n",
       "      <td>PM</td>\n",
       "      <td>Mozilla/5.0 (Macintosh; U; Intel Mac OS X 10_7...</td>\n",
       "      <td>Galloway and Sons</td>\n",
       "      <td>180041795790001</td>\n",
       "      <td>04/24</td>\n",
       "      <td>899</td>\n",
       "      <td>JCB 16 digit</td>\n",
       "      <td>kdavis@rasmussen.com</td>\n",
       "      <td>Financial manager</td>\n",
       "      <td>146.234.201.229</td>\n",
       "      <td>ru</td>\n",
       "      <td>59.54</td>\n",
       "    </tr>\n",
       "    <tr>\n",
       "      <th>9</th>\n",
       "      <td>3795 Dawson Extensions\\nLake Tinafort, ID 88739</td>\n",
       "      <td>15 Ug</td>\n",
       "      <td>AM</td>\n",
       "      <td>Mozilla/5.0 (X11; Linux i686; rv:1.9.7.20) Gec...</td>\n",
       "      <td>Rivera, Buchanan and Ramirez</td>\n",
       "      <td>4396283918371</td>\n",
       "      <td>01/17</td>\n",
       "      <td>931</td>\n",
       "      <td>American Express</td>\n",
       "      <td>qcoleman@hunt-huerta.com</td>\n",
       "      <td>Forensic scientist</td>\n",
       "      <td>236.198.199.8</td>\n",
       "      <td>zh</td>\n",
       "      <td>95.63</td>\n",
       "    </tr>\n",
       "  </tbody>\n",
       "</table>\n",
       "</div>"
      ],
      "text/plain": [
       "                                             Address    Lot AM or PM  \\\n",
       "0  16629 Pace Camp Apt. 448\\nAlexisborough, NE 77...  46 in       PM   \n",
       "1  9374 Jasmine Spurs Suite 508\\nSouth John, TN 8...  28 rn       PM   \n",
       "2                   Unit 0065 Box 5052\\nDPO AP 27450  94 vE       PM   \n",
       "3              7780 Julia Fords\\nNew Stacy, WA 45798  36 vm       PM   \n",
       "4  23012 Munoz Drive Suite 337\\nNew Cynthia, TX 5...  20 IE       AM   \n",
       "5  7502 Powell Mission Apt. 768\\nTravisland, VA 3...  21 XT       PM   \n",
       "6     93971 Conway Causeway\\nAndersonburgh, AZ 75107  96 Xt       AM   \n",
       "7  260 Rachel Plains Suite 366\\nCastroberg, WV 24...  96 pG       PM   \n",
       "8            2129 Dylan Burg\\nNew Michelle, ME 28650  45 JN       PM   \n",
       "9    3795 Dawson Extensions\\nLake Tinafort, ID 88739  15 Ug       AM   \n",
       "\n",
       "                                        Browser Info  \\\n",
       "0  Opera/9.56.(X11; Linux x86_64; sl-SI) Presto/2...   \n",
       "1  Opera/8.93.(Windows 98; Win 9x 4.90; en-US) Pr...   \n",
       "2  Mozilla/5.0 (compatible; MSIE 9.0; Windows NT ...   \n",
       "3  Mozilla/5.0 (Macintosh; Intel Mac OS X 10_8_0 ...   \n",
       "4  Opera/9.58.(X11; Linux x86_64; it-IT) Presto/2...   \n",
       "5  Mozilla/5.0 (Macintosh; U; PPC Mac OS X 10_8_5...   \n",
       "6  Mozilla/5.0 (compatible; MSIE 7.0; Windows NT ...   \n",
       "7  Mozilla/5.0 (X11; Linux i686) AppleWebKit/5350...   \n",
       "8  Mozilla/5.0 (Macintosh; U; Intel Mac OS X 10_7...   \n",
       "9  Mozilla/5.0 (X11; Linux i686; rv:1.9.7.20) Gec...   \n",
       "\n",
       "                           Company       Credit Card CC Exp Date  \\\n",
       "0                  Martinez-Herman  6011929061123406       02/20   \n",
       "1  Fletcher, Richards and Whitaker  3337758169645356       11/18   \n",
       "2       Simpson, Williams and Pham      675957666125       08/19   \n",
       "3  Williams, Marshall and Buchanan  6011578504430710       02/24   \n",
       "4        Brown, Watson and Andrews  6011456623207998       10/25   \n",
       "5                   Silva-Anderson    30246185196287       07/25   \n",
       "6                  Gibson and Sons  6011398782655569       07/24   \n",
       "7                 Marshall-Collins      561252141909       06/25   \n",
       "8                Galloway and Sons   180041795790001       04/24   \n",
       "9     Rivera, Buchanan and Ramirez     4396283918371       01/17   \n",
       "\n",
       "   CC Security Code                  CC Provider  \\\n",
       "0               900                 JCB 16 digit   \n",
       "1               561                   Mastercard   \n",
       "2               699                 JCB 16 digit   \n",
       "3               384                     Discover   \n",
       "4               678  Diners Club / Carte Blanche   \n",
       "5              7169                     Discover   \n",
       "6               714                VISA 16 digit   \n",
       "7               256                VISA 13 digit   \n",
       "8               899                 JCB 16 digit   \n",
       "9               931             American Express   \n",
       "\n",
       "                            Email                                     Job  \\\n",
       "0               pdunlap@yahoo.com  Scientist, product/process development   \n",
       "1              anthony41@reed.com                       Drilling engineer   \n",
       "2  amymiller@morales-harrison.com                Customer service manager   \n",
       "3     brent16@olson-robinson.info                       Drilling engineer   \n",
       "4     christopherwright@gmail.com                             Fine artist   \n",
       "5               ynguyen@gmail.com                       Fish farm manager   \n",
       "6              olivia04@yahoo.com                                  Dancer   \n",
       "7            phillip48@parks.info                         Event organiser   \n",
       "8            kdavis@rasmussen.com                       Financial manager   \n",
       "9        qcoleman@hunt-huerta.com                      Forensic scientist   \n",
       "\n",
       "        IP Address Language  Purchase Price  \n",
       "0  149.146.147.205       el           98.14  \n",
       "1     15.160.41.51       fr           70.73  \n",
       "2   132.207.160.22       de            0.95  \n",
       "3     30.250.74.19       es           78.04  \n",
       "4     24.140.33.94       es           77.82  \n",
       "5    55.96.152.147       ru           25.15  \n",
       "6   127.252.144.18       de           88.56  \n",
       "7   224.247.97.150       pt           44.25  \n",
       "8  146.234.201.229       ru           59.54  \n",
       "9    236.198.199.8       zh           95.63  "
      ]
     },
     "execution_count": 88,
     "metadata": {},
     "output_type": "execute_result"
    }
   ],
   "source": [
    "ecom.head(10)"
   ]
  },
  {
   "cell_type": "markdown",
   "metadata": {},
   "source": [
    "<br>"
   ]
  },
  {
   "cell_type": "markdown",
   "metadata": {},
   "source": [
    "**3. How many rows and columns are there?**"
   ]
  },
  {
   "cell_type": "code",
   "execution_count": 3,
   "metadata": {},
   "outputs": [
    {
     "data": {
      "text/plain": [
       "(10000, 14)"
      ]
     },
     "execution_count": 3,
     "metadata": {},
     "output_type": "execute_result"
    }
   ],
   "source": [
    "ecom.shape"
   ]
  },
  {
   "cell_type": "markdown",
   "metadata": {},
   "source": [
    "<br>"
   ]
  },
  {
   "cell_type": "markdown",
   "metadata": {},
   "source": [
    "**4. What is the average Purchase Price?**"
   ]
  },
  {
   "cell_type": "code",
   "execution_count": 4,
   "metadata": {},
   "outputs": [
    {
     "name": "stdout",
     "output_type": "stream",
     "text": [
      "count    10000.000000\n",
      "mean        50.347302\n",
      "std         29.015836\n",
      "min          0.000000\n",
      "25%         25.150000\n",
      "50%         50.505000\n",
      "75%         75.770000\n",
      "max         99.990000\n",
      "Name: Purchase Price, dtype: float64\n",
      "median 50.504999999999995\n"
     ]
    }
   ],
   "source": [
    "print(ecom[\"Purchase Price\"].describe())\n",
    "print(\"median\", ecom[\"Purchase Price\"].median())"
   ]
  },
  {
   "cell_type": "markdown",
   "metadata": {},
   "source": [
    "<br>"
   ]
  },
  {
   "cell_type": "markdown",
   "metadata": {},
   "source": [
    "**5. What were the highest and lowest purchase prices?**"
   ]
  },
  {
   "cell_type": "code",
   "execution_count": 5,
   "metadata": {},
   "outputs": [
    {
     "name": "stdout",
     "output_type": "stream",
     "text": [
      "Lowest price: 0.0\n",
      "Highest price: 99.99\n"
     ]
    }
   ],
   "source": [
    "print(\"Lowest price:\", ecom[\"Purchase Price\"].min())\n",
    "print(\"Highest price:\", ecom[\"Purchase Price\"].max())"
   ]
  },
  {
   "cell_type": "markdown",
   "metadata": {},
   "source": [
    "<br>"
   ]
  },
  {
   "cell_type": "markdown",
   "metadata": {},
   "source": [
    "**6. How many people have English 'en' as their Language of choice on the website?**"
   ]
  },
  {
   "cell_type": "code",
   "execution_count": 103,
   "metadata": {},
   "outputs": [
    {
     "data": {
      "text/plain": [
       "1098"
      ]
     },
     "execution_count": 103,
     "metadata": {},
     "output_type": "execute_result"
    }
   ],
   "source": [
    "#ecom[\"Language\"][ecom[\"Language\"] == 'en'].size\n",
    "ecom[\"Language\"].value_counts()['en']"
   ]
  },
  {
   "cell_type": "markdown",
   "metadata": {},
   "source": [
    "<br>"
   ]
  },
  {
   "cell_type": "markdown",
   "metadata": {},
   "source": [
    "**7. How many people have the job title of `Lawyer`?**\n"
   ]
  },
  {
   "cell_type": "code",
   "execution_count": 108,
   "metadata": {},
   "outputs": [
    {
     "data": {
      "text/plain": [
       "30"
      ]
     },
     "execution_count": 108,
     "metadata": {},
     "output_type": "execute_result"
    }
   ],
   "source": [
    "#ecom[\"Job\"][ecom[\"Job\"] == 'Lawyer'].size\n",
    "ecom[\"Job\"].value_counts()['Lawyer']"
   ]
  },
  {
   "cell_type": "markdown",
   "metadata": {},
   "source": [
    "<br>"
   ]
  },
  {
   "cell_type": "markdown",
   "metadata": {},
   "source": [
    "**8. How many people made the purchase during the AM and how many people made the purchase during PM?**\n",
    "\n",
    "**Hint:** Check out [`value_counts()`](http://pandas.pydata.org/pandas-docs/stable/generated/pandas.Series.value_counts.html)"
   ]
  },
  {
   "cell_type": "code",
   "execution_count": 18,
   "metadata": {},
   "outputs": [
    {
     "data": {
      "text/plain": [
       "PM    5068\n",
       "AM    4932\n",
       "Name: AM or PM, dtype: int64"
      ]
     },
     "execution_count": 18,
     "metadata": {},
     "output_type": "execute_result"
    }
   ],
   "source": [
    "ecom.index # Talking about label for each row\n",
    "ecom.columns\n",
    "ecom.dtypes\n",
    "ecom['AM or PM'].value_counts()"
   ]
  },
  {
   "cell_type": "markdown",
   "metadata": {},
   "source": [
    "<br>"
   ]
  },
  {
   "cell_type": "markdown",
   "metadata": {},
   "source": [
    "**9. What are the 5 most common Job Titles?**"
   ]
  },
  {
   "cell_type": "code",
   "execution_count": 61,
   "metadata": {},
   "outputs": [
    {
     "name": "stdout",
     "output_type": "stream",
     "text": [
      "Interior and spatial designer    31\n",
      "Lawyer                           30\n",
      "Social researcher                28\n",
      "Designer, jewellery              27\n",
      "Purchasing manager               27\n",
      "Name: Job, dtype: int64\n"
     ]
    }
   ],
   "source": [
    "# test = ecom[\"Job\"].value_counts()\n",
    "# for x, el in enumerate(test.index): \n",
    "#     if x < 5:\n",
    "#         print(el)\n",
    "\n",
    "test = ecom[\"Job\"].value_counts()[:5]\n",
    "print(test)"
   ]
  },
  {
   "cell_type": "markdown",
   "metadata": {},
   "source": [
    "<br>"
   ]
  },
  {
   "cell_type": "markdown",
   "metadata": {},
   "source": [
    "**10. Someone made a purchase that came from Lot: \"90 WT\" , what was the Purchase Price for this transaction?**"
   ]
  },
  {
   "cell_type": "code",
   "execution_count": 81,
   "metadata": {},
   "outputs": [
    {
     "data": {
      "text/plain": [
       "Address              object\n",
       "Lot                  object\n",
       "AM or PM             object\n",
       "Browser Info         object\n",
       "Company              object\n",
       "Credit Card           int64\n",
       "CC Exp Date          object\n",
       "CC Security Code      int64\n",
       "CC Provider          object\n",
       "Email                object\n",
       "Job                  object\n",
       "IP Address           object\n",
       "Language             object\n",
       "Purchase Price      float64\n",
       "dtype: object"
      ]
     },
     "execution_count": 81,
     "metadata": {},
     "output_type": "execute_result"
    }
   ],
   "source": [
    "ecom.dtypes"
   ]
  },
  {
   "cell_type": "code",
   "execution_count": 80,
   "metadata": {},
   "outputs": [
    {
     "name": "stdout",
     "output_type": "stream",
     "text": [
      "Purchase Price: 75.1\n"
     ]
    }
   ],
   "source": [
    "purchase_price = ecom[ecom[\"Lot\"] == '90 WT']['Purchase Price'].values[0]\n",
    "print(\"Purchase Price:\", purchase_price)"
   ]
  },
  {
   "cell_type": "markdown",
   "metadata": {},
   "source": [
    "<br>"
   ]
  },
  {
   "cell_type": "markdown",
   "metadata": {},
   "source": [
    "**11. What is the email of the person with the following Credit Card Number: `4926535242672853`**"
   ]
  },
  {
   "cell_type": "code",
   "execution_count": 87,
   "metadata": {},
   "outputs": [
    {
     "name": "stdout",
     "output_type": "stream",
     "text": [
      "Email: bondellen@williams-garza.com\n"
     ]
    }
   ],
   "source": [
    "email = ecom[ecom['Credit Card'] == 4926535242672853]['Email'].values[0]\n",
    "print(\"Email:\", email)"
   ]
  },
  {
   "cell_type": "markdown",
   "metadata": {},
   "source": [
    "<br>"
   ]
  },
  {
   "cell_type": "markdown",
   "metadata": {},
   "source": [
    "**12. How many people have American Express as their Credit Card Provider AND made a purchase above $95?**"
   ]
  },
  {
   "cell_type": "code",
   "execution_count": 123,
   "metadata": {},
   "outputs": [
    {
     "name": "stdout",
     "output_type": "stream",
     "text": [
      "[['3795 Dawson Extensions\\nLake Tinafort, ID 88739' '15 Ug' 'AM'\n",
      "  'Mozilla/5.0 (X11; Linux i686; rv:1.9.7.20) Gecko/2011-11-30 06:02:34 Firefox/9.0'\n",
      "  'Rivera, Buchanan and Ramirez' 4396283918371 '01/17' 931\n",
      "  'American Express' 'qcoleman@hunt-huerta.com' 'Forensic scientist'\n",
      "  '236.198.199.8' 'zh' 95.63]\n",
      " ['81060 Dustin Causeway Apt. 503\\nPort Danielchester, KY 17117' '80 zh'\n",
      "  'PM'\n",
      "  'Mozilla/5.0 (Windows NT 5.01) AppleWebKit/5362 (KHTML, like Gecko) Chrome/15.0.844.0 Safari/5362'\n",
      "  'Clay PLC' 377737470673585 '10/17' 349 'American Express'\n",
      "  'hfarley@hicks.com' 'Ergonomist' '134.52.148.32' 'de' 99.13]\n",
      " ['359 Stanley Coves\\nSalasfort, SD 59457' '75 Ub' 'PM'\n",
      "  'Opera/8.42.(X11; Linux x86_64; en-US) Presto/2.9.170 Version/12.00'\n",
      "  'Davis-Lawrence' 371995567939253 '02/26' 1877 'American Express'\n",
      "  'amberhull@jones.net' 'Training and development officer'\n",
      "  '198.98.34.250' 'pt' 99.08]\n",
      " ['4855 Peter Bridge\\nJohnsonberg, PA 90599-0009' '62 Nx' 'AM'\n",
      "  'Opera/9.49.(Windows 98; Win 9x 4.90; en-US) Presto/2.9.176 Version/12.00'\n",
      "  'Jones and Sons' 4960556611626434 '07/26' 9255 'American Express'\n",
      "  'evanskayla@fernandez.com' 'Plant breeder/geneticist' '235.97.240.112'\n",
      "  'el' 98.97]\n",
      " ['386 Alisha Unions\\nSteelebury, ND 19782' '28 pJ' 'PM'\n",
      "  'Opera/8.47.(X11; Linux x86_64; sl-SI) Presto/2.9.176 Version/12.00'\n",
      "  'Proctor PLC' 30325623350308 '04/24' 772 'American Express'\n",
      "  'robertsonjulia@gmail.com' 'Therapist, art' '146.208.30.83' 'es' 96.66]\n",
      " ['916 Amanda Heights\\nNew Johnland, CA 52112-8572' '09 vg' 'PM'\n",
      "  'Mozilla/5.0 (X11; Linux i686; rv:1.9.7.20) Gecko/2015-01-05 03:21:24 Firefox/3.6.6'\n",
      "  'Clark, Ross and Travis' 371229555854245 '10/21' 366 'American Express'\n",
      "  'lawrencecarter@kelly.com' 'Artist' '88.49.59.205' 'pt' 96.55]\n",
      " ['79284 Lisa Mews Suite 069\\nKellyborough, CT 71722-9954' '45 MR' 'PM'\n",
      "  'Mozilla/5.0 (Macintosh; PPC Mac OS X 10_5_5; rv:1.9.2.20) Gecko/2015-10-11 02:00:06 Firefox/3.8'\n",
      "  'Randall-Cohen' 4855262855037 '05/17' 518 'American Express'\n",
      "  'maldonadomichael@martinez-delgado.info' 'Geophysical data processor'\n",
      "  '50.40.147.204' 'it' 96.11]\n",
      " ['67796 James Keys Suite 656\\nSouth Katieshire, SD 57639' '06 ia' 'PM'\n",
      "  'Mozilla/5.0 (Windows NT 5.1) AppleWebKit/5330 (KHTML, like Gecko) Chrome/13.0.807.0 Safari/5330'\n",
      "  'Gonzalez, Gross and Allen' 30407332938506 '12/20' 597\n",
      "  'American Express' 'vbrown@daugherty.com' 'Geophysical data processor'\n",
      "  '152.133.246.191' 'zh' 98.89]\n",
      " ['76108 Barker Manors\\nEast Amy, PW 49544-5921' '82 Qw' 'AM'\n",
      "  'Mozilla/5.0 (X11; Linux x86_64) AppleWebKit/5360 (KHTML, like Gecko) Chrome/15.0.836.0 Safari/5360'\n",
      "  'Nguyen, Branch and Wiley' 5142451859832464 '04/21' 785\n",
      "  'American Express' 'johnsonjulie@yahoo.com' 'Insurance claims handler'\n",
      "  '175.248.232.126' 'es' 97.04]\n",
      " ['478 Anita Hill Apt. 766\\nAverymouth, FM 50629-4894' '94 qM' 'AM'\n",
      "  'Mozilla/5.0 (X11; Linux x86_64) AppleWebKit/5350 (KHTML, like Gecko) Chrome/13.0.888.0 Safari/5350'\n",
      "  'Owen and Sons' 30242757909967 '11/19' 7403 'American Express'\n",
      "  'sharpmelanie@smith-johnson.com'\n",
      "  'Psychologist, prison and probation services' '126.47.196.22' 'ru'\n",
      "  95.58]\n",
      " ['557 Barton Harbor\\nFuentesport, VI 29961' '96 MV' 'AM'\n",
      "  'Mozilla/5.0 (compatible; MSIE 6.0; Windows 98; Trident/5.0)'\n",
      "  'Flores-Cook' 3337255995040373 '04/19' 28 'American Express'\n",
      "  'jessica94@mosley-buchanan.com' 'Armed forces technical officer'\n",
      "  '35.97.189.19' 'es' 98.01]\n",
      " ['040 Ingram Way Suite 602\\nEast Matthew, AR 67341' '52 WA' 'AM'\n",
      "  'Mozilla/5.0 (Windows NT 6.0) AppleWebKit/5341 (KHTML, like Gecko) Chrome/15.0.839.0 Safari/5341'\n",
      "  'Baker, Simmons and Pitts' 3096946456575623 '11/22' 56\n",
      "  'American Express' 'holtamanda@gmail.com' 'Archaeologist'\n",
      "  '185.14.106.115' 'es' 99.85]\n",
      " ['216 Olivia Court Apt. 439\\nTonyshire, IN 19159-5991' '11 za' 'PM'\n",
      "  'Mozilla/5.0 (Macintosh; PPC Mac OS X 10_6_4; rv:1.9.6.20) Gecko/2013-02-16 22:35:59 Firefox/3.8'\n",
      "  'Olson Inc' 5388757330269354 '02/17' 738 'American Express'\n",
      "  'burkestephanie@lee-cameron.com' 'Management consultant'\n",
      "  '20.140.16.225' 'it' 97.63]\n",
      " ['899 Williams Prairie Suite 234\\nEast Hunterbury, WA 14939-0145'\n",
      "  '46 hb' 'PM'\n",
      "  'Mozilla/5.0 (compatible; MSIE 7.0; Windows NT 5.2; Trident/4.1)'\n",
      "  'Webb Inc' 3096797127305092 '05/17' 418 'American Express'\n",
      "  'reevesmanuel@gmail.com' 'Engineer, maintenance (IT)' '169.132.152.152'\n",
      "  'el' 96.08]\n",
      " ['20135 Miller Green Apt. 763\\nGarciaville, KY 68323-4129' '79 El' 'PM'\n",
      "  'Mozilla/5.0 (Windows; U; Windows CE) AppleWebKit/535.3.7 (KHTML, like Gecko) Version/4.0.3 Safari/535.3.7'\n",
      "  'Zavala, Cox and Parker' 5173968976288215 '11/22' 125\n",
      "  'American Express' 'villarrealdavid@gray.com'\n",
      "  'Chartered management accountant' '76.75.229.58' 'el' 96.12]\n",
      " ['58939 Reese Cove\\nSouth Ross, MA 54531' '50 cD' 'AM'\n",
      "  'Mozilla/5.0 (compatible; MSIE 9.0; Windows 95; Trident/4.1)'\n",
      "  'Chang, Davis and Snyder' 349464844934636 '11/23' 103\n",
      "  'American Express' 'stephanieacosta@yahoo.com' 'IT trainer'\n",
      "  '124.247.101.106' 'it' 95.94]\n",
      " ['1984 Christopher Turnpike Suite 904\\nRichardburgh, WI 08718-1720'\n",
      "  '30 xs' 'AM'\n",
      "  'Mozilla/5.0 (X11; Linux x86_64; rv:1.9.7.20) Gecko/2015-11-06 12:03:35 Firefox/3.6.5'\n",
      "  'Martin-Mitchell' 3096398727024637 '03/19' 439 'American Express'\n",
      "  'hgross@mccoy-mckay.info' 'Structural engineer' '167.172.139.33' 'pt'\n",
      "  95.46]\n",
      " ['03233 Angela Road Apt. 808\\nEast Jilliantown, GA 61190-7773' '41 nH'\n",
      "  'PM' 'Opera/9.53.(Windows 95; en-US) Presto/2.9.175 Version/11.00'\n",
      "  'Silva, Kim and Martinez' 4807251488895729 '10/21' 948\n",
      "  'American Express' 'jonesjesse@castro.info'\n",
      "  'Garment/textile technologist' '87.66.16.4' 'en' 99.69]\n",
      " ['8161 Craig Passage Apt. 939\\nPort Emilystad, RI 10001' '45 ab' 'AM'\n",
      "  'Mozilla/5.0 (Windows; U; Windows NT 6.1) AppleWebKit/535.15.5 (KHTML, like Gecko) Version/4.0.4 Safari/535.15.5'\n",
      "  'Wilson-Robinson' 5506767693718324 '08/23' 18 'American Express'\n",
      "  'hhenderson@yahoo.com' 'Customer service manager' '119.74.76.168' 'es'\n",
      "  96.49]\n",
      " ['88284 Austin Summit Apt. 805\\nKellerside, WY 63357' '03 WL' 'AM'\n",
      "  'Mozilla/5.0 (Macintosh; U; PPC Mac OS X 10_5_5 rv:2.0; sl-SI) AppleWebKit/532.30.5 (KHTML, like Gecko) Version/5.0.1 Safari/532.30.5'\n",
      "  'Fisher, Thompson and Lynch' 3088726880694574 '12/19' 159\n",
      "  'American Express' 'amy00@patton.com' 'Actuary' '207.18.223.8' 'el'\n",
      "  97.38]\n",
      " ['USNS Smith\\nFPO AA 37829' '80 BX' 'AM'\n",
      "  'Opera/9.56.(X11; Linux x86_64; en-US) Presto/2.9.189 Version/12.00'\n",
      "  'Patterson-Miller' 4411786056713950 '12/22' 452 'American Express'\n",
      "  'ijones@hotmail.com' 'Field seismologist' '251.254.250.100' 'el' 96.13]\n",
      " ['38674 Mckay Vista\\nWilsonbury, MO 55611-8663' '95 aB' 'PM'\n",
      "  'Mozilla/5.0 (X11; Linux i686) AppleWebKit/5331 (KHTML, like Gecko) Chrome/14.0.850.0 Safari/5331'\n",
      "  'Watson-Bailey' 3096820981608615 '05/20' 259 'American Express'\n",
      "  'timothy84@hotmail.com' 'Production designer, theatre/television/film'\n",
      "  '235.149.102.129' 'es' 98.28]\n",
      " ['PSC 8264, Box 8124\\nAPO AE 19700' '97 sG' 'PM'\n",
      "  'Mozilla/5.0 (iPod; U; CPU iPhone OS 3_3 like Mac OS X; sl-SI) AppleWebKit/534.2.4 (KHTML, like Gecko) Version/4.0.5 Mobile/8B118 Safari/6534.2.4'\n",
      "  'Moore Inc' 6011499701167585 '10/20' 845 'American Express'\n",
      "  'kellypace@yahoo.com' 'Aid worker' '155.121.60.58' 'pt' 98.66]\n",
      " ['Unit 5232 Box 4650\\nDPO AE 28335-7543' '71 So' 'PM'\n",
      "  'Mozilla/5.0 (X11; Linux i686) AppleWebKit/5342 (KHTML, like Gecko) Chrome/14.0.819.0 Safari/5342'\n",
      "  'Garcia LLC' 30346960979608 '07/17' 402 'American Express'\n",
      "  'jrice@gmail.com' 'Solicitor' '165.48.161.188' 'zh' 96.73]\n",
      " ['8256 Anderson Forest\\nFordbury, PA 81027-8980' '17 Oe' 'AM'\n",
      "  'Mozilla/5.0 (compatible; MSIE 9.0; Windows NT 5.2; Trident/4.0)'\n",
      "  'Kelly, Peterson and Oliver' 5173335726386576 '02/18' 954\n",
      "  'American Express' 'hernandezandrea@yahoo.com'\n",
      "  'Community development worker' '212.168.246.27' 'ru' 95.07]\n",
      " ['87003 Jason Tunnel Apt. 216\\nDariusville, MS 82992' '72 gL' 'AM'\n",
      "  'Mozilla/5.0 (compatible; MSIE 9.0; Windows NT 5.0; Trident/5.1)'\n",
      "  'Reyes, Fox and Wilson' 180010957603245 '09/24' 929 'American Express'\n",
      "  'duncanmichael@hotmail.com' 'Event organiser' '231.34.199.32' 'it'\n",
      "  97.38]\n",
      " ['Unit 4385 Box 1428\\nDPO AE 04110' '58 Ex' 'AM'\n",
      "  'Mozilla/5.0 (Windows; U; Windows NT 5.01) AppleWebKit/535.19.6 (KHTML, like Gecko) Version/4.0 Safari/535.19.6'\n",
      "  'White Inc' 3112975578138572 '09/17' 7 'American Express'\n",
      "  'scott35@yahoo.com' 'Operations geologist' '217.6.202.138' 'en' 95.89]\n",
      " ['344 Rivera Shore Apt. 224\\nJoshuaborough, ND 33442-4762' '44 SM' 'AM'\n",
      "  'Opera/8.62.(X11; Linux i686; en-US) Presto/2.9.181 Version/10.00'\n",
      "  'Lawson, Moyer and Valencia' 379348662534664 '06/17' 809\n",
      "  'American Express' 'olsonjohn@hotmail.com' 'Teacher, primary school'\n",
      "  '45.1.104.55' 'zh' 97.87]\n",
      " ['81561 Stein Rue\\nEast Melissaport, MA 64959' '45 sZ' 'PM'\n",
      "  'Mozilla/5.0 (X11; Linux i686) AppleWebKit/5310 (KHTML, like Gecko) Chrome/15.0.800.0 Safari/5310'\n",
      "  'Smith Ltd' 503825682670 '07/19' 852 'American Express'\n",
      "  'beckerjennifer@gmail.com' 'Engineer, energy' '50.107.135.203' 'fr'\n",
      "  97.32]\n",
      " ['40804 Belinda Roads Apt. 186\\nWest Nicoleberg, AK 75555' '30 GH' 'AM'\n",
      "  'Opera/9.32.(Windows NT 4.0; it-IT) Presto/2.9.190 Version/11.00'\n",
      "  'Blair-Keith' 180089858618619 '05/19' 2107 'American Express'\n",
      "  'woodsmatthew@walton.org' 'Fashion designer' '223.87.136.82' 'es' 99.81]\n",
      " ['1082 Jason Alley Suite 707\\nWhitestad, SC 97805' '08 bm' 'PM'\n",
      "  'Mozilla/5.0 (Windows NT 5.1; sl-SI; rv:1.9.2.20) Gecko/2016-06-10 02:43:27 Firefox/6.0'\n",
      "  'Carroll, Harrison and Escobar' 3088903707645291 '12/18' 220\n",
      "  'American Express' 'gcruz@butler.com' 'Broadcast presenter'\n",
      "  '193.90.91.152' 'pt' 96.09]\n",
      " ['678 David Manor Suite 323\\nBobbymouth, PW 59942' '91 NA' 'AM'\n",
      "  'Mozilla/5.0 (compatible; MSIE 8.0; Windows 98; Trident/5.1)'\n",
      "  'Glenn, Lowe and Shah' 676298897445 '04/26' 61 'American Express'\n",
      "  'tammy75@cameron.com' 'Automotive engineer' '37.241.180.247' 'ru' 98.36]\n",
      " ['327 Hamilton Hollow\\nEast Nicolechester, RI 65868' '53 dE' 'PM'\n",
      "  'Mozilla/5.0 (Macintosh; U; PPC Mac OS X 10_5_3 rv:2.0; it-IT) AppleWebKit/531.27.5 (KHTML, like Gecko) Version/5.0.1 Safari/531.27.5'\n",
      "  'Keller, Carter and Garcia' 30299608736429 '08/22' 786\n",
      "  'American Express' 'elliskaren@taylor.com' 'Chemical engineer'\n",
      "  '131.34.220.138' 'en' 98.63]\n",
      " ['274 Wallace Pine Apt. 189\\nMartinberg, WY 75483-1766' '32 rI' 'PM'\n",
      "  'Mozilla/5.0 (Windows; U; Windows 98; Win 9x 4.90) AppleWebKit/534.48.6 (KHTML, like Gecko) Version/5.1 Safari/534.48.6'\n",
      "  'Kelly-Newman' 5527104423944290 '05/18' 711 'American Express'\n",
      "  'joneswilliam@cox.net' 'Surveyor, land/geomatics' '29.211.114.191' 'ru'\n",
      "  99.36]\n",
      " ['Unit 4967 Box 4574\\nDPO AP 11412' '05 zs' 'PM'\n",
      "  'Mozilla/5.0 (compatible; MSIE 5.0; Windows 98; Win 9x 4.90; Trident/3.0)'\n",
      "  'Acevedo-Smith' 3337721305744244 '01/19' 738 'American Express'\n",
      "  'nunezjames@hotmail.com' 'Designer, exhibition/display' '91.55.254.144'\n",
      "  'es' 98.16]\n",
      " ['474 Gonzalez Meadow Suite 581\\nEast Vincent, MS 97259-0590' '14 St'\n",
      "  'PM' 'Mozilla/5.0 (compatible; MSIE 6.0; Windows NT 6.0; Trident/4.0)'\n",
      "  'Miller and Sons' 180059754370698 '07/24' 812 'American Express'\n",
      "  'vtaylor@hatfield.com' 'Armed forces technical officer' '26.69.128.20'\n",
      "  'it' 97.9]\n",
      " ['3658 Campos Lodge\\nChambersfurt, MH 86260' '24 ej' 'PM'\n",
      "  'Mozilla/5.0 (compatible; MSIE 5.0; Windows NT 5.0; Trident/3.1)'\n",
      "  'Fisher-Jones' 210046575239925 '09/25' 860 'American Express'\n",
      "  'jessica35@hotmail.com' 'Forensic scientist' '18.74.143.113' 'fr' 99.16]\n",
      " ['18782 Hall Row Suite 810\\nSouth Wesleyville, IL 68417' '15 QU' 'PM'\n",
      "  'Opera/9.57.(X11; Linux i686; it-IT) Presto/2.9.179 Version/12.00'\n",
      "  'Butler PLC' 5412611065926441 '05/25' 49 'American Express'\n",
      "  'tammyblair@yahoo.com' 'Computer games developer' '2.84.51.133' 'en'\n",
      "  98.59]\n",
      " ['058 Miranda Locks Suite 792\\nPort Davidstad, PA 87162' '73 IW' 'PM'\n",
      "  'Mozilla/5.0 (Windows NT 5.0) AppleWebKit/5360 (KHTML, like Gecko) Chrome/15.0.833.0 Safari/5360'\n",
      "  'Olson-Navarro' 6011037226242937 '03/18' 757 'American Express'\n",
      "  'brendastewart@dalton.info' 'Site engineer' '96.79.250.154' 'de' 99.97]]\n"
     ]
    }
   ],
   "source": [
    "#num_of_people = ecom[(ecom['CC Provider'] == \"American Express\") & (ecom['Purchase Price'] > 95.00)].size ## NOT THE ANSWER \n",
    "num_of_people = ecom[(ecom['CC Provider'] == \"American Express\") & (ecom['Purchase Price'] > 95.00)].values\n",
    "print(num_of_people)"
   ]
  },
  {
   "cell_type": "markdown",
   "metadata": {},
   "source": [
    "<br>"
   ]
  },
  {
   "cell_type": "markdown",
   "metadata": {},
   "source": [
    "## Bonus Questions!"
   ]
  },
  {
   "cell_type": "markdown",
   "metadata": {},
   "source": [
    "**<span style=\"color:red\">Hard:</span> How many people have a credit card that expires in 2025?**"
   ]
  },
  {
   "cell_type": "code",
   "execution_count": 129,
   "metadata": {},
   "outputs": [
    {
     "name": "stdout",
     "output_type": "stream",
     "text": [
      "0       0\n",
      "1    1033\n",
      "dtype: int64\n"
     ]
    }
   ],
   "source": [
    "# num_of_people = ecom[\"CC Exp Date\"].str.split('/')\n",
    "# num_of_people = ecom[\"CC Exp Date\"].str.split('/',n=1,expand=True)\n",
    "# year = pd.to_numeric(date[1])\n",
    "# year[year>25]\n",
    "\n",
    "\n",
    "num_of_people = (ecom[\"CC Exp Date\"].str.split('/', expand=True).astype(int) == 25).sum()\n",
    "\n",
    "print(num_of_people)"
   ]
  },
  {
   "cell_type": "markdown",
   "metadata": {},
   "source": [
    "<br>"
   ]
  },
  {
   "cell_type": "markdown",
   "metadata": {},
   "source": [
    "**<span style=\"color:red\">Hard:</span> What are the top 5 most popular email providers/hosts (e.g. gmail.com, yahoo.com, etc...)**"
   ]
  },
  {
   "cell_type": "code",
   "execution_count": 130,
   "metadata": {},
   "outputs": [
    {
     "data": {
      "text/plain": [
       "hotmail.com     1638\n",
       "yahoo.com       1616\n",
       "gmail.com       1605\n",
       "smith.com         42\n",
       "williams.com      37\n",
       "Name: 1, dtype: int64"
      ]
     },
     "execution_count": 130,
     "metadata": {},
     "output_type": "execute_result"
    }
   ],
   "source": [
    "ecom['Email'].str.split('@', expand=True)[1].value_counts()[:5]"
   ]
  }
 ],
 "metadata": {
  "kernelspec": {
   "display_name": "Python 3",
   "language": "python",
   "name": "python3"
  },
  "language_info": {
   "codemirror_mode": {
    "name": "ipython",
    "version": 3
   },
   "file_extension": ".py",
   "mimetype": "text/x-python",
   "name": "python",
   "nbconvert_exporter": "python",
   "pygments_lexer": "ipython3",
   "version": "3.7.3"
  }
 },
 "nbformat": 4,
 "nbformat_minor": 1
}
