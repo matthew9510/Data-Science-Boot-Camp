{
 "cells": [
  {
   "cell_type": "markdown",
   "metadata": {},
   "source": [
    "# Analyzing Distributions of Numbers"
   ]
  },
  {
   "cell_type": "markdown",
   "metadata": {},
   "source": [
    "### Import `numpy` library"
   ]
  },
  {
   "cell_type": "markdown",
   "metadata": {},
   "source": [
    "```python\n",
    "import numpy as np\n",
    "```"
   ]
  },
  {
   "cell_type": "code",
   "execution_count": null,
   "metadata": {},
   "outputs": [],
   "source": []
  },
  {
   "cell_type": "markdown",
   "metadata": {},
   "source": [
    "<hr>\n",
    "<br>\n",
    "<br>"
   ]
  },
  {
   "cell_type": "markdown",
   "metadata": {},
   "source": [
    "## Central Tendency: Mean vs Median"
   ]
  },
  {
   "cell_type": "markdown",
   "metadata": {},
   "source": [
    "```python\n",
    "some_dist = np.array([0,1,2,3,4,5,6,7,8,9,10,34,56,100])\n",
    "print(some_dist)\n",
    "\n",
    "print(\"mean:\", np.mean(some_dist))\n",
    "print(\"median:\", np.median(some_dist))\n",
    "```"
   ]
  },
  {
   "cell_type": "code",
   "execution_count": null,
   "metadata": {},
   "outputs": [],
   "source": []
  },
  {
   "cell_type": "markdown",
   "metadata": {},
   "source": [
    "<hr>\n",
    "<br>\n",
    "<br>"
   ]
  },
  {
   "cell_type": "markdown",
   "metadata": {},
   "source": [
    "## Generating \"Fake\" Data"
   ]
  },
  {
   "cell_type": "markdown",
   "metadata": {},
   "source": [
    "#### Custom Function"
   ]
  },
  {
   "cell_type": "markdown",
   "metadata": {},
   "source": [
    "```python\n",
    "def generate_data(array, n_samples=100):\n",
    "    indices = np.random.randint(0, array.shape[0], size=n_samples)\n",
    "    return array[indices]\n",
    "\n",
    "\n",
    "# We'll use these from within `generate_data` to see what it's doing.\n",
    "#     print(\"len of 'indices':\", len(indices))\n",
    "#     print(\"------\")\n",
    "#     print(\"what is this?:\\n\", indices)\n",
    "#     print(\"------\")\n",
    "```"
   ]
  },
  {
   "cell_type": "code",
   "execution_count": null,
   "metadata": {},
   "outputs": [],
   "source": []
  },
  {
   "cell_type": "markdown",
   "metadata": {},
   "source": [
    "#### Create an \"over\" sampling from original sample"
   ]
  },
  {
   "cell_type": "markdown",
   "metadata": {},
   "source": [
    "```python\n",
    "sample = np.array([1,2,3,4,5])\n",
    "gen_data = generate_samples(sample, 1000)\n",
    "\n",
    "print(sample)\n",
    "print(\"-\"*75)\n",
    "print(gen_data)\n",
    "```"
   ]
  },
  {
   "cell_type": "code",
   "execution_count": null,
   "metadata": {},
   "outputs": [],
   "source": []
  },
  {
   "cell_type": "markdown",
   "metadata": {},
   "source": [
    "#### Unique Values in a distribution"
   ]
  },
  {
   "cell_type": "markdown",
   "metadata": {},
   "source": [
    "```python\n",
    "print(\"unique values:\", np.unique(sample))\n",
    "print(\"unique values:\", np.unique(gen_sample))\n",
    "print(sample)\n",
    "print(gen_sample)\n",
    "```"
   ]
  },
  {
   "cell_type": "code",
   "execution_count": null,
   "metadata": {},
   "outputs": [],
   "source": []
  },
  {
   "cell_type": "markdown",
   "metadata": {},
   "source": [
    "<hr>\n",
    "<br>\n",
    "<br>"
   ]
  },
  {
   "cell_type": "markdown",
   "metadata": {},
   "source": [
    "## 5 Number Summary"
   ]
  },
  {
   "cell_type": "markdown",
   "metadata": {},
   "source": [
    "#### Custom Function"
   ]
  },
  {
   "cell_type": "markdown",
   "metadata": {},
   "source": [
    "```python\n",
    "def five_num_summary(distr):\n",
    "    _max = np.max(distr)\n",
    "    _min = np.min(distr)\n",
    "    quartiles = np.percentile(distr, [1,10,43,78])\n",
    "    \n",
    "    print(\"Sample Size:\", len(dist))\n",
    "    print(\"min:\", _min)\n",
    "    print(\"25th %:\", quartiles[0])\n",
    "    print(\"Median:\", quartiles[1])\n",
    "    print(\"75th %:\", quartiles[2])\n",
    "    print(\"max:\", _max)\n",
    "```"
   ]
  },
  {
   "cell_type": "code",
   "execution_count": null,
   "metadata": {},
   "outputs": [],
   "source": []
  },
  {
   "cell_type": "markdown",
   "metadata": {},
   "source": [
    "#### 5 Num Summary: `sample` vs `gen_sample`"
   ]
  },
  {
   "cell_type": "markdown",
   "metadata": {},
   "source": [
    "```python\n",
    "five_num_summary(sample)\n",
    "print(\"-\"*80)\n",
    "five_num_summary(gen_sample)\n",
    "```"
   ]
  },
  {
   "cell_type": "code",
   "execution_count": null,
   "metadata": {},
   "outputs": [],
   "source": []
  }
 ],
 "metadata": {
  "kernelspec": {
   "display_name": "Python 3",
   "language": "python",
   "name": "python3"
  },
  "language_info": {
   "codemirror_mode": {
    "name": "ipython",
    "version": 3
   },
   "file_extension": ".py",
   "mimetype": "text/x-python",
   "name": "python",
   "nbconvert_exporter": "python",
   "pygments_lexer": "ipython3",
   "version": "3.7.1"
  }
 },
 "nbformat": 4,
 "nbformat_minor": 2
}
