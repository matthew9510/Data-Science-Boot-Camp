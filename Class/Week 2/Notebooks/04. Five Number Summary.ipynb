{
 "cells": [
  {
   "cell_type": "markdown",
   "metadata": {},
   "source": [
    "# Analyzing Distributions of Numbers"
   ]
  },
  {
   "cell_type": "markdown",
   "metadata": {},
   "source": [
    "### Import `numpy` library"
   ]
  },
  {
   "cell_type": "markdown",
   "metadata": {},
   "source": [
    "```python\n",
    "import numpy as np\n",
    "```"
   ]
  },
  {
   "cell_type": "code",
   "execution_count": 1,
   "metadata": {},
   "outputs": [],
   "source": [
    "import numpy as np"
   ]
  },
  {
   "cell_type": "markdown",
   "metadata": {},
   "source": [
    "<hr>\n",
    "<br>\n",
    "<br>"
   ]
  },
  {
   "cell_type": "markdown",
   "metadata": {},
   "source": [
    "## Central Tendency: Mean vs Median"
   ]
  },
  {
   "cell_type": "markdown",
   "metadata": {},
   "source": [
    "```python\n",
    "some_dist = np.array([0,1,2,3,4,5,6,7,8,9,10,34,56,100])\n",
    "print(some_dist)\n",
    "\n",
    "print(\"mean:\", np.mean(some_dist))\n",
    "print(\"median:\", np.median(some_dist))\n",
    "```"
   ]
  },
  {
   "cell_type": "code",
   "execution_count": 2,
   "metadata": {},
   "outputs": [
    {
     "name": "stdout",
     "output_type": "stream",
     "text": [
      "[  0   1   2   3   4   5   6   7   8   9  10  34  56 100]\n",
      "mean: 17.5\n",
      "median: 6.5\n"
     ]
    }
   ],
   "source": [
    "some_dist = np.array([0,1,2,3,4,5,6,7,8,9,10,34,56,100])\n",
    "print(some_dist)\n",
    "\n",
    "print(\"mean:\", np.mean(some_dist))\n",
    "print(\"median:\", np.median(some_dist))"
   ]
  },
  {
   "cell_type": "markdown",
   "metadata": {},
   "source": [
    "Take out outliers"
   ]
  },
  {
   "cell_type": "code",
   "execution_count": 3,
   "metadata": {},
   "outputs": [
    {
     "name": "stdout",
     "output_type": "stream",
     "text": [
      "[ 0  1  2  3  4  5  6  7  8  9 10]\n",
      "mean: 5.0\n",
      "median: 5.0\n"
     ]
    }
   ],
   "source": [
    "some_dist = np.array([0,1,2,3,4,5,6,7,8,9,10]) # no more outliers\n",
    "print(some_dist)\n",
    "\n",
    "print(\"mean:\", np.mean(some_dist))\n",
    "print(\"median:\", np.median(some_dist))"
   ]
  },
  {
   "cell_type": "markdown",
   "metadata": {},
   "source": [
    "<hr>\n",
    "<br>\n",
    "<br>"
   ]
  },
  {
   "cell_type": "markdown",
   "metadata": {},
   "source": [
    "## Generating \"Fake\" Data"
   ]
  },
  {
   "cell_type": "markdown",
   "metadata": {},
   "source": [
    "#### Custom Function"
   ]
  },
  {
   "cell_type": "markdown",
   "metadata": {},
   "source": [
    "```python\n",
    "def generate_data(array, n_samples=100):\n",
    "    indices = np.random.randint(0, array.shape[0], size=n_samples)\n",
    "    return array[indices]\n",
    "\n",
    "\n",
    "# We'll use these from within `generate_data` to see what it's doing.\n",
    "#     print(\"len of 'indices':\", len(indices))\n",
    "#     print(\"------\")\n",
    "#     print(\"what is this?:\\n\", indices)\n",
    "#     print(\"------\")\n",
    "```"
   ]
  },
  {
   "cell_type": "code",
   "execution_count": 17,
   "metadata": {},
   "outputs": [],
   "source": [
    "def generate_data(array, n_samples=100):\n",
    "    indices = np.random.randint(0,array.shape[0],size=n_samples)\n",
    "    #indices = np.random.randint(0, len(array), size=n_samples)\n",
    "    return array[indices]"
   ]
  },
  {
   "cell_type": "code",
   "execution_count": 5,
   "metadata": {},
   "outputs": [
    {
     "name": "stdout",
     "output_type": "stream",
     "text": [
      "Help on built-in function randint:\n",
      "\n",
      "randint(...) method of mtrand.RandomState instance\n",
      "    randint(low, high=None, size=None, dtype='l')\n",
      "    \n",
      "    Return random integers from `low` (inclusive) to `high` (exclusive).\n",
      "    \n",
      "    Return random integers from the \"discrete uniform\" distribution of\n",
      "    the specified dtype in the \"half-open\" interval [`low`, `high`). If\n",
      "    `high` is None (the default), then results are from [0, `low`).\n",
      "    \n",
      "    Parameters\n",
      "    ----------\n",
      "    low : int\n",
      "        Lowest (signed) integer to be drawn from the distribution (unless\n",
      "        ``high=None``, in which case this parameter is one above the\n",
      "        *highest* such integer).\n",
      "    high : int, optional\n",
      "        If provided, one above the largest (signed) integer to be drawn\n",
      "        from the distribution (see above for behavior if ``high=None``).\n",
      "    size : int or tuple of ints, optional\n",
      "        Output shape.  If the given shape is, e.g., ``(m, n, k)``, then\n",
      "        ``m * n * k`` samples are drawn.  Default is None, in which case a\n",
      "        single value is returned.\n",
      "    dtype : dtype, optional\n",
      "        Desired dtype of the result. All dtypes are determined by their\n",
      "        name, i.e., 'int64', 'int', etc, so byteorder is not available\n",
      "        and a specific precision may have different C types depending\n",
      "        on the platform. The default value is 'np.int'.\n",
      "    \n",
      "        .. versionadded:: 1.11.0\n",
      "    \n",
      "    Returns\n",
      "    -------\n",
      "    out : int or ndarray of ints\n",
      "        `size`-shaped array of random integers from the appropriate\n",
      "        distribution, or a single such random int if `size` not provided.\n",
      "    \n",
      "    See Also\n",
      "    --------\n",
      "    random.random_integers : similar to `randint`, only for the closed\n",
      "        interval [`low`, `high`], and 1 is the lowest value if `high` is\n",
      "        omitted. In particular, this other one is the one to use to generate\n",
      "        uniformly distributed discrete non-integers.\n",
      "    \n",
      "    Examples\n",
      "    --------\n",
      "    >>> np.random.randint(2, size=10)\n",
      "    array([1, 0, 0, 0, 1, 1, 0, 0, 1, 0])\n",
      "    >>> np.random.randint(1, size=10)\n",
      "    array([0, 0, 0, 0, 0, 0, 0, 0, 0, 0])\n",
      "    \n",
      "    Generate a 2 x 4 array of ints between 0 and 4, inclusive:\n",
      "    \n",
      "    >>> np.random.randint(5, size=(2, 4))\n",
      "    array([[4, 0, 2, 1],\n",
      "           [3, 2, 2, 0]])\n",
      "\n"
     ]
    }
   ],
   "source": [
    "help(np.random.randint)"
   ]
  },
  {
   "cell_type": "markdown",
   "metadata": {},
   "source": [
    "#### Create an \"over\" sampling from original sample"
   ]
  },
  {
   "cell_type": "markdown",
   "metadata": {},
   "source": [
    "```python\n",
    "sample = np.array([1,2,3,4,5])\n",
    "gen_data = generate_samples(sample, 1000)\n",
    "\n",
    "print(sample)\n",
    "print(\"-\"*75)\n",
    "print(gen_data)\n",
    "```"
   ]
  },
  {
   "cell_type": "code",
   "execution_count": 8,
   "metadata": {},
   "outputs": [
    {
     "name": "stdout",
     "output_type": "stream",
     "text": [
      "[1 2 3 4 5]\n",
      "---------------------------------------------------------------------------\n",
      "[4 5 4 1 3 5 4 1 1 3 1 4 5 3 5 2 3 1 4 5 2 2 1 2 3 2 5 1 4 2 1 2 3 4 4 2 4\n",
      " 3 2 5 3 4 1 2 2 5 5 3 2 5 1 5 2 2 1 3 3 2 1 4 4 5 5 3 1 5 2 4 4 4 5 5 3 5\n",
      " 2 4 1 1 5 4 1 2 4 2 1 4 1 3 3 5 2 1 5 2 2 3 2 1 5 3 5 5 4 2 1 3 5 2 1 2 1\n",
      " 2 1 4 4 2 5 5 1 5 1 1 2 2 3 3 5 5 5 4 4 2 1 5 3 5 5 5 5 2 5 3 2 5 5 2 4 2\n",
      " 2 5 5 4 5 5 4 5 2 3 5 4 1 2 5 2 5 2 5 1 2 2 4 5 2 5 2 3 2 2 1 4 4 3 2 2 1\n",
      " 5 3 5 4 5 4 5 4 3 5 3 1 1 4 4 1 4 3 4 5 4 1 2 3 5 3 1 5 4 3 1 1 4 4 3 2 4\n",
      " 3 1 4 3 4 1 1 4 3 5 2 1 1 3 1 1 2 4 2 1 2 3 3 3 2 5 3 2 5 5 2 2 4 3 2 5 1\n",
      " 1 2 4 5 1 5 2 3 3 1 4 1 1 1 4 3 4 3 4 2 1 2 3 1 4 4 4 4 4 4 5 4 1 4 1 2 2\n",
      " 5 5 1 5 1 4 2 1 5 5 4 5 5 4 3 1 5 4 5 3 5 4 2 2 5 5 1 5 1 1 1 2 1 5 2 3 4\n",
      " 2 5 5 5 2 4 1 1 4 1 5 4 2 4 1 5 4 5 4 1 3 1 4 4 4 3 3 1 4 1 2 5 5 4 3 4 5\n",
      " 3 1 5 5 3 2 3 2 5 3 5 4 3 4 1 3 3 2 3 2 1 5 1 3 1 3 3 5 4 1 1 1 1 3 3 1 3\n",
      " 2 3 2 1 3 1 5 4 2 3 4 3 5 1 3 3 3 5 5 1 3 1 4 1 5 4 3 4 2 2 5 3 4 1 3 5 2\n",
      " 1 5 3 2 4 4 4 5 3 3 2 3 5 3 4 2 1 3 4 4 5 2 1 2 1 4 3 5 1 5 2 1 2 4 3 5 1\n",
      " 3 5 3 4 2 2 1 4 2 2 5 3 3 3 5 4 1 4 1 3 4 5 5 3 4 4 3 2 2 1 2 5 5 4 2 4 5\n",
      " 1 1 5 5 5 4 1 2 2 5 1 1 1 2 2 1 2 1 2 4 1 4 4 1 2 2 3 1 1 1 4 5 5 3 2 2 5\n",
      " 2 4 1 3 5 5 4 2 2 3 3 2 5 2 1 4 4 3 2 2 2 1 4 5 1 2 1 5 3 5 5 2 1 3 1 5 4\n",
      " 1 5 4 1 3 4 5 4 1 1 1 1 1 1 4 4 1 2 5 5 5 3 3 3 3 3 3 4 1 2 5 4 1 5 2 1 3\n",
      " 3 4 4 2 3 3 4 2 4 2 3 2 4 5 3 2 4 2 1 4 5 4 1 3 3 4 5 4 2 3 1 5 4 3 2 1 2\n",
      " 1 2 1 3 2 5 2 5 3 5 3 1 2 2 5 5 4 4 1 3 3 2 4 1 4 3 1 2 5 4 3 2 4 4 1 3 4\n",
      " 4 2 2 5 2 1 2 5 4 5 5 1 1 5 1 5 2 2 1 1 1 5 5 4 3 4 5 4 3 5 2 5 4 2 2 5 3\n",
      " 2 1 5 5 5 4 5 4 1 1 1 2 1 1 5 1 4 2 2 2 5 2 3 2 4 1 4 3 1 4 5 4 4 1 1 1 2\n",
      " 5 1 4 4 4 4 1 5 5 4 2 4 4 1 3 3 2 5 3 1 4 1 4 4 1 1 4 4 4 4 1 2 2 4 1 3 5\n",
      " 4 2 5 3 2 4 5 5 1 3 1 4 5 2 1 1 2 2 2 3 5 1 4 3 5 5 3 5 1 2 3 1 4 3 3 2 5\n",
      " 2 5 4 2 5 2 3 1 3 1 4 5 5 2 2 4 2 4 5 3 5 2 5 5 4 4 3 3 2 5 1 5 5 2 2 4 4\n",
      " 1 2 2 3 5 3 3 4 4 4 1 1 4 4 3 4 3 3 2 3 3 1 1 2 1 4 5 1 4 5 1 3 4 4 3 3 2\n",
      " 3 2 5 4 5 1 5 3 2 4 2 3 4 4 1 3 4 1 1 1 5 5 1 5 4 1 4 3 3 5 5 3 5 1 1 5 3\n",
      " 2 4 3 4 5 3 3 1 5 4 2 2 1 3 5 5 3 3 4 2 4 1 2 2 4 2 1 1 4 4 1 1 5 2 4 5 3\n",
      " 4]\n"
     ]
    }
   ],
   "source": [
    "sample = np.array([1,2,3,4,5])\n",
    "gen_data = generate_data(sample, 1000)\n",
    "\n",
    "print(sample)\n",
    "print(\"-\"*75)\n",
    "print(gen_data)"
   ]
  },
  {
   "cell_type": "markdown",
   "metadata": {},
   "source": [
    "generate with same distribution"
   ]
  },
  {
   "cell_type": "markdown",
   "metadata": {},
   "source": [
    "#### Unique Values in a distribution"
   ]
  },
  {
   "cell_type": "markdown",
   "metadata": {},
   "source": [
    "```python\n",
    "print(\"unique values:\", np.unique(sample))\n",
    "print(\"unique values:\", np.unique(gen_sample))\n",
    "print(sample)\n",
    "print(gen_sample)\n",
    "```"
   ]
  },
  {
   "cell_type": "code",
   "execution_count": 11,
   "metadata": {},
   "outputs": [
    {
     "name": "stdout",
     "output_type": "stream",
     "text": [
      "unique values: [1 2 3 4 5]\n",
      "unique values: [1 2 3 4 5]\n",
      "[1 2 3 4 5]\n",
      "[4 5 4 1 3 5 4 1 1 3 1 4 5 3 5 2 3 1 4 5 2 2 1 2 3 2 5 1 4 2 1 2 3 4 4 2 4\n",
      " 3 2 5 3 4 1 2 2 5 5 3 2 5 1 5 2 2 1 3 3 2 1 4 4 5 5 3 1 5 2 4 4 4 5 5 3 5\n",
      " 2 4 1 1 5 4 1 2 4 2 1 4 1 3 3 5 2 1 5 2 2 3 2 1 5 3 5 5 4 2 1 3 5 2 1 2 1\n",
      " 2 1 4 4 2 5 5 1 5 1 1 2 2 3 3 5 5 5 4 4 2 1 5 3 5 5 5 5 2 5 3 2 5 5 2 4 2\n",
      " 2 5 5 4 5 5 4 5 2 3 5 4 1 2 5 2 5 2 5 1 2 2 4 5 2 5 2 3 2 2 1 4 4 3 2 2 1\n",
      " 5 3 5 4 5 4 5 4 3 5 3 1 1 4 4 1 4 3 4 5 4 1 2 3 5 3 1 5 4 3 1 1 4 4 3 2 4\n",
      " 3 1 4 3 4 1 1 4 3 5 2 1 1 3 1 1 2 4 2 1 2 3 3 3 2 5 3 2 5 5 2 2 4 3 2 5 1\n",
      " 1 2 4 5 1 5 2 3 3 1 4 1 1 1 4 3 4 3 4 2 1 2 3 1 4 4 4 4 4 4 5 4 1 4 1 2 2\n",
      " 5 5 1 5 1 4 2 1 5 5 4 5 5 4 3 1 5 4 5 3 5 4 2 2 5 5 1 5 1 1 1 2 1 5 2 3 4\n",
      " 2 5 5 5 2 4 1 1 4 1 5 4 2 4 1 5 4 5 4 1 3 1 4 4 4 3 3 1 4 1 2 5 5 4 3 4 5\n",
      " 3 1 5 5 3 2 3 2 5 3 5 4 3 4 1 3 3 2 3 2 1 5 1 3 1 3 3 5 4 1 1 1 1 3 3 1 3\n",
      " 2 3 2 1 3 1 5 4 2 3 4 3 5 1 3 3 3 5 5 1 3 1 4 1 5 4 3 4 2 2 5 3 4 1 3 5 2\n",
      " 1 5 3 2 4 4 4 5 3 3 2 3 5 3 4 2 1 3 4 4 5 2 1 2 1 4 3 5 1 5 2 1 2 4 3 5 1\n",
      " 3 5 3 4 2 2 1 4 2 2 5 3 3 3 5 4 1 4 1 3 4 5 5 3 4 4 3 2 2 1 2 5 5 4 2 4 5\n",
      " 1 1 5 5 5 4 1 2 2 5 1 1 1 2 2 1 2 1 2 4 1 4 4 1 2 2 3 1 1 1 4 5 5 3 2 2 5\n",
      " 2 4 1 3 5 5 4 2 2 3 3 2 5 2 1 4 4 3 2 2 2 1 4 5 1 2 1 5 3 5 5 2 1 3 1 5 4\n",
      " 1 5 4 1 3 4 5 4 1 1 1 1 1 1 4 4 1 2 5 5 5 3 3 3 3 3 3 4 1 2 5 4 1 5 2 1 3\n",
      " 3 4 4 2 3 3 4 2 4 2 3 2 4 5 3 2 4 2 1 4 5 4 1 3 3 4 5 4 2 3 1 5 4 3 2 1 2\n",
      " 1 2 1 3 2 5 2 5 3 5 3 1 2 2 5 5 4 4 1 3 3 2 4 1 4 3 1 2 5 4 3 2 4 4 1 3 4\n",
      " 4 2 2 5 2 1 2 5 4 5 5 1 1 5 1 5 2 2 1 1 1 5 5 4 3 4 5 4 3 5 2 5 4 2 2 5 3\n",
      " 2 1 5 5 5 4 5 4 1 1 1 2 1 1 5 1 4 2 2 2 5 2 3 2 4 1 4 3 1 4 5 4 4 1 1 1 2\n",
      " 5 1 4 4 4 4 1 5 5 4 2 4 4 1 3 3 2 5 3 1 4 1 4 4 1 1 4 4 4 4 1 2 2 4 1 3 5\n",
      " 4 2 5 3 2 4 5 5 1 3 1 4 5 2 1 1 2 2 2 3 5 1 4 3 5 5 3 5 1 2 3 1 4 3 3 2 5\n",
      " 2 5 4 2 5 2 3 1 3 1 4 5 5 2 2 4 2 4 5 3 5 2 5 5 4 4 3 3 2 5 1 5 5 2 2 4 4\n",
      " 1 2 2 3 5 3 3 4 4 4 1 1 4 4 3 4 3 3 2 3 3 1 1 2 1 4 5 1 4 5 1 3 4 4 3 3 2\n",
      " 3 2 5 4 5 1 5 3 2 4 2 3 4 4 1 3 4 1 1 1 5 5 1 5 4 1 4 3 3 5 5 3 5 1 1 5 3\n",
      " 2 4 3 4 5 3 3 1 5 4 2 2 1 3 5 5 3 3 4 2 4 1 2 2 4 2 1 1 4 4 1 1 5 2 4 5 3\n",
      " 4]\n"
     ]
    }
   ],
   "source": [
    "print(\"unique values:\", np.unique(sample))\n",
    "print(\"unique values:\", np.unique(gen_data))\n",
    "print(sample)\n",
    "print(gen_data)"
   ]
  },
  {
   "cell_type": "markdown",
   "metadata": {},
   "source": [
    "<hr>\n",
    "<br>\n",
    "<br>"
   ]
  },
  {
   "cell_type": "markdown",
   "metadata": {},
   "source": [
    "## 5 Number Summary"
   ]
  },
  {
   "cell_type": "markdown",
   "metadata": {},
   "source": [
    "#### Custom Function"
   ]
  },
  {
   "cell_type": "markdown",
   "metadata": {},
   "source": [
    "```python\n",
    "def five_num_summary(distr):\n",
    "    _max = np.max(distr)\n",
    "    _min = np.min(distr)\n",
    "    quartiles = np.percentile(distr, [1,10,43,78])\n",
    "    \n",
    "    print(\"Sample Size:\", len(dist))\n",
    "    print(\"min:\", _min)\n",
    "    print(\"25th %:\", quartiles[0])\n",
    "    print(\"Median:\", quartiles[1])\n",
    "    print(\"75th %:\", quartiles[2])\n",
    "    print(\"max:\", _max)\n",
    "```"
   ]
  },
  {
   "cell_type": "code",
   "execution_count": 15,
   "metadata": {},
   "outputs": [],
   "source": [
    "def five_num_summary(distr):\n",
    "    _max = np.max(distr)\n",
    "    _min = np.min(distr)\n",
    "    quartiles = np.percentile(distr, [1,10,43,78])\n",
    "\n",
    "    print(\"Sample Size:\", len(distr))\n",
    "    print(\"min:\", _min)\n",
    "    print(\"25th %:\", quartiles[0])\n",
    "    print(\"Median:\", quartiles[1])\n",
    "    print(\"75th %:\", quartiles[2])\n",
    "    print(\"max:\", _max)"
   ]
  },
  {
   "cell_type": "markdown",
   "metadata": {},
   "source": [
    "#### 5 Num Summary: `sample` vs `gen_sample`"
   ]
  },
  {
   "cell_type": "markdown",
   "metadata": {},
   "source": [
    "```python\n",
    "five_num_summary(sample)\n",
    "print(\"-\"*80)\n",
    "five_num_summary(gen_sample)\n",
    "```"
   ]
  },
  {
   "cell_type": "code",
   "execution_count": 16,
   "metadata": {},
   "outputs": [
    {
     "name": "stdout",
     "output_type": "stream",
     "text": [
      "Sample Size: 5\n",
      "min: 1\n",
      "25th %: 1.04\n",
      "Median: 1.4\n",
      "75th %: 2.72\n",
      "max: 5\n",
      "--------------------------------------------------------------------------------\n",
      "Sample Size: 1000\n",
      "min: 1\n",
      "25th %: 1.0\n",
      "Median: 1.0\n",
      "75th %: 3.0\n",
      "max: 5\n"
     ]
    }
   ],
   "source": [
    "five_num_summary(sample)\n",
    "print(\"-\"*80)\n",
    "five_num_summary(gen_data)"
   ]
  },
  {
   "cell_type": "markdown",
   "metadata": {},
   "source": [
    "how far each other is from each other center is 5\n",
    "\n",
    "50% is median \n",
    "\n",
    "how high the variance is \n",
    "\n",
    "the amount of 4s stayed the same\n"
   ]
  }
 ],
 "metadata": {
  "kernelspec": {
   "display_name": "Python 3",
   "language": "python",
   "name": "python3"
  },
  "language_info": {
   "codemirror_mode": {
    "name": "ipython",
    "version": 3
   },
   "file_extension": ".py",
   "mimetype": "text/x-python",
   "name": "python",
   "nbconvert_exporter": "python",
   "pygments_lexer": "ipython3",
   "version": "3.7.3"
  }
 },
 "nbformat": 4,
 "nbformat_minor": 2
}
