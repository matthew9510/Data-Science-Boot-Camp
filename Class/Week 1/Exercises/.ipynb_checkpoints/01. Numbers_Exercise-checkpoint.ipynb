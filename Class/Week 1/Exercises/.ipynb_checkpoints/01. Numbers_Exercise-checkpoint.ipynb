{
 "cells": [
  {
   "cell_type": "markdown",
   "metadata": {},
   "source": [
    "# 1. Unpack Variables and print()"
   ]
  },
  {
   "cell_type": "markdown",
   "metadata": {},
   "source": [
    "**Create a variable named `a` and have it equal to the floating point number `4.0`**"
   ]
  },
  {
   "cell_type": "code",
   "execution_count": 1,
   "metadata": {},
   "outputs": [],
   "source": [
    "a = 4.0"
   ]
  },
  {
   "cell_type": "markdown",
   "metadata": {},
   "source": [
    "#### Convert the following variable declarations into a single 'unpacking'  decleration."
   ]
  },
  {
   "cell_type": "code",
   "execution_count": 2,
   "metadata": {},
   "outputs": [],
   "source": [
    "b = 1\n",
    "c = 8"
   ]
  },
  {
   "cell_type": "code",
   "execution_count": 3,
   "metadata": {},
   "outputs": [],
   "source": [
    "b, c = 1, 8"
   ]
  },
  {
   "cell_type": "markdown",
   "metadata": {},
   "source": [
    "#### Write THREE seperate `print()` Statements to print out the contents of `a`, `b`, and `c`. Use the \"fancy\" printing discussed in the notebook, where you include a \"string\" with the variable name and the actual variable —seperated by a comma.\n",
    "\n",
    ">**left of comma:** A string of length 2, aka 2 characters: an `\"a\"` and a colon `\":\"` `\"a:\"`\n",
    "\n",
    ">**right of comma:** Reference to the actual variable, notice there are no `\"\"` around `a`.\n",
    "\n",
    "> **Example for variable** `a`: `print(\"a:\", a)`"
   ]
  },
  {
   "cell_type": "code",
   "execution_count": 8,
   "metadata": {},
   "outputs": [
    {
     "name": "stdout",
     "output_type": "stream",
     "text": [
      "a: 4.0\n",
      "b: 1\n",
      "c: 8\n"
     ]
    }
   ],
   "source": [
    "print(\"a:\", a)\n",
    "print(\"b:\", b)\n",
    "print(\"c:\", c)"
   ]
  },
  {
   "cell_type": "markdown",
   "metadata": {},
   "source": [
    "<hr>\n",
    "<br>\n",
    "<center><h1 style = 'color:red'>-----------Break-------------</h1></center>\n",
    "<br>\n",
    "<hr>\n",
    "<br>"
   ]
  },
  {
   "cell_type": "markdown",
   "metadata": {},
   "source": [
    "# 2. Division Vs. Modulus"
   ]
  },
  {
   "cell_type": "markdown",
   "metadata": {},
   "source": [
    "<img src=\"https://www.mathwizz.com/arithmetic/help/help9.gif\" style=\"width: 300px;\" align=\"right\">"
   ]
  },
  {
   "cell_type": "markdown",
   "metadata": {},
   "source": [
    "#### Remember:\n",
    "> **division (`/`)** - Returns `full-quotient` as *floating-point*: (`16 / 3 = 5.333`)\n",
    "\n",
    "> **integer-division (`//`)** - Returns `quotient` as *integer*: (`16 // 3 = 5`)\n",
    "\n",
    "> **modulus (`%`)** - Returns `remainder` as *floating-point*: (`16 % 3 = 1`)"
   ]
  },
  {
   "cell_type": "markdown",
   "metadata": {},
   "source": [
    "### The Problem"
   ]
  },
  {
   "cell_type": "markdown",
   "metadata": {},
   "source": [
    "#### You Have 20.00 dollars and you want to pass out exactly $3.50 to as many friends as possible.\n",
    "\n",
    "#### How many \"whole\" friends will you be able to pay AND how much money will you have left over?"
   ]
  },
  {
   "cell_type": "markdown",
   "metadata": {},
   "source": [
    "> Using the `available_funds` and `payment` variables below, write two expressions to calculate the variables `num_friends_payed` and `amount_left_over` "
   ]
  },
  {
   "cell_type": "code",
   "execution_count": 9,
   "metadata": {},
   "outputs": [],
   "source": [
    "available_funds  = 20.00\n",
    "payment = 3.50"
   ]
  },
  {
   "cell_type": "markdown",
   "metadata": {},
   "source": [
    "### Your \"Expressions\" Here"
   ]
  },
  {
   "cell_type": "code",
   "execution_count": 10,
   "metadata": {},
   "outputs": [
    {
     "name": "stdout",
     "output_type": "stream",
     "text": [
      "Number of friends you can pay: 5.0\n",
      "Left over chance: 2.5\n"
     ]
    }
   ],
   "source": [
    "num_friends_payed = available_funds // payment\n",
    "amount_left_over = available_funds % payment\n",
    "print(\"Number of friends you can pay:\", num_friends_payed)\n",
    "print(\"Left over chance:\", amount_left_over)"
   ]
  },
  {
   "cell_type": "markdown",
   "metadata": {},
   "source": [
    "### Test Your Answer\n",
    "##### Run the cell below to test answer.\n",
    "> If <span style=\"color:red\" >**AssertionError**</span>: Your Answer is *incorrect*!\n",
    "\n",
    "> If **No Error**: Your Answer is *correct*!"
   ]
  },
  {
   "cell_type": "code",
   "execution_count": 14,
   "metadata": {},
   "outputs": [],
   "source": [
    "# Your formulas should result in the following values:\n",
    "assert num_friends_payed == 5.0\n",
    "assert amount_left_over == 2.5"
   ]
  },
  {
   "cell_type": "markdown",
   "metadata": {},
   "source": [
    "### Assertions\n",
    "Assertions are simply boolean expressions that checks if the conditions return true or not. \n",
    "\n",
    "If it is true, the program does nothing and move to the next line of code. \n",
    "\n",
    "However, if it's false, the program stops and throws an error."
   ]
  },
  {
   "cell_type": "markdown",
   "metadata": {},
   "source": [
    "---\n",
    "<br>\n",
    "<br>"
   ]
  },
  {
   "cell_type": "markdown",
   "metadata": {},
   "source": [
    "# 3. PEMDAS - Creating formulas\n",
    "Use Python operators (`+`, `*`, `**`, ..) and variables `a`, `b`, and `c` to Write an expression that matches the following mathematical formula:\n",
    "\n",
    "\\begin{align}\n",
    " result = 6a^3 - \\frac{8b^2 }{4c} + 11\n",
    "\\end{align}\n"
   ]
  },
  {
   "cell_type": "code",
   "execution_count": 16,
   "metadata": {},
   "outputs": [],
   "source": [
    "a = 2\n",
    "b = 3\n",
    "c = 2\n",
    "a, b, c = 2, 3, 2"
   ]
  },
  {
   "cell_type": "markdown",
   "metadata": {},
   "source": [
    "### Your \"expression\" here:"
   ]
  },
  {
   "cell_type": "code",
   "execution_count": 19,
   "metadata": {},
   "outputs": [
    {
     "name": "stdout",
     "output_type": "stream",
     "text": [
      "50.0\n"
     ]
    }
   ],
   "source": [
    "result = (6 * a ** 3) - (8 * b ** 2) / (4 * c) + 11\n",
    "print(result)"
   ]
  },
  {
   "cell_type": "markdown",
   "metadata": {},
   "source": [
    "### Test your \"formula.\"\n",
    "> **Run the cell below** to ensure that the expression you wrote with the variables `a`,`b`, and `c`, evaluates to `50`."
   ]
  },
  {
   "cell_type": "code",
   "execution_count": 18,
   "metadata": {},
   "outputs": [],
   "source": [
    "assert result == 50"
   ]
  },
  {
   "cell_type": "markdown",
   "metadata": {},
   "source": [
    "**Note that result is a float and we're comparing it to a int**"
   ]
  },
  {
   "cell_type": "code",
   "execution_count": 21,
   "metadata": {},
   "outputs": [
    {
     "name": "stdout",
     "output_type": "stream",
     "text": [
      "<class 'float'>\n",
      "<class 'int'>\n",
      "True\n",
      "<class 'bool'>\n"
     ]
    }
   ],
   "source": [
    "print(type(result))\n",
    "print(type(50))\n",
    "print(result == 50)\n",
    "print(type(result == 50))"
   ]
  }
 ],
 "metadata": {
  "kernelspec": {
   "display_name": "Python 3",
   "language": "python",
   "name": "python3"
  },
  "language_info": {
   "codemirror_mode": {
    "name": "ipython",
    "version": 3
   },
   "file_extension": ".py",
   "mimetype": "text/x-python",
   "name": "python",
   "nbconvert_exporter": "python",
   "pygments_lexer": "ipython3",
   "version": "3.7.3"
  }
 },
 "nbformat": 4,
 "nbformat_minor": 2
}
