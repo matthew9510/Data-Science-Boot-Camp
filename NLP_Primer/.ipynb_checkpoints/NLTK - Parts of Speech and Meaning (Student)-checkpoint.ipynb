{
 "cells": [
  {
   "cell_type": "markdown",
   "metadata": {},
   "source": [
    "# Basics of Analyizing Text with NLTK"
   ]
  },
  {
   "cell_type": "markdown",
   "metadata": {},
   "source": [
    "## imports "
   ]
  },
  {
   "cell_type": "code",
   "execution_count": 3,
   "metadata": {},
   "outputs": [
    {
     "name": "stdout",
     "output_type": "stream",
     "text": [
      "showing info https://raw.githubusercontent.com/nltk/nltk_data/gh-pages/index.xml\n"
     ]
    },
    {
     "data": {
      "text/plain": [
       "True"
      ]
     },
     "execution_count": 3,
     "metadata": {},
     "output_type": "execute_result"
    }
   ],
   "source": [
    "import nltk\n",
    "nltk.download()"
   ]
  },
  {
   "cell_type": "markdown",
   "metadata": {},
   "source": [
    "# 1. Tokenization"
   ]
  },
  {
   "cell_type": "markdown",
   "metadata": {},
   "source": [
    "We startwith some piece of text that we want to analyze, this could be something like a tweet. Or a pandas series where each entry is a tweet, etc..."
   ]
  },
  {
   "cell_type": "code",
   "execution_count": 5,
   "metadata": {},
   "outputs": [
    {
     "data": {
      "text/plain": [
       "'Cyprus, officially the Republic of Cyprus, is an island country in the Eastern Mediterranean and the third largest and third most populous island in the Mediterranean. Cyprus is located south of Turkey, west of Syria and Lebanon, northwest of Israel, north of Egypt, and southeast of Greece. Cyprus is a major tourist destination in the Mediterranean. With an advanced, high-income economy and a very high Human Development Index, the Republic of Cyprus has been a member of the Commonwealth since 1961 and was a founding member of the Non-Aligned Movement until it joined the European Union on 1 May 2004. On 1 January 2008, the Republic of Cyprus joined the eurozone.'"
      ]
     },
     "execution_count": 5,
     "metadata": {},
     "output_type": "execute_result"
    }
   ],
   "source": [
    "text = \"Cyprus, officially the Republic of Cyprus, is an island country in the Eastern Mediterranean and the third largest and third most populous island in the Mediterranean. Cyprus is located south of Turkey, west of Syria and Lebanon, northwest of Israel, north of Egypt, and southeast of Greece. Cyprus is a major tourist destination in the Mediterranean. With an advanced, high-income economy and a very high Human Development Index, the Republic of Cyprus has been a member of the Commonwealth since 1961 and was a founding member of the Non-Aligned Movement until it joined the European Union on 1 May 2004. On 1 January 2008, the Republic of Cyprus joined the eurozone.\"\n",
    "text"
   ]
  },
  {
   "cell_type": "markdown",
   "metadata": {},
   "source": [
    "## Sentence Tokenization"
   ]
  },
  {
   "cell_type": "code",
   "execution_count": 145,
   "metadata": {},
   "outputs": [
    {
     "data": {
      "text/plain": [
       "['Cyprus, officially the Republic of Cyprus, is an island country in the Eastern Mediterranean and the third largest and third most populous island in the Mediterranean.',\n",
       " 'Cyprus is located south of Turkey, west of Syria and Lebanon, northwest of Israel, north of Egypt, and southeast of Greece.',\n",
       " 'Cyprus is a major tourist destination in the Mediterranean.',\n",
       " 'With an advanced, high-income economy and a very high Human Development Index, the Republic of Cyprus has been a member of the Commonwealth since 1961 and was a founding member of the Non-Aligned Movement until it joined the European Union on 1 May 2004.',\n",
       " 'On 1 January 2008, the Republic of Cyprus joined the eurozone.']"
      ]
     },
     "execution_count": 145,
     "metadata": {},
     "output_type": "execute_result"
    }
   ],
   "source": [
    "from nltk import sent_tokenize, word_tokenize\n",
    "sentences = sent_tokenize(text)\n",
    "sentences"
   ]
  },
  {
   "cell_type": "markdown",
   "metadata": {},
   "source": [
    "<br>"
   ]
  },
  {
   "cell_type": "markdown",
   "metadata": {},
   "source": [
    "## Exercise 1: Write a Loop that prints out each `sentence` in the `sent_tokenization` of `text`\n",
    "\n",
    "#### Example\n",
    "-----\n",
    "**Sentence:**\n",
    "\n",
    "\"Cyprus, officially the Republic of Cyprus, is an island country in the Eastern Mediterranean and the third largest and third most populous island in the Mediterranean. Cyprus is located south of Turkey, west of Syria and Lebanon, northwest of Israel, north of Egypt, and southeast of Greece.:\n",
    "\n",
    "**Sent_tokens:**\n",
    "\n",
    "`cyprus, officially the republic of cyprus, is an island country in the eastern mediterranean and the third largest and third most populous island in the mediterranean.\n",
    "\n",
    "`-------`\n",
    "\n",
    "cyprus is located south of turkey, west of syria and lebanon, northwest of israel, north of egypt, and southeast of greece.`\n",
    "\n",
    "<br>"
   ]
  },
  {
   "cell_type": "code",
   "execution_count": 146,
   "metadata": {},
   "outputs": [
    {
     "name": "stdout",
     "output_type": "stream",
     "text": [
      "Cyprus, officially the Republic of Cyprus, is an island country in the Eastern Mediterranean and the third largest and third most populous island in the Mediterranean.\n",
      "\n",
      "Cyprus is located south of Turkey, west of Syria and Lebanon, northwest of Israel, north of Egypt, and southeast of Greece.\n",
      "\n",
      "Cyprus is a major tourist destination in the Mediterranean.\n",
      "\n",
      "With an advanced, high-income economy and a very high Human Development Index, the Republic of Cyprus has been a member of the Commonwealth since 1961 and was a founding member of the Non-Aligned Movement until it joined the European Union on 1 May 2004.\n",
      "\n",
      "On 1 January 2008, the Republic of Cyprus joined the eurozone.\n",
      "\n"
     ]
    }
   ],
   "source": [
    "for sentence in sentences:\n",
    "    print(sentence)\n",
    "    print()"
   ]
  },
  {
   "cell_type": "markdown",
   "metadata": {},
   "source": [
    "<br>"
   ]
  },
  {
   "cell_type": "markdown",
   "metadata": {},
   "source": [
    "## Word Tokenization"
   ]
  },
  {
   "cell_type": "code",
   "execution_count": 147,
   "metadata": {},
   "outputs": [
    {
     "data": {
      "text/plain": [
       "['Cyprus',\n",
       " 'is',\n",
       " 'a',\n",
       " 'major',\n",
       " 'tourist',\n",
       " 'destination',\n",
       " 'in',\n",
       " 'the',\n",
       " 'Mediterranean',\n",
       " '.']"
      ]
     },
     "execution_count": 147,
     "metadata": {},
     "output_type": "execute_result"
    }
   ],
   "source": [
    "tokens = word_tokenize(sentences[2])\n",
    "tokens"
   ]
  },
  {
   "cell_type": "code",
   "execution_count": 148,
   "metadata": {},
   "outputs": [],
   "source": [
    "tokenized_sentences = [word_tokenize(sentence) for sentence in sentences]"
   ]
  },
  {
   "cell_type": "markdown",
   "metadata": {},
   "source": [
    "<br>\n",
    "<br>\n",
    "<hr>\n",
    "<br>\n",
    "<br>"
   ]
  },
  {
   "cell_type": "markdown",
   "metadata": {},
   "source": [
    "# 2. POS Tagging"
   ]
  },
  {
   "cell_type": "markdown",
   "metadata": {},
   "source": [
    "`pos_tag` expects the `input` to be a set of `tokens`, these could be further divided into `sentences` or a `single sentence.`"
   ]
  },
  {
   "cell_type": "code",
   "execution_count": 149,
   "metadata": {},
   "outputs": [],
   "source": [
    "from nltk import pos_tag"
   ]
  },
  {
   "cell_type": "code",
   "execution_count": 150,
   "metadata": {},
   "outputs": [
    {
     "data": {
      "text/plain": [
       "[('Cyprus', 'NNP'),\n",
       " ('is', 'VBZ'),\n",
       " ('a', 'DT'),\n",
       " ('major', 'JJ'),\n",
       " ('tourist', 'NN'),\n",
       " ('destination', 'NN'),\n",
       " ('in', 'IN'),\n",
       " ('the', 'DT'),\n",
       " ('Mediterranean', 'NNP'),\n",
       " ('.', '.')]"
      ]
     },
     "execution_count": 150,
     "metadata": {},
     "output_type": "execute_result"
    }
   ],
   "source": [
    "tags = pos_tag(tokens)\n",
    "tags"
   ]
  },
  {
   "cell_type": "markdown",
   "metadata": {},
   "source": [
    "To access documentation for tags, for example for `NN`:"
   ]
  },
  {
   "cell_type": "code",
   "execution_count": 151,
   "metadata": {},
   "outputs": [
    {
     "name": "stdout",
     "output_type": "stream",
     "text": [
      "NN: noun, common, singular or mass\n",
      "    common-carrier cabbage knuckle-duster Casino afghan shed thermostat\n",
      "    investment slide humour falloff slick wind hyena override subhumanity\n",
      "    machinist ...\n"
     ]
    }
   ],
   "source": [
    "from nltk.help import upenn_tagset\n",
    "upenn_tagset('NN')"
   ]
  },
  {
   "cell_type": "markdown",
   "metadata": {},
   "source": [
    "<br>"
   ]
  },
  {
   "cell_type": "markdown",
   "metadata": {},
   "source": [
    "### Exercise 2: Write a Loop that prints out each `token` in `tags` AND the `documentation` for its matching tag.\n",
    "\n",
    "#### Example\n",
    "-----\n",
    "\n",
    "`cyprus:\n",
    "NN: noun, common, singular or mass\n",
    "    common-carrier cabbage knuckle-duster Casino afghan shed thermostat\n",
    "    investment slide humour falloff slick wind hyena override subhumanity\n",
    "    machinist ...`\n",
    "\n",
    "\n",
    "`is:\n",
    "VBZ: verb, present tense, 3rd person singular\n",
    "    bases reconstructs marks mixes displeases seals carps weaves snatches\n",
    "    slumps stretches authorizes smolders pictures emerges stockpiles\n",
    "    seduces fizzes uses bolsters slaps speaks pleads ...`"
   ]
  },
  {
   "cell_type": "code",
   "execution_count": 152,
   "metadata": {},
   "outputs": [
    {
     "name": "stdout",
     "output_type": "stream",
     "text": [
      "token: Cyprus\n",
      "NNP: noun, proper, singular\n",
      "    Motown Venneboerger Czestochwa Ranzer Conchita Trumplane Christos\n",
      "    Oceanside Escobar Kreisler Sawyer Cougar Yvette Ervin ODI Darryl CTCA\n",
      "    Shannon A.K.C. Meltex Liverpool ...\n",
      "token: is\n",
      "VBZ: verb, present tense, 3rd person singular\n",
      "    bases reconstructs marks mixes displeases seals carps weaves snatches\n",
      "    slumps stretches authorizes smolders pictures emerges stockpiles\n",
      "    seduces fizzes uses bolsters slaps speaks pleads ...\n",
      "token: a\n",
      "DT: determiner\n",
      "    all an another any both del each either every half la many much nary\n",
      "    neither no some such that the them these this those\n",
      "token: major\n",
      "JJ: adjective or numeral, ordinal\n",
      "    third ill-mannered pre-war regrettable oiled calamitous first separable\n",
      "    ectoplasmic battery-powered participatory fourth still-to-be-named\n",
      "    multilingual multi-disciplinary ...\n",
      "token: tourist\n",
      "NN: noun, common, singular or mass\n",
      "    common-carrier cabbage knuckle-duster Casino afghan shed thermostat\n",
      "    investment slide humour falloff slick wind hyena override subhumanity\n",
      "    machinist ...\n",
      "token: destination\n",
      "NN: noun, common, singular or mass\n",
      "    common-carrier cabbage knuckle-duster Casino afghan shed thermostat\n",
      "    investment slide humour falloff slick wind hyena override subhumanity\n",
      "    machinist ...\n",
      "token: in\n",
      "IN: preposition or conjunction, subordinating\n",
      "    astride among uppon whether out inside pro despite on by throughout\n",
      "    below within for towards near behind atop around if like until below\n",
      "    next into if beside ...\n",
      "token: the\n",
      "DT: determiner\n",
      "    all an another any both del each either every half la many much nary\n",
      "    neither no some such that the them these this those\n",
      "token: Mediterranean\n",
      "NNP: noun, proper, singular\n",
      "    Motown Venneboerger Czestochwa Ranzer Conchita Trumplane Christos\n",
      "    Oceanside Escobar Kreisler Sawyer Cougar Yvette Ervin ODI Darryl CTCA\n",
      "    Shannon A.K.C. Meltex Liverpool ...\n",
      "token: .\n",
      ".: sentence terminator\n",
      "    . ! ?\n"
     ]
    }
   ],
   "source": [
    "for token, tag in tags:\n",
    "    print(\"token:\", token)\n",
    "    upenn_tagset(tag)"
   ]
  },
  {
   "cell_type": "markdown",
   "metadata": {},
   "source": [
    "<br>\n",
    "<br>\n",
    "<hr>\n",
    "<br>\n",
    "<br>"
   ]
  },
  {
   "cell_type": "markdown",
   "metadata": {},
   "source": [
    "# 3. Chunking and Entity Recognition\n",
    "\n",
    "This is the information we want to mine when performing chunk analysis.\n",
    "\n",
    "---\n",
    "\n",
    "* GPE: Geo-Political Entity\n",
    "* GSP: Geo-Socio-Political group\n",
    "* FACILITY\n",
    "* LOCATION\n",
    "* ORGANIZATION\n",
    "* PERSON"
   ]
  },
  {
   "cell_type": "markdown",
   "metadata": {},
   "source": [
    "## Entity Recognition for a single Sentence"
   ]
  },
  {
   "cell_type": "code",
   "execution_count": 153,
   "metadata": {},
   "outputs": [],
   "source": [
    "from nltk import ne_chunk"
   ]
  },
  {
   "cell_type": "markdown",
   "metadata": {},
   "source": [
    "### We have a single Sentence"
   ]
  },
  {
   "cell_type": "code",
   "execution_count": 154,
   "metadata": {},
   "outputs": [],
   "source": [
    "sentence = \"Mark and John are working at Google.\""
   ]
  },
  {
   "cell_type": "markdown",
   "metadata": {},
   "source": [
    "### Tokenize every word in the sentence"
   ]
  },
  {
   "cell_type": "code",
   "execution_count": 155,
   "metadata": {},
   "outputs": [
    {
     "name": "stdout",
     "output_type": "stream",
     "text": [
      "['Mark', 'and', 'John', 'are', 'working', 'at', 'Google', '.']\n"
     ]
    }
   ],
   "source": [
    "words = word_tokenize(sentence)\n",
    "print(words)"
   ]
  },
  {
   "cell_type": "markdown",
   "metadata": {},
   "source": [
    "### Attach a part_of speech tag to each word in a sentence"
   ]
  },
  {
   "cell_type": "code",
   "execution_count": 156,
   "metadata": {},
   "outputs": [
    {
     "name": "stdout",
     "output_type": "stream",
     "text": [
      "Mark\n",
      "NNP: noun, proper, singular\n",
      "    Motown Venneboerger Czestochwa Ranzer Conchita Trumplane Christos\n",
      "    Oceanside Escobar Kreisler Sawyer Cougar Yvette Ervin ODI Darryl CTCA\n",
      "    Shannon A.K.C. Meltex Liverpool ...\n",
      "\n",
      "and\n",
      "CC: conjunction, coordinating\n",
      "    & 'n and both but either et for less minus neither nor or plus so\n",
      "    therefore times v. versus vs. whether yet\n",
      "\n",
      "John\n",
      "NNP: noun, proper, singular\n",
      "    Motown Venneboerger Czestochwa Ranzer Conchita Trumplane Christos\n",
      "    Oceanside Escobar Kreisler Sawyer Cougar Yvette Ervin ODI Darryl CTCA\n",
      "    Shannon A.K.C. Meltex Liverpool ...\n",
      "\n",
      "are\n",
      "VBP: verb, present tense, not 3rd person singular\n",
      "    predominate wrap resort sue twist spill cure lengthen brush terminate\n",
      "    appear tend stray glisten obtain comprise detest tease attract\n",
      "    emphasize mold postpone sever return wag ...\n",
      "\n",
      "working\n",
      "VBG: verb, present participle or gerund\n",
      "    telegraphing stirring focusing angering judging stalling lactating\n",
      "    hankerin' alleging veering capping approaching traveling besieging\n",
      "    encrypting interrupting erasing wincing ...\n",
      "\n",
      "at\n",
      "IN: preposition or conjunction, subordinating\n",
      "    astride among uppon whether out inside pro despite on by throughout\n",
      "    below within for towards near behind atop around if like until below\n",
      "    next into if beside ...\n",
      "\n",
      "Google\n",
      "NNP: noun, proper, singular\n",
      "    Motown Venneboerger Czestochwa Ranzer Conchita Trumplane Christos\n",
      "    Oceanside Escobar Kreisler Sawyer Cougar Yvette Ervin ODI Darryl CTCA\n",
      "    Shannon A.K.C. Meltex Liverpool ...\n",
      "\n",
      ".\n",
      ".: sentence terminator\n",
      "    . ! ?\n",
      "\n"
     ]
    }
   ],
   "source": [
    "pos_words = pos_tag(words)\n",
    "pos_words\n",
    "\n",
    "for token, tag in pos_words:\n",
    "    print(token)\n",
    "    upenn_tagset(tag)\n",
    "    print()"
   ]
  },
  {
   "cell_type": "markdown",
   "metadata": {},
   "source": [
    "### Find the entities in the entire sentence"
   ]
  },
  {
   "cell_type": "code",
   "execution_count": 157,
   "metadata": {},
   "outputs": [
    {
     "name": "stdout",
     "output_type": "stream",
     "text": [
      "(S\n",
      "  (PERSON Mark/NNP)\n",
      "  and/CC\n",
      "  (PERSON John/NNP)\n",
      "  are/VBP\n",
      "  working/VBG\n",
      "  at/IN\n",
      "  (ORGANIZATION Google/NNP)\n",
      "  ./.)\n"
     ]
    }
   ],
   "source": [
    "entities_in_sentence = ne_chunk(pos_words) # pos_words list (sentence) of words\n",
    "print(entities_in_sentence)"
   ]
  },
  {
   "cell_type": "markdown",
   "metadata": {},
   "source": [
    "<br>"
   ]
  },
  {
   "cell_type": "markdown",
   "metadata": {},
   "source": [
    "## Entity Recognition for a Text with `n` sentences."
   ]
  },
  {
   "cell_type": "markdown",
   "metadata": {},
   "source": [
    "### We have a piece of text with many sentences"
   ]
  },
  {
   "cell_type": "code",
   "execution_count": 158,
   "metadata": {},
   "outputs": [
    {
     "data": {
      "text/plain": [
       "'Cyprus, officially the Republic of Cyprus, is an island country in the Eastern Mediterranean and the third largest and third most populous island in the Mediterranean. Cyprus is located south of Turkey, west of Syria and Lebanon, northwest of Israel, north of Egypt, and southeast of Greece. Cyprus is a major tourist destination in the Mediterranean. With an advanced, high-income economy and a very high Human Development Index, the Republic of Cyprus has been a member of the Commonwealth since 1961 and was a founding member of the Non-Aligned Movement until it joined the European Union on 1 May 2004. On 1 January 2008, the Republic of Cyprus joined the eurozone.'"
      ]
     },
     "execution_count": 158,
     "metadata": {},
     "output_type": "execute_result"
    }
   ],
   "source": [
    "text"
   ]
  },
  {
   "cell_type": "markdown",
   "metadata": {},
   "source": [
    "## Exercise 3"
   ]
  },
  {
   "cell_type": "markdown",
   "metadata": {},
   "source": [
    "### 1) Sentence Tokenization\n",
    "a. `sent_tokenize` `text` into a `list` of several `sentences`\n",
    "\n",
    "b. save to variable named `sentences`"
   ]
  },
  {
   "cell_type": "code",
   "execution_count": 168,
   "metadata": {},
   "outputs": [],
   "source": [
    "sentences = sent_tokenize(text)"
   ]
  },
  {
   "cell_type": "markdown",
   "metadata": {},
   "source": [
    "### 2) Word Tokenization\n",
    "\n",
    "a. `word_tokenize` each `sentence` seperately, this should yield a `list` of `lists`.\n",
    "\n",
    "b. Save to variable `tokenized_words_in_sentences`"
   ]
  },
  {
   "cell_type": "code",
   "execution_count": 169,
   "metadata": {
    "scrolled": true
   },
   "outputs": [],
   "source": [
    "tokenized_words_in_sentences = [word_tokenize(sentence) for sentence in sentences]"
   ]
  },
  {
   "cell_type": "markdown",
   "metadata": {},
   "source": [
    "### 3) POS_Tags\n",
    "\n",
    "a. Attach a `pos_tag` to every `word` in each `tokenized_sentence` in `tokenized_words_in_sentences`\n",
    "\n",
    "b. `pos_tag()` assumes the input will be a sentence and will tag each word contained.\n",
    "\n",
    "b. Save to variable named `pos_sentences`"
   ]
  },
  {
   "cell_type": "code",
   "execution_count": 170,
   "metadata": {
    "scrolled": true
   },
   "outputs": [
    {
     "data": {
      "text/plain": [
       "[[('Cyprus', 'NNP'),\n",
       "  (',', ','),\n",
       "  ('officially', 'RB'),\n",
       "  ('the', 'DT'),\n",
       "  ('Republic', 'NNP'),\n",
       "  ('of', 'IN'),\n",
       "  ('Cyprus', 'NNP'),\n",
       "  (',', ','),\n",
       "  ('is', 'VBZ'),\n",
       "  ('an', 'DT'),\n",
       "  ('island', 'JJ'),\n",
       "  ('country', 'NN'),\n",
       "  ('in', 'IN'),\n",
       "  ('the', 'DT'),\n",
       "  ('Eastern', 'JJ'),\n",
       "  ('Mediterranean', 'NNP'),\n",
       "  ('and', 'CC'),\n",
       "  ('the', 'DT'),\n",
       "  ('third', 'JJ'),\n",
       "  ('largest', 'JJS'),\n",
       "  ('and', 'CC'),\n",
       "  ('third', 'JJ'),\n",
       "  ('most', 'RBS'),\n",
       "  ('populous', 'JJ'),\n",
       "  ('island', 'NN'),\n",
       "  ('in', 'IN'),\n",
       "  ('the', 'DT'),\n",
       "  ('Mediterranean', 'NNP'),\n",
       "  ('.', '.')],\n",
       " [('Cyprus', 'NNP'),\n",
       "  ('is', 'VBZ'),\n",
       "  ('located', 'VBN'),\n",
       "  ('south', 'NN'),\n",
       "  ('of', 'IN'),\n",
       "  ('Turkey', 'NNP'),\n",
       "  (',', ','),\n",
       "  ('west', 'NN'),\n",
       "  ('of', 'IN'),\n",
       "  ('Syria', 'NNP'),\n",
       "  ('and', 'CC'),\n",
       "  ('Lebanon', 'NNP'),\n",
       "  (',', ','),\n",
       "  ('northwest', 'JJS'),\n",
       "  ('of', 'IN'),\n",
       "  ('Israel', 'NNP'),\n",
       "  (',', ','),\n",
       "  ('north', 'NN'),\n",
       "  ('of', 'IN'),\n",
       "  ('Egypt', 'NNP'),\n",
       "  (',', ','),\n",
       "  ('and', 'CC'),\n",
       "  ('southeast', 'NN'),\n",
       "  ('of', 'IN'),\n",
       "  ('Greece', 'NNP'),\n",
       "  ('.', '.')],\n",
       " [('Cyprus', 'NNP'),\n",
       "  ('is', 'VBZ'),\n",
       "  ('a', 'DT'),\n",
       "  ('major', 'JJ'),\n",
       "  ('tourist', 'NN'),\n",
       "  ('destination', 'NN'),\n",
       "  ('in', 'IN'),\n",
       "  ('the', 'DT'),\n",
       "  ('Mediterranean', 'NNP'),\n",
       "  ('.', '.')],\n",
       " [('With', 'IN'),\n",
       "  ('an', 'DT'),\n",
       "  ('advanced', 'JJ'),\n",
       "  (',', ','),\n",
       "  ('high-income', 'JJ'),\n",
       "  ('economy', 'NN'),\n",
       "  ('and', 'CC'),\n",
       "  ('a', 'DT'),\n",
       "  ('very', 'RB'),\n",
       "  ('high', 'JJ'),\n",
       "  ('Human', 'NNP'),\n",
       "  ('Development', 'NNP'),\n",
       "  ('Index', 'NNP'),\n",
       "  (',', ','),\n",
       "  ('the', 'DT'),\n",
       "  ('Republic', 'NNP'),\n",
       "  ('of', 'IN'),\n",
       "  ('Cyprus', 'NNP'),\n",
       "  ('has', 'VBZ'),\n",
       "  ('been', 'VBN'),\n",
       "  ('a', 'DT'),\n",
       "  ('member', 'NN'),\n",
       "  ('of', 'IN'),\n",
       "  ('the', 'DT'),\n",
       "  ('Commonwealth', 'NNP'),\n",
       "  ('since', 'IN'),\n",
       "  ('1961', 'CD'),\n",
       "  ('and', 'CC'),\n",
       "  ('was', 'VBD'),\n",
       "  ('a', 'DT'),\n",
       "  ('founding', 'JJ'),\n",
       "  ('member', 'NN'),\n",
       "  ('of', 'IN'),\n",
       "  ('the', 'DT'),\n",
       "  ('Non-Aligned', 'JJ'),\n",
       "  ('Movement', 'NNP'),\n",
       "  ('until', 'IN'),\n",
       "  ('it', 'PRP'),\n",
       "  ('joined', 'VBD'),\n",
       "  ('the', 'DT'),\n",
       "  ('European', 'NNP'),\n",
       "  ('Union', 'NNP'),\n",
       "  ('on', 'IN'),\n",
       "  ('1', 'CD'),\n",
       "  ('May', 'NNP'),\n",
       "  ('2004', 'CD'),\n",
       "  ('.', '.')],\n",
       " [('On', 'IN'),\n",
       "  ('1', 'CD'),\n",
       "  ('January', 'NNP'),\n",
       "  ('2008', 'CD'),\n",
       "  (',', ','),\n",
       "  ('the', 'DT'),\n",
       "  ('Republic', 'NNP'),\n",
       "  ('of', 'IN'),\n",
       "  ('Cyprus', 'NNP'),\n",
       "  ('joined', 'VBD'),\n",
       "  ('the', 'DT'),\n",
       "  ('eurozone', 'NN'),\n",
       "  ('.', '.')]]"
      ]
     },
     "execution_count": 170,
     "metadata": {},
     "output_type": "execute_result"
    }
   ],
   "source": [
    "pos_sentences = [pos_tag(sentence) for sentence in tokenized_words_in_sentences]\n",
    "pos_sentences"
   ]
  },
  {
   "cell_type": "markdown",
   "metadata": {},
   "source": [
    "### 4) Entity Extraction\n",
    "\n",
    "a) Find the entities for each sentence in `pos_sentences`\n",
    "\n",
    "b) Use `ne_chunk_sents` instead of `ne_chunk`, Since we are now passing a `list` of pos_tagged sentences and NOT a single pos_tagged sentence.\n",
    "\n",
    "c) ne_chunk_sents returns a `generator` make sure to wrap the output in a `list()` when saving to variable.\n",
    "\n",
    "d) Save to variable `chunked_sentences`"
   ]
  },
  {
   "cell_type": "code",
   "execution_count": 171,
   "metadata": {},
   "outputs": [],
   "source": [
    "from nltk import ne_chunk_sents"
   ]
  },
  {
   "cell_type": "code",
   "execution_count": 172,
   "metadata": {},
   "outputs": [
    {
     "data": {
      "text/plain": [
       "[Tree('S', [Tree('GPE', [('Cyprus', 'NNP')]), (',', ','), ('officially', 'RB'), ('the', 'DT'), Tree('ORGANIZATION', [('Republic', 'NNP')]), ('of', 'IN'), Tree('GPE', [('Cyprus', 'NNP')]), (',', ','), ('is', 'VBZ'), ('an', 'DT'), ('island', 'JJ'), ('country', 'NN'), ('in', 'IN'), ('the', 'DT'), Tree('LOCATION', [('Eastern', 'JJ'), ('Mediterranean', 'NNP')]), ('and', 'CC'), ('the', 'DT'), ('third', 'JJ'), ('largest', 'JJS'), ('and', 'CC'), ('third', 'JJ'), ('most', 'RBS'), ('populous', 'JJ'), ('island', 'NN'), ('in', 'IN'), ('the', 'DT'), Tree('LOCATION', [('Mediterranean', 'NNP')]), ('.', '.')]),\n",
       " Tree('S', [Tree('GPE', [('Cyprus', 'NNP')]), ('is', 'VBZ'), ('located', 'VBN'), ('south', 'NN'), ('of', 'IN'), Tree('GPE', [('Turkey', 'NNP')]), (',', ','), ('west', 'NN'), ('of', 'IN'), Tree('GSP', [('Syria', 'NNP')]), ('and', 'CC'), Tree('GPE', [('Lebanon', 'NNP')]), (',', ','), ('northwest', 'JJS'), ('of', 'IN'), Tree('GPE', [('Israel', 'NNP')]), (',', ','), ('north', 'NN'), ('of', 'IN'), Tree('GPE', [('Egypt', 'NNP')]), (',', ','), ('and', 'CC'), ('southeast', 'NN'), ('of', 'IN'), Tree('GPE', [('Greece', 'NNP')]), ('.', '.')]),\n",
       " Tree('S', [Tree('GPE', [('Cyprus', 'NNP')]), ('is', 'VBZ'), ('a', 'DT'), ('major', 'JJ'), ('tourist', 'NN'), ('destination', 'NN'), ('in', 'IN'), ('the', 'DT'), Tree('LOCATION', [('Mediterranean', 'NNP')]), ('.', '.')]),\n",
       " Tree('S', [('With', 'IN'), ('an', 'DT'), ('advanced', 'JJ'), (',', ','), ('high-income', 'JJ'), ('economy', 'NN'), ('and', 'CC'), ('a', 'DT'), ('very', 'RB'), ('high', 'JJ'), Tree('ORGANIZATION', [('Human', 'NNP'), ('Development', 'NNP'), ('Index', 'NNP')]), (',', ','), ('the', 'DT'), Tree('ORGANIZATION', [('Republic', 'NNP')]), ('of', 'IN'), Tree('GPE', [('Cyprus', 'NNP')]), ('has', 'VBZ'), ('been', 'VBN'), ('a', 'DT'), ('member', 'NN'), ('of', 'IN'), ('the', 'DT'), Tree('ORGANIZATION', [('Commonwealth', 'NNP')]), ('since', 'IN'), ('1961', 'CD'), ('and', 'CC'), ('was', 'VBD'), ('a', 'DT'), ('founding', 'JJ'), ('member', 'NN'), ('of', 'IN'), ('the', 'DT'), ('Non-Aligned', 'JJ'), ('Movement', 'NNP'), ('until', 'IN'), ('it', 'PRP'), ('joined', 'VBD'), ('the', 'DT'), Tree('ORGANIZATION', [('European', 'NNP'), ('Union', 'NNP')]), ('on', 'IN'), ('1', 'CD'), ('May', 'NNP'), ('2004', 'CD'), ('.', '.')]),\n",
       " Tree('S', [('On', 'IN'), ('1', 'CD'), ('January', 'NNP'), ('2008', 'CD'), (',', ','), ('the', 'DT'), Tree('ORGANIZATION', [('Republic', 'NNP')]), ('of', 'IN'), Tree('GPE', [('Cyprus', 'NNP')]), ('joined', 'VBD'), ('the', 'DT'), ('eurozone', 'NN'), ('.', '.')])]"
      ]
     },
     "execution_count": 172,
     "metadata": {},
     "output_type": "execute_result"
    }
   ],
   "source": [
    "chunked_sentences = list(ne_chunk_sents(pos_sentences))\n",
    "chunked_sentences"
   ]
  },
  {
   "cell_type": "code",
   "execution_count": 173,
   "metadata": {},
   "outputs": [
    {
     "name": "stdout",
     "output_type": "stream",
     "text": [
      "(S\n",
      "  (GPE Cyprus/NNP)\n",
      "  ,/,\n",
      "  officially/RB\n",
      "  the/DT\n",
      "  (ORGANIZATION Republic/NNP)\n",
      "  of/IN\n",
      "  (GPE Cyprus/NNP)\n",
      "  ,/,\n",
      "  is/VBZ\n",
      "  an/DT\n",
      "  island/JJ\n",
      "  country/NN\n",
      "  in/IN\n",
      "  the/DT\n",
      "  (LOCATION Eastern/JJ Mediterranean/NNP)\n",
      "  and/CC\n",
      "  the/DT\n",
      "  third/JJ\n",
      "  largest/JJS\n",
      "  and/CC\n",
      "  third/JJ\n",
      "  most/RBS\n",
      "  populous/JJ\n",
      "  island/NN\n",
      "  in/IN\n",
      "  the/DT\n",
      "  (LOCATION Mediterranean/NNP)\n",
      "  ./.)\n",
      "(S\n",
      "  (GPE Cyprus/NNP)\n",
      "  is/VBZ\n",
      "  located/VBN\n",
      "  south/NN\n",
      "  of/IN\n",
      "  (GPE Turkey/NNP)\n",
      "  ,/,\n",
      "  west/NN\n",
      "  of/IN\n",
      "  (GSP Syria/NNP)\n",
      "  and/CC\n",
      "  (GPE Lebanon/NNP)\n",
      "  ,/,\n",
      "  northwest/JJS\n",
      "  of/IN\n",
      "  (GPE Israel/NNP)\n",
      "  ,/,\n",
      "  north/NN\n",
      "  of/IN\n",
      "  (GPE Egypt/NNP)\n",
      "  ,/,\n",
      "  and/CC\n",
      "  southeast/NN\n",
      "  of/IN\n",
      "  (GPE Greece/NNP)\n",
      "  ./.)\n",
      "(S\n",
      "  (GPE Cyprus/NNP)\n",
      "  is/VBZ\n",
      "  a/DT\n",
      "  major/JJ\n",
      "  tourist/NN\n",
      "  destination/NN\n",
      "  in/IN\n",
      "  the/DT\n",
      "  (LOCATION Mediterranean/NNP)\n",
      "  ./.)\n",
      "(S\n",
      "  With/IN\n",
      "  an/DT\n",
      "  advanced/JJ\n",
      "  ,/,\n",
      "  high-income/JJ\n",
      "  economy/NN\n",
      "  and/CC\n",
      "  a/DT\n",
      "  very/RB\n",
      "  high/JJ\n",
      "  (ORGANIZATION Human/NNP Development/NNP Index/NNP)\n",
      "  ,/,\n",
      "  the/DT\n",
      "  (ORGANIZATION Republic/NNP)\n",
      "  of/IN\n",
      "  (GPE Cyprus/NNP)\n",
      "  has/VBZ\n",
      "  been/VBN\n",
      "  a/DT\n",
      "  member/NN\n",
      "  of/IN\n",
      "  the/DT\n",
      "  (ORGANIZATION Commonwealth/NNP)\n",
      "  since/IN\n",
      "  1961/CD\n",
      "  and/CC\n",
      "  was/VBD\n",
      "  a/DT\n",
      "  founding/JJ\n",
      "  member/NN\n",
      "  of/IN\n",
      "  the/DT\n",
      "  Non-Aligned/JJ\n",
      "  Movement/NNP\n",
      "  until/IN\n",
      "  it/PRP\n",
      "  joined/VBD\n",
      "  the/DT\n",
      "  (ORGANIZATION European/NNP Union/NNP)\n",
      "  on/IN\n",
      "  1/CD\n",
      "  May/NNP\n",
      "  2004/CD\n",
      "  ./.)\n",
      "(S\n",
      "  On/IN\n",
      "  1/CD\n",
      "  January/NNP\n",
      "  2008/CD\n",
      "  ,/,\n",
      "  the/DT\n",
      "  (ORGANIZATION Republic/NNP)\n",
      "  of/IN\n",
      "  (GPE Cyprus/NNP)\n",
      "  joined/VBD\n",
      "  the/DT\n",
      "  eurozone/NN\n",
      "  ./.)\n"
     ]
    }
   ],
   "source": [
    "for chunk in chunked_sentences:\n",
    "    print(chunk)"
   ]
  },
  {
   "cell_type": "markdown",
   "metadata": {},
   "source": [
    "<br>"
   ]
  },
  {
   "cell_type": "markdown",
   "metadata": {},
   "source": [
    "## Visualizing the entities present in a piece of text "
   ]
  },
  {
   "cell_type": "code",
   "execution_count": 165,
   "metadata": {},
   "outputs": [],
   "source": [
    "from collections import defaultdict"
   ]
  },
  {
   "cell_type": "code",
   "execution_count": 174,
   "metadata": {},
   "outputs": [
    {
     "data": {
      "text/plain": [
       "defaultdict(int, {'GPE': 11, 'ORGANIZATION': 6, 'LOCATION': 3, 'GSP': 1})"
      ]
     },
     "execution_count": 174,
     "metadata": {},
     "output_type": "execute_result"
    }
   ],
   "source": [
    "ner_categories = defaultdict(int)\n",
    "\n",
    "# populate ner_categories\n",
    "for chunks in chunked_sentences:\n",
    "    for chunk in chunks:\n",
    "        if hasattr(chunk, 'label'):\n",
    "            ner_categories[chunk.label()] += 1\n",
    "            \n",
    "\n",
    "ner_categories"
   ]
  },
  {
   "cell_type": "code",
   "execution_count": 167,
   "metadata": {},
   "outputs": [
    {
     "data": {
      "image/png": "[encoded data removed]",
      "text/plain": [
       "<Figure size 432x288 with 1 Axes>"
      ]
     },
     "metadata": {},
     "output_type": "display_data"
    }
   ],
   "source": [
    "# Import matplotlib\n",
    "import matplotlib.pyplot as plt\n",
    "\n",
    "# Create a list from the dictionary keys for the chart labels: labels\n",
    "labels = list(ner_categories.keys())\n",
    "\n",
    "# Create a list of the values: values\n",
    "values = [ner_categories.get(l) for l in labels]\n",
    "\n",
    "# Create the pie chart\n",
    "fig = plt.figure()\n",
    "ax = fig.gca()\n",
    "ax.pie(values, labels=labels, autopct='%1.1f%%', startangle=140)\n",
    "\n",
    "# Display the chart\n",
    "plt.show()"
   ]
  },
  {
   "cell_type": "markdown",
   "metadata": {},
   "source": [
    "<br>"
   ]
  },
  {
   "cell_type": "code",
   "execution_count": 176,
   "metadata": {},
   "outputs": [
    {
     "data": {
      "text/plain": [
       "0.5238095238095238"
      ]
     },
     "execution_count": 176,
     "metadata": {},
     "output_type": "execute_result"
    }
   ],
   "source": [
    "11/21"
   ]
  },
  {
   "cell_type": "code",
   "execution_count": null,
   "metadata": {},
   "outputs": [],
   "source": []
  },
  {
   "cell_type": "code",
   "execution_count": null,
   "metadata": {},
   "outputs": [],
   "source": []
  }
 ],
 "metadata": {
  "kernelspec": {
   "display_name": "Python 3",
   "language": "python",
   "name": "python3"
  },
  "language_info": {
   "codemirror_mode": {
    "name": "ipython",
    "version": 3
   },
   "file_extension": ".py",
   "mimetype": "text/x-python",
   "name": "python",
   "nbconvert_exporter": "python",
   "pygments_lexer": "ipython3",
   "version": "3.7.3"
  }
 },
 "nbformat": 4,
 "nbformat_minor": 2
}
