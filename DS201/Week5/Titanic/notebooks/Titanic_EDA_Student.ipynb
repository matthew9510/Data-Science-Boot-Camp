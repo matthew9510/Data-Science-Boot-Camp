{
 "cells": [
  {
   "cell_type": "markdown",
   "metadata": {
    "_cell_guid": "c986a9fb-e199-40eb-947d-c398d54f6b1e",
    "_uuid": "0ce8368deb46a77d2115dbc3d37859e8aa20c953"
   },
   "source": [
    "# Titanic Death Prediction\n",
    "<hr>"
   ]
  },
  {
   "cell_type": "code",
   "execution_count": 1,
   "metadata": {
    "_cell_guid": "d7601bd6-d22f-499f-97b9-85e01d390f05",
    "_uuid": "7bb401b4e2e509cc8a53e9cf645226fa508fa2e2"
   },
   "outputs": [],
   "source": [
    "import numpy as np \n",
    "import pandas as pd\n",
    "\n",
    "import matplotlib.pyplot as plt\n",
    "import seaborn as sns\n",
    "plt.style.use('fivethirtyeight')"
   ]
  },
  {
   "cell_type": "markdown",
   "metadata": {},
   "source": [
    "### Load Data"
   ]
  },
  {
   "cell_type": "code",
   "execution_count": 2,
   "metadata": {
    "_cell_guid": "c12ac199-e3e3-4372-a747-baa6273f4561",
    "_uuid": "ebc88acccbc14bf28e4e4d49eee1ea82dcc31ab4"
   },
   "outputs": [],
   "source": [
    "data = pd.read_csv('../data/train.csv')"
   ]
  },
  {
   "cell_type": "code",
   "execution_count": 3,
   "metadata": {},
   "outputs": [
    {
     "data": {
      "text/html": [
       "<div>\n",
       "<style scoped>\n",
       "    .dataframe tbody tr th:only-of-type {\n",
       "        vertical-align: middle;\n",
       "    }\n",
       "\n",
       "    .dataframe tbody tr th {\n",
       "        vertical-align: top;\n",
       "    }\n",
       "\n",
       "    .dataframe thead th {\n",
       "        text-align: right;\n",
       "    }\n",
       "</style>\n",
       "<table border=\"1\" class=\"dataframe\">\n",
       "  <thead>\n",
       "    <tr style=\"text-align: right;\">\n",
       "      <th></th>\n",
       "      <th>PassengerId</th>\n",
       "      <th>Survived</th>\n",
       "      <th>Pclass</th>\n",
       "      <th>Name</th>\n",
       "      <th>Gender</th>\n",
       "      <th>Age</th>\n",
       "      <th>SibSp</th>\n",
       "      <th>ParCh</th>\n",
       "      <th>Ticket</th>\n",
       "      <th>Fare</th>\n",
       "      <th>Cabin</th>\n",
       "      <th>Embarked</th>\n",
       "    </tr>\n",
       "  </thead>\n",
       "  <tbody>\n",
       "    <tr>\n",
       "      <th>0</th>\n",
       "      <td>1</td>\n",
       "      <td>0</td>\n",
       "      <td>3</td>\n",
       "      <td>Braund, Mr. Owen Harris</td>\n",
       "      <td>male</td>\n",
       "      <td>22.0</td>\n",
       "      <td>1</td>\n",
       "      <td>0</td>\n",
       "      <td>A/5 21171</td>\n",
       "      <td>7.2500</td>\n",
       "      <td>NaN</td>\n",
       "      <td>S</td>\n",
       "    </tr>\n",
       "    <tr>\n",
       "      <th>1</th>\n",
       "      <td>2</td>\n",
       "      <td>1</td>\n",
       "      <td>1</td>\n",
       "      <td>Cumings, Mrs. John Bradley (Florence Briggs Th...</td>\n",
       "      <td>female</td>\n",
       "      <td>38.0</td>\n",
       "      <td>1</td>\n",
       "      <td>0</td>\n",
       "      <td>PC 17599</td>\n",
       "      <td>71.2833</td>\n",
       "      <td>C85</td>\n",
       "      <td>C</td>\n",
       "    </tr>\n",
       "    <tr>\n",
       "      <th>2</th>\n",
       "      <td>3</td>\n",
       "      <td>1</td>\n",
       "      <td>3</td>\n",
       "      <td>Heikkinen, Miss. Laina</td>\n",
       "      <td>female</td>\n",
       "      <td>26.0</td>\n",
       "      <td>0</td>\n",
       "      <td>0</td>\n",
       "      <td>STON/O2. 3101282</td>\n",
       "      <td>7.9250</td>\n",
       "      <td>NaN</td>\n",
       "      <td>S</td>\n",
       "    </tr>\n",
       "    <tr>\n",
       "      <th>3</th>\n",
       "      <td>4</td>\n",
       "      <td>1</td>\n",
       "      <td>1</td>\n",
       "      <td>Futrelle, Mrs. Jacques Heath (Lily May Peel)</td>\n",
       "      <td>female</td>\n",
       "      <td>35.0</td>\n",
       "      <td>1</td>\n",
       "      <td>0</td>\n",
       "      <td>113803</td>\n",
       "      <td>53.1000</td>\n",
       "      <td>C123</td>\n",
       "      <td>S</td>\n",
       "    </tr>\n",
       "    <tr>\n",
       "      <th>4</th>\n",
       "      <td>5</td>\n",
       "      <td>0</td>\n",
       "      <td>3</td>\n",
       "      <td>Allen, Mr. William Henry</td>\n",
       "      <td>male</td>\n",
       "      <td>35.0</td>\n",
       "      <td>0</td>\n",
       "      <td>0</td>\n",
       "      <td>373450</td>\n",
       "      <td>8.0500</td>\n",
       "      <td>NaN</td>\n",
       "      <td>S</td>\n",
       "    </tr>\n",
       "  </tbody>\n",
       "</table>\n",
       "</div>"
      ],
      "text/plain": [
       "   PassengerId  Survived  Pclass  \\\n",
       "0            1         0       3   \n",
       "1            2         1       1   \n",
       "2            3         1       3   \n",
       "3            4         1       1   \n",
       "4            5         0       3   \n",
       "\n",
       "                                                Name  Gender   Age  SibSp  \\\n",
       "0                            Braund, Mr. Owen Harris    male  22.0      1   \n",
       "1  Cumings, Mrs. John Bradley (Florence Briggs Th...  female  38.0      1   \n",
       "2                             Heikkinen, Miss. Laina  female  26.0      0   \n",
       "3       Futrelle, Mrs. Jacques Heath (Lily May Peel)  female  35.0      1   \n",
       "4                           Allen, Mr. William Henry    male  35.0      0   \n",
       "\n",
       "   ParCh            Ticket     Fare Cabin Embarked  \n",
       "0      0         A/5 21171   7.2500   NaN        S  \n",
       "1      0          PC 17599  71.2833   C85        C  \n",
       "2      0  STON/O2. 3101282   7.9250   NaN        S  \n",
       "3      0            113803  53.1000  C123        S  \n",
       "4      0            373450   8.0500   NaN        S  "
      ]
     },
     "execution_count": 3,
     "metadata": {},
     "output_type": "execute_result"
    }
   ],
   "source": [
    "data.head()"
   ]
  },
  {
   "cell_type": "markdown",
   "metadata": {},
   "source": [
    "<br>"
   ]
  },
  {
   "cell_type": "markdown",
   "metadata": {},
   "source": [
    "### Check `shape` of data"
   ]
  },
  {
   "cell_type": "code",
   "execution_count": 4,
   "metadata": {},
   "outputs": [
    {
     "data": {
      "text/plain": [
       "(891, 12)"
      ]
     },
     "execution_count": 4,
     "metadata": {},
     "output_type": "execute_result"
    }
   ],
   "source": [
    "data.shape"
   ]
  },
  {
   "cell_type": "markdown",
   "metadata": {},
   "source": [
    "<br>"
   ]
  },
  {
   "cell_type": "markdown",
   "metadata": {},
   "source": [
    "### Check column `dtypes`"
   ]
  },
  {
   "cell_type": "code",
   "execution_count": 5,
   "metadata": {},
   "outputs": [
    {
     "data": {
      "text/plain": [
       "PassengerId      int64\n",
       "Survived         int64\n",
       "Pclass           int64\n",
       "Name            object\n",
       "Gender          object\n",
       "Age            float64\n",
       "SibSp            int64\n",
       "ParCh            int64\n",
       "Ticket          object\n",
       "Fare           float64\n",
       "Cabin           object\n",
       "Embarked        object\n",
       "dtype: object"
      ]
     },
     "execution_count": 5,
     "metadata": {},
     "output_type": "execute_result"
    }
   ],
   "source": [
    "data.dtypes"
   ]
  },
  {
   "cell_type": "markdown",
   "metadata": {},
   "source": [
    "<br>"
   ]
  },
  {
   "cell_type": "markdown",
   "metadata": {},
   "source": [
    "### Check for total `null` Values."
   ]
  },
  {
   "cell_type": "code",
   "execution_count": 6,
   "metadata": {
    "_cell_guid": "5ef569cd-e99e-42f0-93ec-abbc6a90c00e",
    "_uuid": "1496190095fb1cd2e289c63c986c6eb951046860"
   },
   "outputs": [
    {
     "data": {
      "text/plain": [
       "PassengerId      0\n",
       "Survived         0\n",
       "Pclass           0\n",
       "Name             0\n",
       "Gender           0\n",
       "Age            177\n",
       "SibSp            0\n",
       "ParCh            0\n",
       "Ticket           0\n",
       "Fare             0\n",
       "Cabin          687\n",
       "Embarked         2\n",
       "dtype: int64"
      ]
     },
     "execution_count": 6,
     "metadata": {},
     "output_type": "execute_result"
    }
   ],
   "source": [
    "data.isnull().sum()"
   ]
  },
  {
   "cell_type": "markdown",
   "metadata": {
    "_cell_guid": "31972ab9-edef-49e3-bcd5-120262cf00d8",
    "_uuid": "fcedf70d9bdab89fb7eb8ff3769b14f0b5036a33"
   },
   "source": [
    "The **Age, Cabin and Embarked** have null values. We will fix these in the next notebook."
   ]
  },
  {
   "cell_type": "markdown",
   "metadata": {},
   "source": [
    "<br>"
   ]
  },
  {
   "cell_type": "markdown",
   "metadata": {
    "_cell_guid": "bf5980c3-b168-4a26-81f3-c7bdcedb6429",
    "_uuid": "18ba4a8f0909fd0a758b8cb8717327de8aeacdc8"
   },
   "source": [
    "---\n",
    "## Part 1: Exploratory Data Analysis (EDA)\n",
    "---"
   ]
  },
  {
   "cell_type": "markdown",
   "metadata": {
    "_cell_guid": "841dc40d-06b4-4010-b996-8d1e23857341",
    "_uuid": "d433fbf891d9268f60bf395d7db4e61996989d04"
   },
   "source": [
    "### Question: How many Survivors? Who were they?"
   ]
  },
  {
   "cell_type": "code",
   "execution_count": 7,
   "metadata": {
    "_cell_guid": "fabb7625-a8ef-4f37-99c6-3ec93679ef1f",
    "_uuid": "c60257aef24e867113873729829c7a1e33f4a0ab"
   },
   "outputs": [
    {
     "data": {
      "image/png": "[encoded data removed]",
      "text/plain": [
       "<Figure size 1296x576 with 2 Axes>"
      ]
     },
     "metadata": {
      "needs_background": "light"
     },
     "output_type": "display_data"
    }
   ],
   "source": [
    "# Set up 2 axes to plot\n",
    "f, ax = plt.subplots(1,2, figsize=(18,8))\n",
    "\n",
    "# ax[0]\n",
    "data['Survived'].value_counts().plot(kind='pie', explode = [0,0.1], autopct = '%1.1f%%', ax = ax[0], shadow = True)\n",
    "ax[0].set_title('Survived')\n",
    "ax[0].set_ylabel('')  # no need for y_label on pie chart.\n",
    "\n",
    "## ax[1]\n",
    "sns.countplot('Survived', data = data, ax = ax[1])\n",
    "ax[1].set_title('Distribution of Surviuval')\n",
    "\n",
    "plt.show()"
   ]
  },
  {
   "cell_type": "markdown",
   "metadata": {},
   "source": [
    "## Ponder w/ Neighbor"
   ]
  },
  {
   "cell_type": "markdown",
   "metadata": {},
   "source": [
    "What things do you notice? Write your observations here!"
   ]
  },
  {
   "cell_type": "markdown",
   "metadata": {},
   "source": [
    "<br>\n",
    "<hr>"
   ]
  },
  {
   "cell_type": "markdown",
   "metadata": {
    "_cell_guid": "f16f40df-3681-4330-ba57-2955094a6546",
    "_uuid": "01e521761a33c3bc2961e2613f729c164269ee51"
   },
   "source": [
    "## The Types of Features found in The Titanic Dataset"
   ]
  },
  {
   "cell_type": "markdown",
   "metadata": {
    "_cell_guid": "f16f40df-3681-4330-ba57-2955094a6546",
    "_uuid": "01e521761a33c3bc2961e2613f729c164269ee51"
   },
   "source": [
    "### Categorical Features:\n",
    "A categorical variable is one that has two or more categories and each value in that feature can be categorised by them.For example, gender is a categorical variable having two categories (male and female). Now we cannot sort or give any ordering to such variables. They are also known as **Nominal Variables**.\n",
    "\n",
    "**Categorical Features in the dataset: `Gender`,`Embarked`.**"
   ]
  },
  {
   "cell_type": "markdown",
   "metadata": {
    "_cell_guid": "f16f40df-3681-4330-ba57-2955094a6546",
    "_uuid": "01e521761a33c3bc2961e2613f729c164269ee51"
   },
   "source": [
    "### Ordinal Features:\n",
    "An ordinal variable is similar to categorical values, but the difference between them is that we can have relative ordering or sorting between the values. For eg: If we have a feature like **Height** with values **Tall, Medium, Short**, then Height is a ordinal variable. Here we can have a relative sort in the variable.\n",
    "\n",
    "**Ordinal Features in the dataset: `PClass`**"
   ]
  },
  {
   "cell_type": "markdown",
   "metadata": {
    "_cell_guid": "f16f40df-3681-4330-ba57-2955094a6546",
    "_uuid": "01e521761a33c3bc2961e2613f729c164269ee51"
   },
   "source": [
    "### Continous Feature:\n",
    "A feature is said to be continous if it can take values between any two points or between the minimum or maximum values in the features column.\n",
    "\n",
    "**Continous Features in the dataset: `Age`**"
   ]
  },
  {
   "cell_type": "markdown",
   "metadata": {},
   "source": [
    "<br>\n",
    "<hr>\n",
    "<br>"
   ]
  },
  {
   "cell_type": "markdown",
   "metadata": {
    "_cell_guid": "ccd13018-e5fb-4022-ac41-cadce1994dbe",
    "_uuid": "2b36f7862279cf64a76a9950f703bfed4ca220f6"
   },
   "source": [
    "## Analysing The Features"
   ]
  },
  {
   "cell_type": "markdown",
   "metadata": {
    "_cell_guid": "8d5bd219-61ce-4c88-b0c5-aaffce8cb1cc",
    "_uuid": "8b5ad1ae98e4aad980f24bbefb489e6ac049768b"
   },
   "source": [
    "## ```data['Gender']``` --> Categorical Feature"
   ]
  },
  {
   "cell_type": "code",
   "execution_count": 8,
   "metadata": {
    "_cell_guid": "06218a7d-bf3c-40b1-9cfa-2a915f7bc005",
    "_uuid": "c06e043424e13b87fcb020322e4869430fd0714f"
   },
   "outputs": [
    {
     "data": {
      "image/png": "[encoded data removed]",
      "text/plain": [
       "<Figure size 1296x576 with 2 Axes>"
      ]
     },
     "metadata": {
      "needs_background": "light"
     },
     "output_type": "display_data"
    }
   ],
   "source": [
    "# Set up 2 axes to plot\n",
    "f, ax = plt.subplots(1, 2, figsize= (18,8))\n",
    "\n",
    "# ax[0]\n",
    "data[['Gender','Survived']].groupby(['Gender']).mean().plot(kind='bar', ax=ax[0])\n",
    "ax[0].set_title('Survived vs Gender')\n",
    "\n",
    "# ax[1]\n",
    "sns.countplot('Gender',hue='Survived', data=data,ax=ax[1])\n",
    "ax[1].set_title('Gender: Survived vs umm... NOT Survived')\n",
    "\n",
    "plt.show()"
   ]
  },
  {
   "cell_type": "markdown",
   "metadata": {},
   "source": [
    "## Ponder w/ Neighbor"
   ]
  },
  {
   "cell_type": "markdown",
   "metadata": {},
   "source": [
    "What things do you notice? Write your observations here!"
   ]
  },
  {
   "cell_type": "markdown",
   "metadata": {},
   "source": [
    "<br>\n",
    "<hr>\n",
    "<br>"
   ]
  },
  {
   "cell_type": "markdown",
   "metadata": {
    "_cell_guid": "a210b0c8-dd8e-4fd0-a7f2-e597b7ed81e6",
    "_uuid": "e3b6327723dedd766d452f55b4056bbd0b37bed2"
   },
   "source": [
    "## ```data['Pclass']``` --> Ordinal Feature"
   ]
  },
  {
   "cell_type": "code",
   "execution_count": 9,
   "metadata": {
    "_cell_guid": "2477b536-32dd-43a0-8824-be034104b760",
    "_uuid": "4a98fe27c4474296c6b51f4a2b7fb076c228b4b8"
   },
   "outputs": [
    {
     "data": {
      "text/html": [
       "<style  type=\"text/css\" >\n",
       "    #T_8ff59c6a_a2bd_11e9_a2a2_97837e1f963crow0_col0 {\n",
       "            background-color:  #00ff80;\n",
       "            color:  #000000;\n",
       "        }    #T_8ff59c6a_a2bd_11e9_a2a2_97837e1f963crow0_col1 {\n",
       "            background-color:  #00ce98;\n",
       "            color:  #000000;\n",
       "        }    #T_8ff59c6a_a2bd_11e9_a2a2_97837e1f963crow0_col2 {\n",
       "            background-color:  #00f485;\n",
       "            color:  #000000;\n",
       "        }    #T_8ff59c6a_a2bd_11e9_a2a2_97837e1f963crow1_col0 {\n",
       "            background-color:  #00f684;\n",
       "            color:  #000000;\n",
       "        }    #T_8ff59c6a_a2bd_11e9_a2a2_97837e1f963crow1_col1 {\n",
       "            background-color:  #00ff80;\n",
       "            color:  #000000;\n",
       "        }    #T_8ff59c6a_a2bd_11e9_a2a2_97837e1f963crow1_col2 {\n",
       "            background-color:  #00ff80;\n",
       "            color:  #000000;\n",
       "        }    #T_8ff59c6a_a2bd_11e9_a2a2_97837e1f963crow2_col0 {\n",
       "            background-color:  #0060cf;\n",
       "            color:  #f1f1f1;\n",
       "        }    #T_8ff59c6a_a2bd_11e9_a2a2_97837e1f963crow2_col1 {\n",
       "            background-color:  #00df90;\n",
       "            color:  #000000;\n",
       "        }    #T_8ff59c6a_a2bd_11e9_a2a2_97837e1f963crow2_col2 {\n",
       "            background-color:  #0090b7;\n",
       "            color:  #000000;\n",
       "        }    #T_8ff59c6a_a2bd_11e9_a2a2_97837e1f963crow3_col0 {\n",
       "            background-color:  #0000ff;\n",
       "            color:  #f1f1f1;\n",
       "        }    #T_8ff59c6a_a2bd_11e9_a2a2_97837e1f963crow3_col1 {\n",
       "            background-color:  #0000ff;\n",
       "            color:  #f1f1f1;\n",
       "        }    #T_8ff59c6a_a2bd_11e9_a2a2_97837e1f963crow3_col2 {\n",
       "            background-color:  #0000ff;\n",
       "            color:  #f1f1f1;\n",
       "        }</style><table id=\"T_8ff59c6a_a2bd_11e9_a2a2_97837e1f963c\" ><thead>    <tr>        <th class=\"index_name level0\" >Survived</th>        <th class=\"col_heading level0 col0\" >0</th>        <th class=\"col_heading level0 col1\" >1</th>        <th class=\"col_heading level0 col2\" >All</th>    </tr>    <tr>        <th class=\"index_name level0\" >Pclass</th>        <th class=\"blank\" ></th>        <th class=\"blank\" ></th>        <th class=\"blank\" ></th>    </tr></thead><tbody>\n",
       "                <tr>\n",
       "                        <th id=\"T_8ff59c6a_a2bd_11e9_a2a2_97837e1f963clevel0_row0\" class=\"row_heading level0 row0\" >1</th>\n",
       "                        <td id=\"T_8ff59c6a_a2bd_11e9_a2a2_97837e1f963crow0_col0\" class=\"data row0 col0\" >0.0897868</td>\n",
       "                        <td id=\"T_8ff59c6a_a2bd_11e9_a2a2_97837e1f963crow0_col1\" class=\"data row0 col1\" >0.152637</td>\n",
       "                        <td id=\"T_8ff59c6a_a2bd_11e9_a2a2_97837e1f963crow0_col2\" class=\"data row0 col2\" >0.242424</td>\n",
       "            </tr>\n",
       "            <tr>\n",
       "                        <th id=\"T_8ff59c6a_a2bd_11e9_a2a2_97837e1f963clevel0_row1\" class=\"row_heading level0 row1\" >2</th>\n",
       "                        <td id=\"T_8ff59c6a_a2bd_11e9_a2a2_97837e1f963crow1_col0\" class=\"data row1 col0\" >0.108866</td>\n",
       "                        <td id=\"T_8ff59c6a_a2bd_11e9_a2a2_97837e1f963crow1_col1\" class=\"data row1 col1\" >0.0976431</td>\n",
       "                        <td id=\"T_8ff59c6a_a2bd_11e9_a2a2_97837e1f963crow1_col2\" class=\"data row1 col2\" >0.20651</td>\n",
       "            </tr>\n",
       "            <tr>\n",
       "                        <th id=\"T_8ff59c6a_a2bd_11e9_a2a2_97837e1f963clevel0_row2\" class=\"row_heading level0 row2\" >3</th>\n",
       "                        <td id=\"T_8ff59c6a_a2bd_11e9_a2a2_97837e1f963crow2_col0\" class=\"data row2 col0\" >0.417508</td>\n",
       "                        <td id=\"T_8ff59c6a_a2bd_11e9_a2a2_97837e1f963crow2_col1\" class=\"data row2 col1\" >0.133558</td>\n",
       "                        <td id=\"T_8ff59c6a_a2bd_11e9_a2a2_97837e1f963crow2_col2\" class=\"data row2 col2\" >0.551066</td>\n",
       "            </tr>\n",
       "            <tr>\n",
       "                        <th id=\"T_8ff59c6a_a2bd_11e9_a2a2_97837e1f963clevel0_row3\" class=\"row_heading level0 row3\" >All</th>\n",
       "                        <td id=\"T_8ff59c6a_a2bd_11e9_a2a2_97837e1f963crow3_col0\" class=\"data row3 col0\" >0.616162</td>\n",
       "                        <td id=\"T_8ff59c6a_a2bd_11e9_a2a2_97837e1f963crow3_col1\" class=\"data row3 col1\" >0.383838</td>\n",
       "                        <td id=\"T_8ff59c6a_a2bd_11e9_a2a2_97837e1f963crow3_col2\" class=\"data row3 col2\" >1</td>\n",
       "            </tr>\n",
       "    </tbody></table>"
      ],
      "text/plain": [
       "<pandas.io.formats.style.Styler at 0x7fc48382b4a8>"
      ]
     },
     "execution_count": 9,
     "metadata": {},
     "output_type": "execute_result"
    }
   ],
   "source": [
    "pd.crosstab(index=data['Pclass'], columns=data['Survived'], margins = True, normalize=True).style.background_gradient(cmap='winter_r')"
   ]
  },
  {
   "cell_type": "code",
   "execution_count": 10,
   "metadata": {
    "_cell_guid": "c3adaaa2-f675-4273-ba93-8b26c37bacf3",
    "_uuid": "592a3d8c24761c3f6e8c5cf875554826d9e308a5"
   },
   "outputs": [
    {
     "data": {
      "image/png": "[encoded data removed]",
      "text/plain": [
       "<Figure size 1296x576 with 2 Axes>"
      ]
     },
     "metadata": {
      "needs_background": "light"
     },
     "output_type": "display_data"
    }
   ],
   "source": [
    "# Set up 2 axes\n",
    "f, ax = plt.subplots(1,2,figsize=(18,8))\n",
    "\n",
    "# ax[0]\n",
    "data['Pclass'].value_counts().sort_index().plot(kind='bar', ax = ax[0])\n",
    "ax[0].set_title('Number Of Passengers By Pclass')\n",
    "ax[0].set_ylabel('Count')\n",
    "\n",
    "# ax[1]\n",
    "sns.countplot('Pclass', hue = 'Survived', data = data, ax = ax[1])\n",
    "ax[1].set_title('Pclass:Survived vs Dead')\n",
    "\n",
    "plt.show()"
   ]
  },
  {
   "cell_type": "markdown",
   "metadata": {},
   "source": [
    "## Ponder w/ Neighbor"
   ]
  },
  {
   "cell_type": "markdown",
   "metadata": {},
   "source": [
    "What things do you notice? Write your observations here!\n",
    "\n",
    "\n"
   ]
  },
  {
   "cell_type": "markdown",
   "metadata": {},
   "source": [
    "<br>\n",
    "<hr>\n",
    "<br>"
   ]
  },
  {
   "cell_type": "markdown",
   "metadata": {},
   "source": [
    "## `data['Pclass']` & `data['Gender']`"
   ]
  },
  {
   "cell_type": "markdown",
   "metadata": {},
   "source": [
    "<h3 style=\"color:red\"> Exercise 1: </h3>"
   ]
  },
  {
   "cell_type": "markdown",
   "metadata": {},
   "source": [
    "1. Create a multi-index `pd.crosstab()` that compares both `Gender` and `Survived` against `Pclass`\n",
    "2. Make sure to pass in `True` for the `margins` parameter\n",
    "3. For styles, add .styles.background_gradient(cmap='') to the end of your code.\n",
    "\n",
    "4. **Possible cmap Values:** when you leave the cmap string blank aka '', python will spit back a list of all possible values! "
   ]
  },
  {
   "cell_type": "code",
   "execution_count": 11,
   "metadata": {
    "_cell_guid": "7d413d16-2861-4aca-9042-38e374eddef3",
    "_uuid": "1308ec5a68849984dfd1e05b53c52b6192363a18"
   },
   "outputs": [
    {
     "data": {
      "text/html": [
       "<style  type=\"text/css\" >\n",
       "    #T_9046e4d0_a2bd_11e9_a2a2_97837e1f963crow0_col0 {\n",
       "            background-color:  #00ff80;\n",
       "            color:  #000000;\n",
       "        }    #T_9046e4d0_a2bd_11e9_a2a2_97837e1f963crow0_col1 {\n",
       "            background-color:  #00c59c;\n",
       "            color:  #000000;\n",
       "        }    #T_9046e4d0_a2bd_11e9_a2a2_97837e1f963crow0_col2 {\n",
       "            background-color:  #00fa82;\n",
       "            color:  #000000;\n",
       "        }    #T_9046e4d0_a2bd_11e9_a2a2_97837e1f963crow1_col0 {\n",
       "            background-color:  #00fe80;\n",
       "            color:  #000000;\n",
       "        }    #T_9046e4d0_a2bd_11e9_a2a2_97837e1f963crow1_col1 {\n",
       "            background-color:  #00d694;\n",
       "            color:  #000000;\n",
       "        }    #T_9046e4d0_a2bd_11e9_a2a2_97837e1f963crow1_col2 {\n",
       "            background-color:  #00ff80;\n",
       "            color:  #000000;\n",
       "        }    #T_9046e4d0_a2bd_11e9_a2a2_97837e1f963crow2_col0 {\n",
       "            background-color:  #00df90;\n",
       "            color:  #000000;\n",
       "        }    #T_9046e4d0_a2bd_11e9_a2a2_97837e1f963crow2_col1 {\n",
       "            background-color:  #00d495;\n",
       "            color:  #000000;\n",
       "        }    #T_9046e4d0_a2bd_11e9_a2a2_97837e1f963crow2_col2 {\n",
       "            background-color:  #00ea8a;\n",
       "            color:  #000000;\n",
       "        }    #T_9046e4d0_a2bd_11e9_a2a2_97837e1f963crow3_col0 {\n",
       "            background-color:  #00dd90;\n",
       "            color:  #000000;\n",
       "        }    #T_9046e4d0_a2bd_11e9_a2a2_97837e1f963crow3_col1 {\n",
       "            background-color:  #00e98a;\n",
       "            color:  #000000;\n",
       "        }    #T_9046e4d0_a2bd_11e9_a2a2_97837e1f963crow3_col2 {\n",
       "            background-color:  #00f186;\n",
       "            color:  #000000;\n",
       "        }    #T_9046e4d0_a2bd_11e9_a2a2_97837e1f963crow4_col0 {\n",
       "            background-color:  #00d694;\n",
       "            color:  #000000;\n",
       "        }    #T_9046e4d0_a2bd_11e9_a2a2_97837e1f963crow4_col1 {\n",
       "            background-color:  #00ff80;\n",
       "            color:  #000000;\n",
       "        }    #T_9046e4d0_a2bd_11e9_a2a2_97837e1f963crow4_col2 {\n",
       "            background-color:  #00f584;\n",
       "            color:  #000000;\n",
       "        }    #T_9046e4d0_a2bd_11e9_a2a2_97837e1f963crow5_col0 {\n",
       "            background-color:  #0074c5;\n",
       "            color:  #f1f1f1;\n",
       "        }    #T_9046e4d0_a2bd_11e9_a2a2_97837e1f963crow5_col1 {\n",
       "            background-color:  #00e88b;\n",
       "            color:  #000000;\n",
       "        }    #T_9046e4d0_a2bd_11e9_a2a2_97837e1f963crow5_col2 {\n",
       "            background-color:  #00aaaa;\n",
       "            color:  #000000;\n",
       "        }    #T_9046e4d0_a2bd_11e9_a2a2_97837e1f963crow6_col0 {\n",
       "            background-color:  #0000ff;\n",
       "            color:  #f1f1f1;\n",
       "        }    #T_9046e4d0_a2bd_11e9_a2a2_97837e1f963crow6_col1 {\n",
       "            background-color:  #0000ff;\n",
       "            color:  #f1f1f1;\n",
       "        }    #T_9046e4d0_a2bd_11e9_a2a2_97837e1f963crow6_col2 {\n",
       "            background-color:  #0000ff;\n",
       "            color:  #f1f1f1;\n",
       "        }</style><table id=\"T_9046e4d0_a2bd_11e9_a2a2_97837e1f963c\" ><thead>    <tr>        <th class=\"blank\" ></th>        <th class=\"index_name level0\" >Survived</th>        <th class=\"col_heading level0 col0\" >0</th>        <th class=\"col_heading level0 col1\" >1</th>        <th class=\"col_heading level0 col2\" >All</th>    </tr>    <tr>        <th class=\"index_name level0\" >Gender</th>        <th class=\"index_name level1\" >Pclass</th>        <th class=\"blank\" ></th>        <th class=\"blank\" ></th>        <th class=\"blank\" ></th>    </tr></thead><tbody>\n",
       "                <tr>\n",
       "                        <th id=\"T_9046e4d0_a2bd_11e9_a2a2_97837e1f963clevel0_row0\" class=\"row_heading level0 row0\" rowspan=3>female</th>\n",
       "                        <th id=\"T_9046e4d0_a2bd_11e9_a2a2_97837e1f963clevel1_row0\" class=\"row_heading level1 row0\" >1</th>\n",
       "                        <td id=\"T_9046e4d0_a2bd_11e9_a2a2_97837e1f963crow0_col0\" class=\"data row0 col0\" >3</td>\n",
       "                        <td id=\"T_9046e4d0_a2bd_11e9_a2a2_97837e1f963crow0_col1\" class=\"data row0 col1\" >91</td>\n",
       "                        <td id=\"T_9046e4d0_a2bd_11e9_a2a2_97837e1f963crow0_col2\" class=\"data row0 col2\" >94</td>\n",
       "            </tr>\n",
       "            <tr>\n",
       "                                <th id=\"T_9046e4d0_a2bd_11e9_a2a2_97837e1f963clevel1_row1\" class=\"row_heading level1 row1\" >2</th>\n",
       "                        <td id=\"T_9046e4d0_a2bd_11e9_a2a2_97837e1f963crow1_col0\" class=\"data row1 col0\" >6</td>\n",
       "                        <td id=\"T_9046e4d0_a2bd_11e9_a2a2_97837e1f963crow1_col1\" class=\"data row1 col1\" >70</td>\n",
       "                        <td id=\"T_9046e4d0_a2bd_11e9_a2a2_97837e1f963crow1_col2\" class=\"data row1 col2\" >76</td>\n",
       "            </tr>\n",
       "            <tr>\n",
       "                                <th id=\"T_9046e4d0_a2bd_11e9_a2a2_97837e1f963clevel1_row2\" class=\"row_heading level1 row2\" >3</th>\n",
       "                        <td id=\"T_9046e4d0_a2bd_11e9_a2a2_97837e1f963crow2_col0\" class=\"data row2 col0\" >72</td>\n",
       "                        <td id=\"T_9046e4d0_a2bd_11e9_a2a2_97837e1f963crow2_col1\" class=\"data row2 col1\" >72</td>\n",
       "                        <td id=\"T_9046e4d0_a2bd_11e9_a2a2_97837e1f963crow2_col2\" class=\"data row2 col2\" >144</td>\n",
       "            </tr>\n",
       "            <tr>\n",
       "                        <th id=\"T_9046e4d0_a2bd_11e9_a2a2_97837e1f963clevel0_row3\" class=\"row_heading level0 row3\" rowspan=3>male</th>\n",
       "                        <th id=\"T_9046e4d0_a2bd_11e9_a2a2_97837e1f963clevel1_row3\" class=\"row_heading level1 row3\" >1</th>\n",
       "                        <td id=\"T_9046e4d0_a2bd_11e9_a2a2_97837e1f963crow3_col0\" class=\"data row3 col0\" >77</td>\n",
       "                        <td id=\"T_9046e4d0_a2bd_11e9_a2a2_97837e1f963crow3_col1\" class=\"data row3 col1\" >45</td>\n",
       "                        <td id=\"T_9046e4d0_a2bd_11e9_a2a2_97837e1f963crow3_col2\" class=\"data row3 col2\" >122</td>\n",
       "            </tr>\n",
       "            <tr>\n",
       "                                <th id=\"T_9046e4d0_a2bd_11e9_a2a2_97837e1f963clevel1_row4\" class=\"row_heading level1 row4\" >2</th>\n",
       "                        <td id=\"T_9046e4d0_a2bd_11e9_a2a2_97837e1f963crow4_col0\" class=\"data row4 col0\" >91</td>\n",
       "                        <td id=\"T_9046e4d0_a2bd_11e9_a2a2_97837e1f963crow4_col1\" class=\"data row4 col1\" >17</td>\n",
       "                        <td id=\"T_9046e4d0_a2bd_11e9_a2a2_97837e1f963crow4_col2\" class=\"data row4 col2\" >108</td>\n",
       "            </tr>\n",
       "            <tr>\n",
       "                                <th id=\"T_9046e4d0_a2bd_11e9_a2a2_97837e1f963clevel1_row5\" class=\"row_heading level1 row5\" >3</th>\n",
       "                        <td id=\"T_9046e4d0_a2bd_11e9_a2a2_97837e1f963crow5_col0\" class=\"data row5 col0\" >300</td>\n",
       "                        <td id=\"T_9046e4d0_a2bd_11e9_a2a2_97837e1f963crow5_col1\" class=\"data row5 col1\" >47</td>\n",
       "                        <td id=\"T_9046e4d0_a2bd_11e9_a2a2_97837e1f963crow5_col2\" class=\"data row5 col2\" >347</td>\n",
       "            </tr>\n",
       "            <tr>\n",
       "                        <th id=\"T_9046e4d0_a2bd_11e9_a2a2_97837e1f963clevel0_row6\" class=\"row_heading level0 row6\" >All</th>\n",
       "                        <th id=\"T_9046e4d0_a2bd_11e9_a2a2_97837e1f963clevel1_row6\" class=\"row_heading level1 row6\" ></th>\n",
       "                        <td id=\"T_9046e4d0_a2bd_11e9_a2a2_97837e1f963crow6_col0\" class=\"data row6 col0\" >549</td>\n",
       "                        <td id=\"T_9046e4d0_a2bd_11e9_a2a2_97837e1f963crow6_col1\" class=\"data row6 col1\" >342</td>\n",
       "                        <td id=\"T_9046e4d0_a2bd_11e9_a2a2_97837e1f963crow6_col2\" class=\"data row6 col2\" >891</td>\n",
       "            </tr>\n",
       "    </tbody></table>"
      ],
      "text/plain": [
       "<pandas.io.formats.style.Styler at 0x7fc4837cc278>"
      ]
     },
     "execution_count": 11,
     "metadata": {},
     "output_type": "execute_result"
    }
   ],
   "source": [
    "pd.crosstab(index=[data['Gender'],data['Pclass']],  columns= data['Survived'], margins = True).style.background_gradient(cmap='winter_r')"
   ]
  },
  {
   "cell_type": "markdown",
   "metadata": {},
   "source": [
    "<br>\n",
    "<br>"
   ]
  },
  {
   "cell_type": "markdown",
   "metadata": {},
   "source": [
    "### Pointplots!\n",
    "We must use `pd.catplot()` and pass `'point'` to the `kind` parameter."
   ]
  },
  {
   "cell_type": "markdown",
   "metadata": {},
   "source": [
    "Great for finding the average rate for some binary variable, in this case `survived`\n",
    "\n",
    "1. You can add dimensions to this!\n",
    "2. We can divide these approximations into the 3 `Pclass` classes along the x axis\n",
    "3. Then, we can add the hue parameter to then further divide these groups by `Gender`"
   ]
  },
  {
   "cell_type": "code",
   "execution_count": 12,
   "metadata": {
    "_cell_guid": "1fd41001-f153-4a78-806b-72b16a34f88f",
    "_uuid": "710111beaace27f0e85958a0639f2b2175b0892c"
   },
   "outputs": [
    {
     "data": {
      "image/png": "[encoded data removed]",
      "text/plain": [
       "<Figure size 430.5x360 with 1 Axes>"
      ]
     },
     "metadata": {
      "needs_background": "light"
     },
     "output_type": "display_data"
    }
   ],
   "source": [
    "sns.catplot(x= 'Pclass', y= 'Survived', hue= 'Gender', data= data, kind=\"point\")\n",
    "plt.show()"
   ]
  },
  {
   "cell_type": "markdown",
   "metadata": {},
   "source": [
    "## Ponder w/ Neighbor"
   ]
  },
  {
   "cell_type": "markdown",
   "metadata": {},
   "source": [
    "What things do you notice? Write your observations here!"
   ]
  },
  {
   "cell_type": "markdown",
   "metadata": {},
   "source": [
    "<br>\n",
    "<hr>\n",
    "<br>"
   ]
  },
  {
   "cell_type": "markdown",
   "metadata": {
    "_cell_guid": "b9a8739f-9bfa-48a0-8b55-85694f8c7b36",
    "_uuid": "da1710d88cdb726d4c74d1580eb4650823f8e1a9"
   },
   "source": [
    "## ```data['Age']``` --> Continous Feature\n"
   ]
  },
  {
   "cell_type": "code",
   "execution_count": 13,
   "metadata": {
    "_cell_guid": "d8c1dc5a-2f74-4c88-9101-6c98abaf9878",
    "_uuid": "58e1110e104a4628f2852fa284905525997c2c44"
   },
   "outputs": [
    {
     "name": "stdout",
     "output_type": "stream",
     "text": [
      "Oldest Passenger was 80.0 years old.\n",
      "Youngest Passenger was 0.42 years old\n",
      "\n",
      "Average Age on the ship was of: 30 years.\n"
     ]
    }
   ],
   "source": [
    "print('Oldest Passenger was',data['Age'].max(),'years old.')\n",
    "print('Youngest Passenger was',data['Age'].min(),'years old')\n",
    "print()\n",
    "print('Average Age on the ship was of:', round(data['Age'].mean()),'years.')"
   ]
  },
  {
   "cell_type": "code",
   "execution_count": 14,
   "metadata": {
    "_cell_guid": "cf3e9729-799e-4142-84ff-0dbb6906136e",
    "_uuid": "a43082dc51717bbcc0a036db2d78b7732eb41ef1"
   },
   "outputs": [
    {
     "data": {
      "image/png": "[encoded data removed]",
      "text/plain": [
       "<Figure size 1296x576 with 2 Axes>"
      ]
     },
     "metadata": {
      "needs_background": "light"
     },
     "output_type": "display_data"
    }
   ],
   "source": [
    "# Make 2 axes\n",
    "f, ax = plt.subplots(1, 2, figsize = (18,8))\n",
    "\n",
    "# ax[0] - pclass and age vs survived\n",
    "sns.violinplot(\"Pclass\", \"Age\", hue = \"Survived\", data = data, split = True, ax = ax[0])\n",
    "ax[0].set_title('Pclass and Age vs Survived')\n",
    "ax[0].set_yticks(range(0, 110, 10))\n",
    "\n",
    "# ax[1] - gender and age vs survived\n",
    "sns.violinplot(\"Gender\", \"Age\", hue = \"Survived\", data = data, split = True, ax = ax[1])\n",
    "ax[1].set_title('Gender and Age vs Survived')\n",
    "ax[1].set_yticks(range(0, 110, 10))\n",
    "\n",
    "plt.show()"
   ]
  },
  {
   "cell_type": "markdown",
   "metadata": {},
   "source": [
    "## Ponder w/ Neighbor"
   ]
  },
  {
   "cell_type": "markdown",
   "metadata": {},
   "source": [
    "What things do you notice? Write your observations here!"
   ]
  },
  {
   "cell_type": "markdown",
   "metadata": {},
   "source": [
    "<br>\n",
    "<hr>\n",
    "<br>"
   ]
  },
  {
   "cell_type": "markdown",
   "metadata": {
    "_cell_guid": "23be39a5-be98-422b-8116-90cb0fd120ba",
    "_uuid": "d347a55f54b1ee15ce39ad0e22d873a2c32fc736"
   },
   "source": [
    "### What's In A Name? ...mild Feature Engineering"
   ]
  },
  {
   "cell_type": "markdown",
   "metadata": {},
   "source": [
    "### `data['Title']`"
   ]
  },
  {
   "cell_type": "code",
   "execution_count": 15,
   "metadata": {},
   "outputs": [
    {
     "data": {
      "text/plain": [
       "886                       Montvila, Rev. Juozas\n",
       "887                Graham, Miss. Margaret Edith\n",
       "888    Johnston, Miss. Catherine Helen \"Carrie\"\n",
       "889                       Behr, Mr. Karl Howell\n",
       "890                         Dooley, Mr. Patrick\n",
       "Name: Name, dtype: object"
      ]
     },
     "execution_count": 15,
     "metadata": {},
     "output_type": "execute_result"
    }
   ],
   "source": [
    "data['Name'].tail()"
   ]
  },
  {
   "cell_type": "code",
   "execution_count": 16,
   "metadata": {},
   "outputs": [],
   "source": [
    "data['Title'] = data['Name'].str.extract('([A-Za-z]+)\\.')"
   ]
  },
  {
   "cell_type": "markdown",
   "metadata": {
    "_cell_guid": "8efd06d8-dee6-4892-a986-25944cf2bf61",
    "_uuid": "413c7cdc7469c86bd9d13fd54c731ecb58704197"
   },
   "source": [
    "Okay so here we are using the Regex: **[A-Za-z]+)\\.**. So what it does is, it looks for strings which lie between **A-Z or a-z** and followed by a **.(dot)**. So we successfully extract the Title from the Name."
   ]
  },
  {
   "cell_type": "markdown",
   "metadata": {},
   "source": [
    "<h3 style=\"color:red\"> Exercise 2: </h3>"
   ]
  },
  {
   "cell_type": "markdown",
   "metadata": {},
   "source": [
    "1. Create a single-index `pd.crosstab()` that compares the new `Title` variable against `Gender`\n",
    "2. No need for the `margins` Parameter for this one!\n",
    "3. For styles, add .styles.background_gradient(cmap='') to the end of your code.\n",
    "4. Notice anything interesting?"
   ]
  },
  {
   "cell_type": "code",
   "execution_count": 17,
   "metadata": {},
   "outputs": [
    {
     "data": {
      "text/html": [
       "<style  type=\"text/css\" >\n",
       "    #T_90e25b04_a2bd_11e9_a2a2_97837e1f963crow0_col0 {\n",
       "            background-color:  #00ff80;\n",
       "            color:  #000000;\n",
       "        }    #T_90e25b04_a2bd_11e9_a2a2_97837e1f963crow0_col1 {\n",
       "            background-color:  #00ff80;\n",
       "            color:  #000000;\n",
       "        }    #T_90e25b04_a2bd_11e9_a2a2_97837e1f963crow0_col2 {\n",
       "            background-color:  #0000ff;\n",
       "            color:  #f1f1f1;\n",
       "        }    #T_90e25b04_a2bd_11e9_a2a2_97837e1f963crow0_col3 {\n",
       "            background-color:  #00ff80;\n",
       "            color:  #000000;\n",
       "        }    #T_90e25b04_a2bd_11e9_a2a2_97837e1f963crow0_col4 {\n",
       "            background-color:  #00ff80;\n",
       "            color:  #000000;\n",
       "        }    #T_90e25b04_a2bd_11e9_a2a2_97837e1f963crow0_col5 {\n",
       "            background-color:  #00ff80;\n",
       "            color:  #000000;\n",
       "        }    #T_90e25b04_a2bd_11e9_a2a2_97837e1f963crow0_col6 {\n",
       "            background-color:  #0000ff;\n",
       "            color:  #f1f1f1;\n",
       "        }    #T_90e25b04_a2bd_11e9_a2a2_97837e1f963crow0_col7 {\n",
       "            background-color:  #00ff80;\n",
       "            color:  #000000;\n",
       "        }    #T_90e25b04_a2bd_11e9_a2a2_97837e1f963crow0_col8 {\n",
       "            background-color:  #00ff80;\n",
       "            color:  #000000;\n",
       "        }    #T_90e25b04_a2bd_11e9_a2a2_97837e1f963crow0_col9 {\n",
       "            background-color:  #0000ff;\n",
       "            color:  #f1f1f1;\n",
       "        }    #T_90e25b04_a2bd_11e9_a2a2_97837e1f963crow0_col10 {\n",
       "            background-color:  #0000ff;\n",
       "            color:  #f1f1f1;\n",
       "        }    #T_90e25b04_a2bd_11e9_a2a2_97837e1f963crow0_col11 {\n",
       "            background-color:  #0000ff;\n",
       "            color:  #f1f1f1;\n",
       "        }    #T_90e25b04_a2bd_11e9_a2a2_97837e1f963crow0_col12 {\n",
       "            background-color:  #00ff80;\n",
       "            color:  #000000;\n",
       "        }    #T_90e25b04_a2bd_11e9_a2a2_97837e1f963crow0_col13 {\n",
       "            background-color:  #0000ff;\n",
       "            color:  #f1f1f1;\n",
       "        }    #T_90e25b04_a2bd_11e9_a2a2_97837e1f963crow0_col14 {\n",
       "            background-color:  #0000ff;\n",
       "            color:  #f1f1f1;\n",
       "        }    #T_90e25b04_a2bd_11e9_a2a2_97837e1f963crow0_col15 {\n",
       "            background-color:  #00ff80;\n",
       "            color:  #000000;\n",
       "        }    #T_90e25b04_a2bd_11e9_a2a2_97837e1f963crow0_col16 {\n",
       "            background-color:  #00ff80;\n",
       "            color:  #000000;\n",
       "        }    #T_90e25b04_a2bd_11e9_a2a2_97837e1f963crow1_col0 {\n",
       "            background-color:  #0000ff;\n",
       "            color:  #f1f1f1;\n",
       "        }    #T_90e25b04_a2bd_11e9_a2a2_97837e1f963crow1_col1 {\n",
       "            background-color:  #0000ff;\n",
       "            color:  #f1f1f1;\n",
       "        }    #T_90e25b04_a2bd_11e9_a2a2_97837e1f963crow1_col2 {\n",
       "            background-color:  #00ff80;\n",
       "            color:  #000000;\n",
       "        }    #T_90e25b04_a2bd_11e9_a2a2_97837e1f963crow1_col3 {\n",
       "            background-color:  #0000ff;\n",
       "            color:  #f1f1f1;\n",
       "        }    #T_90e25b04_a2bd_11e9_a2a2_97837e1f963crow1_col4 {\n",
       "            background-color:  #0000ff;\n",
       "            color:  #f1f1f1;\n",
       "        }    #T_90e25b04_a2bd_11e9_a2a2_97837e1f963crow1_col5 {\n",
       "            background-color:  #0000ff;\n",
       "            color:  #f1f1f1;\n",
       "        }    #T_90e25b04_a2bd_11e9_a2a2_97837e1f963crow1_col6 {\n",
       "            background-color:  #00ff80;\n",
       "            color:  #000000;\n",
       "        }    #T_90e25b04_a2bd_11e9_a2a2_97837e1f963crow1_col7 {\n",
       "            background-color:  #0000ff;\n",
       "            color:  #f1f1f1;\n",
       "        }    #T_90e25b04_a2bd_11e9_a2a2_97837e1f963crow1_col8 {\n",
       "            background-color:  #0000ff;\n",
       "            color:  #f1f1f1;\n",
       "        }    #T_90e25b04_a2bd_11e9_a2a2_97837e1f963crow1_col9 {\n",
       "            background-color:  #00ff80;\n",
       "            color:  #000000;\n",
       "        }    #T_90e25b04_a2bd_11e9_a2a2_97837e1f963crow1_col10 {\n",
       "            background-color:  #00ff80;\n",
       "            color:  #000000;\n",
       "        }    #T_90e25b04_a2bd_11e9_a2a2_97837e1f963crow1_col11 {\n",
       "            background-color:  #00ff80;\n",
       "            color:  #000000;\n",
       "        }    #T_90e25b04_a2bd_11e9_a2a2_97837e1f963crow1_col12 {\n",
       "            background-color:  #0000ff;\n",
       "            color:  #f1f1f1;\n",
       "        }    #T_90e25b04_a2bd_11e9_a2a2_97837e1f963crow1_col13 {\n",
       "            background-color:  #00ff80;\n",
       "            color:  #000000;\n",
       "        }    #T_90e25b04_a2bd_11e9_a2a2_97837e1f963crow1_col14 {\n",
       "            background-color:  #00ff80;\n",
       "            color:  #000000;\n",
       "        }    #T_90e25b04_a2bd_11e9_a2a2_97837e1f963crow1_col15 {\n",
       "            background-color:  #0000ff;\n",
       "            color:  #f1f1f1;\n",
       "        }    #T_90e25b04_a2bd_11e9_a2a2_97837e1f963crow1_col16 {\n",
       "            background-color:  #0000ff;\n",
       "            color:  #f1f1f1;\n",
       "        }</style><table id=\"T_90e25b04_a2bd_11e9_a2a2_97837e1f963c\" ><thead>    <tr>        <th class=\"index_name level0\" >Title</th>        <th class=\"col_heading level0 col0\" >Capt</th>        <th class=\"col_heading level0 col1\" >Col</th>        <th class=\"col_heading level0 col2\" >Countess</th>        <th class=\"col_heading level0 col3\" >Don</th>        <th class=\"col_heading level0 col4\" >Dr</th>        <th class=\"col_heading level0 col5\" >Jonkheer</th>        <th class=\"col_heading level0 col6\" >Lady</th>        <th class=\"col_heading level0 col7\" >Major</th>        <th class=\"col_heading level0 col8\" >Master</th>        <th class=\"col_heading level0 col9\" >Miss</th>        <th class=\"col_heading level0 col10\" >Mlle</th>        <th class=\"col_heading level0 col11\" >Mme</th>        <th class=\"col_heading level0 col12\" >Mr</th>        <th class=\"col_heading level0 col13\" >Mrs</th>        <th class=\"col_heading level0 col14\" >Ms</th>        <th class=\"col_heading level0 col15\" >Rev</th>        <th class=\"col_heading level0 col16\" >Sir</th>    </tr>    <tr>        <th class=\"index_name level0\" >Gender</th>        <th class=\"blank\" ></th>        <th class=\"blank\" ></th>        <th class=\"blank\" ></th>        <th class=\"blank\" ></th>        <th class=\"blank\" ></th>        <th class=\"blank\" ></th>        <th class=\"blank\" ></th>        <th class=\"blank\" ></th>        <th class=\"blank\" ></th>        <th class=\"blank\" ></th>        <th class=\"blank\" ></th>        <th class=\"blank\" ></th>        <th class=\"blank\" ></th>        <th class=\"blank\" ></th>        <th class=\"blank\" ></th>        <th class=\"blank\" ></th>        <th class=\"blank\" ></th>    </tr></thead><tbody>\n",
       "                <tr>\n",
       "                        <th id=\"T_90e25b04_a2bd_11e9_a2a2_97837e1f963clevel0_row0\" class=\"row_heading level0 row0\" >female</th>\n",
       "                        <td id=\"T_90e25b04_a2bd_11e9_a2a2_97837e1f963crow0_col0\" class=\"data row0 col0\" >0</td>\n",
       "                        <td id=\"T_90e25b04_a2bd_11e9_a2a2_97837e1f963crow0_col1\" class=\"data row0 col1\" >0</td>\n",
       "                        <td id=\"T_90e25b04_a2bd_11e9_a2a2_97837e1f963crow0_col2\" class=\"data row0 col2\" >1</td>\n",
       "                        <td id=\"T_90e25b04_a2bd_11e9_a2a2_97837e1f963crow0_col3\" class=\"data row0 col3\" >0</td>\n",
       "                        <td id=\"T_90e25b04_a2bd_11e9_a2a2_97837e1f963crow0_col4\" class=\"data row0 col4\" >1</td>\n",
       "                        <td id=\"T_90e25b04_a2bd_11e9_a2a2_97837e1f963crow0_col5\" class=\"data row0 col5\" >0</td>\n",
       "                        <td id=\"T_90e25b04_a2bd_11e9_a2a2_97837e1f963crow0_col6\" class=\"data row0 col6\" >1</td>\n",
       "                        <td id=\"T_90e25b04_a2bd_11e9_a2a2_97837e1f963crow0_col7\" class=\"data row0 col7\" >0</td>\n",
       "                        <td id=\"T_90e25b04_a2bd_11e9_a2a2_97837e1f963crow0_col8\" class=\"data row0 col8\" >0</td>\n",
       "                        <td id=\"T_90e25b04_a2bd_11e9_a2a2_97837e1f963crow0_col9\" class=\"data row0 col9\" >182</td>\n",
       "                        <td id=\"T_90e25b04_a2bd_11e9_a2a2_97837e1f963crow0_col10\" class=\"data row0 col10\" >2</td>\n",
       "                        <td id=\"T_90e25b04_a2bd_11e9_a2a2_97837e1f963crow0_col11\" class=\"data row0 col11\" >1</td>\n",
       "                        <td id=\"T_90e25b04_a2bd_11e9_a2a2_97837e1f963crow0_col12\" class=\"data row0 col12\" >0</td>\n",
       "                        <td id=\"T_90e25b04_a2bd_11e9_a2a2_97837e1f963crow0_col13\" class=\"data row0 col13\" >125</td>\n",
       "                        <td id=\"T_90e25b04_a2bd_11e9_a2a2_97837e1f963crow0_col14\" class=\"data row0 col14\" >1</td>\n",
       "                        <td id=\"T_90e25b04_a2bd_11e9_a2a2_97837e1f963crow0_col15\" class=\"data row0 col15\" >0</td>\n",
       "                        <td id=\"T_90e25b04_a2bd_11e9_a2a2_97837e1f963crow0_col16\" class=\"data row0 col16\" >0</td>\n",
       "            </tr>\n",
       "            <tr>\n",
       "                        <th id=\"T_90e25b04_a2bd_11e9_a2a2_97837e1f963clevel0_row1\" class=\"row_heading level0 row1\" >male</th>\n",
       "                        <td id=\"T_90e25b04_a2bd_11e9_a2a2_97837e1f963crow1_col0\" class=\"data row1 col0\" >1</td>\n",
       "                        <td id=\"T_90e25b04_a2bd_11e9_a2a2_97837e1f963crow1_col1\" class=\"data row1 col1\" >2</td>\n",
       "                        <td id=\"T_90e25b04_a2bd_11e9_a2a2_97837e1f963crow1_col2\" class=\"data row1 col2\" >0</td>\n",
       "                        <td id=\"T_90e25b04_a2bd_11e9_a2a2_97837e1f963crow1_col3\" class=\"data row1 col3\" >1</td>\n",
       "                        <td id=\"T_90e25b04_a2bd_11e9_a2a2_97837e1f963crow1_col4\" class=\"data row1 col4\" >6</td>\n",
       "                        <td id=\"T_90e25b04_a2bd_11e9_a2a2_97837e1f963crow1_col5\" class=\"data row1 col5\" >1</td>\n",
       "                        <td id=\"T_90e25b04_a2bd_11e9_a2a2_97837e1f963crow1_col6\" class=\"data row1 col6\" >0</td>\n",
       "                        <td id=\"T_90e25b04_a2bd_11e9_a2a2_97837e1f963crow1_col7\" class=\"data row1 col7\" >2</td>\n",
       "                        <td id=\"T_90e25b04_a2bd_11e9_a2a2_97837e1f963crow1_col8\" class=\"data row1 col8\" >40</td>\n",
       "                        <td id=\"T_90e25b04_a2bd_11e9_a2a2_97837e1f963crow1_col9\" class=\"data row1 col9\" >0</td>\n",
       "                        <td id=\"T_90e25b04_a2bd_11e9_a2a2_97837e1f963crow1_col10\" class=\"data row1 col10\" >0</td>\n",
       "                        <td id=\"T_90e25b04_a2bd_11e9_a2a2_97837e1f963crow1_col11\" class=\"data row1 col11\" >0</td>\n",
       "                        <td id=\"T_90e25b04_a2bd_11e9_a2a2_97837e1f963crow1_col12\" class=\"data row1 col12\" >517</td>\n",
       "                        <td id=\"T_90e25b04_a2bd_11e9_a2a2_97837e1f963crow1_col13\" class=\"data row1 col13\" >0</td>\n",
       "                        <td id=\"T_90e25b04_a2bd_11e9_a2a2_97837e1f963crow1_col14\" class=\"data row1 col14\" >0</td>\n",
       "                        <td id=\"T_90e25b04_a2bd_11e9_a2a2_97837e1f963crow1_col15\" class=\"data row1 col15\" >6</td>\n",
       "                        <td id=\"T_90e25b04_a2bd_11e9_a2a2_97837e1f963crow1_col16\" class=\"data row1 col16\" >1</td>\n",
       "            </tr>\n",
       "    </tbody></table>"
      ],
      "text/plain": [
       "<pandas.io.formats.style.Styler at 0x7fc48062e710>"
      ]
     },
     "execution_count": 17,
     "metadata": {},
     "output_type": "execute_result"
    }
   ],
   "source": [
    "pd.crosstab(index=data['Title'],  columns= data['Gender']).T.style.background_gradient(cmap='winter_r')"
   ]
  },
  {
   "cell_type": "markdown",
   "metadata": {
    "_cell_guid": "1d7d94e4-240e-4cfc-ba21-d036b3bd7869",
    "_uuid": "f0514c0b00c34f72bd77eb597a4e08a1c9edf982"
   },
   "source": [
    "Okay so there are some misspelled Titles like Mlle or Mme that stand for Miss. I will replace them with Miss and same thing for other values."
   ]
  },
  {
   "cell_type": "markdown",
   "metadata": {},
   "source": [
    "#### Can we get away with changing the Female `'Dr.'` into a `'Mrs.'`?"
   ]
  },
  {
   "cell_type": "code",
   "execution_count": 18,
   "metadata": {},
   "outputs": [
    {
     "data": {
      "text/html": [
       "<div>\n",
       "<style scoped>\n",
       "    .dataframe tbody tr th:only-of-type {\n",
       "        vertical-align: middle;\n",
       "    }\n",
       "\n",
       "    .dataframe tbody tr th {\n",
       "        vertical-align: top;\n",
       "    }\n",
       "\n",
       "    .dataframe thead th {\n",
       "        text-align: right;\n",
       "    }\n",
       "</style>\n",
       "<table border=\"1\" class=\"dataframe\">\n",
       "  <thead>\n",
       "    <tr style=\"text-align: right;\">\n",
       "      <th></th>\n",
       "      <th>PassengerId</th>\n",
       "      <th>Survived</th>\n",
       "      <th>Pclass</th>\n",
       "      <th>Name</th>\n",
       "      <th>Gender</th>\n",
       "      <th>Age</th>\n",
       "      <th>SibSp</th>\n",
       "      <th>ParCh</th>\n",
       "      <th>Ticket</th>\n",
       "      <th>Fare</th>\n",
       "      <th>Cabin</th>\n",
       "      <th>Embarked</th>\n",
       "      <th>Title</th>\n",
       "    </tr>\n",
       "  </thead>\n",
       "  <tbody>\n",
       "    <tr>\n",
       "      <th>796</th>\n",
       "      <td>797</td>\n",
       "      <td>1</td>\n",
       "      <td>1</td>\n",
       "      <td>Leader, Dr. Alice (Farnham)</td>\n",
       "      <td>female</td>\n",
       "      <td>49.0</td>\n",
       "      <td>0</td>\n",
       "      <td>0</td>\n",
       "      <td>17465</td>\n",
       "      <td>25.9292</td>\n",
       "      <td>D17</td>\n",
       "      <td>S</td>\n",
       "      <td>Dr</td>\n",
       "    </tr>\n",
       "  </tbody>\n",
       "</table>\n",
       "</div>"
      ],
      "text/plain": [
       "     PassengerId  Survived  Pclass                         Name  Gender   Age  \\\n",
       "796          797         1       1  Leader, Dr. Alice (Farnham)  female  49.0   \n",
       "\n",
       "     SibSp  ParCh Ticket     Fare Cabin Embarked Title  \n",
       "796      0      0  17465  25.9292   D17        S    Dr  "
      ]
     },
     "execution_count": 18,
     "metadata": {},
     "output_type": "execute_result"
    }
   ],
   "source": [
    "data.loc[(data[\"Title\"] == \"Dr\") & (data[\"Gender\"] == \"female\")]"
   ]
  },
  {
   "cell_type": "markdown",
   "metadata": {},
   "source": [
    "#### Change the female `'Dr'` into a `'Mrs'`"
   ]
  },
  {
   "cell_type": "code",
   "execution_count": 19,
   "metadata": {},
   "outputs": [],
   "source": [
    "data.loc[(data[\"Title\"] == \"Dr\") & (data[\"Gender\"] == \"female\"), \"Title\"] = \"Mrs\""
   ]
  },
  {
   "cell_type": "markdown",
   "metadata": {},
   "source": [
    "#### `data['Title']` is WAY too Sparse, let's fix it."
   ]
  },
  {
   "cell_type": "markdown",
   "metadata": {},
   "source": [
    "We'll combine all Titles into 1 of 5 generic titles:\n",
    "1. Miss (Madammes, Madmouselle's, etc)\n",
    "2. Mrs (Ladies, Donas, etc)\n",
    "3. Mr (Sirs, Dons, etc)\n",
    "4. Other (Reverends, Jonkheers, etc)\n",
    "5. Master (Remains untouched)"
   ]
  },
  {
   "cell_type": "code",
   "execution_count": 20,
   "metadata": {},
   "outputs": [],
   "source": [
    "data['Title'] = data['Title'].replace({'Mlle':'Miss', \n",
    "                                       'Mme':'Miss', \n",
    "                                       'Ms':'Miss', \n",
    "                                       'Countess':'Mrs',\n",
    "                                       'Lady':'Mrs',\n",
    "                                       'Dona':'Mrs',\n",
    "                                       'Capt':'Mr', \n",
    "                                       'Sir':'Mr', \n",
    "                                       'Don':'Mr',\n",
    "                                       'Dr':'Mr', \n",
    "                                       'Major':'Mr',\n",
    "                                       'Jonkheer':'Other', \n",
    "                                       'Col':'Other', \n",
    "                                       'Rev':'Other', })"
   ]
  },
  {
   "cell_type": "code",
   "execution_count": 21,
   "metadata": {},
   "outputs": [
    {
     "data": {
      "text/plain": [
       "177"
      ]
     },
     "execution_count": 21,
     "metadata": {},
     "output_type": "execute_result"
    }
   ],
   "source": [
    "data['Age'].isnull().sum()"
   ]
  },
  {
   "cell_type": "markdown",
   "metadata": {},
   "source": [
    "<br>"
   ]
  },
  {
   "cell_type": "markdown",
   "metadata": {
    "_cell_guid": "57ec5300-f0e3-46ce-a920-6c1846901b6d",
    "_uuid": "d2bbefba6442fcd47e04c90daa43f58fc001e47b"
   },
   "source": [
    "### Filling NaN Ages"
   ]
  },
  {
   "cell_type": "markdown",
   "metadata": {},
   "source": [
    "<h3 style=\"color:red\"> Exercise 3: </h3>"
   ]
  },
  {
   "cell_type": "markdown",
   "metadata": {},
   "source": [
    "#### Fill the rest of the `Title` groups with their avg age. \n",
    "avg_ages holds the series with each title and its corresponding avg age. You can finish this task manually, or if you want a bigger challenge, there is definitely a programmatic way of completing this task.\n",
    "\n",
    "1. use .loc[] to fill in the avg age for each `Title`\n",
    "2. (optional) do this task with a for loop."
   ]
  },
  {
   "cell_type": "code",
   "execution_count": 22,
   "metadata": {
    "_cell_guid": "c1d0c1dd-ac10-4360-99e1-dfea7418ad0e",
    "_uuid": "f09f5aefc80a89f0f3af69cd9fdf30afb576f456"
   },
   "outputs": [],
   "source": [
    "avg_ages = data.groupby('Title')['Age'].mean() #lets check the average age by Title"
   ]
  },
  {
   "cell_type": "code",
   "execution_count": 23,
   "metadata": {},
   "outputs": [
    {
     "data": {
      "text/plain": [
       "Title\n",
       "Master     4.574167\n",
       "Miss      21.860000\n",
       "Mr        32.699755\n",
       "Mrs       36.099099\n",
       "Other     45.888889\n",
       "Name: Age, dtype: float64"
      ]
     },
     "execution_count": 23,
     "metadata": {},
     "output_type": "execute_result"
    }
   ],
   "source": [
    "avg_ages"
   ]
  },
  {
   "cell_type": "markdown",
   "metadata": {},
   "source": [
    "<br>"
   ]
  },
  {
   "cell_type": "markdown",
   "metadata": {},
   "source": [
    "**Use this to check your work, you know you're done when the return value is** `0`"
   ]
  },
  {
   "cell_type": "code",
   "execution_count": 24,
   "metadata": {},
   "outputs": [
    {
     "data": {
      "text/plain": [
       "177"
      ]
     },
     "execution_count": 24,
     "metadata": {},
     "output_type": "execute_result"
    }
   ],
   "source": [
    "data['Age'].isnull().sum()"
   ]
  },
  {
   "cell_type": "markdown",
   "metadata": {},
   "source": [
    "#### Your work Here!\n",
    "`Master` has been done for you!"
   ]
  },
  {
   "cell_type": "code",
   "execution_count": 25,
   "metadata": {
    "_cell_guid": "f006b4b0-a8aa-432c-9bdb-040a435e77f8",
    "_uuid": "8bd3c34f7f539bc3d4720531da6405e2d0e96b46"
   },
   "outputs": [],
   "source": [
    "# Master\n",
    "data.loc[(data['Age'].isnull())&(data['Title']=='Master'),'Age'] = 5\n"
   ]
  },
  {
   "cell_type": "markdown",
   "metadata": {
    "_cell_guid": "f006b4b0-a8aa-432c-9bdb-040a435e77f8",
    "_uuid": "8bd3c34f7f539bc3d4720531da6405e2d0e96b46"
   },
   "source": [
    "#### Optional: Replace all `NaN`s in `Age` column, for remaining `titles` with a `loop`"
   ]
  },
  {
   "cell_type": "code",
   "execution_count": 26,
   "metadata": {},
   "outputs": [],
   "source": [
    "for title, avg_age in avg_ages.iteritems():\n",
    "    data.loc[(data['Age'].isnull())&(data['Title'] == title), 'Age'] = round(avg_age)"
   ]
  },
  {
   "cell_type": "markdown",
   "metadata": {},
   "source": [
    "<br>\n",
    "<hr>"
   ]
  },
  {
   "cell_type": "markdown",
   "metadata": {
    "_cell_guid": "1966db49-4dd7-4b34-98c1-5387f9c3fb70",
    "_uuid": "5a99134fe7128642103b9b859172b6db85da3514"
   },
   "source": [
    "### Chances for Survival by Age"
   ]
  },
  {
   "cell_type": "code",
   "execution_count": 27,
   "metadata": {
    "_cell_guid": "b2ed1983-50d5-405c-8bad-c61a087758f5",
    "_uuid": "dff9fcc871c21b4949d0082f3609151bb6f3e726"
   },
   "outputs": [
    {
     "data": {
      "image/png": "[encoded data removed]",
      "text/plain": [
       "<Figure size 1440x720 with 2 Axes>"
      ]
     },
     "metadata": {
      "needs_background": "light"
     },
     "output_type": "display_data"
    }
   ],
   "source": [
    "# Set up Figure and Axes\n",
    "f, ax = plt.subplots(1, 2, figsize = (20,10))\n",
    "\n",
    "# ax[0]\n",
    "data[data['Survived'] == 0]['Age'].hist(ax = ax[0], bins = 20, edgecolor = 'black', color = 'red')\n",
    "ax[0].set_title('Did NOT Survive')\n",
    "\n",
    "x1=list(range(0,85,5))\n",
    "ax[0].set_xticks(x1)\n",
    "ax[0].set_ylim(0,140)\n",
    "\n",
    "# ax[1]\n",
    "data[data['Survived'] == 1]['Age'].hist(ax = ax[1], bins = 20, edgecolor = 'black', color = 'green')\n",
    "ax[1].set_title('Survived')\n",
    "\n",
    "x2=list(range(0,85,5))\n",
    "ax[1].set_xticks(x2)\n",
    "ax[1].set_ylim(0,140)\n",
    "\n",
    "# Show plot\n",
    "plt.show()"
   ]
  },
  {
   "cell_type": "markdown",
   "metadata": {},
   "source": [
    "## Ponder w/ Neighbor"
   ]
  },
  {
   "cell_type": "markdown",
   "metadata": {},
   "source": [
    "What things do you notice? Write your observations here!"
   ]
  },
  {
   "cell_type": "markdown",
   "metadata": {},
   "source": [
    "<h3 style=\"color:red\"> Exercise 4: </h3>"
   ]
  },
  {
   "cell_type": "markdown",
   "metadata": {},
   "source": [
    "Create a Multi-Column `pointplot`, with the `sns.catplot()` function. Where each column represents a different `title`\n",
    "\n",
    "---\n",
    "\n",
    "`sns.catplot()` Parameters\n",
    "\n",
    "---\n",
    "1. `kind`: We want a `pointplot`, what do we pass in for that again? \n",
    "2. `data`: Pass in the var name for your titanic `dataset`.\n",
    "3. `col` : We want as many side-by-side plots as unique `Title`s\n",
    "4. `x`: We want each column to be further devided up by `Pclass`\n",
    "5. `y`: We want to analyze the `Survived` rate for all of the above segmentations."
   ]
  },
  {
   "cell_type": "code",
   "execution_count": 28,
   "metadata": {
    "_cell_guid": "82ec9949-9681-42d0-959d-02fe4ff2675c",
    "_uuid": "e81923d749fef3cfc374b9b2dcbc9f27e8cc1ecc"
   },
   "outputs": [
    {
     "data": {
      "image/png": "[encoded data removed]",
      "text/plain": [
       "<Figure size 864x216 with 5 Axes>"
      ]
     },
     "metadata": {
      "needs_background": "light"
     },
     "output_type": "display_data"
    }
   ],
   "source": [
    "sns.catplot(kind = 'point', data=data, col='Title', x='Pclass', y='Survived')\n",
    "\n",
    "fig = plt.gcf()\n",
    "fig.set_size_inches(12,3)\n",
    "plt.show()"
   ]
  },
  {
   "cell_type": "markdown",
   "metadata": {},
   "source": [
    "<br>\n",
    "<hr>\n",
    "<br>"
   ]
  },
  {
   "cell_type": "markdown",
   "metadata": {
    "_cell_guid": "8be8b82f-8d91-471e-adc0-80dc6d3def0b",
    "_uuid": "a24b323daf19e8fd6cacc83f549523b49a0789e7"
   },
   "source": [
    "## ```data['Embarked]``` --> Categorical Value"
   ]
  },
  {
   "cell_type": "code",
   "execution_count": 29,
   "metadata": {},
   "outputs": [
    {
     "data": {
      "text/html": [
       "<div>\n",
       "<style scoped>\n",
       "    .dataframe tbody tr th:only-of-type {\n",
       "        vertical-align: middle;\n",
       "    }\n",
       "\n",
       "    .dataframe tbody tr th {\n",
       "        vertical-align: top;\n",
       "    }\n",
       "\n",
       "    .dataframe thead th {\n",
       "        text-align: right;\n",
       "    }\n",
       "</style>\n",
       "<table border=\"1\" class=\"dataframe\">\n",
       "  <thead>\n",
       "    <tr style=\"text-align: right;\">\n",
       "      <th></th>\n",
       "      <th>PassengerId</th>\n",
       "      <th>Survived</th>\n",
       "      <th>Pclass</th>\n",
       "      <th>Name</th>\n",
       "      <th>Gender</th>\n",
       "      <th>Age</th>\n",
       "      <th>SibSp</th>\n",
       "      <th>ParCh</th>\n",
       "      <th>Ticket</th>\n",
       "      <th>Fare</th>\n",
       "      <th>Cabin</th>\n",
       "      <th>Embarked</th>\n",
       "      <th>Title</th>\n",
       "    </tr>\n",
       "  </thead>\n",
       "  <tbody>\n",
       "    <tr>\n",
       "      <th>245</th>\n",
       "      <td>246</td>\n",
       "      <td>0</td>\n",
       "      <td>1</td>\n",
       "      <td>Minahan, Dr. William Edward</td>\n",
       "      <td>male</td>\n",
       "      <td>44.0</td>\n",
       "      <td>2</td>\n",
       "      <td>0</td>\n",
       "      <td>19928</td>\n",
       "      <td>90.0</td>\n",
       "      <td>C78</td>\n",
       "      <td>Q</td>\n",
       "      <td>Mr</td>\n",
       "    </tr>\n",
       "    <tr>\n",
       "      <th>412</th>\n",
       "      <td>413</td>\n",
       "      <td>1</td>\n",
       "      <td>1</td>\n",
       "      <td>Minahan, Miss. Daisy E</td>\n",
       "      <td>female</td>\n",
       "      <td>33.0</td>\n",
       "      <td>1</td>\n",
       "      <td>0</td>\n",
       "      <td>19928</td>\n",
       "      <td>90.0</td>\n",
       "      <td>C78</td>\n",
       "      <td>Q</td>\n",
       "      <td>Miss</td>\n",
       "    </tr>\n",
       "  </tbody>\n",
       "</table>\n",
       "</div>"
      ],
      "text/plain": [
       "     PassengerId  Survived  Pclass                         Name  Gender   Age  \\\n",
       "245          246         0       1  Minahan, Dr. William Edward    male  44.0   \n",
       "412          413         1       1       Minahan, Miss. Daisy E  female  33.0   \n",
       "\n",
       "     SibSp  ParCh Ticket  Fare Cabin Embarked Title  \n",
       "245      2      0  19928  90.0   C78        Q    Mr  \n",
       "412      1      0  19928  90.0   C78        Q  Miss  "
      ]
     },
     "execution_count": 29,
     "metadata": {},
     "output_type": "execute_result"
    }
   ],
   "source": [
    "data.loc[(data['Embarked']=='Q')&(data['Pclass'] == 1)]"
   ]
  },
  {
   "cell_type": "code",
   "execution_count": 30,
   "metadata": {
    "_cell_guid": "ec30e8cc-471d-4616-be83-b01bd45d51a7",
    "_uuid": "0d9307f18fcc510c7615e73080f23ba6cb80c3ae"
   },
   "outputs": [
    {
     "data": {
      "text/html": [
       "<style  type=\"text/css\" >\n",
       "    #T_a07bbd94_a2bd_11e9_a2a2_97837e1f963crow0_col0 {\n",
       "            background-color:  #00fc81;\n",
       "            color:  #000000;\n",
       "        }    #T_a07bbd94_a2bd_11e9_a2a2_97837e1f963crow0_col1 {\n",
       "            background-color:  #00d296;\n",
       "            color:  #000000;\n",
       "        }    #T_a07bbd94_a2bd_11e9_a2a2_97837e1f963crow0_col2 {\n",
       "            background-color:  #00f286;\n",
       "            color:  #000000;\n",
       "        }    #T_a07bbd94_a2bd_11e9_a2a2_97837e1f963crow0_col3 {\n",
       "            background-color:  #00d893;\n",
       "            color:  #000000;\n",
       "        }    #T_a07bbd94_a2bd_11e9_a2a2_97837e1f963crow0_col4 {\n",
       "            background-color:  #00e88b;\n",
       "            color:  #000000;\n",
       "        }    #T_a07bbd94_a2bd_11e9_a2a2_97837e1f963crow1_col0 {\n",
       "            background-color:  #00ff80;\n",
       "            color:  #000000;\n",
       "        }    #T_a07bbd94_a2bd_11e9_a2a2_97837e1f963crow1_col1 {\n",
       "            background-color:  #00f982;\n",
       "            color:  #000000;\n",
       "        }    #T_a07bbd94_a2bd_11e9_a2a2_97837e1f963crow1_col2 {\n",
       "            background-color:  #00fc81;\n",
       "            color:  #000000;\n",
       "        }    #T_a07bbd94_a2bd_11e9_a2a2_97837e1f963crow1_col3 {\n",
       "            background-color:  #00fb82;\n",
       "            color:  #000000;\n",
       "        }    #T_a07bbd94_a2bd_11e9_a2a2_97837e1f963crow1_col4 {\n",
       "            background-color:  #00fb82;\n",
       "            color:  #000000;\n",
       "        }    #T_a07bbd94_a2bd_11e9_a2a2_97837e1f963crow2_col0 {\n",
       "            background-color:  #00e68c;\n",
       "            color:  #000000;\n",
       "        }    #T_a07bbd94_a2bd_11e9_a2a2_97837e1f963crow2_col1 {\n",
       "            background-color:  #00f087;\n",
       "            color:  #000000;\n",
       "        }    #T_a07bbd94_a2bd_11e9_a2a2_97837e1f963crow2_col2 {\n",
       "            background-color:  #00ee88;\n",
       "            color:  #000000;\n",
       "        }    #T_a07bbd94_a2bd_11e9_a2a2_97837e1f963crow2_col3 {\n",
       "            background-color:  #00e88b;\n",
       "            color:  #000000;\n",
       "        }    #T_a07bbd94_a2bd_11e9_a2a2_97837e1f963crow2_col4 {\n",
       "            background-color:  #00ed88;\n",
       "            color:  #000000;\n",
       "        }    #T_a07bbd94_a2bd_11e9_a2a2_97837e1f963crow3_col0 {\n",
       "            background-color:  #00ff80;\n",
       "            color:  #000000;\n",
       "        }    #T_a07bbd94_a2bd_11e9_a2a2_97837e1f963crow3_col1 {\n",
       "            background-color:  #00ff80;\n",
       "            color:  #000000;\n",
       "        }    #T_a07bbd94_a2bd_11e9_a2a2_97837e1f963crow3_col2 {\n",
       "            background-color:  #00ff80;\n",
       "            color:  #000000;\n",
       "        }    #T_a07bbd94_a2bd_11e9_a2a2_97837e1f963crow3_col3 {\n",
       "            background-color:  #00ff80;\n",
       "            color:  #000000;\n",
       "        }    #T_a07bbd94_a2bd_11e9_a2a2_97837e1f963crow3_col4 {\n",
       "            background-color:  #00ff80;\n",
       "            color:  #000000;\n",
       "        }    #T_a07bbd94_a2bd_11e9_a2a2_97837e1f963crow4_col0 {\n",
       "            background-color:  #00ff80;\n",
       "            color:  #000000;\n",
       "        }    #T_a07bbd94_a2bd_11e9_a2a2_97837e1f963crow4_col1 {\n",
       "            background-color:  #00fe80;\n",
       "            color:  #000000;\n",
       "        }    #T_a07bbd94_a2bd_11e9_a2a2_97837e1f963crow4_col2 {\n",
       "            background-color:  #00ff80;\n",
       "            color:  #000000;\n",
       "        }    #T_a07bbd94_a2bd_11e9_a2a2_97837e1f963crow4_col3 {\n",
       "            background-color:  #00ff80;\n",
       "            color:  #000000;\n",
       "        }    #T_a07bbd94_a2bd_11e9_a2a2_97837e1f963crow4_col4 {\n",
       "            background-color:  #00ff80;\n",
       "            color:  #000000;\n",
       "        }    #T_a07bbd94_a2bd_11e9_a2a2_97837e1f963crow5_col0 {\n",
       "            background-color:  #00e38e;\n",
       "            color:  #000000;\n",
       "        }    #T_a07bbd94_a2bd_11e9_a2a2_97837e1f963crow5_col1 {\n",
       "            background-color:  #00e68c;\n",
       "            color:  #000000;\n",
       "        }    #T_a07bbd94_a2bd_11e9_a2a2_97837e1f963crow5_col2 {\n",
       "            background-color:  #00ec89;\n",
       "            color:  #000000;\n",
       "        }    #T_a07bbd94_a2bd_11e9_a2a2_97837e1f963crow5_col3 {\n",
       "            background-color:  #00f883;\n",
       "            color:  #000000;\n",
       "        }    #T_a07bbd94_a2bd_11e9_a2a2_97837e1f963crow5_col4 {\n",
       "            background-color:  #00eb8a;\n",
       "            color:  #000000;\n",
       "        }    #T_a07bbd94_a2bd_11e9_a2a2_97837e1f963crow6_col0 {\n",
       "            background-color:  #00f982;\n",
       "            color:  #000000;\n",
       "        }    #T_a07bbd94_a2bd_11e9_a2a2_97837e1f963crow6_col1 {\n",
       "            background-color:  #00cd98;\n",
       "            color:  #000000;\n",
       "        }    #T_a07bbd94_a2bd_11e9_a2a2_97837e1f963crow6_col2 {\n",
       "            background-color:  #00e48d;\n",
       "            color:  #000000;\n",
       "        }    #T_a07bbd94_a2bd_11e9_a2a2_97837e1f963crow6_col3 {\n",
       "            background-color:  #00bea0;\n",
       "            color:  #000000;\n",
       "        }    #T_a07bbd94_a2bd_11e9_a2a2_97837e1f963crow6_col4 {\n",
       "            background-color:  #00db92;\n",
       "            color:  #000000;\n",
       "        }    #T_a07bbd94_a2bd_11e9_a2a2_97837e1f963crow7_col0 {\n",
       "            background-color:  #00ed88;\n",
       "            color:  #000000;\n",
       "        }    #T_a07bbd94_a2bd_11e9_a2a2_97837e1f963crow7_col1 {\n",
       "            background-color:  #00bda0;\n",
       "            color:  #000000;\n",
       "        }    #T_a07bbd94_a2bd_11e9_a2a2_97837e1f963crow7_col2 {\n",
       "            background-color:  #00d396;\n",
       "            color:  #000000;\n",
       "        }    #T_a07bbd94_a2bd_11e9_a2a2_97837e1f963crow7_col3 {\n",
       "            background-color:  #00dc91;\n",
       "            color:  #000000;\n",
       "        }    #T_a07bbd94_a2bd_11e9_a2a2_97837e1f963crow7_col4 {\n",
       "            background-color:  #00d196;\n",
       "            color:  #000000;\n",
       "        }    #T_a07bbd94_a2bd_11e9_a2a2_97837e1f963crow8_col0 {\n",
       "            background-color:  #0052d6;\n",
       "            color:  #f1f1f1;\n",
       "        }    #T_a07bbd94_a2bd_11e9_a2a2_97837e1f963crow8_col1 {\n",
       "            background-color:  #00dc91;\n",
       "            color:  #000000;\n",
       "        }    #T_a07bbd94_a2bd_11e9_a2a2_97837e1f963crow8_col2 {\n",
       "            background-color:  #0081be;\n",
       "            color:  #f1f1f1;\n",
       "        }    #T_a07bbd94_a2bd_11e9_a2a2_97837e1f963crow8_col3 {\n",
       "            background-color:  #00b0a7;\n",
       "            color:  #000000;\n",
       "        }    #T_a07bbd94_a2bd_11e9_a2a2_97837e1f963crow8_col4 {\n",
       "            background-color:  #009ab2;\n",
       "            color:  #000000;\n",
       "        }    #T_a07bbd94_a2bd_11e9_a2a2_97837e1f963crow9_col0 {\n",
       "            background-color:  #0000ff;\n",
       "            color:  #f1f1f1;\n",
       "        }    #T_a07bbd94_a2bd_11e9_a2a2_97837e1f963crow9_col1 {\n",
       "            background-color:  #0000ff;\n",
       "            color:  #f1f1f1;\n",
       "        }    #T_a07bbd94_a2bd_11e9_a2a2_97837e1f963crow9_col2 {\n",
       "            background-color:  #0000ff;\n",
       "            color:  #f1f1f1;\n",
       "        }    #T_a07bbd94_a2bd_11e9_a2a2_97837e1f963crow9_col3 {\n",
       "            background-color:  #0000ff;\n",
       "            color:  #f1f1f1;\n",
       "        }    #T_a07bbd94_a2bd_11e9_a2a2_97837e1f963crow9_col4 {\n",
       "            background-color:  #0000ff;\n",
       "            color:  #f1f1f1;\n",
       "        }</style><table id=\"T_a07bbd94_a2bd_11e9_a2a2_97837e1f963c\" ><thead>    <tr>        <th class=\"blank\" ></th>        <th class=\"index_name level0\" >Gender</th>        <th class=\"col_heading level0 col0\" colspan=2>female</th>        <th class=\"col_heading level0 col2\" colspan=2>male</th>        <th class=\"col_heading level0 col4\" >All</th>    </tr>    <tr>        <th class=\"blank\" ></th>        <th class=\"index_name level1\" >Survived</th>        <th class=\"col_heading level1 col0\" >0</th>        <th class=\"col_heading level1 col1\" >1</th>        <th class=\"col_heading level1 col2\" >0</th>        <th class=\"col_heading level1 col3\" >1</th>        <th class=\"col_heading level1 col4\" ></th>    </tr>    <tr>        <th class=\"index_name level0\" >Embarked</th>        <th class=\"index_name level1\" >Pclass</th>        <th class=\"blank\" ></th>        <th class=\"blank\" ></th>        <th class=\"blank\" ></th>        <th class=\"blank\" ></th>        <th class=\"blank\" ></th>    </tr></thead><tbody>\n",
       "                <tr>\n",
       "                        <th id=\"T_a07bbd94_a2bd_11e9_a2a2_97837e1f963clevel0_row0\" class=\"row_heading level0 row0\" rowspan=3>C</th>\n",
       "                        <th id=\"T_a07bbd94_a2bd_11e9_a2a2_97837e1f963clevel1_row0\" class=\"row_heading level1 row0\" >1</th>\n",
       "                        <td id=\"T_a07bbd94_a2bd_11e9_a2a2_97837e1f963crow0_col0\" class=\"data row0 col0\" >1</td>\n",
       "                        <td id=\"T_a07bbd94_a2bd_11e9_a2a2_97837e1f963crow0_col1\" class=\"data row0 col1\" >42</td>\n",
       "                        <td id=\"T_a07bbd94_a2bd_11e9_a2a2_97837e1f963crow0_col2\" class=\"data row0 col2\" >25</td>\n",
       "                        <td id=\"T_a07bbd94_a2bd_11e9_a2a2_97837e1f963crow0_col3\" class=\"data row0 col3\" >17</td>\n",
       "                        <td id=\"T_a07bbd94_a2bd_11e9_a2a2_97837e1f963crow0_col4\" class=\"data row0 col4\" >85</td>\n",
       "            </tr>\n",
       "            <tr>\n",
       "                                <th id=\"T_a07bbd94_a2bd_11e9_a2a2_97837e1f963clevel1_row1\" class=\"row_heading level1 row1\" >2</th>\n",
       "                        <td id=\"T_a07bbd94_a2bd_11e9_a2a2_97837e1f963crow1_col0\" class=\"data row1 col0\" >0</td>\n",
       "                        <td id=\"T_a07bbd94_a2bd_11e9_a2a2_97837e1f963crow1_col1\" class=\"data row1 col1\" >7</td>\n",
       "                        <td id=\"T_a07bbd94_a2bd_11e9_a2a2_97837e1f963crow1_col2\" class=\"data row1 col2\" >8</td>\n",
       "                        <td id=\"T_a07bbd94_a2bd_11e9_a2a2_97837e1f963crow1_col3\" class=\"data row1 col3\" >2</td>\n",
       "                        <td id=\"T_a07bbd94_a2bd_11e9_a2a2_97837e1f963crow1_col4\" class=\"data row1 col4\" >17</td>\n",
       "            </tr>\n",
       "            <tr>\n",
       "                                <th id=\"T_a07bbd94_a2bd_11e9_a2a2_97837e1f963clevel1_row2\" class=\"row_heading level1 row2\" >3</th>\n",
       "                        <td id=\"T_a07bbd94_a2bd_11e9_a2a2_97837e1f963crow2_col0\" class=\"data row2 col0\" >8</td>\n",
       "                        <td id=\"T_a07bbd94_a2bd_11e9_a2a2_97837e1f963crow2_col1\" class=\"data row2 col1\" >15</td>\n",
       "                        <td id=\"T_a07bbd94_a2bd_11e9_a2a2_97837e1f963crow2_col2\" class=\"data row2 col2\" >33</td>\n",
       "                        <td id=\"T_a07bbd94_a2bd_11e9_a2a2_97837e1f963crow2_col3\" class=\"data row2 col3\" >10</td>\n",
       "                        <td id=\"T_a07bbd94_a2bd_11e9_a2a2_97837e1f963crow2_col4\" class=\"data row2 col4\" >66</td>\n",
       "            </tr>\n",
       "            <tr>\n",
       "                        <th id=\"T_a07bbd94_a2bd_11e9_a2a2_97837e1f963clevel0_row3\" class=\"row_heading level0 row3\" rowspan=3>Q</th>\n",
       "                        <th id=\"T_a07bbd94_a2bd_11e9_a2a2_97837e1f963clevel1_row3\" class=\"row_heading level1 row3\" >1</th>\n",
       "                        <td id=\"T_a07bbd94_a2bd_11e9_a2a2_97837e1f963crow3_col0\" class=\"data row3 col0\" >0</td>\n",
       "                        <td id=\"T_a07bbd94_a2bd_11e9_a2a2_97837e1f963crow3_col1\" class=\"data row3 col1\" >1</td>\n",
       "                        <td id=\"T_a07bbd94_a2bd_11e9_a2a2_97837e1f963crow3_col2\" class=\"data row3 col2\" >1</td>\n",
       "                        <td id=\"T_a07bbd94_a2bd_11e9_a2a2_97837e1f963crow3_col3\" class=\"data row3 col3\" >0</td>\n",
       "                        <td id=\"T_a07bbd94_a2bd_11e9_a2a2_97837e1f963crow3_col4\" class=\"data row3 col4\" >2</td>\n",
       "            </tr>\n",
       "            <tr>\n",
       "                                <th id=\"T_a07bbd94_a2bd_11e9_a2a2_97837e1f963clevel1_row4\" class=\"row_heading level1 row4\" >2</th>\n",
       "                        <td id=\"T_a07bbd94_a2bd_11e9_a2a2_97837e1f963crow4_col0\" class=\"data row4 col0\" >0</td>\n",
       "                        <td id=\"T_a07bbd94_a2bd_11e9_a2a2_97837e1f963crow4_col1\" class=\"data row4 col1\" >2</td>\n",
       "                        <td id=\"T_a07bbd94_a2bd_11e9_a2a2_97837e1f963crow4_col2\" class=\"data row4 col2\" >1</td>\n",
       "                        <td id=\"T_a07bbd94_a2bd_11e9_a2a2_97837e1f963crow4_col3\" class=\"data row4 col3\" >0</td>\n",
       "                        <td id=\"T_a07bbd94_a2bd_11e9_a2a2_97837e1f963crow4_col4\" class=\"data row4 col4\" >3</td>\n",
       "            </tr>\n",
       "            <tr>\n",
       "                                <th id=\"T_a07bbd94_a2bd_11e9_a2a2_97837e1f963clevel1_row5\" class=\"row_heading level1 row5\" >3</th>\n",
       "                        <td id=\"T_a07bbd94_a2bd_11e9_a2a2_97837e1f963crow5_col0\" class=\"data row5 col0\" >9</td>\n",
       "                        <td id=\"T_a07bbd94_a2bd_11e9_a2a2_97837e1f963crow5_col1\" class=\"data row5 col1\" >24</td>\n",
       "                        <td id=\"T_a07bbd94_a2bd_11e9_a2a2_97837e1f963crow5_col2\" class=\"data row5 col2\" >36</td>\n",
       "                        <td id=\"T_a07bbd94_a2bd_11e9_a2a2_97837e1f963crow5_col3\" class=\"data row5 col3\" >3</td>\n",
       "                        <td id=\"T_a07bbd94_a2bd_11e9_a2a2_97837e1f963crow5_col4\" class=\"data row5 col4\" >72</td>\n",
       "            </tr>\n",
       "            <tr>\n",
       "                        <th id=\"T_a07bbd94_a2bd_11e9_a2a2_97837e1f963clevel0_row6\" class=\"row_heading level0 row6\" rowspan=3>S</th>\n",
       "                        <th id=\"T_a07bbd94_a2bd_11e9_a2a2_97837e1f963clevel1_row6\" class=\"row_heading level1 row6\" >1</th>\n",
       "                        <td id=\"T_a07bbd94_a2bd_11e9_a2a2_97837e1f963crow6_col0\" class=\"data row6 col0\" >2</td>\n",
       "                        <td id=\"T_a07bbd94_a2bd_11e9_a2a2_97837e1f963crow6_col1\" class=\"data row6 col1\" >46</td>\n",
       "                        <td id=\"T_a07bbd94_a2bd_11e9_a2a2_97837e1f963crow6_col2\" class=\"data row6 col2\" >51</td>\n",
       "                        <td id=\"T_a07bbd94_a2bd_11e9_a2a2_97837e1f963crow6_col3\" class=\"data row6 col3\" >28</td>\n",
       "                        <td id=\"T_a07bbd94_a2bd_11e9_a2a2_97837e1f963crow6_col4\" class=\"data row6 col4\" >127</td>\n",
       "            </tr>\n",
       "            <tr>\n",
       "                                <th id=\"T_a07bbd94_a2bd_11e9_a2a2_97837e1f963clevel1_row7\" class=\"row_heading level1 row7\" >2</th>\n",
       "                        <td id=\"T_a07bbd94_a2bd_11e9_a2a2_97837e1f963crow7_col0\" class=\"data row7 col0\" >6</td>\n",
       "                        <td id=\"T_a07bbd94_a2bd_11e9_a2a2_97837e1f963crow7_col1\" class=\"data row7 col1\" >61</td>\n",
       "                        <td id=\"T_a07bbd94_a2bd_11e9_a2a2_97837e1f963crow7_col2\" class=\"data row7 col2\" >82</td>\n",
       "                        <td id=\"T_a07bbd94_a2bd_11e9_a2a2_97837e1f963crow7_col3\" class=\"data row7 col3\" >15</td>\n",
       "                        <td id=\"T_a07bbd94_a2bd_11e9_a2a2_97837e1f963crow7_col4\" class=\"data row7 col4\" >164</td>\n",
       "            </tr>\n",
       "            <tr>\n",
       "                                <th id=\"T_a07bbd94_a2bd_11e9_a2a2_97837e1f963clevel1_row8\" class=\"row_heading level1 row8\" >3</th>\n",
       "                        <td id=\"T_a07bbd94_a2bd_11e9_a2a2_97837e1f963crow8_col0\" class=\"data row8 col0\" >55</td>\n",
       "                        <td id=\"T_a07bbd94_a2bd_11e9_a2a2_97837e1f963crow8_col1\" class=\"data row8 col1\" >33</td>\n",
       "                        <td id=\"T_a07bbd94_a2bd_11e9_a2a2_97837e1f963crow8_col2\" class=\"data row8 col2\" >231</td>\n",
       "                        <td id=\"T_a07bbd94_a2bd_11e9_a2a2_97837e1f963crow8_col3\" class=\"data row8 col3\" >34</td>\n",
       "                        <td id=\"T_a07bbd94_a2bd_11e9_a2a2_97837e1f963crow8_col4\" class=\"data row8 col4\" >353</td>\n",
       "            </tr>\n",
       "            <tr>\n",
       "                        <th id=\"T_a07bbd94_a2bd_11e9_a2a2_97837e1f963clevel0_row9\" class=\"row_heading level0 row9\" >All</th>\n",
       "                        <th id=\"T_a07bbd94_a2bd_11e9_a2a2_97837e1f963clevel1_row9\" class=\"row_heading level1 row9\" ></th>\n",
       "                        <td id=\"T_a07bbd94_a2bd_11e9_a2a2_97837e1f963crow9_col0\" class=\"data row9 col0\" >81</td>\n",
       "                        <td id=\"T_a07bbd94_a2bd_11e9_a2a2_97837e1f963crow9_col1\" class=\"data row9 col1\" >231</td>\n",
       "                        <td id=\"T_a07bbd94_a2bd_11e9_a2a2_97837e1f963crow9_col2\" class=\"data row9 col2\" >468</td>\n",
       "                        <td id=\"T_a07bbd94_a2bd_11e9_a2a2_97837e1f963crow9_col3\" class=\"data row9 col3\" >109</td>\n",
       "                        <td id=\"T_a07bbd94_a2bd_11e9_a2a2_97837e1f963crow9_col4\" class=\"data row9 col4\" >889</td>\n",
       "            </tr>\n",
       "    </tbody></table>"
      ],
      "text/plain": [
       "<pandas.io.formats.style.Styler at 0x7fc483814278>"
      ]
     },
     "execution_count": 30,
     "metadata": {},
     "output_type": "execute_result"
    }
   ],
   "source": [
    "pd.crosstab(index=[data['Embarked'], data['Pclass']], columns=[data['Gender'], data['Survived']], margins = True).style.background_gradient(cmap='winter_r')"
   ]
  },
  {
   "cell_type": "markdown",
   "metadata": {
    "_cell_guid": "1966db49-4dd7-4b34-98c1-5387f9c3fb70",
    "_uuid": "5a99134fe7128642103b9b859172b6db85da3514"
   },
   "source": [
    "### Chances for Survival by Port Of Embarkation"
   ]
  },
  {
   "cell_type": "code",
   "execution_count": 31,
   "metadata": {
    "_cell_guid": "4193b498-a67c-49f1-b6ec-71c4bf0300a1",
    "_uuid": "8dce8ddd858624321e8a69f2e9a5a30ade19aa12"
   },
   "outputs": [
    {
     "data": {
      "image/png": "[encoded data removed]",
      "text/plain": [
       "<Figure size 864x216 with 3 Axes>"
      ]
     },
     "metadata": {
      "needs_background": "light"
     },
     "output_type": "display_data"
    }
   ],
   "source": [
    "sns.catplot(kind='point', data = data, col='Pclass', x='Embarked', y='Survived', hue='Gender')\n",
    "\n",
    "fig = plt.gcf()\n",
    "fig.set_size_inches(12,3)\n",
    "plt.subplots_adjust(wspace=0.2,hspace=0.8)\n",
    "plt.show()"
   ]
  },
  {
   "cell_type": "code",
   "execution_count": 32,
   "metadata": {
    "_cell_guid": "51ff68c3-ffa2-4ac7-95ee-04ecb7d9da64",
    "_uuid": "dfcab3effc1ebf8653e3a4b61149b44fc146fdfb"
   },
   "outputs": [
    {
     "data": {
      "image/png": "[encoded data removed]",
      "text/plain": [
       "<Figure size 1440x1080 with 4 Axes>"
      ]
     },
     "metadata": {
      "needs_background": "light"
     },
     "output_type": "display_data"
    }
   ],
   "source": [
    "# set up four axes\n",
    "f,ax = plt.subplots(2, 2, figsize=(20,15))\n",
    "\n",
    "# ax[0,0]\n",
    "sns.countplot('Embarked',data=data,ax=ax[0,0])\n",
    "ax[0,0].set_title('No. Of Passengers Boarded')\n",
    "\n",
    "# ax[0,1]\n",
    "sns.countplot('Embarked',hue='Gender',data=data,ax=ax[0,1])\n",
    "ax[0,1].set_title('Male-Female Split for Embarked')\n",
    "\n",
    "# ax[1,0]\n",
    "sns.countplot('Embarked',hue='Survived',data=data,ax=ax[1,0])\n",
    "ax[1,0].set_title('Embarked vs Survived')\n",
    "\n",
    "# ax[1,1]\n",
    "sns.countplot('Embarked',hue='Pclass',data=data,ax=ax[1,1])\n",
    "ax[1,1].set_title('Embarked vs Pclass')\n",
    "\n",
    "\n",
    "plt.subplots_adjust(wspace=0.2,hspace=0.5)\n",
    "plt.show()"
   ]
  },
  {
   "cell_type": "markdown",
   "metadata": {},
   "source": [
    "## Ponder w/ Neighbor"
   ]
  },
  {
   "cell_type": "markdown",
   "metadata": {},
   "source": [
    "What things do you notice? Write your observations here!"
   ]
  },
  {
   "cell_type": "markdown",
   "metadata": {},
   "source": [
    "Thoughts?"
   ]
  },
  {
   "cell_type": "markdown",
   "metadata": {},
   "source": [
    "<br>"
   ]
  },
  {
   "cell_type": "markdown",
   "metadata": {},
   "source": [
    "<h3 style=\"color:red\"> Exercise 5: </h3>"
   ]
  },
  {
   "cell_type": "markdown",
   "metadata": {},
   "source": [
    "1. Create a multi-column pointplot with the `kind`=`'point'` parameter in `sns.catplot()`\n",
    "2. Compares `Pclass` to `Survived` in the x vs y axes \n",
    "3. Define the columns aka `col` with the `Embarked` variable.\n",
    "4. Lastly, Add a `hue` to differentiate by `Gender`"
   ]
  },
  {
   "cell_type": "code",
   "execution_count": 33,
   "metadata": {},
   "outputs": [
    {
     "data": {
      "image/png": "[encoded data removed]",
      "text/plain": [
       "<Figure size 1150.5x360 with 3 Axes>"
      ]
     },
     "metadata": {
      "needs_background": "light"
     },
     "output_type": "display_data"
    }
   ],
   "source": [
    "sns.catplot(kind='point', x='Pclass', y='Survived', col='Embarked', hue='Gender', data=data)\n",
    "\n",
    "plt.show()"
   ]
  },
  {
   "cell_type": "markdown",
   "metadata": {},
   "source": [
    "## Ponder w/ Neighbor"
   ]
  },
  {
   "cell_type": "markdown",
   "metadata": {},
   "source": [
    "What things do you notice? Write your observations here!"
   ]
  },
  {
   "cell_type": "markdown",
   "metadata": {},
   "source": [
    "<br>"
   ]
  },
  {
   "cell_type": "markdown",
   "metadata": {
    "_cell_guid": "9d2984b4-c9a7-44bf-ada3-78afc83bcd26",
    "_uuid": "c124234128b669e41546daab16bfb85d14b5dc03",
    "collapsed": true
   },
   "source": [
    "### Embarked: Filling NaN values\n",
    "\n",
    "As we saw that maximum passengers boarded from Port S, we replace NaN with S."
   ]
  },
  {
   "cell_type": "code",
   "execution_count": 34,
   "metadata": {},
   "outputs": [
    {
     "data": {
      "text/plain": [
       "PassengerId      0\n",
       "Survived         0\n",
       "Pclass           0\n",
       "Name             0\n",
       "Gender           0\n",
       "Age              0\n",
       "SibSp            0\n",
       "ParCh            0\n",
       "Ticket           0\n",
       "Fare             0\n",
       "Cabin          687\n",
       "Embarked         2\n",
       "Title            0\n",
       "dtype: int64"
      ]
     },
     "execution_count": 34,
     "metadata": {},
     "output_type": "execute_result"
    }
   ],
   "source": [
    "data.isnull().sum()"
   ]
  },
  {
   "cell_type": "code",
   "execution_count": 35,
   "metadata": {
    "_cell_guid": "62309104-404b-4f79-a50b-1f1747fde9f5",
    "_uuid": "c77ed7f842ec862326ca6b9986e21a0a7d69acff"
   },
   "outputs": [],
   "source": [
    "data['Embarked'] = data['Embarked'].fillna('S')"
   ]
  },
  {
   "cell_type": "code",
   "execution_count": 36,
   "metadata": {
    "_cell_guid": "56d6a590-9ab2-4be6-8a90-f0bb9e908cae",
    "_uuid": "16f31e0c60dc64d638d9505b2eaa855fb20205cc"
   },
   "outputs": [
    {
     "data": {
      "text/plain": [
       "0"
      ]
     },
     "execution_count": 36,
     "metadata": {},
     "output_type": "execute_result"
    }
   ],
   "source": [
    "data['Embarked'].isnull().sum() # Finally No NaN values"
   ]
  },
  {
   "cell_type": "markdown",
   "metadata": {},
   "source": [
    "<br>"
   ]
  },
  {
   "cell_type": "markdown",
   "metadata": {
    "_cell_guid": "05194e42-445e-41a5-9124-e4ec29d1ac2a",
    "_uuid": "838c230d6e4027c9f87b702ffd5805284c74ca4d",
    "collapsed": true
   },
   "source": [
    "## ```data['SibSp']``` --> Discrete Feature\n",
    "**This feature represents whether a person is alone or with family members.**\n",
    "\n",
    "**Sibling** = brother, sister, stepbrother, stepsister\n",
    "\n",
    "**Spouse** = husband, wife "
   ]
  },
  {
   "cell_type": "code",
   "execution_count": 37,
   "metadata": {
    "_cell_guid": "ae7b6019-3162-400f-9746-8d8239049751",
    "_uuid": "56069ce478b75673fab78145fb6a6741cad28d76"
   },
   "outputs": [
    {
     "data": {
      "text/html": [
       "<style  type=\"text/css\" >\n",
       "    #T_a5ecc4e4_a2bd_11e9_a2a2_97837e1f963crow0_col0 {\n",
       "            background-color:  #0047dc;\n",
       "            color:  #f1f1f1;\n",
       "        }    #T_a5ecc4e4_a2bd_11e9_a2a2_97837e1f963crow0_col1 {\n",
       "            background-color:  #0062ce;\n",
       "            color:  #f1f1f1;\n",
       "        }    #T_a5ecc4e4_a2bd_11e9_a2a2_97837e1f963crow0_col2 {\n",
       "            background-color:  #0051d6;\n",
       "            color:  #f1f1f1;\n",
       "        }    #T_a5ecc4e4_a2bd_11e9_a2a2_97837e1f963crow1_col0 {\n",
       "            background-color:  #00d495;\n",
       "            color:  #000000;\n",
       "        }    #T_a5ecc4e4_a2bd_11e9_a2a2_97837e1f963crow1_col1 {\n",
       "            background-color:  #00aca9;\n",
       "            color:  #000000;\n",
       "        }    #T_a5ecc4e4_a2bd_11e9_a2a2_97837e1f963crow1_col2 {\n",
       "            background-color:  #00c59c;\n",
       "            color:  #000000;\n",
       "        }    #T_a5ecc4e4_a2bd_11e9_a2a2_97837e1f963crow2_col0 {\n",
       "            background-color:  #00fb82;\n",
       "            color:  #000000;\n",
       "        }    #T_a5ecc4e4_a2bd_11e9_a2a2_97837e1f963crow2_col1 {\n",
       "            background-color:  #00f684;\n",
       "            color:  #000000;\n",
       "        }    #T_a5ecc4e4_a2bd_11e9_a2a2_97837e1f963crow2_col2 {\n",
       "            background-color:  #00f982;\n",
       "            color:  #000000;\n",
       "        }    #T_a5ecc4e4_a2bd_11e9_a2a2_97837e1f963crow3_col0 {\n",
       "            background-color:  #00fc81;\n",
       "            color:  #000000;\n",
       "        }    #T_a5ecc4e4_a2bd_11e9_a2a2_97837e1f963crow3_col1 {\n",
       "            background-color:  #00fd80;\n",
       "            color:  #000000;\n",
       "        }    #T_a5ecc4e4_a2bd_11e9_a2a2_97837e1f963crow3_col2 {\n",
       "            background-color:  #00fc81;\n",
       "            color:  #000000;\n",
       "        }    #T_a5ecc4e4_a2bd_11e9_a2a2_97837e1f963crow4_col0 {\n",
       "            background-color:  #00fb82;\n",
       "            color:  #000000;\n",
       "        }    #T_a5ecc4e4_a2bd_11e9_a2a2_97837e1f963crow4_col1 {\n",
       "            background-color:  #00fd80;\n",
       "            color:  #000000;\n",
       "        }    #T_a5ecc4e4_a2bd_11e9_a2a2_97837e1f963crow4_col2 {\n",
       "            background-color:  #00fc81;\n",
       "            color:  #000000;\n",
       "        }    #T_a5ecc4e4_a2bd_11e9_a2a2_97837e1f963crow5_col0 {\n",
       "            background-color:  #00ff80;\n",
       "            color:  #000000;\n",
       "        }    #T_a5ecc4e4_a2bd_11e9_a2a2_97837e1f963crow5_col1 {\n",
       "            background-color:  #00ff80;\n",
       "            color:  #000000;\n",
       "        }    #T_a5ecc4e4_a2bd_11e9_a2a2_97837e1f963crow5_col2 {\n",
       "            background-color:  #00ff80;\n",
       "            color:  #000000;\n",
       "        }    #T_a5ecc4e4_a2bd_11e9_a2a2_97837e1f963crow6_col0 {\n",
       "            background-color:  #00ff80;\n",
       "            color:  #000000;\n",
       "        }    #T_a5ecc4e4_a2bd_11e9_a2a2_97837e1f963crow6_col1 {\n",
       "            background-color:  #00ff80;\n",
       "            color:  #000000;\n",
       "        }    #T_a5ecc4e4_a2bd_11e9_a2a2_97837e1f963crow6_col2 {\n",
       "            background-color:  #00ff80;\n",
       "            color:  #000000;\n",
       "        }    #T_a5ecc4e4_a2bd_11e9_a2a2_97837e1f963crow7_col0 {\n",
       "            background-color:  #0000ff;\n",
       "            color:  #f1f1f1;\n",
       "        }    #T_a5ecc4e4_a2bd_11e9_a2a2_97837e1f963crow7_col1 {\n",
       "            background-color:  #0000ff;\n",
       "            color:  #f1f1f1;\n",
       "        }    #T_a5ecc4e4_a2bd_11e9_a2a2_97837e1f963crow7_col2 {\n",
       "            background-color:  #0000ff;\n",
       "            color:  #f1f1f1;\n",
       "        }</style><table id=\"T_a5ecc4e4_a2bd_11e9_a2a2_97837e1f963c\" ><thead>    <tr>        <th class=\"index_name level0\" >Survived</th>        <th class=\"col_heading level0 col0\" >0</th>        <th class=\"col_heading level0 col1\" >1</th>        <th class=\"col_heading level0 col2\" >All</th>    </tr>    <tr>        <th class=\"index_name level0\" >SibSp</th>        <th class=\"blank\" ></th>        <th class=\"blank\" ></th>        <th class=\"blank\" ></th>    </tr></thead><tbody>\n",
       "                <tr>\n",
       "                        <th id=\"T_a5ecc4e4_a2bd_11e9_a2a2_97837e1f963clevel0_row0\" class=\"row_heading level0 row0\" >0</th>\n",
       "                        <td id=\"T_a5ecc4e4_a2bd_11e9_a2a2_97837e1f963crow0_col0\" class=\"data row0 col0\" >0.446689</td>\n",
       "                        <td id=\"T_a5ecc4e4_a2bd_11e9_a2a2_97837e1f963crow0_col1\" class=\"data row0 col1\" >0.23569</td>\n",
       "                        <td id=\"T_a5ecc4e4_a2bd_11e9_a2a2_97837e1f963crow0_col2\" class=\"data row0 col2\" >0.682379</td>\n",
       "            </tr>\n",
       "            <tr>\n",
       "                        <th id=\"T_a5ecc4e4_a2bd_11e9_a2a2_97837e1f963clevel0_row1\" class=\"row_heading level0 row1\" >1</th>\n",
       "                        <td id=\"T_a5ecc4e4_a2bd_11e9_a2a2_97837e1f963crow1_col0\" class=\"data row1 col0\" >0.108866</td>\n",
       "                        <td id=\"T_a5ecc4e4_a2bd_11e9_a2a2_97837e1f963crow1_col1\" class=\"data row1 col1\" >0.125701</td>\n",
       "                        <td id=\"T_a5ecc4e4_a2bd_11e9_a2a2_97837e1f963crow1_col2\" class=\"data row1 col2\" >0.234568</td>\n",
       "            </tr>\n",
       "            <tr>\n",
       "                        <th id=\"T_a5ecc4e4_a2bd_11e9_a2a2_97837e1f963clevel0_row2\" class=\"row_heading level0 row2\" >2</th>\n",
       "                        <td id=\"T_a5ecc4e4_a2bd_11e9_a2a2_97837e1f963crow2_col0\" class=\"data row2 col0\" >0.016835</td>\n",
       "                        <td id=\"T_a5ecc4e4_a2bd_11e9_a2a2_97837e1f963crow2_col1\" class=\"data row2 col1\" >0.0145903</td>\n",
       "                        <td id=\"T_a5ecc4e4_a2bd_11e9_a2a2_97837e1f963crow2_col2\" class=\"data row2 col2\" >0.0314254</td>\n",
       "            </tr>\n",
       "            <tr>\n",
       "                        <th id=\"T_a5ecc4e4_a2bd_11e9_a2a2_97837e1f963clevel0_row3\" class=\"row_heading level0 row3\" >3</th>\n",
       "                        <td id=\"T_a5ecc4e4_a2bd_11e9_a2a2_97837e1f963crow3_col0\" class=\"data row3 col0\" >0.013468</td>\n",
       "                        <td id=\"T_a5ecc4e4_a2bd_11e9_a2a2_97837e1f963crow3_col1\" class=\"data row3 col1\" >0.00448934</td>\n",
       "                        <td id=\"T_a5ecc4e4_a2bd_11e9_a2a2_97837e1f963crow3_col2\" class=\"data row3 col2\" >0.0179574</td>\n",
       "            </tr>\n",
       "            <tr>\n",
       "                        <th id=\"T_a5ecc4e4_a2bd_11e9_a2a2_97837e1f963clevel0_row4\" class=\"row_heading level0 row4\" >4</th>\n",
       "                        <td id=\"T_a5ecc4e4_a2bd_11e9_a2a2_97837e1f963crow4_col0\" class=\"data row4 col0\" >0.016835</td>\n",
       "                        <td id=\"T_a5ecc4e4_a2bd_11e9_a2a2_97837e1f963crow4_col1\" class=\"data row4 col1\" >0.003367</td>\n",
       "                        <td id=\"T_a5ecc4e4_a2bd_11e9_a2a2_97837e1f963crow4_col2\" class=\"data row4 col2\" >0.020202</td>\n",
       "            </tr>\n",
       "            <tr>\n",
       "                        <th id=\"T_a5ecc4e4_a2bd_11e9_a2a2_97837e1f963clevel0_row5\" class=\"row_heading level0 row5\" >5</th>\n",
       "                        <td id=\"T_a5ecc4e4_a2bd_11e9_a2a2_97837e1f963crow5_col0\" class=\"data row5 col0\" >0.00561167</td>\n",
       "                        <td id=\"T_a5ecc4e4_a2bd_11e9_a2a2_97837e1f963crow5_col1\" class=\"data row5 col1\" >0</td>\n",
       "                        <td id=\"T_a5ecc4e4_a2bd_11e9_a2a2_97837e1f963crow5_col2\" class=\"data row5 col2\" >0.00561167</td>\n",
       "            </tr>\n",
       "            <tr>\n",
       "                        <th id=\"T_a5ecc4e4_a2bd_11e9_a2a2_97837e1f963clevel0_row6\" class=\"row_heading level0 row6\" >8</th>\n",
       "                        <td id=\"T_a5ecc4e4_a2bd_11e9_a2a2_97837e1f963crow6_col0\" class=\"data row6 col0\" >0.00785634</td>\n",
       "                        <td id=\"T_a5ecc4e4_a2bd_11e9_a2a2_97837e1f963crow6_col1\" class=\"data row6 col1\" >0</td>\n",
       "                        <td id=\"T_a5ecc4e4_a2bd_11e9_a2a2_97837e1f963crow6_col2\" class=\"data row6 col2\" >0.00785634</td>\n",
       "            </tr>\n",
       "            <tr>\n",
       "                        <th id=\"T_a5ecc4e4_a2bd_11e9_a2a2_97837e1f963clevel0_row7\" class=\"row_heading level0 row7\" >All</th>\n",
       "                        <td id=\"T_a5ecc4e4_a2bd_11e9_a2a2_97837e1f963crow7_col0\" class=\"data row7 col0\" >0.616162</td>\n",
       "                        <td id=\"T_a5ecc4e4_a2bd_11e9_a2a2_97837e1f963crow7_col1\" class=\"data row7 col1\" >0.383838</td>\n",
       "                        <td id=\"T_a5ecc4e4_a2bd_11e9_a2a2_97837e1f963crow7_col2\" class=\"data row7 col2\" >1</td>\n",
       "            </tr>\n",
       "    </tbody></table>"
      ],
      "text/plain": [
       "<pandas.io.formats.style.Styler at 0x7fc4833f4860>"
      ]
     },
     "execution_count": 37,
     "metadata": {},
     "output_type": "execute_result"
    }
   ],
   "source": [
    "pd.crosstab(data['SibSp'], data['Survived'], margins=True, normalize=True).style.background_gradient(cmap='winter_r')"
   ]
  },
  {
   "cell_type": "code",
   "execution_count": 38,
   "metadata": {
    "_cell_guid": "e464b8ab-e642-4666-a701-059c1bd3b77b",
    "_uuid": "565dcbd1acdb973ccfacb41d1d509ee3c59cd126"
   },
   "outputs": [
    {
     "data": {
      "image/png": "[encoded data removed]",
      "text/plain": [
       "<Figure size 1440x576 with 2 Axes>"
      ]
     },
     "metadata": {
      "needs_background": "light"
     },
     "output_type": "display_data"
    }
   ],
   "source": [
    "# set up 2 axes\n",
    "f , ax = plt.subplots(1, 2 , figsize = (20,8))\n",
    "\n",
    "# ax[0]\n",
    "sns.barplot('SibSp', 'Survived', data = data, ax = ax[0])\n",
    "ax[0].set_title('SibSp vs Survived')\n",
    "\n",
    "# ax[1]\n",
    "sns.catplot(x='SibSp', y='Survived', kind='point', data = data, ax = ax[1])\n",
    "ax[1].set_title('SibSp vs Survived')\n",
    "\n",
    "plt.close(2)\n",
    "plt.show()"
   ]
  },
  {
   "cell_type": "code",
   "execution_count": 39,
   "metadata": {
    "_cell_guid": "c0ce45f8-0b08-4631-ade7-b3ddd3978414",
    "_uuid": "fcdc00224417620a8805e0e5d0b6e83c81119981"
   },
   "outputs": [
    {
     "data": {
      "text/html": [
       "<style  type=\"text/css\" >\n",
       "    #T_a67a3d2e_a2bd_11e9_a2a2_97837e1f963crow0_col0 {\n",
       "            background-color:  #0000ff;\n",
       "            color:  #f1f1f1;\n",
       "        }    #T_a67a3d2e_a2bd_11e9_a2a2_97837e1f963crow0_col1 {\n",
       "            background-color:  #0000ff;\n",
       "            color:  #f1f1f1;\n",
       "        }    #T_a67a3d2e_a2bd_11e9_a2a2_97837e1f963crow0_col2 {\n",
       "            background-color:  #0000ff;\n",
       "            color:  #f1f1f1;\n",
       "        }    #T_a67a3d2e_a2bd_11e9_a2a2_97837e1f963crow1_col0 {\n",
       "            background-color:  #007bc2;\n",
       "            color:  #f1f1f1;\n",
       "        }    #T_a67a3d2e_a2bd_11e9_a2a2_97837e1f963crow1_col1 {\n",
       "            background-color:  #008aba;\n",
       "            color:  #000000;\n",
       "        }    #T_a67a3d2e_a2bd_11e9_a2a2_97837e1f963crow1_col2 {\n",
       "            background-color:  #00c69c;\n",
       "            color:  #000000;\n",
       "        }    #T_a67a3d2e_a2bd_11e9_a2a2_97837e1f963crow2_col0 {\n",
       "            background-color:  #00f684;\n",
       "            color:  #000000;\n",
       "        }    #T_a67a3d2e_a2bd_11e9_a2a2_97837e1f963crow2_col1 {\n",
       "            background-color:  #00ee88;\n",
       "            color:  #000000;\n",
       "        }    #T_a67a3d2e_a2bd_11e9_a2a2_97837e1f963crow2_col2 {\n",
       "            background-color:  #00f883;\n",
       "            color:  #000000;\n",
       "        }    #T_a67a3d2e_a2bd_11e9_a2a2_97837e1f963crow3_col0 {\n",
       "            background-color:  #00fa82;\n",
       "            color:  #000000;\n",
       "        }    #T_a67a3d2e_a2bd_11e9_a2a2_97837e1f963crow3_col1 {\n",
       "            background-color:  #00fd80;\n",
       "            color:  #000000;\n",
       "        }    #T_a67a3d2e_a2bd_11e9_a2a2_97837e1f963crow3_col2 {\n",
       "            background-color:  #00fa82;\n",
       "            color:  #000000;\n",
       "        }    #T_a67a3d2e_a2bd_11e9_a2a2_97837e1f963crow4_col0 {\n",
       "            background-color:  #00ff80;\n",
       "            color:  #000000;\n",
       "        }    #T_a67a3d2e_a2bd_11e9_a2a2_97837e1f963crow4_col1 {\n",
       "            background-color:  #00ff80;\n",
       "            color:  #000000;\n",
       "        }    #T_a67a3d2e_a2bd_11e9_a2a2_97837e1f963crow4_col2 {\n",
       "            background-color:  #00f684;\n",
       "            color:  #000000;\n",
       "        }    #T_a67a3d2e_a2bd_11e9_a2a2_97837e1f963crow5_col0 {\n",
       "            background-color:  #00ff80;\n",
       "            color:  #000000;\n",
       "        }    #T_a67a3d2e_a2bd_11e9_a2a2_97837e1f963crow5_col1 {\n",
       "            background-color:  #00ff80;\n",
       "            color:  #000000;\n",
       "        }    #T_a67a3d2e_a2bd_11e9_a2a2_97837e1f963crow5_col2 {\n",
       "            background-color:  #00ff80;\n",
       "            color:  #000000;\n",
       "        }    #T_a67a3d2e_a2bd_11e9_a2a2_97837e1f963crow6_col0 {\n",
       "            background-color:  #00ff80;\n",
       "            color:  #000000;\n",
       "        }    #T_a67a3d2e_a2bd_11e9_a2a2_97837e1f963crow6_col1 {\n",
       "            background-color:  #00ff80;\n",
       "            color:  #000000;\n",
       "        }    #T_a67a3d2e_a2bd_11e9_a2a2_97837e1f963crow6_col2 {\n",
       "            background-color:  #00fe80;\n",
       "            color:  #000000;\n",
       "        }</style><table id=\"T_a67a3d2e_a2bd_11e9_a2a2_97837e1f963c\" ><thead>    <tr>        <th class=\"index_name level0\" >Pclass</th>        <th class=\"col_heading level0 col0\" >1</th>        <th class=\"col_heading level0 col1\" >2</th>        <th class=\"col_heading level0 col2\" >3</th>    </tr>    <tr>        <th class=\"index_name level0\" >SibSp</th>        <th class=\"blank\" ></th>        <th class=\"blank\" ></th>        <th class=\"blank\" ></th>    </tr></thead><tbody>\n",
       "                <tr>\n",
       "                        <th id=\"T_a67a3d2e_a2bd_11e9_a2a2_97837e1f963clevel0_row0\" class=\"row_heading level0 row0\" >0</th>\n",
       "                        <td id=\"T_a67a3d2e_a2bd_11e9_a2a2_97837e1f963crow0_col0\" class=\"data row0 col0\" >137</td>\n",
       "                        <td id=\"T_a67a3d2e_a2bd_11e9_a2a2_97837e1f963crow0_col1\" class=\"data row0 col1\" >120</td>\n",
       "                        <td id=\"T_a67a3d2e_a2bd_11e9_a2a2_97837e1f963crow0_col2\" class=\"data row0 col2\" >351</td>\n",
       "            </tr>\n",
       "            <tr>\n",
       "                        <th id=\"T_a67a3d2e_a2bd_11e9_a2a2_97837e1f963clevel0_row1\" class=\"row_heading level0 row1\" >1</th>\n",
       "                        <td id=\"T_a67a3d2e_a2bd_11e9_a2a2_97837e1f963crow1_col0\" class=\"data row1 col0\" >71</td>\n",
       "                        <td id=\"T_a67a3d2e_a2bd_11e9_a2a2_97837e1f963crow1_col1\" class=\"data row1 col1\" >55</td>\n",
       "                        <td id=\"T_a67a3d2e_a2bd_11e9_a2a2_97837e1f963crow1_col2\" class=\"data row1 col2\" >83</td>\n",
       "            </tr>\n",
       "            <tr>\n",
       "                        <th id=\"T_a67a3d2e_a2bd_11e9_a2a2_97837e1f963clevel0_row2\" class=\"row_heading level0 row2\" >2</th>\n",
       "                        <td id=\"T_a67a3d2e_a2bd_11e9_a2a2_97837e1f963crow2_col0\" class=\"data row2 col0\" >5</td>\n",
       "                        <td id=\"T_a67a3d2e_a2bd_11e9_a2a2_97837e1f963crow2_col1\" class=\"data row2 col1\" >8</td>\n",
       "                        <td id=\"T_a67a3d2e_a2bd_11e9_a2a2_97837e1f963crow2_col2\" class=\"data row2 col2\" >15</td>\n",
       "            </tr>\n",
       "            <tr>\n",
       "                        <th id=\"T_a67a3d2e_a2bd_11e9_a2a2_97837e1f963clevel0_row3\" class=\"row_heading level0 row3\" >3</th>\n",
       "                        <td id=\"T_a67a3d2e_a2bd_11e9_a2a2_97837e1f963crow3_col0\" class=\"data row3 col0\" >3</td>\n",
       "                        <td id=\"T_a67a3d2e_a2bd_11e9_a2a2_97837e1f963crow3_col1\" class=\"data row3 col1\" >1</td>\n",
       "                        <td id=\"T_a67a3d2e_a2bd_11e9_a2a2_97837e1f963crow3_col2\" class=\"data row3 col2\" >12</td>\n",
       "            </tr>\n",
       "            <tr>\n",
       "                        <th id=\"T_a67a3d2e_a2bd_11e9_a2a2_97837e1f963clevel0_row4\" class=\"row_heading level0 row4\" >4</th>\n",
       "                        <td id=\"T_a67a3d2e_a2bd_11e9_a2a2_97837e1f963crow4_col0\" class=\"data row4 col0\" >0</td>\n",
       "                        <td id=\"T_a67a3d2e_a2bd_11e9_a2a2_97837e1f963crow4_col1\" class=\"data row4 col1\" >0</td>\n",
       "                        <td id=\"T_a67a3d2e_a2bd_11e9_a2a2_97837e1f963crow4_col2\" class=\"data row4 col2\" >18</td>\n",
       "            </tr>\n",
       "            <tr>\n",
       "                        <th id=\"T_a67a3d2e_a2bd_11e9_a2a2_97837e1f963clevel0_row5\" class=\"row_heading level0 row5\" >5</th>\n",
       "                        <td id=\"T_a67a3d2e_a2bd_11e9_a2a2_97837e1f963crow5_col0\" class=\"data row5 col0\" >0</td>\n",
       "                        <td id=\"T_a67a3d2e_a2bd_11e9_a2a2_97837e1f963crow5_col1\" class=\"data row5 col1\" >0</td>\n",
       "                        <td id=\"T_a67a3d2e_a2bd_11e9_a2a2_97837e1f963crow5_col2\" class=\"data row5 col2\" >5</td>\n",
       "            </tr>\n",
       "            <tr>\n",
       "                        <th id=\"T_a67a3d2e_a2bd_11e9_a2a2_97837e1f963clevel0_row6\" class=\"row_heading level0 row6\" >8</th>\n",
       "                        <td id=\"T_a67a3d2e_a2bd_11e9_a2a2_97837e1f963crow6_col0\" class=\"data row6 col0\" >0</td>\n",
       "                        <td id=\"T_a67a3d2e_a2bd_11e9_a2a2_97837e1f963crow6_col1\" class=\"data row6 col1\" >0</td>\n",
       "                        <td id=\"T_a67a3d2e_a2bd_11e9_a2a2_97837e1f963crow6_col2\" class=\"data row6 col2\" >7</td>\n",
       "            </tr>\n",
       "    </tbody></table>"
      ],
      "text/plain": [
       "<pandas.io.formats.style.Styler at 0x7fc483383320>"
      ]
     },
     "execution_count": 39,
     "metadata": {},
     "output_type": "execute_result"
    }
   ],
   "source": [
    "pd.crosstab(data['SibSp'],data['Pclass']).style.background_gradient(cmap='winter_r')"
   ]
  },
  {
   "cell_type": "markdown",
   "metadata": {},
   "source": [
    "## Ponder w/ Neighbor"
   ]
  },
  {
   "cell_type": "markdown",
   "metadata": {},
   "source": [
    "What things do you notice? Write your observations here!"
   ]
  },
  {
   "cell_type": "markdown",
   "metadata": {},
   "source": [
    "<br>"
   ]
  },
  {
   "cell_type": "markdown",
   "metadata": {
    "_cell_guid": "4abd6f2c-0b9e-48a8-ba09-97ef75b3499a",
    "_uuid": "5f4af4fa5a1708815b12e4e0c330a6762647f44b",
    "collapsed": true
   },
   "source": [
    "## ```data['ParCh']``` --> Discrete Feature"
   ]
  },
  {
   "cell_type": "code",
   "execution_count": 40,
   "metadata": {
    "_cell_guid": "84e405d3-cd3d-4a00-840d-f3e51bbfd45f",
    "_uuid": "f426753939cc958e1c358e3cf165c5915a0fcc2d"
   },
   "outputs": [
    {
     "data": {
      "text/html": [
       "<style  type=\"text/css\" >\n",
       "    #T_a838bb4a_a2bd_11e9_a2a2_97837e1f963crow0_col0 {\n",
       "            background-color:  #0000ff;\n",
       "            color:  #f1f1f1;\n",
       "        }    #T_a838bb4a_a2bd_11e9_a2a2_97837e1f963crow0_col1 {\n",
       "            background-color:  #0000ff;\n",
       "            color:  #f1f1f1;\n",
       "        }    #T_a838bb4a_a2bd_11e9_a2a2_97837e1f963crow0_col2 {\n",
       "            background-color:  #0000ff;\n",
       "            color:  #f1f1f1;\n",
       "        }    #T_a838bb4a_a2bd_11e9_a2a2_97837e1f963crow1_col0 {\n",
       "            background-color:  #00cf98;\n",
       "            color:  #000000;\n",
       "        }    #T_a838bb4a_a2bd_11e9_a2a2_97837e1f963crow1_col1 {\n",
       "            background-color:  #00c29e;\n",
       "            color:  #000000;\n",
       "        }    #T_a838bb4a_a2bd_11e9_a2a2_97837e1f963crow1_col2 {\n",
       "            background-color:  #00db92;\n",
       "            color:  #000000;\n",
       "        }    #T_a838bb4a_a2bd_11e9_a2a2_97837e1f963crow2_col0 {\n",
       "            background-color:  #00df90;\n",
       "            color:  #000000;\n",
       "        }    #T_a838bb4a_a2bd_11e9_a2a2_97837e1f963crow2_col1 {\n",
       "            background-color:  #00e18e;\n",
       "            color:  #000000;\n",
       "        }    #T_a838bb4a_a2bd_11e9_a2a2_97837e1f963crow2_col2 {\n",
       "            background-color:  #00e38e;\n",
       "            color:  #000000;\n",
       "        }    #T_a838bb4a_a2bd_11e9_a2a2_97837e1f963crow3_col0 {\n",
       "            background-color:  #00ff80;\n",
       "            color:  #000000;\n",
       "        }    #T_a838bb4a_a2bd_11e9_a2a2_97837e1f963crow3_col1 {\n",
       "            background-color:  #00fc81;\n",
       "            color:  #000000;\n",
       "        }    #T_a838bb4a_a2bd_11e9_a2a2_97837e1f963crow3_col2 {\n",
       "            background-color:  #00fe80;\n",
       "            color:  #000000;\n",
       "        }    #T_a838bb4a_a2bd_11e9_a2a2_97837e1f963crow4_col0 {\n",
       "            background-color:  #00fe80;\n",
       "            color:  #000000;\n",
       "        }    #T_a838bb4a_a2bd_11e9_a2a2_97837e1f963crow4_col1 {\n",
       "            background-color:  #00ff80;\n",
       "            color:  #000000;\n",
       "        }    #T_a838bb4a_a2bd_11e9_a2a2_97837e1f963crow4_col2 {\n",
       "            background-color:  #00fe80;\n",
       "            color:  #000000;\n",
       "        }    #T_a838bb4a_a2bd_11e9_a2a2_97837e1f963crow5_col0 {\n",
       "            background-color:  #00ff80;\n",
       "            color:  #000000;\n",
       "        }    #T_a838bb4a_a2bd_11e9_a2a2_97837e1f963crow5_col1 {\n",
       "            background-color:  #00ff80;\n",
       "            color:  #000000;\n",
       "        }    #T_a838bb4a_a2bd_11e9_a2a2_97837e1f963crow5_col2 {\n",
       "            background-color:  #00fd80;\n",
       "            color:  #000000;\n",
       "        }    #T_a838bb4a_a2bd_11e9_a2a2_97837e1f963crow6_col0 {\n",
       "            background-color:  #00ff80;\n",
       "            color:  #000000;\n",
       "        }    #T_a838bb4a_a2bd_11e9_a2a2_97837e1f963crow6_col1 {\n",
       "            background-color:  #00ff80;\n",
       "            color:  #000000;\n",
       "        }    #T_a838bb4a_a2bd_11e9_a2a2_97837e1f963crow6_col2 {\n",
       "            background-color:  #00ff80;\n",
       "            color:  #000000;\n",
       "        }</style><table id=\"T_a838bb4a_a2bd_11e9_a2a2_97837e1f963c\" ><thead>    <tr>        <th class=\"index_name level0\" >Pclass</th>        <th class=\"col_heading level0 col0\" >1</th>        <th class=\"col_heading level0 col1\" >2</th>        <th class=\"col_heading level0 col2\" >3</th>    </tr>    <tr>        <th class=\"index_name level0\" >ParCh</th>        <th class=\"blank\" ></th>        <th class=\"blank\" ></th>        <th class=\"blank\" ></th>    </tr></thead><tbody>\n",
       "                <tr>\n",
       "                        <th id=\"T_a838bb4a_a2bd_11e9_a2a2_97837e1f963clevel0_row0\" class=\"row_heading level0 row0\" >0</th>\n",
       "                        <td id=\"T_a838bb4a_a2bd_11e9_a2a2_97837e1f963crow0_col0\" class=\"data row0 col0\" >163</td>\n",
       "                        <td id=\"T_a838bb4a_a2bd_11e9_a2a2_97837e1f963crow0_col1\" class=\"data row0 col1\" >134</td>\n",
       "                        <td id=\"T_a838bb4a_a2bd_11e9_a2a2_97837e1f963crow0_col2\" class=\"data row0 col2\" >381</td>\n",
       "            </tr>\n",
       "            <tr>\n",
       "                        <th id=\"T_a838bb4a_a2bd_11e9_a2a2_97837e1f963clevel0_row1\" class=\"row_heading level0 row1\" >1</th>\n",
       "                        <td id=\"T_a838bb4a_a2bd_11e9_a2a2_97837e1f963crow1_col0\" class=\"data row1 col0\" >31</td>\n",
       "                        <td id=\"T_a838bb4a_a2bd_11e9_a2a2_97837e1f963crow1_col1\" class=\"data row1 col1\" >32</td>\n",
       "                        <td id=\"T_a838bb4a_a2bd_11e9_a2a2_97837e1f963crow1_col2\" class=\"data row1 col2\" >55</td>\n",
       "            </tr>\n",
       "            <tr>\n",
       "                        <th id=\"T_a838bb4a_a2bd_11e9_a2a2_97837e1f963clevel0_row2\" class=\"row_heading level0 row2\" >2</th>\n",
       "                        <td id=\"T_a838bb4a_a2bd_11e9_a2a2_97837e1f963crow2_col0\" class=\"data row2 col0\" >21</td>\n",
       "                        <td id=\"T_a838bb4a_a2bd_11e9_a2a2_97837e1f963crow2_col1\" class=\"data row2 col1\" >16</td>\n",
       "                        <td id=\"T_a838bb4a_a2bd_11e9_a2a2_97837e1f963crow2_col2\" class=\"data row2 col2\" >43</td>\n",
       "            </tr>\n",
       "            <tr>\n",
       "                        <th id=\"T_a838bb4a_a2bd_11e9_a2a2_97837e1f963clevel0_row3\" class=\"row_heading level0 row3\" >3</th>\n",
       "                        <td id=\"T_a838bb4a_a2bd_11e9_a2a2_97837e1f963crow3_col0\" class=\"data row3 col0\" >0</td>\n",
       "                        <td id=\"T_a838bb4a_a2bd_11e9_a2a2_97837e1f963crow3_col1\" class=\"data row3 col1\" >2</td>\n",
       "                        <td id=\"T_a838bb4a_a2bd_11e9_a2a2_97837e1f963crow3_col2\" class=\"data row3 col2\" >3</td>\n",
       "            </tr>\n",
       "            <tr>\n",
       "                        <th id=\"T_a838bb4a_a2bd_11e9_a2a2_97837e1f963clevel0_row4\" class=\"row_heading level0 row4\" >4</th>\n",
       "                        <td id=\"T_a838bb4a_a2bd_11e9_a2a2_97837e1f963crow4_col0\" class=\"data row4 col0\" >1</td>\n",
       "                        <td id=\"T_a838bb4a_a2bd_11e9_a2a2_97837e1f963crow4_col1\" class=\"data row4 col1\" >0</td>\n",
       "                        <td id=\"T_a838bb4a_a2bd_11e9_a2a2_97837e1f963crow4_col2\" class=\"data row4 col2\" >3</td>\n",
       "            </tr>\n",
       "            <tr>\n",
       "                        <th id=\"T_a838bb4a_a2bd_11e9_a2a2_97837e1f963clevel0_row5\" class=\"row_heading level0 row5\" >5</th>\n",
       "                        <td id=\"T_a838bb4a_a2bd_11e9_a2a2_97837e1f963crow5_col0\" class=\"data row5 col0\" >0</td>\n",
       "                        <td id=\"T_a838bb4a_a2bd_11e9_a2a2_97837e1f963crow5_col1\" class=\"data row5 col1\" >0</td>\n",
       "                        <td id=\"T_a838bb4a_a2bd_11e9_a2a2_97837e1f963crow5_col2\" class=\"data row5 col2\" >5</td>\n",
       "            </tr>\n",
       "            <tr>\n",
       "                        <th id=\"T_a838bb4a_a2bd_11e9_a2a2_97837e1f963clevel0_row6\" class=\"row_heading level0 row6\" >6</th>\n",
       "                        <td id=\"T_a838bb4a_a2bd_11e9_a2a2_97837e1f963crow6_col0\" class=\"data row6 col0\" >0</td>\n",
       "                        <td id=\"T_a838bb4a_a2bd_11e9_a2a2_97837e1f963crow6_col1\" class=\"data row6 col1\" >0</td>\n",
       "                        <td id=\"T_a838bb4a_a2bd_11e9_a2a2_97837e1f963crow6_col2\" class=\"data row6 col2\" >1</td>\n",
       "            </tr>\n",
       "    </tbody></table>"
      ],
      "text/plain": [
       "<pandas.io.formats.style.Styler at 0x7fc4832de780>"
      ]
     },
     "execution_count": 40,
     "metadata": {},
     "output_type": "execute_result"
    }
   ],
   "source": [
    "pd.crosstab(data['ParCh'],data['Pclass']).style.background_gradient(cmap='winter_r')"
   ]
  },
  {
   "cell_type": "markdown",
   "metadata": {
    "_cell_guid": "d07b3740-3af3-442a-b640-54926597c999",
    "_uuid": "ecc5aebc2c638b3a6bbde9338b588d3d803c1af2"
   },
   "source": [
    "The crosstab again shows that larger families were in Pclass3."
   ]
  },
  {
   "cell_type": "code",
   "execution_count": 41,
   "metadata": {
    "_cell_guid": "fb77d798-a7dc-4483-8ce9-9cf8349934f1",
    "_uuid": "13b42065a19f14e2ce10dcf597377ea59c9bfc2d"
   },
   "outputs": [
    {
     "data": {
      "image/png": "[encoded data removed]",
      "text/plain": [
       "<Figure size 1440x576 with 2 Axes>"
      ]
     },
     "metadata": {
      "needs_background": "light"
     },
     "output_type": "display_data"
    }
   ],
   "source": [
    "f,ax=plt.subplots(1,2,figsize=(20,8))\n",
    "\n",
    "sns.barplot('ParCh','Survived',data=data,ax=ax[0])\n",
    "ax[0].set_title('ParCh vs Survived')\n",
    "\n",
    "sns.catplot('ParCh','Survived',kind='point', data=data,ax=ax[1])\n",
    "ax[1].set_title('ParCh vs Survived')\n",
    "\n",
    "plt.close(2)\n",
    "plt.show()"
   ]
  },
  {
   "cell_type": "markdown",
   "metadata": {},
   "source": [
    "## Ponder w/ Neighbor"
   ]
  },
  {
   "cell_type": "markdown",
   "metadata": {},
   "source": [
    "What things do you notice? Write your observations here!"
   ]
  },
  {
   "cell_type": "markdown",
   "metadata": {},
   "source": [
    "<br>"
   ]
  },
  {
   "cell_type": "markdown",
   "metadata": {
    "_cell_guid": "ce242dd4-c537-40f9-8223-76740512e966",
    "_uuid": "d873672610a96daa00522c850bd1b96013f92856"
   },
   "source": [
    "## ```data['Fare']``` --> Continous Feature"
   ]
  },
  {
   "cell_type": "code",
   "execution_count": 42,
   "metadata": {
    "_cell_guid": "db19b152-af6d-41f7-a545-fe41e4be18a8",
    "_uuid": "fbd3e42723ae1447bc2f1b91204ffa609b4d07c5"
   },
   "outputs": [
    {
     "name": "stdout",
     "output_type": "stream",
     "text": [
      "Highest Fare was: 512.3292\n",
      "Lowest Fare was: 0.0\n",
      "Average Fare was: 32.2042079685746\n"
     ]
    }
   ],
   "source": [
    "print('Highest Fare was:',data['Fare'].max())\n",
    "print('Lowest Fare was:',data['Fare'].min())\n",
    "print('Average Fare was:',data['Fare'].mean())"
   ]
  },
  {
   "cell_type": "markdown",
   "metadata": {
    "_cell_guid": "5ab99107-6bd5-47be-b512-120eab64e7ef",
    "_uuid": "9cce63092c5f0f6864e45e43197a9b9af78a6bd7"
   },
   "source": [
    "The lowest fare is **0.0**. Wow!! a free luxorious ride. "
   ]
  },
  {
   "cell_type": "code",
   "execution_count": 44,
   "metadata": {},
   "outputs": [
    {
     "data": {
      "text/html": [
       "<div>\n",
       "<style scoped>\n",
       "    .dataframe tbody tr th:only-of-type {\n",
       "        vertical-align: middle;\n",
       "    }\n",
       "\n",
       "    .dataframe tbody tr th {\n",
       "        vertical-align: top;\n",
       "    }\n",
       "\n",
       "    .dataframe thead th {\n",
       "        text-align: right;\n",
       "    }\n",
       "</style>\n",
       "<table border=\"1\" class=\"dataframe\">\n",
       "  <thead>\n",
       "    <tr style=\"text-align: right;\">\n",
       "      <th></th>\n",
       "      <th>PassengerId</th>\n",
       "      <th>Survived</th>\n",
       "      <th>Pclass</th>\n",
       "      <th>Name</th>\n",
       "      <th>Gender</th>\n",
       "      <th>Age</th>\n",
       "      <th>SibSp</th>\n",
       "      <th>ParCh</th>\n",
       "      <th>Ticket</th>\n",
       "      <th>Fare</th>\n",
       "      <th>Cabin</th>\n",
       "      <th>Embarked</th>\n",
       "      <th>Title</th>\n",
       "    </tr>\n",
       "  </thead>\n",
       "  <tbody>\n",
       "    <tr>\n",
       "      <th>0</th>\n",
       "      <td>1</td>\n",
       "      <td>0</td>\n",
       "      <td>3</td>\n",
       "      <td>Braund, Mr. Owen Harris</td>\n",
       "      <td>male</td>\n",
       "      <td>22.0</td>\n",
       "      <td>1</td>\n",
       "      <td>0</td>\n",
       "      <td>A/5 21171</td>\n",
       "      <td>7.2500</td>\n",
       "      <td>NaN</td>\n",
       "      <td>S</td>\n",
       "      <td>Mr</td>\n",
       "    </tr>\n",
       "    <tr>\n",
       "      <th>1</th>\n",
       "      <td>2</td>\n",
       "      <td>1</td>\n",
       "      <td>1</td>\n",
       "      <td>Cumings, Mrs. John Bradley (Florence Briggs Th...</td>\n",
       "      <td>female</td>\n",
       "      <td>38.0</td>\n",
       "      <td>1</td>\n",
       "      <td>0</td>\n",
       "      <td>PC 17599</td>\n",
       "      <td>71.2833</td>\n",
       "      <td>C85</td>\n",
       "      <td>C</td>\n",
       "      <td>Mrs</td>\n",
       "    </tr>\n",
       "    <tr>\n",
       "      <th>2</th>\n",
       "      <td>3</td>\n",
       "      <td>1</td>\n",
       "      <td>3</td>\n",
       "      <td>Heikkinen, Miss. Laina</td>\n",
       "      <td>female</td>\n",
       "      <td>26.0</td>\n",
       "      <td>0</td>\n",
       "      <td>0</td>\n",
       "      <td>STON/O2. 3101282</td>\n",
       "      <td>7.9250</td>\n",
       "      <td>NaN</td>\n",
       "      <td>S</td>\n",
       "      <td>Miss</td>\n",
       "    </tr>\n",
       "    <tr>\n",
       "      <th>3</th>\n",
       "      <td>4</td>\n",
       "      <td>1</td>\n",
       "      <td>1</td>\n",
       "      <td>Futrelle, Mrs. Jacques Heath (Lily May Peel)</td>\n",
       "      <td>female</td>\n",
       "      <td>35.0</td>\n",
       "      <td>1</td>\n",
       "      <td>0</td>\n",
       "      <td>113803</td>\n",
       "      <td>53.1000</td>\n",
       "      <td>C123</td>\n",
       "      <td>S</td>\n",
       "      <td>Mrs</td>\n",
       "    </tr>\n",
       "    <tr>\n",
       "      <th>4</th>\n",
       "      <td>5</td>\n",
       "      <td>0</td>\n",
       "      <td>3</td>\n",
       "      <td>Allen, Mr. William Henry</td>\n",
       "      <td>male</td>\n",
       "      <td>35.0</td>\n",
       "      <td>0</td>\n",
       "      <td>0</td>\n",
       "      <td>373450</td>\n",
       "      <td>8.0500</td>\n",
       "      <td>NaN</td>\n",
       "      <td>S</td>\n",
       "      <td>Mr</td>\n",
       "    </tr>\n",
       "  </tbody>\n",
       "</table>\n",
       "</div>"
      ],
      "text/plain": [
       "   PassengerId  Survived  Pclass  \\\n",
       "0            1         0       3   \n",
       "1            2         1       1   \n",
       "2            3         1       3   \n",
       "3            4         1       1   \n",
       "4            5         0       3   \n",
       "\n",
       "                                                Name  Gender   Age  SibSp  \\\n",
       "0                            Braund, Mr. Owen Harris    male  22.0      1   \n",
       "1  Cumings, Mrs. John Bradley (Florence Briggs Th...  female  38.0      1   \n",
       "2                             Heikkinen, Miss. Laina  female  26.0      0   \n",
       "3       Futrelle, Mrs. Jacques Heath (Lily May Peel)  female  35.0      1   \n",
       "4                           Allen, Mr. William Henry    male  35.0      0   \n",
       "\n",
       "   ParCh            Ticket     Fare Cabin Embarked Title  \n",
       "0      0         A/5 21171   7.2500   NaN        S    Mr  \n",
       "1      0          PC 17599  71.2833   C85        C   Mrs  \n",
       "2      0  STON/O2. 3101282   7.9250   NaN        S  Miss  \n",
       "3      0            113803  53.1000  C123        S   Mrs  \n",
       "4      0            373450   8.0500   NaN        S    Mr  "
      ]
     },
     "execution_count": 44,
     "metadata": {},
     "output_type": "execute_result"
    }
   ],
   "source": [
    "data.head()"
   ]
  },
  {
   "cell_type": "markdown",
   "metadata": {},
   "source": [
    "<br>"
   ]
  },
  {
   "cell_type": "markdown",
   "metadata": {},
   "source": [
    "<h3 style=\"color:red\"> Exercise 6: </h3>"
   ]
  },
  {
   "cell_type": "markdown",
   "metadata": {},
   "source": [
    "#### Question: What was the survival rate for those who got a \"free\" ride...?"
   ]
  },
  {
   "cell_type": "code",
   "execution_count": 49,
   "metadata": {},
   "outputs": [
    {
     "data": {
      "text/plain": [
       "0.06666666666666667"
      ]
     },
     "execution_count": 49,
     "metadata": {},
     "output_type": "execute_result"
    }
   ],
   "source": [
    "data.loc[data[\"Fare\"] == 0]['Survived'].mean()# Survival rate for free loaders?"
   ]
  },
  {
   "cell_type": "markdown",
   "metadata": {},
   "source": [
    "# Oh..."
   ]
  },
  {
   "cell_type": "markdown",
   "metadata": {},
   "source": [
    "<br>"
   ]
  },
  {
   "cell_type": "code",
   "execution_count": 50,
   "metadata": {
    "_cell_guid": "e9c4559e-913c-4a2d-9e96-6385e7ed6a06",
    "_uuid": "cea989cb8581e2d563009339e8194b81c531afde",
    "scrolled": true
   },
   "outputs": [
    {
     "data": {
      "image/png": "[encoded data removed]",
      "text/plain": [
       "<Figure size 1080x1080 with 4 Axes>"
      ]
     },
     "metadata": {
      "needs_background": "light"
     },
     "output_type": "display_data"
    }
   ],
   "source": [
    "# Set 4 axes\n",
    "f,ax=plt.subplots(2,2,figsize=(15,15))\n",
    "\n",
    "# ax[0,0]\n",
    "sns.distplot(data[data['Pclass']==1]['Fare'],ax=ax[0][0])\n",
    "ax[0][0].set_title('Fares in Pclass 1')\n",
    "# ax[0][0].set_xlim(-50,500)\n",
    "\n",
    "# ax[0,1]\n",
    "sns.distplot(data[data['Pclass']==2]['Fare'],ax=ax[0][1])\n",
    "ax[0][1].set_title('Fares in Pclass 2')\n",
    "# ax[0][1].set_xlim(-50,500)\n",
    "\n",
    "# ax[1,0]\n",
    "sns.distplot(data[data['Pclass']==3]['Fare'], ax=ax[1][0])\n",
    "ax[1][0].set_title('Fares in Pclass 3')\n",
    "# ax[1][0].set_xlim(-50,500)\n",
    "\n",
    "plt.show()"
   ]
  },
  {
   "cell_type": "markdown",
   "metadata": {},
   "source": [
    "<br>"
   ]
  },
  {
   "cell_type": "markdown",
   "metadata": {
    "_cell_guid": "de570fa8-3b6c-48b9-908c-6bdb9978bda1",
    "_uuid": "3918cdff2761844f861290010cac76797c2499eb",
    "collapsed": true
   },
   "source": [
    "## Final Observations for each Feature:\n",
    "**Gender:** \n",
    "Females have higher chance of survival\n",
    "Gender is a good measure, but should be in tandem with PClass\n",
    "\n",
    "**Pclass:** \n",
    "Pclass 1 and 2 were strong indicators of survival, mostly for Female\n",
    "Not quite as pronouncd for males but still a good indicator.\n",
    "\n",
    "**Age:** \n",
    "A lot of 30-35 yr olds survived but a larger amount also persished\n",
    "15-20 had a higher survival rate\n",
    "0-10 had a good survival rate\n",
    "\n",
    "**Embarked:** \n",
    "Lower chance of survival in port S, ecause most are from pclass 3.\n",
    "Same for survival in port Q, because most are from pclass 3 .\n",
    "\n",
    "\n",
    "**Parch+SibSp:** Groups of 2 had largest survival, groups smaller or larger suffered."
   ]
  },
  {
   "cell_type": "markdown",
   "metadata": {},
   "source": [
    "<br>"
   ]
  },
  {
   "cell_type": "markdown",
   "metadata": {
    "_cell_guid": "410e5ca6-2aa4-42a9-9875-d5aeb87d831f",
    "_uuid": "3b7ef048f72c226d996c6ad955b2b171d1780b93"
   },
   "source": [
    "## Correlation Between The Features"
   ]
  },
  {
   "cell_type": "code",
   "execution_count": 51,
   "metadata": {
    "_cell_guid": "88547a8f-28bb-469e-b3b8-5e5fbc4a1e30",
    "_uuid": "afa990766959d5cafd155c0c10c8c2d5afab2919",
    "scrolled": false
   },
   "outputs": [
    {
     "data": {
      "image/png": "[encoded data removed]",
      "text/plain": [
       "<Figure size 432x288 with 2 Axes>"
      ]
     },
     "metadata": {},
     "output_type": "display_data"
    }
   ],
   "source": [
    "sns.set_style(\"whitegrid\")\n",
    "\n",
    "correlations = data.corr()\n",
    "correlations = correlations * 100\n",
    "\n",
    "bool_mask = np.zeros_like(correlations, dtype=np.bool)\n",
    "bool_mask[np.triu_indices_from(bool_mask)] = True\n",
    "\n",
    "sns.heatmap(correlations, annot=True, fmt='.0f', cmap = 'RdYlGn', mask=bool_mask)\n",
    "plt.show()"
   ]
  },
  {
   "cell_type": "markdown",
   "metadata": {},
   "source": [
    "## Ponder w/ Neighbor"
   ]
  },
  {
   "cell_type": "markdown",
   "metadata": {},
   "source": [
    "What things do you notice? Write your observations here!"
   ]
  },
  {
   "cell_type": "markdown",
   "metadata": {},
   "source": [
    "<br>"
   ]
  },
  {
   "cell_type": "markdown",
   "metadata": {},
   "source": [
    "### Let's Verify that we've cleaned our dataset accordingly!"
   ]
  },
  {
   "cell_type": "code",
   "execution_count": 52,
   "metadata": {},
   "outputs": [
    {
     "data": {
      "text/plain": [
       "PassengerId      0\n",
       "Survived         0\n",
       "Pclass           0\n",
       "Name             0\n",
       "Gender           0\n",
       "Age              0\n",
       "SibSp            0\n",
       "ParCh            0\n",
       "Ticket           0\n",
       "Fare             0\n",
       "Cabin          687\n",
       "Embarked         0\n",
       "Title            0\n",
       "dtype: int64"
      ]
     },
     "execution_count": 52,
     "metadata": {},
     "output_type": "execute_result"
    }
   ],
   "source": [
    "data.isnull().sum()"
   ]
  },
  {
   "cell_type": "markdown",
   "metadata": {},
   "source": [
    "<br>"
   ]
  },
  {
   "cell_type": "markdown",
   "metadata": {},
   "source": [
    "## Save your cleaned dataset!"
   ]
  },
  {
   "cell_type": "code",
   "execution_count": 53,
   "metadata": {},
   "outputs": [],
   "source": [
    "data.to_csv(\"../data/clean/titanic_cleaned.csv\", index=None)"
   ]
  }
 ],
 "metadata": {
  "kernelspec": {
   "display_name": "Python 3",
   "language": "python",
   "name": "python3"
  },
  "language_info": {
   "codemirror_mode": {
    "name": "ipython",
    "version": 3
   },
   "file_extension": ".py",
   "mimetype": "text/x-python",
   "name": "python",
   "nbconvert_exporter": "python",
   "pygments_lexer": "ipython3",
   "version": "3.7.3"
  }
 },
 "nbformat": 4,
 "nbformat_minor": 2
}
