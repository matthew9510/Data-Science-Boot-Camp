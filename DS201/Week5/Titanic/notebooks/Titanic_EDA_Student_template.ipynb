{
 "cells": [
  {
   "cell_type": "markdown",
   "metadata": {
    "_cell_guid": "c986a9fb-e199-40eb-947d-c398d54f6b1e",
    "_uuid": "0ce8368deb46a77d2115dbc3d37859e8aa20c953"
   },
   "source": [
    "# Titanic Death Prediction\n",
    "<hr>"
   ]
  },
  {
   "cell_type": "code",
   "execution_count": null,
   "metadata": {
    "_cell_guid": "d7601bd6-d22f-499f-97b9-85e01d390f05",
    "_uuid": "7bb401b4e2e509cc8a53e9cf645226fa508fa2e2"
   },
   "outputs": [],
   "source": [
    "import numpy as np \n",
    "import pandas as pd\n",
    "\n",
    "import matplotlib.pyplot as plt\n",
    "import seaborn as sns\n",
    "plt.style.use('fivethirtyeight')"
   ]
  },
  {
   "cell_type": "markdown",
   "metadata": {},
   "source": [
    "### Load Data"
   ]
  },
  {
   "cell_type": "code",
   "execution_count": null,
   "metadata": {
    "_cell_guid": "c12ac199-e3e3-4372-a747-baa6273f4561",
    "_uuid": "ebc88acccbc14bf28e4e4d49eee1ea82dcc31ab4"
   },
   "outputs": [],
   "source": [
    "data = pd.read_csv('../data/train.csv')"
   ]
  },
  {
   "cell_type": "code",
   "execution_count": null,
   "metadata": {},
   "outputs": [],
   "source": [
    "data.head()"
   ]
  },
  {
   "cell_type": "markdown",
   "metadata": {},
   "source": [
    "<br>"
   ]
  },
  {
   "cell_type": "markdown",
   "metadata": {},
   "source": [
    "### Check `shape` of data"
   ]
  },
  {
   "cell_type": "code",
   "execution_count": null,
   "metadata": {},
   "outputs": [],
   "source": [
    "data.shape"
   ]
  },
  {
   "cell_type": "markdown",
   "metadata": {},
   "source": [
    "<br>"
   ]
  },
  {
   "cell_type": "markdown",
   "metadata": {},
   "source": [
    "### Check column `dtypes`"
   ]
  },
  {
   "cell_type": "code",
   "execution_count": null,
   "metadata": {},
   "outputs": [],
   "source": [
    "data.dtypes"
   ]
  },
  {
   "cell_type": "markdown",
   "metadata": {},
   "source": [
    "<br>"
   ]
  },
  {
   "cell_type": "markdown",
   "metadata": {},
   "source": [
    "### Check for total `null` Values."
   ]
  },
  {
   "cell_type": "code",
   "execution_count": null,
   "metadata": {
    "_cell_guid": "5ef569cd-e99e-42f0-93ec-abbc6a90c00e",
    "_uuid": "1496190095fb1cd2e289c63c986c6eb951046860"
   },
   "outputs": [],
   "source": [
    "data.isnull().sum()"
   ]
  },
  {
   "cell_type": "markdown",
   "metadata": {
    "_cell_guid": "31972ab9-edef-49e3-bcd5-120262cf00d8",
    "_uuid": "fcedf70d9bdab89fb7eb8ff3769b14f0b5036a33"
   },
   "source": [
    "The **Age, Cabin and Embarked** have null values. We will fix these in the next notebook."
   ]
  },
  {
   "cell_type": "markdown",
   "metadata": {},
   "source": [
    "<br>"
   ]
  },
  {
   "cell_type": "markdown",
   "metadata": {
    "_cell_guid": "bf5980c3-b168-4a26-81f3-c7bdcedb6429",
    "_uuid": "18ba4a8f0909fd0a758b8cb8717327de8aeacdc8"
   },
   "source": [
    "---\n",
    "## Part 1: Exploratory Data Analysis (EDA)\n",
    "---"
   ]
  },
  {
   "cell_type": "markdown",
   "metadata": {
    "_cell_guid": "841dc40d-06b4-4010-b996-8d1e23857341",
    "_uuid": "d433fbf891d9268f60bf395d7db4e61996989d04"
   },
   "source": [
    "### Question: How many Survivors? Who were they?"
   ]
  },
  {
   "cell_type": "code",
   "execution_count": null,
   "metadata": {
    "_cell_guid": "fabb7625-a8ef-4f37-99c6-3ec93679ef1f",
    "_uuid": "c60257aef24e867113873729829c7a1e33f4a0ab"
   },
   "outputs": [],
   "source": [
    "# Set up 2 axes to plot\n",
    "f, ax = plt.subplots(1,2, figsize=(18,8))\n",
    "\n",
    "# ax[0]\n",
    "data['Survived'].value_counts().plot(kind='pie', explode = [0,0.1], autopct = '%1.1f%%', ax = ax[0], shadow = True)\n",
    "ax[0].set_title('Survived')\n",
    "ax[0].set_ylabel('')  # no need for y_label on pie chart.\n",
    "\n",
    "## ax[1]\n",
    "sns.countplot('Survived', data = data, ax = ax[1])\n",
    "ax[1].set_title('Distribution of Surviuval')\n",
    "\n",
    "plt.show()"
   ]
  },
  {
   "cell_type": "markdown",
   "metadata": {},
   "source": [
    "## Ponder w/ Neighbor"
   ]
  },
  {
   "cell_type": "markdown",
   "metadata": {},
   "source": [
    "What things do you notice? Write your observations here!"
   ]
  },
  {
   "cell_type": "markdown",
   "metadata": {},
   "source": [
    "<br>\n",
    "<hr>"
   ]
  },
  {
   "cell_type": "markdown",
   "metadata": {
    "_cell_guid": "f16f40df-3681-4330-ba57-2955094a6546",
    "_uuid": "01e521761a33c3bc2961e2613f729c164269ee51"
   },
   "source": [
    "## The Types of Features found in The Titanic Dataset"
   ]
  },
  {
   "cell_type": "markdown",
   "metadata": {
    "_cell_guid": "f16f40df-3681-4330-ba57-2955094a6546",
    "_uuid": "01e521761a33c3bc2961e2613f729c164269ee51"
   },
   "source": [
    "### Categorical Features:\n",
    "A categorical variable is one that has two or more categories and each value in that feature can be categorised by them.For example, gender is a categorical variable having two categories (male and female). Now we cannot sort or give any ordering to such variables. They are also known as **Nominal Variables**.\n",
    "\n",
    "**Categorical Features in the dataset: `Gender`,`Embarked`.**"
   ]
  },
  {
   "cell_type": "markdown",
   "metadata": {
    "_cell_guid": "f16f40df-3681-4330-ba57-2955094a6546",
    "_uuid": "01e521761a33c3bc2961e2613f729c164269ee51"
   },
   "source": [
    "### Ordinal Features:\n",
    "An ordinal variable is similar to categorical values, but the difference between them is that we can have relative ordering or sorting between the values. For eg: If we have a feature like **Height** with values **Tall, Medium, Short**, then Height is a ordinal variable. Here we can have a relative sort in the variable.\n",
    "\n",
    "**Ordinal Features in the dataset: `PClass`**"
   ]
  },
  {
   "cell_type": "markdown",
   "metadata": {
    "_cell_guid": "f16f40df-3681-4330-ba57-2955094a6546",
    "_uuid": "01e521761a33c3bc2961e2613f729c164269ee51"
   },
   "source": [
    "### Continous Feature:\n",
    "A feature is said to be continous if it can take values between any two points or between the minimum or maximum values in the features column.\n",
    "\n",
    "**Continous Features in the dataset: `Age`**"
   ]
  },
  {
   "cell_type": "markdown",
   "metadata": {},
   "source": [
    "<br>\n",
    "<hr>\n",
    "<br>"
   ]
  },
  {
   "cell_type": "markdown",
   "metadata": {
    "_cell_guid": "ccd13018-e5fb-4022-ac41-cadce1994dbe",
    "_uuid": "2b36f7862279cf64a76a9950f703bfed4ca220f6"
   },
   "source": [
    "## Analysing The Features"
   ]
  },
  {
   "cell_type": "markdown",
   "metadata": {
    "_cell_guid": "8d5bd219-61ce-4c88-b0c5-aaffce8cb1cc",
    "_uuid": "8b5ad1ae98e4aad980f24bbefb489e6ac049768b"
   },
   "source": [
    "## ```data['Gender']``` --> Categorical Feature"
   ]
  },
  {
   "cell_type": "code",
   "execution_count": null,
   "metadata": {
    "_cell_guid": "06218a7d-bf3c-40b1-9cfa-2a915f7bc005",
    "_uuid": "c06e043424e13b87fcb020322e4869430fd0714f"
   },
   "outputs": [],
   "source": [
    "# Set up 2 axes to plot\n",
    "f, ax = plt.subplots(1, 2, figsize= (18,8))\n",
    "\n",
    "# ax[0]\n",
    "data[['Gender','Survived']].groupby(['Gender']).mean().plot(kind='bar', ax=ax[0])\n",
    "ax[0].set_title('Survived vs Gender')\n",
    "\n",
    "# ax[1]\n",
    "sns.countplot('Gender',hue='Survived', data=data,ax=ax[1])\n",
    "ax[1].set_title('Gender: Survived vs umm... NOT Survived')\n",
    "\n",
    "plt.show()"
   ]
  },
  {
   "cell_type": "markdown",
   "metadata": {},
   "source": [
    "## Ponder w/ Neighbor"
   ]
  },
  {
   "cell_type": "markdown",
   "metadata": {},
   "source": [
    "What things do you notice? Write your observations here!"
   ]
  },
  {
   "cell_type": "markdown",
   "metadata": {},
   "source": [
    "<br>\n",
    "<hr>\n",
    "<br>"
   ]
  },
  {
   "cell_type": "markdown",
   "metadata": {
    "_cell_guid": "a210b0c8-dd8e-4fd0-a7f2-e597b7ed81e6",
    "_uuid": "e3b6327723dedd766d452f55b4056bbd0b37bed2"
   },
   "source": [
    "## ```data['Pclass']``` --> Ordinal Feature"
   ]
  },
  {
   "cell_type": "code",
   "execution_count": null,
   "metadata": {
    "_cell_guid": "2477b536-32dd-43a0-8824-be034104b760",
    "_uuid": "4a98fe27c4474296c6b51f4a2b7fb076c228b4b8"
   },
   "outputs": [],
   "source": [
    "pd.crosstab(index=data['Pclass'], columns=data['Survived'], margins = True).style.background_gradient(cmap='winter_r')"
   ]
  },
  {
   "cell_type": "code",
   "execution_count": null,
   "metadata": {},
   "outputs": [],
   "source": [
    "data.shape"
   ]
  },
  {
   "cell_type": "code",
   "execution_count": null,
   "metadata": {
    "_cell_guid": "c3adaaa2-f675-4273-ba93-8b26c37bacf3",
    "_uuid": "592a3d8c24761c3f6e8c5cf875554826d9e308a5"
   },
   "outputs": [],
   "source": [
    "# Set up 2 axes\n",
    "f, ax = plt.subplots(1,2,figsize=(18,8))\n",
    "\n",
    "# ax[0]\n",
    "data['Pclass'].value_counts().sort_index().plot(kind='bar', ax = ax[0])\n",
    "ax[0].set_title('Number Of Passengers By Pclass')\n",
    "ax[0].set_ylabel('Count')\n",
    "\n",
    "# ax[1]\n",
    "sns.countplot('Pclass', hue = 'Survived', data = data, ax = ax[1])\n",
    "ax[1].set_title('Pclass:Survived vs Dead')\n",
    "\n",
    "plt.show()"
   ]
  },
  {
   "cell_type": "markdown",
   "metadata": {},
   "source": [
    "## Ponder w/ Neighbor"
   ]
  },
  {
   "cell_type": "markdown",
   "metadata": {},
   "source": [
    "What things do you notice? Write your observations here!\n",
    "\n",
    "\n"
   ]
  },
  {
   "cell_type": "markdown",
   "metadata": {},
   "source": [
    "<br>\n",
    "<hr>\n",
    "<br>"
   ]
  },
  {
   "cell_type": "markdown",
   "metadata": {},
   "source": [
    "## `data['Pclass']` & `data['Gender']`"
   ]
  },
  {
   "cell_type": "markdown",
   "metadata": {},
   "source": [
    "<h3 style=\"color:red\"> Exercise 1: </h3>"
   ]
  },
  {
   "cell_type": "markdown",
   "metadata": {},
   "source": [
    "1. Create a multi-index `pd.crosstab()` that compares both `Gender` and `Survived` against `Pclass`\n",
    "2. Make sure to pass in `True` for the `margins` parameter\n",
    "3. For styles, add .styles.background_gradient(cmap='') to the end of your code.\n",
    "\n",
    "4. **Possible cmap Values:** when you leave the cmap string blank aka '', python will spit back a list of all possible values! "
   ]
  },
  {
   "cell_type": "code",
   "execution_count": null,
   "metadata": {
    "_cell_guid": "7d413d16-2861-4aca-9042-38e374eddef3",
    "_uuid": "1308ec5a68849984dfd1e05b53c52b6192363a18"
   },
   "outputs": [],
   "source": [
    "# Crosstab Gender and Survived vs Pclass"
   ]
  },
  {
   "cell_type": "markdown",
   "metadata": {},
   "source": [
    "<br>\n",
    "<br>"
   ]
  },
  {
   "cell_type": "markdown",
   "metadata": {},
   "source": [
    "### Pointplots!\n",
    "We must use `pd.catplot()` and pass `'point'` to the `kind` parameter."
   ]
  },
  {
   "cell_type": "markdown",
   "metadata": {},
   "source": [
    "Great for finding the average rate for some binary variable, in this case `survived`\n",
    "\n",
    "1. You can add dimensions to this!\n",
    "2. We can divide these approximations into the 3 `Pclass` classes along the x axis\n",
    "3. Then, we can add the hue parameter to then further divide these groups by `Gender`"
   ]
  },
  {
   "cell_type": "code",
   "execution_count": null,
   "metadata": {
    "_cell_guid": "1fd41001-f153-4a78-806b-72b16a34f88f",
    "_uuid": "710111beaace27f0e85958a0639f2b2175b0892c"
   },
   "outputs": [],
   "source": [
    "sns.catplot(x= 'Pclass', y= 'Survived', hue= 'Gender', data= data, kind=\"point\")\n",
    "plt.show()"
   ]
  },
  {
   "cell_type": "markdown",
   "metadata": {},
   "source": [
    "## Ponder w/ Neighbor"
   ]
  },
  {
   "cell_type": "markdown",
   "metadata": {},
   "source": [
    "What things do you notice? Write your observations here!"
   ]
  },
  {
   "cell_type": "markdown",
   "metadata": {},
   "source": [
    "<br>\n",
    "<hr>\n",
    "<br>"
   ]
  },
  {
   "cell_type": "markdown",
   "metadata": {
    "_cell_guid": "b9a8739f-9bfa-48a0-8b55-85694f8c7b36",
    "_uuid": "da1710d88cdb726d4c74d1580eb4650823f8e1a9"
   },
   "source": [
    "## ```data['Age']``` --> Continous Feature\n"
   ]
  },
  {
   "cell_type": "code",
   "execution_count": null,
   "metadata": {
    "_cell_guid": "d8c1dc5a-2f74-4c88-9101-6c98abaf9878",
    "_uuid": "58e1110e104a4628f2852fa284905525997c2c44"
   },
   "outputs": [],
   "source": [
    "print('Oldest Passenger was',data['Age'].max(),'years old.')\n",
    "print('Youngest Passenger was',data['Age'].min(),'years old')\n",
    "print()\n",
    "print('Average Age on the ship was of:', round(data['Age'].mean()),'years.')"
   ]
  },
  {
   "cell_type": "code",
   "execution_count": null,
   "metadata": {
    "_cell_guid": "cf3e9729-799e-4142-84ff-0dbb6906136e",
    "_uuid": "a43082dc51717bbcc0a036db2d78b7732eb41ef1"
   },
   "outputs": [],
   "source": [
    "# Make 2 axes\n",
    "f, ax = plt.subplots(1, 2, figsize = (18,8))\n",
    "\n",
    "# ax[0] - pclass and age vs survived\n",
    "sns.violinplot(\"Pclass\", \"Age\", hue = \"Survived\", data = data, split = True, ax = ax[0])\n",
    "ax[0].set_title('Pclass and Age vs Survived')\n",
    "ax[0].set_yticks(range(0, 110, 10))\n",
    "\n",
    "# ax[1] - gender and age vs survived\n",
    "sns.violinplot(\"Gender\", \"Age\", hue = \"Survived\", data = data, split = True, ax = ax[1])\n",
    "ax[1].set_title('Gender and Age vs Survived')\n",
    "ax[1].set_yticks(range(0, 110, 10))\n",
    "\n",
    "plt.show()"
   ]
  },
  {
   "cell_type": "markdown",
   "metadata": {},
   "source": [
    "## Ponder w/ Neighbor"
   ]
  },
  {
   "cell_type": "markdown",
   "metadata": {},
   "source": [
    "What things do you notice? Write your observations here!"
   ]
  },
  {
   "cell_type": "markdown",
   "metadata": {},
   "source": [
    "<br>\n",
    "<hr>\n",
    "<br>"
   ]
  },
  {
   "cell_type": "markdown",
   "metadata": {
    "_cell_guid": "23be39a5-be98-422b-8116-90cb0fd120ba",
    "_uuid": "d347a55f54b1ee15ce39ad0e22d873a2c32fc736"
   },
   "source": [
    "### What's In A Name? ...mild Feature Engineering"
   ]
  },
  {
   "cell_type": "markdown",
   "metadata": {},
   "source": [
    "### `data['Title']`"
   ]
  },
  {
   "cell_type": "code",
   "execution_count": null,
   "metadata": {},
   "outputs": [],
   "source": [
    "data['Name'].head()"
   ]
  },
  {
   "cell_type": "code",
   "execution_count": null,
   "metadata": {},
   "outputs": [],
   "source": [
    "data['Title'] = data['Name'].str.extract('([A-Za-z]+)\\.')"
   ]
  },
  {
   "cell_type": "markdown",
   "metadata": {
    "_cell_guid": "8efd06d8-dee6-4892-a986-25944cf2bf61",
    "_uuid": "413c7cdc7469c86bd9d13fd54c731ecb58704197"
   },
   "source": [
    "Okay so here we are using the Regex: **[A-Za-z]+)\\.**. So what it does is, it looks for strings which lie between **A-Z or a-z** and followed by a **.(dot)**. So we successfully extract the Title from the Name."
   ]
  },
  {
   "cell_type": "markdown",
   "metadata": {},
   "source": [
    "<h3 style=\"color:red\"> Exercise 2: </h3>"
   ]
  },
  {
   "cell_type": "markdown",
   "metadata": {},
   "source": [
    "1. Create a single-index `pd.crosstab()` that compares the new `Title` variable against `Gender`\n",
    "2. No need for the `margins` Parameter for this one!\n",
    "3. For styles, add .styles.background_gradient(cmap='') to the end of your code.\n",
    "4. Notice anything interesting?"
   ]
  },
  {
   "cell_type": "code",
   "execution_count": null,
   "metadata": {},
   "outputs": [],
   "source": [
    "# Crosstab Gender and Title vs Gender"
   ]
  },
  {
   "cell_type": "markdown",
   "metadata": {
    "_cell_guid": "1d7d94e4-240e-4cfc-ba21-d036b3bd7869",
    "_uuid": "f0514c0b00c34f72bd77eb597a4e08a1c9edf982"
   },
   "source": [
    "Okay so there are some misspelled Titles like Mlle or Mme that stand for Miss. I will replace them with Miss and same thing for other values."
   ]
  },
  {
   "cell_type": "markdown",
   "metadata": {},
   "source": [
    "#### Can we get away with changing the Female `'Dr.'` into a `'Mrs.'`?"
   ]
  },
  {
   "cell_type": "code",
   "execution_count": null,
   "metadata": {},
   "outputs": [],
   "source": [
    "data.loc[(data[\"Title\"] == \"Dr\") & (data[\"Gender\"] == \"female\")]"
   ]
  },
  {
   "cell_type": "markdown",
   "metadata": {},
   "source": [
    "#### Change the female `'Dr'` into a `'Mrs'`"
   ]
  },
  {
   "cell_type": "code",
   "execution_count": null,
   "metadata": {},
   "outputs": [],
   "source": [
    "data.loc[(data[\"Title\"] == \"Dr\") & (data[\"Gender\"] == \"female\"), \"Title\"] = \"Mrs\""
   ]
  },
  {
   "cell_type": "markdown",
   "metadata": {},
   "source": [
    "#### `data['Title']` is WAY too Sparse, let's fix it."
   ]
  },
  {
   "cell_type": "markdown",
   "metadata": {},
   "source": [
    "We'll combine all Titles into 1 of 5 generic titles:\n",
    "1. Miss (Madammes, Madmouselle's, etc)\n",
    "2. Mrs (Ladies, Donas, etc)\n",
    "3. Mr (Sirs, Dons, etc)\n",
    "4. Other (Reverends, Jonkheers, etc)\n",
    "5. Master (Remains untouched)"
   ]
  },
  {
   "cell_type": "code",
   "execution_count": null,
   "metadata": {},
   "outputs": [],
   "source": [
    "data['Title'] = data['Title'].replace({'Mlle':'Miss', \n",
    "                                       'Mme':'Miss', \n",
    "                                       'Ms':'Miss', \n",
    "                                       'Countess':'Mrs',\n",
    "                                       'Lady':'Mrs',\n",
    "                                       'Dona':'Mrs',\n",
    "                                       'Capt':'Mr', \n",
    "                                       'Sir':'Mr', \n",
    "                                       'Don':'Mr',\n",
    "                                       'Dr':'Mr', \n",
    "                                       'Major':'Mr',\n",
    "                                       'Jonkheer':'Other', \n",
    "                                       'Col':'Other', \n",
    "                                       'Rev':'Other', })"
   ]
  },
  {
   "cell_type": "code",
   "execution_count": null,
   "metadata": {},
   "outputs": [],
   "source": [
    "data['Age'].isnull().sum()"
   ]
  },
  {
   "cell_type": "markdown",
   "metadata": {},
   "source": [
    "<br>"
   ]
  },
  {
   "cell_type": "markdown",
   "metadata": {
    "_cell_guid": "57ec5300-f0e3-46ce-a920-6c1846901b6d",
    "_uuid": "d2bbefba6442fcd47e04c90daa43f58fc001e47b"
   },
   "source": [
    "### Filling NaN Ages"
   ]
  },
  {
   "cell_type": "markdown",
   "metadata": {},
   "source": [
    "<h3 style=\"color:red\"> Exercise 3: </h3>"
   ]
  },
  {
   "cell_type": "markdown",
   "metadata": {},
   "source": [
    "#### Fill the rest of the `Title` groups with their avg age. \n",
    "avg_ages holds the series with each title and its corresponding avg age. You can finish this task manually, or if you want a bigger challenge, there is definitely a programmatic way of completing this task.\n",
    "\n",
    "1. use .loc[] to fill in the avg age for each `Title`\n",
    "2. (optional) do this task with a for loop."
   ]
  },
  {
   "cell_type": "code",
   "execution_count": null,
   "metadata": {
    "_cell_guid": "c1d0c1dd-ac10-4360-99e1-dfea7418ad0e",
    "_uuid": "f09f5aefc80a89f0f3af69cd9fdf30afb576f456"
   },
   "outputs": [],
   "source": [
    "avg_ages = data.groupby('Title')['Age'].mean() #lets check the average age by Title"
   ]
  },
  {
   "cell_type": "code",
   "execution_count": null,
   "metadata": {},
   "outputs": [],
   "source": [
    "avg_ages"
   ]
  },
  {
   "cell_type": "markdown",
   "metadata": {},
   "source": [
    "<br>"
   ]
  },
  {
   "cell_type": "markdown",
   "metadata": {},
   "source": [
    "**Use this to check your work, you know you're done when the return value is** `0`"
   ]
  },
  {
   "cell_type": "code",
   "execution_count": null,
   "metadata": {},
   "outputs": [],
   "source": [
    "data['Age'].isnull().sum()"
   ]
  },
  {
   "cell_type": "code",
   "execution_count": null,
   "metadata": {},
   "outputs": [],
   "source": [
    "avg_ages"
   ]
  },
  {
   "cell_type": "markdown",
   "metadata": {},
   "source": [
    "#### Your work Here!\n",
    "`Master` has been done for you!"
   ]
  },
  {
   "cell_type": "code",
   "execution_count": null,
   "metadata": {
    "_cell_guid": "f006b4b0-a8aa-432c-9bdb-040a435e77f8",
    "_uuid": "8bd3c34f7f539bc3d4720531da6405e2d0e96b46"
   },
   "outputs": [],
   "source": [
    "# Master\n",
    "data.loc[(data['Age'].isnull())&(data['Title']=='Master'),'Age'] = 5"
   ]
  },
  {
   "cell_type": "markdown",
   "metadata": {
    "_cell_guid": "f006b4b0-a8aa-432c-9bdb-040a435e77f8",
    "_uuid": "8bd3c34f7f539bc3d4720531da6405e2d0e96b46"
   },
   "source": [
    "#### Optional: Replace all `NaN`s in `Age` column, for remaining `titles` with a `loop`"
   ]
  },
  {
   "cell_type": "code",
   "execution_count": null,
   "metadata": {},
   "outputs": [],
   "source": [
    "# For Loop here! ...if you like."
   ]
  },
  {
   "cell_type": "markdown",
   "metadata": {},
   "source": [
    "<br>\n",
    "<hr>"
   ]
  },
  {
   "cell_type": "markdown",
   "metadata": {
    "_cell_guid": "1966db49-4dd7-4b34-98c1-5387f9c3fb70",
    "_uuid": "5a99134fe7128642103b9b859172b6db85da3514"
   },
   "source": [
    "### Chances for Survival by Age"
   ]
  },
  {
   "cell_type": "code",
   "execution_count": null,
   "metadata": {
    "_cell_guid": "b2ed1983-50d5-405c-8bad-c61a087758f5",
    "_uuid": "dff9fcc871c21b4949d0082f3609151bb6f3e726"
   },
   "outputs": [],
   "source": [
    "# Set up Figure and Axes\n",
    "f, ax = plt.subplots(1, 2, figsize = (20,10))\n",
    "\n",
    "# ax[0]\n",
    "data[data['Survived'] == 0]['Age'].hist(ax = ax[0], bins = 20, edgecolor = 'black', color = 'red')\n",
    "ax[0].set_title('Did NOT Survive')\n",
    "\n",
    "x1=list(range(0,85,5))\n",
    "ax[0].set_xticks(x1)\n",
    "ax[0].set_ylim(0,140)\n",
    "\n",
    "# ax[1]\n",
    "data[data['Survived'] == 1]['Age'].hist(ax = ax[1], bins = 20, edgecolor = 'black', color = 'green')\n",
    "ax[1].set_title('Survived')\n",
    "\n",
    "x2=list(range(0,85,5))\n",
    "ax[1].set_xticks(x2)\n",
    "ax[1].set_ylim(0,140)\n",
    "\n",
    "# Show plot\n",
    "plt.show()"
   ]
  },
  {
   "cell_type": "markdown",
   "metadata": {},
   "source": [
    "## Ponder w/ Neighbor"
   ]
  },
  {
   "cell_type": "markdown",
   "metadata": {},
   "source": [
    "What things do you notice? Write your observations here!"
   ]
  },
  {
   "cell_type": "markdown",
   "metadata": {},
   "source": [
    "<h3 style=\"color:red\"> Exercise 4: </h3>"
   ]
  },
  {
   "cell_type": "markdown",
   "metadata": {},
   "source": [
    "Create a Multi-Column `pointplot`, with the `sns.catplot()` function. Where each column represents a different `title`\n",
    "\n",
    "---\n",
    "\n",
    "`sns.catplot()` Parameters\n",
    "\n",
    "---\n",
    "1. `kind`: We want a `pointplot`, what do we pass in for that again? \n",
    "2. `data`: Pass in the var name for your titanic `dataset`.\n",
    "3. `col` : We want as many side-by-side plots as unique titles\n",
    "4. `x`: We want each column to be further devided up by `Pclass`\n",
    "5. `y`: We want to analyze the survival rate for all of the above segmentations."
   ]
  },
  {
   "cell_type": "code",
   "execution_count": null,
   "metadata": {
    "_cell_guid": "82ec9949-9681-42d0-959d-02fe4ff2675c",
    "_uuid": "e81923d749fef3cfc374b9b2dcbc9f27e8cc1ecc"
   },
   "outputs": [],
   "source": [
    "# pointplot here\n",
    "\n",
    "# fig = plt.gcf()\n",
    "# fig.set_size_inches(12,3)\n",
    "# plt.show()"
   ]
  },
  {
   "cell_type": "markdown",
   "metadata": {},
   "source": [
    "<br>\n",
    "<hr>\n",
    "<br>"
   ]
  },
  {
   "cell_type": "markdown",
   "metadata": {
    "_cell_guid": "8be8b82f-8d91-471e-adc0-80dc6d3def0b",
    "_uuid": "a24b323daf19e8fd6cacc83f549523b49a0789e7"
   },
   "source": [
    "## ```data['Embarked]``` --> Categorical Value"
   ]
  },
  {
   "cell_type": "code",
   "execution_count": null,
   "metadata": {
    "_cell_guid": "ec30e8cc-471d-4616-be83-b01bd45d51a7",
    "_uuid": "0d9307f18fcc510c7615e73080f23ba6cb80c3ae"
   },
   "outputs": [],
   "source": [
    "pd.crosstab(index=[data['Embarked'], data['Pclass']], columns=[data['Gender'], data['Survived']], margins = True).style.background_gradient(cmap='winter_r')"
   ]
  },
  {
   "cell_type": "markdown",
   "metadata": {
    "_cell_guid": "1966db49-4dd7-4b34-98c1-5387f9c3fb70",
    "_uuid": "5a99134fe7128642103b9b859172b6db85da3514"
   },
   "source": [
    "### Chances for Survival by Port Of Embarkation"
   ]
  },
  {
   "cell_type": "code",
   "execution_count": null,
   "metadata": {
    "_cell_guid": "4193b498-a67c-49f1-b6ec-71c4bf0300a1",
    "_uuid": "8dce8ddd858624321e8a69f2e9a5a30ade19aa12"
   },
   "outputs": [],
   "source": [
    "sns.catplot(kind='point', data = data, col='Pclass', x='Embarked', y='Survived', hue='Gender')\n",
    "\n",
    "fig = plt.gcf()\n",
    "fig.set_size_inches(12,3)\n",
    "plt.subplots_adjust(wspace=0.2,hspace=0.8)\n",
    "plt.show()"
   ]
  },
  {
   "cell_type": "code",
   "execution_count": null,
   "metadata": {
    "_cell_guid": "51ff68c3-ffa2-4ac7-95ee-04ecb7d9da64",
    "_uuid": "dfcab3effc1ebf8653e3a4b61149b44fc146fdfb"
   },
   "outputs": [],
   "source": [
    "# set up four axes\n",
    "f,ax = plt.subplots(2, 2, figsize=(20,15))\n",
    "\n",
    "# ax[0,0]\n",
    "sns.countplot('Embarked',data=data,ax=ax[0,0])\n",
    "ax[0,0].set_title('No. Of Passengers Boarded')\n",
    "\n",
    "# ax[0,1]\n",
    "sns.countplot('Embarked',hue='Gender',data=data,ax=ax[0,1])\n",
    "ax[0,1].set_title('Male-Female Split for Embarked')\n",
    "\n",
    "# ax[1,0]\n",
    "sns.countplot('Embarked',hue='Survived',data=data,ax=ax[1,0])\n",
    "ax[1,0].set_title('Embarked vs Survived')\n",
    "\n",
    "# ax[1,1]\n",
    "sns.countplot('Embarked',hue='Pclass',data=data,ax=ax[1,1])\n",
    "ax[1,1].set_title('Embarked vs Pclass')\n",
    "\n",
    "\n",
    "plt.subplots_adjust(wspace=0.2,hspace=0.5)\n",
    "plt.show()"
   ]
  },
  {
   "cell_type": "markdown",
   "metadata": {},
   "source": [
    "## Ponder w/ Neighbor"
   ]
  },
  {
   "cell_type": "markdown",
   "metadata": {},
   "source": [
    "What things do you notice? Write your observations here!"
   ]
  },
  {
   "cell_type": "markdown",
   "metadata": {},
   "source": [
    "Thoughts?"
   ]
  },
  {
   "cell_type": "markdown",
   "metadata": {},
   "source": [
    "<br>"
   ]
  },
  {
   "cell_type": "markdown",
   "metadata": {},
   "source": [
    "<h3 style=\"color:red\"> Exercise 5: </h3>"
   ]
  },
  {
   "cell_type": "markdown",
   "metadata": {},
   "source": [
    "1. Create a multi-column pointplot with the `kind`=`'point'` parameter in `sns.catplot()`\n",
    "2. Compares `Pclass` to `Survived` in the x vs y axes \n",
    "3. Define the columns aka `col` with the `Embarked` variable.\n",
    "4. Lastly, Add a `hue` to differentiate by `Gender`"
   ]
  },
  {
   "cell_type": "code",
   "execution_count": null,
   "metadata": {},
   "outputs": [],
   "source": [
    "# pointplot here\n",
    "\n",
    "# plt.show()"
   ]
  },
  {
   "cell_type": "markdown",
   "metadata": {},
   "source": [
    "## Ponder w/ Neighbor"
   ]
  },
  {
   "cell_type": "markdown",
   "metadata": {},
   "source": [
    "What things do you notice? Write your observations here!"
   ]
  },
  {
   "cell_type": "markdown",
   "metadata": {},
   "source": [
    "<br>"
   ]
  },
  {
   "cell_type": "markdown",
   "metadata": {
    "_cell_guid": "9d2984b4-c9a7-44bf-ada3-78afc83bcd26",
    "_uuid": "c124234128b669e41546daab16bfb85d14b5dc03",
    "collapsed": true
   },
   "source": [
    "### Embarked: Filling NaN values\n",
    "\n",
    "As we saw that maximum passengers boarded from Port S, we replace NaN with S."
   ]
  },
  {
   "cell_type": "code",
   "execution_count": null,
   "metadata": {},
   "outputs": [],
   "source": [
    "data.isnull().sum()"
   ]
  },
  {
   "cell_type": "code",
   "execution_count": null,
   "metadata": {
    "_cell_guid": "62309104-404b-4f79-a50b-1f1747fde9f5",
    "_uuid": "c77ed7f842ec862326ca6b9986e21a0a7d69acff"
   },
   "outputs": [],
   "source": [
    "data['Embarked'] = data['Embarked'].fillna('S')"
   ]
  },
  {
   "cell_type": "code",
   "execution_count": null,
   "metadata": {
    "_cell_guid": "56d6a590-9ab2-4be6-8a90-f0bb9e908cae",
    "_uuid": "16f31e0c60dc64d638d9505b2eaa855fb20205cc"
   },
   "outputs": [],
   "source": [
    "data['Embarked'].isnull().sum() # Finally No NaN values"
   ]
  },
  {
   "cell_type": "markdown",
   "metadata": {},
   "source": [
    "<br>"
   ]
  },
  {
   "cell_type": "markdown",
   "metadata": {
    "_cell_guid": "05194e42-445e-41a5-9124-e4ec29d1ac2a",
    "_uuid": "838c230d6e4027c9f87b702ffd5805284c74ca4d",
    "collapsed": true
   },
   "source": [
    "## ```data['SibSp']``` --> Discrete Feature\n",
    "**This feature represents whether a person is alone or with family members.**\n",
    "\n",
    "**Sibling** = brother, sister, stepbrother, stepsister\n",
    "\n",
    "**Spouse** = husband, wife "
   ]
  },
  {
   "cell_type": "code",
   "execution_count": null,
   "metadata": {
    "_cell_guid": "ae7b6019-3162-400f-9746-8d8239049751",
    "_uuid": "56069ce478b75673fab78145fb6a6741cad28d76"
   },
   "outputs": [],
   "source": [
    "pd.crosstab(data['SibSp'], data['Survived'], margins=True, normalize=True).style.background_gradient(cmap='winter_r')"
   ]
  },
  {
   "cell_type": "code",
   "execution_count": null,
   "metadata": {
    "_cell_guid": "e464b8ab-e642-4666-a701-059c1bd3b77b",
    "_uuid": "565dcbd1acdb973ccfacb41d1d509ee3c59cd126"
   },
   "outputs": [],
   "source": [
    "# set up 2 axes\n",
    "f , ax = plt.subplots(1, 2 , figsize = (20,8))\n",
    "\n",
    "# ax[0]\n",
    "sns.barplot('SibSp', 'Survived', data = data, ax = ax[0])\n",
    "ax[0].set_title('SibSp vs Survived')\n",
    "\n",
    "# ax[1]\n",
    "sns.catplot(x='SibSp', y='Survived', kind='point', data = data, ax = ax[1])\n",
    "ax[1].set_title('SibSp vs Survived')\n",
    "\n",
    "plt.close(2)\n",
    "plt.show()"
   ]
  },
  {
   "cell_type": "code",
   "execution_count": null,
   "metadata": {
    "_cell_guid": "c0ce45f8-0b08-4631-ade7-b3ddd3978414",
    "_uuid": "fcdc00224417620a8805e0e5d0b6e83c81119981"
   },
   "outputs": [],
   "source": [
    "pd.crosstab(data['SibSp'],data['Pclass']).style.background_gradient(cmap='winter_r')"
   ]
  },
  {
   "cell_type": "markdown",
   "metadata": {},
   "source": [
    "## Ponder w/ Neighbor"
   ]
  },
  {
   "cell_type": "markdown",
   "metadata": {},
   "source": [
    "What things do you notice? Write your observations here!"
   ]
  },
  {
   "cell_type": "markdown",
   "metadata": {},
   "source": [
    "<br>"
   ]
  },
  {
   "cell_type": "markdown",
   "metadata": {
    "_cell_guid": "4abd6f2c-0b9e-48a8-ba09-97ef75b3499a",
    "_uuid": "5f4af4fa5a1708815b12e4e0c330a6762647f44b",
    "collapsed": true
   },
   "source": [
    "## ```data['ParCh']``` --> Discrete Feature"
   ]
  },
  {
   "cell_type": "code",
   "execution_count": null,
   "metadata": {
    "_cell_guid": "84e405d3-cd3d-4a00-840d-f3e51bbfd45f",
    "_uuid": "f426753939cc958e1c358e3cf165c5915a0fcc2d"
   },
   "outputs": [],
   "source": [
    "pd.crosstab(data['ParCh'],data['Pclass']).style.background_gradient(cmap='winter_r')"
   ]
  },
  {
   "cell_type": "markdown",
   "metadata": {
    "_cell_guid": "d07b3740-3af3-442a-b640-54926597c999",
    "_uuid": "ecc5aebc2c638b3a6bbde9338b588d3d803c1af2"
   },
   "source": [
    "The crosstab again shows that larger families were in Pclass3."
   ]
  },
  {
   "cell_type": "code",
   "execution_count": null,
   "metadata": {
    "_cell_guid": "fb77d798-a7dc-4483-8ce9-9cf8349934f1",
    "_uuid": "13b42065a19f14e2ce10dcf597377ea59c9bfc2d"
   },
   "outputs": [],
   "source": [
    "f,ax=plt.subplots(1,2,figsize=(20,8))\n",
    "\n",
    "sns.barplot('ParCh','Survived',data=data,ax=ax[0])\n",
    "ax[0].set_title('ParCh vs Survived')\n",
    "\n",
    "sns.catplot('ParCh','Survived',kind='point', data=data,ax=ax[1])\n",
    "ax[1].set_title('ParCh vs Survived')\n",
    "\n",
    "plt.close(2)\n",
    "plt.show()"
   ]
  },
  {
   "cell_type": "markdown",
   "metadata": {},
   "source": [
    "## Ponder w/ Neighbor"
   ]
  },
  {
   "cell_type": "markdown",
   "metadata": {},
   "source": [
    "What things do you notice? Write your observations here!"
   ]
  },
  {
   "cell_type": "markdown",
   "metadata": {},
   "source": [
    "<br>"
   ]
  },
  {
   "cell_type": "markdown",
   "metadata": {
    "_cell_guid": "ce242dd4-c537-40f9-8223-76740512e966",
    "_uuid": "d873672610a96daa00522c850bd1b96013f92856"
   },
   "source": [
    "## ```data['Fare']``` --> Continous Feature"
   ]
  },
  {
   "cell_type": "code",
   "execution_count": null,
   "metadata": {
    "_cell_guid": "db19b152-af6d-41f7-a545-fe41e4be18a8",
    "_uuid": "fbd3e42723ae1447bc2f1b91204ffa609b4d07c5"
   },
   "outputs": [],
   "source": [
    "print('Highest Fare was:',data['Fare'].max())\n",
    "print('Lowest Fare was:',data['Fare'].min())\n",
    "print('Average Fare was:',data['Fare'].mean())"
   ]
  },
  {
   "cell_type": "markdown",
   "metadata": {
    "_cell_guid": "5ab99107-6bd5-47be-b512-120eab64e7ef",
    "_uuid": "9cce63092c5f0f6864e45e43197a9b9af78a6bd7"
   },
   "source": [
    "The lowest fare is **0.0**. Wow!! a free luxorious ride. "
   ]
  },
  {
   "cell_type": "markdown",
   "metadata": {},
   "source": [
    "<br>"
   ]
  },
  {
   "cell_type": "markdown",
   "metadata": {},
   "source": [
    "<h3 style=\"color:red\"> Exercise 6: </h3>"
   ]
  },
  {
   "cell_type": "markdown",
   "metadata": {},
   "source": [
    "#### Question: What was the survival rate for those who got a \"free\" ride...?"
   ]
  },
  {
   "cell_type": "code",
   "execution_count": null,
   "metadata": {},
   "outputs": [],
   "source": [
    "# Survival rate for free loaders?"
   ]
  },
  {
   "cell_type": "markdown",
   "metadata": {},
   "source": [
    "# Oh..."
   ]
  },
  {
   "cell_type": "markdown",
   "metadata": {},
   "source": [
    "<br>"
   ]
  },
  {
   "cell_type": "code",
   "execution_count": null,
   "metadata": {
    "_cell_guid": "e9c4559e-913c-4a2d-9e96-6385e7ed6a06",
    "_uuid": "cea989cb8581e2d563009339e8194b81c531afde",
    "scrolled": true
   },
   "outputs": [],
   "source": [
    "# Set 4 axes\n",
    "f,ax=plt.subplots(2,2,figsize=(15,15))\n",
    "\n",
    "# ax[0,0]\n",
    "sns.distplot(data[data['Pclass']==1]['Fare'],ax=ax[0][0])\n",
    "ax[0][0].set_title('Fares in Pclass 1')\n",
    "# ax[0][0].set_xlim(-50,500)\n",
    "\n",
    "# ax[0,1]\n",
    "sns.distplot(data[data['Pclass']==2]['Fare'],ax=ax[0][1])\n",
    "ax[0][1].set_title('Fares in Pclass 2')\n",
    "# ax[0][1].set_xlim(-50,500)\n",
    "\n",
    "# ax[1,0]\n",
    "sns.distplot(data[data['Pclass']==3]['Fare'], ax=ax[1][0])\n",
    "ax[1][0].set_title('Fares in Pclass 3')\n",
    "# ax[1][0].set_xlim(-50,500)\n",
    "\n",
    "plt.show()"
   ]
  },
  {
   "cell_type": "markdown",
   "metadata": {},
   "source": [
    "<br>"
   ]
  },
  {
   "cell_type": "markdown",
   "metadata": {
    "_cell_guid": "de570fa8-3b6c-48b9-908c-6bdb9978bda1",
    "_uuid": "3918cdff2761844f861290010cac76797c2499eb",
    "collapsed": true
   },
   "source": [
    "## Final Observations for each Feature:\n",
    "**Gender:** \n",
    "Females have higher chance of survival\n",
    "Gender is a good measure, but should be in tandem with PClass\n",
    "\n",
    "**Pclass:** \n",
    "Pclass 1 and 2 were strong indicators of survival, mostly for Female\n",
    "Not quite as pronouncd for males but still a good indicator.\n",
    "\n",
    "**Age:** \n",
    "A lot of 30-35 yr olds survived but a larger amount also persished\n",
    "15-20 had a higher rate\n",
    "0-10 had a good survival rate\n",
    "\n",
    "**Embarked:** \n",
    "Lower chance of survival in port S, ecause most are from pclass 3.\n",
    "Same for survival in port Q, because most are from pclass 3 .\n",
    "\n",
    "\n",
    "**Parch+SibSp:** Groups of 2 had largest survival, groups smaller or larger suffered."
   ]
  },
  {
   "cell_type": "markdown",
   "metadata": {},
   "source": [
    "<br>"
   ]
  },
  {
   "cell_type": "markdown",
   "metadata": {
    "_cell_guid": "410e5ca6-2aa4-42a9-9875-d5aeb87d831f",
    "_uuid": "3b7ef048f72c226d996c6ad955b2b171d1780b93"
   },
   "source": [
    "## Correlation Between The Features"
   ]
  },
  {
   "cell_type": "code",
   "execution_count": null,
   "metadata": {
    "_cell_guid": "88547a8f-28bb-469e-b3b8-5e5fbc4a1e30",
    "_uuid": "afa990766959d5cafd155c0c10c8c2d5afab2919",
    "scrolled": false
   },
   "outputs": [],
   "source": [
    "sns.set_style(\"whitegrid\")\n",
    "\n",
    "correlations = data.corr()\n",
    "correlations = correlations * 100\n",
    "\n",
    "bool_mask = np.zeros_like(correlations, dtype=np.bool)\n",
    "bool_mask[np.triu_indices_from(bool_mask)] = True\n",
    "\n",
    "sns.heatmap(correlations, annot=True, fmt='.0f', cmap = 'RdYlGn', mask=bool_mask)\n",
    "plt.show()"
   ]
  },
  {
   "cell_type": "markdown",
   "metadata": {},
   "source": [
    "## Ponder w/ Neighbor"
   ]
  },
  {
   "cell_type": "markdown",
   "metadata": {},
   "source": [
    "What things do you notice? Write your observations here!"
   ]
  },
  {
   "cell_type": "markdown",
   "metadata": {},
   "source": [
    "<br>"
   ]
  },
  {
   "cell_type": "markdown",
   "metadata": {},
   "source": [
    "### Let's Verify that we've cleaned our dataset accordingly!"
   ]
  },
  {
   "cell_type": "code",
   "execution_count": null,
   "metadata": {},
   "outputs": [],
   "source": [
    "data.isnull().sum()"
   ]
  },
  {
   "cell_type": "markdown",
   "metadata": {},
   "source": [
    "<br>"
   ]
  },
  {
   "cell_type": "markdown",
   "metadata": {},
   "source": [
    "## Save your cleaned dataset!"
   ]
  },
  {
   "cell_type": "code",
   "execution_count": null,
   "metadata": {},
   "outputs": [],
   "source": [
    "data.to_csv(\"../data/clean/titanic_cleaned.csv\", index=None)"
   ]
  }
 ],
 "metadata": {
  "kernelspec": {
   "display_name": "Python 3",
   "language": "python",
   "name": "python3"
  },
  "language_info": {
   "codemirror_mode": {
    "name": "ipython",
    "version": 3
   },
   "file_extension": ".py",
   "mimetype": "text/x-python",
   "name": "python",
   "nbconvert_exporter": "python",
   "pygments_lexer": "ipython3",
   "version": "3.7.3"
  }
 },
 "nbformat": 4,
 "nbformat_minor": 2
}
