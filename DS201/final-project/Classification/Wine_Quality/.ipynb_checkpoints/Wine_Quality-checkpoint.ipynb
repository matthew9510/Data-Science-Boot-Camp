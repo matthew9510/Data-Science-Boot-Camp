{
 "cells": [
  {
   "cell_type": "markdown",
   "metadata": {},
   "source": [
    "# Predicting Wine Quality"
   ]
  },
  {
   "cell_type": "markdown",
   "metadata": {},
   "source": [
    "We want to predict the quality of a wine, so for this dataset, you must split it into a train and test set. Leave the test set till the very end to check model performance!\n",
    "\n",
    "1) Perform EDA to get an idea as to what the underlyng patterns may be between a good and bad wine\n",
    "\n",
    "> Remember, our squishy human brains can only contend with a few variables at a time, so the ultimate objective is to build a model that codifies the patterns present accross SEVERAL variables, to build a roboust predictor of wine quality\n",
    "\n",
    "2) Clean Data\n",
    "\n",
    "> Remember, We want to have our data be as clean as possible, remove NaNs, group sparse classes, etc...\n",
    "> Reductive Process\n",
    "\n",
    "3) Engineer Features\n",
    "\n",
    "> Create new features that add value to your data, no redundant features!!\n",
    "> Creatuive Process\n",
    "\n",
    "4) Run Models\n",
    "\n",
    "> You may have to repeat the steps above if your model is underperforming"
   ]
  },
  {
   "cell_type": "markdown",
   "metadata": {},
   "source": [
    "## Imports"
   ]
  },
  {
   "cell_type": "code",
   "execution_count": 20,
   "metadata": {},
   "outputs": [],
   "source": [
    "import pandas as pd\n",
    "import matplotlib.pyplot as plt\n",
    "import seaborn as sns"
   ]
  },
  {
   "cell_type": "markdown",
   "metadata": {},
   "source": [
    "## Load Data"
   ]
  },
  {
   "cell_type": "code",
   "execution_count": 21,
   "metadata": {},
   "outputs": [
    {
     "data": {
      "text/plain": [
       "type                    0\n",
       "fixed acidity           0\n",
       "volatile acidity        0\n",
       "citric acid             0\n",
       "residual sugar          0\n",
       "chlorides               0\n",
       "free sulfur dioxide     0\n",
       "total sulfur dioxide    0\n",
       "density                 0\n",
       "pH                      0\n",
       "sulphates               0\n",
       "alcohol                 0\n",
       "quality                 0\n",
       "dtype: int64"
      ]
     },
     "execution_count": 21,
     "metadata": {},
     "output_type": "execute_result"
    }
   ],
   "source": [
    "df = pd.read_csv('wine_quality.csv')\n",
    "df = df.dropna()\n",
    "df.isnull().sum()"
   ]
  },
  {
   "cell_type": "code",
   "execution_count": 22,
   "metadata": {},
   "outputs": [
    {
     "name": "stdout",
     "output_type": "stream",
     "text": [
      "<class 'pandas.core.frame.DataFrame'>\n",
      "Int64Index: 6463 entries, 0 to 6496\n",
      "Data columns (total 13 columns):\n",
      "type                    6463 non-null object\n",
      "fixed acidity           6463 non-null float64\n",
      "volatile acidity        6463 non-null float64\n",
      "citric acid             6463 non-null float64\n",
      "residual sugar          6463 non-null float64\n",
      "chlorides               6463 non-null float64\n",
      "free sulfur dioxide     6463 non-null float64\n",
      "total sulfur dioxide    6463 non-null float64\n",
      "density                 6463 non-null float64\n",
      "pH                      6463 non-null float64\n",
      "sulphates               6463 non-null float64\n",
      "alcohol                 6463 non-null float64\n",
      "quality                 6463 non-null object\n",
      "dtypes: float64(11), object(2)\n",
      "memory usage: 706.9+ KB\n"
     ]
    }
   ],
   "source": [
    "df.info()"
   ]
  },
  {
   "cell_type": "code",
   "execution_count": 23,
   "metadata": {
    "scrolled": true
   },
   "outputs": [
    {
     "data": {
      "text/html": [
       "<div>\n",
       "<style scoped>\n",
       "    .dataframe tbody tr th:only-of-type {\n",
       "        vertical-align: middle;\n",
       "    }\n",
       "\n",
       "    .dataframe tbody tr th {\n",
       "        vertical-align: top;\n",
       "    }\n",
       "\n",
       "    .dataframe thead th {\n",
       "        text-align: right;\n",
       "    }\n",
       "</style>\n",
       "<table border=\"1\" class=\"dataframe\">\n",
       "  <thead>\n",
       "    <tr style=\"text-align: right;\">\n",
       "      <th></th>\n",
       "      <th>type</th>\n",
       "      <th>fixed acidity</th>\n",
       "      <th>volatile acidity</th>\n",
       "      <th>citric acid</th>\n",
       "      <th>residual sugar</th>\n",
       "      <th>chlorides</th>\n",
       "      <th>free sulfur dioxide</th>\n",
       "      <th>total sulfur dioxide</th>\n",
       "      <th>density</th>\n",
       "      <th>pH</th>\n",
       "      <th>sulphates</th>\n",
       "      <th>alcohol</th>\n",
       "      <th>quality</th>\n",
       "    </tr>\n",
       "  </thead>\n",
       "  <tbody>\n",
       "    <tr>\n",
       "      <th>0</th>\n",
       "      <td>white</td>\n",
       "      <td>7.0</td>\n",
       "      <td>0.27</td>\n",
       "      <td>0.36</td>\n",
       "      <td>20.7</td>\n",
       "      <td>0.045</td>\n",
       "      <td>45.0</td>\n",
       "      <td>170.0</td>\n",
       "      <td>1.0010</td>\n",
       "      <td>3.00</td>\n",
       "      <td>0.45</td>\n",
       "      <td>8.8</td>\n",
       "      <td>Average</td>\n",
       "    </tr>\n",
       "    <tr>\n",
       "      <th>1</th>\n",
       "      <td>white</td>\n",
       "      <td>6.3</td>\n",
       "      <td>0.30</td>\n",
       "      <td>0.34</td>\n",
       "      <td>1.6</td>\n",
       "      <td>0.049</td>\n",
       "      <td>14.0</td>\n",
       "      <td>132.0</td>\n",
       "      <td>0.9940</td>\n",
       "      <td>3.30</td>\n",
       "      <td>0.49</td>\n",
       "      <td>9.5</td>\n",
       "      <td>Average</td>\n",
       "    </tr>\n",
       "    <tr>\n",
       "      <th>2</th>\n",
       "      <td>white</td>\n",
       "      <td>8.1</td>\n",
       "      <td>0.28</td>\n",
       "      <td>0.40</td>\n",
       "      <td>6.9</td>\n",
       "      <td>0.050</td>\n",
       "      <td>30.0</td>\n",
       "      <td>97.0</td>\n",
       "      <td>0.9951</td>\n",
       "      <td>3.26</td>\n",
       "      <td>0.44</td>\n",
       "      <td>10.1</td>\n",
       "      <td>Average</td>\n",
       "    </tr>\n",
       "    <tr>\n",
       "      <th>3</th>\n",
       "      <td>white</td>\n",
       "      <td>7.2</td>\n",
       "      <td>0.23</td>\n",
       "      <td>0.32</td>\n",
       "      <td>8.5</td>\n",
       "      <td>0.058</td>\n",
       "      <td>47.0</td>\n",
       "      <td>186.0</td>\n",
       "      <td>0.9956</td>\n",
       "      <td>3.19</td>\n",
       "      <td>0.40</td>\n",
       "      <td>9.9</td>\n",
       "      <td>Average</td>\n",
       "    </tr>\n",
       "    <tr>\n",
       "      <th>4</th>\n",
       "      <td>white</td>\n",
       "      <td>7.2</td>\n",
       "      <td>0.23</td>\n",
       "      <td>0.32</td>\n",
       "      <td>8.5</td>\n",
       "      <td>0.058</td>\n",
       "      <td>47.0</td>\n",
       "      <td>186.0</td>\n",
       "      <td>0.9956</td>\n",
       "      <td>3.19</td>\n",
       "      <td>0.40</td>\n",
       "      <td>9.9</td>\n",
       "      <td>Average</td>\n",
       "    </tr>\n",
       "    <tr>\n",
       "      <th>5</th>\n",
       "      <td>white</td>\n",
       "      <td>8.1</td>\n",
       "      <td>0.28</td>\n",
       "      <td>0.40</td>\n",
       "      <td>6.9</td>\n",
       "      <td>0.050</td>\n",
       "      <td>30.0</td>\n",
       "      <td>97.0</td>\n",
       "      <td>0.9951</td>\n",
       "      <td>3.26</td>\n",
       "      <td>0.44</td>\n",
       "      <td>10.1</td>\n",
       "      <td>Average</td>\n",
       "    </tr>\n",
       "    <tr>\n",
       "      <th>6</th>\n",
       "      <td>white</td>\n",
       "      <td>6.2</td>\n",
       "      <td>0.32</td>\n",
       "      <td>0.16</td>\n",
       "      <td>7.0</td>\n",
       "      <td>0.045</td>\n",
       "      <td>30.0</td>\n",
       "      <td>136.0</td>\n",
       "      <td>0.9949</td>\n",
       "      <td>3.18</td>\n",
       "      <td>0.47</td>\n",
       "      <td>9.6</td>\n",
       "      <td>Average</td>\n",
       "    </tr>\n",
       "    <tr>\n",
       "      <th>7</th>\n",
       "      <td>white</td>\n",
       "      <td>7.0</td>\n",
       "      <td>0.27</td>\n",
       "      <td>0.36</td>\n",
       "      <td>20.7</td>\n",
       "      <td>0.045</td>\n",
       "      <td>45.0</td>\n",
       "      <td>170.0</td>\n",
       "      <td>1.0010</td>\n",
       "      <td>3.00</td>\n",
       "      <td>0.45</td>\n",
       "      <td>8.8</td>\n",
       "      <td>Average</td>\n",
       "    </tr>\n",
       "    <tr>\n",
       "      <th>8</th>\n",
       "      <td>white</td>\n",
       "      <td>6.3</td>\n",
       "      <td>0.30</td>\n",
       "      <td>0.34</td>\n",
       "      <td>1.6</td>\n",
       "      <td>0.049</td>\n",
       "      <td>14.0</td>\n",
       "      <td>132.0</td>\n",
       "      <td>0.9940</td>\n",
       "      <td>3.30</td>\n",
       "      <td>0.49</td>\n",
       "      <td>9.5</td>\n",
       "      <td>Average</td>\n",
       "    </tr>\n",
       "    <tr>\n",
       "      <th>9</th>\n",
       "      <td>white</td>\n",
       "      <td>8.1</td>\n",
       "      <td>0.22</td>\n",
       "      <td>0.43</td>\n",
       "      <td>1.5</td>\n",
       "      <td>0.044</td>\n",
       "      <td>28.0</td>\n",
       "      <td>129.0</td>\n",
       "      <td>0.9938</td>\n",
       "      <td>3.22</td>\n",
       "      <td>0.45</td>\n",
       "      <td>11.0</td>\n",
       "      <td>Average</td>\n",
       "    </tr>\n",
       "  </tbody>\n",
       "</table>\n",
       "</div>"
      ],
      "text/plain": [
       "    type  fixed acidity  volatile acidity  citric acid  residual sugar  \\\n",
       "0  white            7.0              0.27         0.36            20.7   \n",
       "1  white            6.3              0.30         0.34             1.6   \n",
       "2  white            8.1              0.28         0.40             6.9   \n",
       "3  white            7.2              0.23         0.32             8.5   \n",
       "4  white            7.2              0.23         0.32             8.5   \n",
       "5  white            8.1              0.28         0.40             6.9   \n",
       "6  white            6.2              0.32         0.16             7.0   \n",
       "7  white            7.0              0.27         0.36            20.7   \n",
       "8  white            6.3              0.30         0.34             1.6   \n",
       "9  white            8.1              0.22         0.43             1.5   \n",
       "\n",
       "   chlorides  free sulfur dioxide  total sulfur dioxide  density    pH  \\\n",
       "0      0.045                 45.0                 170.0   1.0010  3.00   \n",
       "1      0.049                 14.0                 132.0   0.9940  3.30   \n",
       "2      0.050                 30.0                  97.0   0.9951  3.26   \n",
       "3      0.058                 47.0                 186.0   0.9956  3.19   \n",
       "4      0.058                 47.0                 186.0   0.9956  3.19   \n",
       "5      0.050                 30.0                  97.0   0.9951  3.26   \n",
       "6      0.045                 30.0                 136.0   0.9949  3.18   \n",
       "7      0.045                 45.0                 170.0   1.0010  3.00   \n",
       "8      0.049                 14.0                 132.0   0.9940  3.30   \n",
       "9      0.044                 28.0                 129.0   0.9938  3.22   \n",
       "\n",
       "   sulphates  alcohol  quality  \n",
       "0       0.45      8.8  Average  \n",
       "1       0.49      9.5  Average  \n",
       "2       0.44     10.1  Average  \n",
       "3       0.40      9.9  Average  \n",
       "4       0.40      9.9  Average  \n",
       "5       0.44     10.1  Average  \n",
       "6       0.47      9.6  Average  \n",
       "7       0.45      8.8  Average  \n",
       "8       0.49      9.5  Average  \n",
       "9       0.45     11.0  Average  "
      ]
     },
     "execution_count": 23,
     "metadata": {},
     "output_type": "execute_result"
    }
   ],
   "source": [
    "df.head(10)"
   ]
  },
  {
   "cell_type": "markdown",
   "metadata": {},
   "source": [
    "<br>"
   ]
  },
  {
   "cell_type": "markdown",
   "metadata": {},
   "source": [
    "### This is a multilabel classification task!"
   ]
  },
  {
   "cell_type": "code",
   "execution_count": 24,
   "metadata": {},
   "outputs": [
    {
     "data": {
      "image/png": "[encoded data removed]",
      "text/plain": [
       "<Figure size 432x288 with 1 Axes>"
      ]
     },
     "metadata": {
      "needs_background": "light"
     },
     "output_type": "display_data"
    }
   ],
   "source": [
    "sns.countplot(y = df['quality'])\n",
    "plt.show()"
   ]
  },
  {
   "cell_type": "markdown",
   "metadata": {},
   "source": [
    "## Weird Stuff in Corr After Column Drops"
   ]
  },
  {
   "cell_type": "code",
   "execution_count": 25,
   "metadata": {},
   "outputs": [
    {
     "data": {
      "image/png": "[encoded data removed]",
      "text/plain": [
       "<Figure size 1080x936 with 2 Axes>"
      ]
     },
     "metadata": {
      "needs_background": "light"
     },
     "output_type": "display_data"
    }
   ],
   "source": [
    "fig = plt.figure(figsize=(15,13))\n",
    "my_ax = fig.gca()\n",
    "sns.heatmap(data = df.corr(), annot=True, ax=my_ax)\n",
    "plt.show()"
   ]
  },
  {
   "cell_type": "code",
   "execution_count": 26,
   "metadata": {},
   "outputs": [],
   "source": [
    "df['quality num'] = df['quality'].replace(['Low','Average', 'High'],[1, 2, 3])"
   ]
  },
  {
   "cell_type": "code",
   "execution_count": 27,
   "metadata": {},
   "outputs": [],
   "source": [
    "corr_columns = ['volatile acidity', 'chlorides', 'density', 'alcohol', 'quality num']\n",
    "df_correlated = df[corr_columns]"
   ]
  },
  {
   "cell_type": "code",
   "execution_count": 28,
   "metadata": {},
   "outputs": [
    {
     "data": {
      "text/html": [
       "<div>\n",
       "<style scoped>\n",
       "    .dataframe tbody tr th:only-of-type {\n",
       "        vertical-align: middle;\n",
       "    }\n",
       "\n",
       "    .dataframe tbody tr th {\n",
       "        vertical-align: top;\n",
       "    }\n",
       "\n",
       "    .dataframe thead th {\n",
       "        text-align: right;\n",
       "    }\n",
       "</style>\n",
       "<table border=\"1\" class=\"dataframe\">\n",
       "  <thead>\n",
       "    <tr style=\"text-align: right;\">\n",
       "      <th></th>\n",
       "      <th>volatile acidity</th>\n",
       "      <th>chlorides</th>\n",
       "      <th>density</th>\n",
       "      <th>alcohol</th>\n",
       "      <th>quality num</th>\n",
       "    </tr>\n",
       "  </thead>\n",
       "  <tbody>\n",
       "    <tr>\n",
       "      <th>0</th>\n",
       "      <td>0.27</td>\n",
       "      <td>0.045</td>\n",
       "      <td>1.0010</td>\n",
       "      <td>8.8</td>\n",
       "      <td>2</td>\n",
       "    </tr>\n",
       "    <tr>\n",
       "      <th>1</th>\n",
       "      <td>0.30</td>\n",
       "      <td>0.049</td>\n",
       "      <td>0.9940</td>\n",
       "      <td>9.5</td>\n",
       "      <td>2</td>\n",
       "    </tr>\n",
       "    <tr>\n",
       "      <th>2</th>\n",
       "      <td>0.28</td>\n",
       "      <td>0.050</td>\n",
       "      <td>0.9951</td>\n",
       "      <td>10.1</td>\n",
       "      <td>2</td>\n",
       "    </tr>\n",
       "    <tr>\n",
       "      <th>3</th>\n",
       "      <td>0.23</td>\n",
       "      <td>0.058</td>\n",
       "      <td>0.9956</td>\n",
       "      <td>9.9</td>\n",
       "      <td>2</td>\n",
       "    </tr>\n",
       "    <tr>\n",
       "      <th>4</th>\n",
       "      <td>0.23</td>\n",
       "      <td>0.058</td>\n",
       "      <td>0.9956</td>\n",
       "      <td>9.9</td>\n",
       "      <td>2</td>\n",
       "    </tr>\n",
       "  </tbody>\n",
       "</table>\n",
       "</div>"
      ],
      "text/plain": [
       "   volatile acidity  chlorides  density  alcohol  quality num\n",
       "0              0.27      0.045   1.0010      8.8            2\n",
       "1              0.30      0.049   0.9940      9.5            2\n",
       "2              0.28      0.050   0.9951     10.1            2\n",
       "3              0.23      0.058   0.9956      9.9            2\n",
       "4              0.23      0.058   0.9956      9.9            2"
      ]
     },
     "execution_count": 28,
     "metadata": {},
     "output_type": "execute_result"
    }
   ],
   "source": [
    "df_correlated.head()"
   ]
  },
  {
   "cell_type": "code",
   "execution_count": 29,
   "metadata": {},
   "outputs": [],
   "source": [
    "from sklearn.ensemble import RandomForestClassifier\n",
    "from sklearn.ensemble import GradientBoostingClassifier\n",
    "\n",
    "#Cross Validation\n",
    "from sklearn.model_selection import RandomizedSearchCV\n",
    "from sklearn.model_selection import GridSearchCV\n",
    "\n",
    "# To Test final model on out of sample data \n",
    "from sklearn.model_selection import train_test_split\n",
    "\n",
    "# to make pipelines \n",
    "from sklearn.pipeline import make_pipeline\n",
    "\n",
    "#for scaling data in pipeline \n",
    "from sklearn.preprocessing import StandardScaler"
   ]
  },
  {
   "cell_type": "code",
   "execution_count": 30,
   "metadata": {},
   "outputs": [],
   "source": [
    "#  df_correlated['quality num']\n",
    "X = df_correlated.drop(['quality num'], axis =1)\n",
    "y = df_correlated['quality num']\n",
    "X_train,  X_test,  y_train,  y_test  =  train_test_split(X,  y, test_size=0.2, random_state=123, stratify=y)"
   ]
  },
  {
   "cell_type": "code",
   "execution_count": 32,
   "metadata": {},
   "outputs": [],
   "source": [
    "pipeline_dict = {\n",
    "    'rf': make_pipeline(StandardScaler(), RandomForestClassifier(random_state=123)),\n",
    "    'gb': make_pipeline(StandardScaler(), GradientBoostingClassifier(random_state=123)),\n",
    "    #'rs': make_pipeline(StandardScaler(), RandomizedSearchCV('estimator')),\n",
    "}"
   ]
  },
  {
   "cell_type": "markdown",
   "metadata": {},
   "source": [
    "# Randomized Grid Search CV"
   ]
  },
  {
   "cell_type": "code",
   "execution_count": 50,
   "metadata": {},
   "outputs": [],
   "source": [
    "hp_dict_rand = {\n",
    "    \"rf\": {\n",
    "        'randomforestclassifier__n_estimators': [50,100,200,300,400,500],\n",
    "        'randomforestclassifier__max_depth': [None,1,2,3,4,5,6,7,8,9,10,25,50,100], \n",
    "        'randomforestclassifier__min_samples_split': [2,3,4,5,6,7,8,9,10,25,50,100], \n",
    "        'randomforestclassifier__min_samples_leaf': [1,2,3,4,5,6,7,8,9,10,25,50,100],\n",
    "        'randomforestclassifier__max_features':['sqrt','log2', None]\n",
    "        \n",
    "    },\n",
    "    \"gb\":{\n",
    "        'gradientboostingclassifier__n_estimators': [50,100,200,300,400,500],\n",
    "        'gradientboostingclassifier__max_depth': [None,1,2,3,4,5,6,7,8,9,10,25,50,100], \n",
    "        'gradientboostingclassifier__min_samples_split': [2,3,4,5,6,7,8,9,10,25,50,100], \n",
    "        'gradientboostingclassifier__min_samples_leaf': [1,2,3,4,5,6,7,8,9,10,25,50,100],\n",
    "        'gradientboostingclassifier__max_features':['sqrt','log2', None],\n",
    "        'gradientboostingclassifier__learning_rate': [50, 10, 1, 0.1, 0.01, 0.03, 0.001, 0.003, 0.0001]\n",
    "    }\n",
    "}"
   ]
  },
  {
   "cell_type": "code",
   "execution_count": 51,
   "metadata": {},
   "outputs": [],
   "source": [
    "RandomizedSearchCV?"
   ]
  },
  {
   "cell_type": "code",
   "execution_count": 52,
   "metadata": {
    "scrolled": true
   },
   "outputs": [
    {
     "name": "stdout",
     "output_type": "stream",
     "text": [
      "Fitting 10 folds for each of 10 candidates, totalling 100 fits\n",
      "[CV] randomforestclassifier__n_estimators=400, randomforestclassifier__min_samples_split=25, randomforestclassifier__min_samples_leaf=3, randomforestclassifier__max_features=sqrt, randomforestclassifier__max_depth=None \n"
     ]
    },
    {
     "name": "stderr",
     "output_type": "stream",
     "text": [
      "[Parallel(n_jobs=1)]: Using backend SequentialBackend with 1 concurrent workers.\n"
     ]
    },
    {
     "name": "stdout",
     "output_type": "stream",
     "text": [
      "[CV]  randomforestclassifier__n_estimators=400, randomforestclassifier__min_samples_split=25, randomforestclassifier__min_samples_leaf=3, randomforestclassifier__max_features=sqrt, randomforestclassifier__max_depth=None, total=   2.3s\n",
      "[CV] randomforestclassifier__n_estimators=400, randomforestclassifier__min_samples_split=25, randomforestclassifier__min_samples_leaf=3, randomforestclassifier__max_features=sqrt, randomforestclassifier__max_depth=None \n"
     ]
    },
    {
     "name": "stderr",
     "output_type": "stream",
     "text": [
      "[Parallel(n_jobs=1)]: Done   1 out of   1 | elapsed:    2.6s remaining:    0.0s\n"
     ]
    },
    {
     "name": "stdout",
     "output_type": "stream",
     "text": [
      "[CV]  randomforestclassifier__n_estimators=400, randomforestclassifier__min_samples_split=25, randomforestclassifier__min_samples_leaf=3, randomforestclassifier__max_features=sqrt, randomforestclassifier__max_depth=None, total=   1.8s\n",
      "[CV] randomforestclassifier__n_estimators=400, randomforestclassifier__min_samples_split=25, randomforestclassifier__min_samples_leaf=3, randomforestclassifier__max_features=sqrt, randomforestclassifier__max_depth=None \n",
      "[CV]  randomforestclassifier__n_estimators=400, randomforestclassifier__min_samples_split=25, randomforestclassifier__min_samples_leaf=3, randomforestclassifier__max_features=sqrt, randomforestclassifier__max_depth=None, total=   1.7s\n",
      "[CV] randomforestclassifier__n_estimators=400, randomforestclassifier__min_samples_split=25, randomforestclassifier__min_samples_leaf=3, randomforestclassifier__max_features=sqrt, randomforestclassifier__max_depth=None \n",
      "[CV]  randomforestclassifier__n_estimators=400, randomforestclassifier__min_samples_split=25, randomforestclassifier__min_samples_leaf=3, randomforestclassifier__max_features=sqrt, randomforestclassifier__max_depth=None, total=   1.7s\n",
      "[CV] randomforestclassifier__n_estimators=400, randomforestclassifier__min_samples_split=25, randomforestclassifier__min_samples_leaf=3, randomforestclassifier__max_features=sqrt, randomforestclassifier__max_depth=None \n",
      "[CV]  randomforestclassifier__n_estimators=400, randomforestclassifier__min_samples_split=25, randomforestclassifier__min_samples_leaf=3, randomforestclassifier__max_features=sqrt, randomforestclassifier__max_depth=None, total=   1.7s\n",
      "[CV] randomforestclassifier__n_estimators=400, randomforestclassifier__min_samples_split=25, randomforestclassifier__min_samples_leaf=3, randomforestclassifier__max_features=sqrt, randomforestclassifier__max_depth=None \n",
      "[CV]  randomforestclassifier__n_estimators=400, randomforestclassifier__min_samples_split=25, randomforestclassifier__min_samples_leaf=3, randomforestclassifier__max_features=sqrt, randomforestclassifier__max_depth=None, total=   1.7s\n",
      "[CV] randomforestclassifier__n_estimators=400, randomforestclassifier__min_samples_split=25, randomforestclassifier__min_samples_leaf=3, randomforestclassifier__max_features=sqrt, randomforestclassifier__max_depth=None \n",
      "[CV]  randomforestclassifier__n_estimators=400, randomforestclassifier__min_samples_split=25, randomforestclassifier__min_samples_leaf=3, randomforestclassifier__max_features=sqrt, randomforestclassifier__max_depth=None, total=   1.7s\n",
      "[CV] randomforestclassifier__n_estimators=400, randomforestclassifier__min_samples_split=25, randomforestclassifier__min_samples_leaf=3, randomforestclassifier__max_features=sqrt, randomforestclassifier__max_depth=None \n",
      "[CV]  randomforestclassifier__n_estimators=400, randomforestclassifier__min_samples_split=25, randomforestclassifier__min_samples_leaf=3, randomforestclassifier__max_features=sqrt, randomforestclassifier__max_depth=None, total=   1.8s\n",
      "[CV] randomforestclassifier__n_estimators=400, randomforestclassifier__min_samples_split=25, randomforestclassifier__min_samples_leaf=3, randomforestclassifier__max_features=sqrt, randomforestclassifier__max_depth=None \n",
      "[CV]  randomforestclassifier__n_estimators=400, randomforestclassifier__min_samples_split=25, randomforestclassifier__min_samples_leaf=3, randomforestclassifier__max_features=sqrt, randomforestclassifier__max_depth=None, total=   1.8s\n",
      "[CV] randomforestclassifier__n_estimators=400, randomforestclassifier__min_samples_split=25, randomforestclassifier__min_samples_leaf=3, randomforestclassifier__max_features=sqrt, randomforestclassifier__max_depth=None \n",
      "[CV]  randomforestclassifier__n_estimators=400, randomforestclassifier__min_samples_split=25, randomforestclassifier__min_samples_leaf=3, randomforestclassifier__max_features=sqrt, randomforestclassifier__max_depth=None, total=   2.0s\n",
      "[CV] randomforestclassifier__n_estimators=400, randomforestclassifier__min_samples_split=2, randomforestclassifier__min_samples_leaf=8, randomforestclassifier__max_features=None, randomforestclassifier__max_depth=50 \n",
      "[CV]  randomforestclassifier__n_estimators=400, randomforestclassifier__min_samples_split=2, randomforestclassifier__min_samples_leaf=8, randomforestclassifier__max_features=None, randomforestclassifier__max_depth=50, total=   2.9s\n",
      "[CV] randomforestclassifier__n_estimators=400, randomforestclassifier__min_samples_split=2, randomforestclassifier__min_samples_leaf=8, randomforestclassifier__max_features=None, randomforestclassifier__max_depth=50 \n",
      "[CV]  randomforestclassifier__n_estimators=400, randomforestclassifier__min_samples_split=2, randomforestclassifier__min_samples_leaf=8, randomforestclassifier__max_features=None, randomforestclassifier__max_depth=50, total=   2.8s\n",
      "[CV] randomforestclassifier__n_estimators=400, randomforestclassifier__min_samples_split=2, randomforestclassifier__min_samples_leaf=8, randomforestclassifier__max_features=None, randomforestclassifier__max_depth=50 \n",
      "[CV]  randomforestclassifier__n_estimators=400, randomforestclassifier__min_samples_split=2, randomforestclassifier__min_samples_leaf=8, randomforestclassifier__max_features=None, randomforestclassifier__max_depth=50, total=   2.7s\n",
      "[CV] randomforestclassifier__n_estimators=400, randomforestclassifier__min_samples_split=2, randomforestclassifier__min_samples_leaf=8, randomforestclassifier__max_features=None, randomforestclassifier__max_depth=50 \n",
      "[CV]  randomforestclassifier__n_estimators=400, randomforestclassifier__min_samples_split=2, randomforestclassifier__min_samples_leaf=8, randomforestclassifier__max_features=None, randomforestclassifier__max_depth=50, total=   2.9s\n",
      "[CV] randomforestclassifier__n_estimators=400, randomforestclassifier__min_samples_split=2, randomforestclassifier__min_samples_leaf=8, randomforestclassifier__max_features=None, randomforestclassifier__max_depth=50 \n",
      "[CV]  randomforestclassifier__n_estimators=400, randomforestclassifier__min_samples_split=2, randomforestclassifier__min_samples_leaf=8, randomforestclassifier__max_features=None, randomforestclassifier__max_depth=50, total=   2.8s\n",
      "[CV] randomforestclassifier__n_estimators=400, randomforestclassifier__min_samples_split=2, randomforestclassifier__min_samples_leaf=8, randomforestclassifier__max_features=None, randomforestclassifier__max_depth=50 \n",
      "[CV]  randomforestclassifier__n_estimators=400, randomforestclassifier__min_samples_split=2, randomforestclassifier__min_samples_leaf=8, randomforestclassifier__max_features=None, randomforestclassifier__max_depth=50, total=   2.7s\n",
      "[CV] randomforestclassifier__n_estimators=400, randomforestclassifier__min_samples_split=2, randomforestclassifier__min_samples_leaf=8, randomforestclassifier__max_features=None, randomforestclassifier__max_depth=50 \n",
      "[CV]  randomforestclassifier__n_estimators=400, randomforestclassifier__min_samples_split=2, randomforestclassifier__min_samples_leaf=8, randomforestclassifier__max_features=None, randomforestclassifier__max_depth=50, total=   2.8s\n",
      "[CV] randomforestclassifier__n_estimators=400, randomforestclassifier__min_samples_split=2, randomforestclassifier__min_samples_leaf=8, randomforestclassifier__max_features=None, randomforestclassifier__max_depth=50 \n",
      "[CV]  randomforestclassifier__n_estimators=400, randomforestclassifier__min_samples_split=2, randomforestclassifier__min_samples_leaf=8, randomforestclassifier__max_features=None, randomforestclassifier__max_depth=50, total=   2.8s\n",
      "[CV] randomforestclassifier__n_estimators=400, randomforestclassifier__min_samples_split=2, randomforestclassifier__min_samples_leaf=8, randomforestclassifier__max_features=None, randomforestclassifier__max_depth=50 \n",
      "[CV]  randomforestclassifier__n_estimators=400, randomforestclassifier__min_samples_split=2, randomforestclassifier__min_samples_leaf=8, randomforestclassifier__max_features=None, randomforestclassifier__max_depth=50, total=   2.7s\n",
      "[CV] randomforestclassifier__n_estimators=400, randomforestclassifier__min_samples_split=2, randomforestclassifier__min_samples_leaf=8, randomforestclassifier__max_features=None, randomforestclassifier__max_depth=50 \n",
      "[CV]  randomforestclassifier__n_estimators=400, randomforestclassifier__min_samples_split=2, randomforestclassifier__min_samples_leaf=8, randomforestclassifier__max_features=None, randomforestclassifier__max_depth=50, total=   2.9s\n",
      "[CV] randomforestclassifier__n_estimators=500, randomforestclassifier__min_samples_split=6, randomforestclassifier__min_samples_leaf=4, randomforestclassifier__max_features=log2, randomforestclassifier__max_depth=50 \n"
     ]
    },
    {
     "name": "stdout",
     "output_type": "stream",
     "text": [
      "[CV]  randomforestclassifier__n_estimators=500, randomforestclassifier__min_samples_split=6, randomforestclassifier__min_samples_leaf=4, randomforestclassifier__max_features=log2, randomforestclassifier__max_depth=50, total=   2.5s\n",
      "[CV] randomforestclassifier__n_estimators=500, randomforestclassifier__min_samples_split=6, randomforestclassifier__min_samples_leaf=4, randomforestclassifier__max_features=log2, randomforestclassifier__max_depth=50 \n",
      "[CV]  randomforestclassifier__n_estimators=500, randomforestclassifier__min_samples_split=6, randomforestclassifier__min_samples_leaf=4, randomforestclassifier__max_features=log2, randomforestclassifier__max_depth=50, total=   2.5s\n",
      "[CV] randomforestclassifier__n_estimators=500, randomforestclassifier__min_samples_split=6, randomforestclassifier__min_samples_leaf=4, randomforestclassifier__max_features=log2, randomforestclassifier__max_depth=50 \n",
      "[CV]  randomforestclassifier__n_estimators=500, randomforestclassifier__min_samples_split=6, randomforestclassifier__min_samples_leaf=4, randomforestclassifier__max_features=log2, randomforestclassifier__max_depth=50, total=   2.4s\n",
      "[CV] randomforestclassifier__n_estimators=500, randomforestclassifier__min_samples_split=6, randomforestclassifier__min_samples_leaf=4, randomforestclassifier__max_features=log2, randomforestclassifier__max_depth=50 \n",
      "[CV]  randomforestclassifier__n_estimators=500, randomforestclassifier__min_samples_split=6, randomforestclassifier__min_samples_leaf=4, randomforestclassifier__max_features=log2, randomforestclassifier__max_depth=50, total=   2.4s\n",
      "[CV] randomforestclassifier__n_estimators=500, randomforestclassifier__min_samples_split=6, randomforestclassifier__min_samples_leaf=4, randomforestclassifier__max_features=log2, randomforestclassifier__max_depth=50 \n",
      "[CV]  randomforestclassifier__n_estimators=500, randomforestclassifier__min_samples_split=6, randomforestclassifier__min_samples_leaf=4, randomforestclassifier__max_features=log2, randomforestclassifier__max_depth=50, total=   2.4s\n",
      "[CV] randomforestclassifier__n_estimators=500, randomforestclassifier__min_samples_split=6, randomforestclassifier__min_samples_leaf=4, randomforestclassifier__max_features=log2, randomforestclassifier__max_depth=50 \n",
      "[CV]  randomforestclassifier__n_estimators=500, randomforestclassifier__min_samples_split=6, randomforestclassifier__min_samples_leaf=4, randomforestclassifier__max_features=log2, randomforestclassifier__max_depth=50, total=   2.4s\n",
      "[CV] randomforestclassifier__n_estimators=500, randomforestclassifier__min_samples_split=6, randomforestclassifier__min_samples_leaf=4, randomforestclassifier__max_features=log2, randomforestclassifier__max_depth=50 \n",
      "[CV]  randomforestclassifier__n_estimators=500, randomforestclassifier__min_samples_split=6, randomforestclassifier__min_samples_leaf=4, randomforestclassifier__max_features=log2, randomforestclassifier__max_depth=50, total=   2.5s\n",
      "[CV] randomforestclassifier__n_estimators=500, randomforestclassifier__min_samples_split=6, randomforestclassifier__min_samples_leaf=4, randomforestclassifier__max_features=log2, randomforestclassifier__max_depth=50 \n",
      "[CV]  randomforestclassifier__n_estimators=500, randomforestclassifier__min_samples_split=6, randomforestclassifier__min_samples_leaf=4, randomforestclassifier__max_features=log2, randomforestclassifier__max_depth=50, total=   2.6s\n",
      "[CV] randomforestclassifier__n_estimators=500, randomforestclassifier__min_samples_split=6, randomforestclassifier__min_samples_leaf=4, randomforestclassifier__max_features=log2, randomforestclassifier__max_depth=50 \n",
      "[CV]  randomforestclassifier__n_estimators=500, randomforestclassifier__min_samples_split=6, randomforestclassifier__min_samples_leaf=4, randomforestclassifier__max_features=log2, randomforestclassifier__max_depth=50, total=   3.0s\n",
      "[CV] randomforestclassifier__n_estimators=500, randomforestclassifier__min_samples_split=6, randomforestclassifier__min_samples_leaf=4, randomforestclassifier__max_features=log2, randomforestclassifier__max_depth=50 \n",
      "[CV]  randomforestclassifier__n_estimators=500, randomforestclassifier__min_samples_split=6, randomforestclassifier__min_samples_leaf=4, randomforestclassifier__max_features=log2, randomforestclassifier__max_depth=50, total=   2.5s\n",
      "[CV] randomforestclassifier__n_estimators=500, randomforestclassifier__min_samples_split=8, randomforestclassifier__min_samples_leaf=50, randomforestclassifier__max_features=log2, randomforestclassifier__max_depth=8 \n",
      "[CV]  randomforestclassifier__n_estimators=500, randomforestclassifier__min_samples_split=8, randomforestclassifier__min_samples_leaf=50, randomforestclassifier__max_features=log2, randomforestclassifier__max_depth=8, total=   1.7s\n",
      "[CV] randomforestclassifier__n_estimators=500, randomforestclassifier__min_samples_split=8, randomforestclassifier__min_samples_leaf=50, randomforestclassifier__max_features=log2, randomforestclassifier__max_depth=8 \n",
      "[CV]  randomforestclassifier__n_estimators=500, randomforestclassifier__min_samples_split=8, randomforestclassifier__min_samples_leaf=50, randomforestclassifier__max_features=log2, randomforestclassifier__max_depth=8, total=   1.6s\n",
      "[CV] randomforestclassifier__n_estimators=500, randomforestclassifier__min_samples_split=8, randomforestclassifier__min_samples_leaf=50, randomforestclassifier__max_features=log2, randomforestclassifier__max_depth=8 \n",
      "[CV]  randomforestclassifier__n_estimators=500, randomforestclassifier__min_samples_split=8, randomforestclassifier__min_samples_leaf=50, randomforestclassifier__max_features=log2, randomforestclassifier__max_depth=8, total=   1.5s\n",
      "[CV] randomforestclassifier__n_estimators=500, randomforestclassifier__min_samples_split=8, randomforestclassifier__min_samples_leaf=50, randomforestclassifier__max_features=log2, randomforestclassifier__max_depth=8 \n",
      "[CV]  randomforestclassifier__n_estimators=500, randomforestclassifier__min_samples_split=8, randomforestclassifier__min_samples_leaf=50, randomforestclassifier__max_features=log2, randomforestclassifier__max_depth=8, total=   1.6s\n",
      "[CV] randomforestclassifier__n_estimators=500, randomforestclassifier__min_samples_split=8, randomforestclassifier__min_samples_leaf=50, randomforestclassifier__max_features=log2, randomforestclassifier__max_depth=8 \n",
      "[CV]  randomforestclassifier__n_estimators=500, randomforestclassifier__min_samples_split=8, randomforestclassifier__min_samples_leaf=50, randomforestclassifier__max_features=log2, randomforestclassifier__max_depth=8, total=   1.5s\n",
      "[CV] randomforestclassifier__n_estimators=500, randomforestclassifier__min_samples_split=8, randomforestclassifier__min_samples_leaf=50, randomforestclassifier__max_features=log2, randomforestclassifier__max_depth=8 \n",
      "[CV]  randomforestclassifier__n_estimators=500, randomforestclassifier__min_samples_split=8, randomforestclassifier__min_samples_leaf=50, randomforestclassifier__max_features=log2, randomforestclassifier__max_depth=8, total=   1.4s\n",
      "[CV] randomforestclassifier__n_estimators=500, randomforestclassifier__min_samples_split=8, randomforestclassifier__min_samples_leaf=50, randomforestclassifier__max_features=log2, randomforestclassifier__max_depth=8 \n",
      "[CV]  randomforestclassifier__n_estimators=500, randomforestclassifier__min_samples_split=8, randomforestclassifier__min_samples_leaf=50, randomforestclassifier__max_features=log2, randomforestclassifier__max_depth=8, total=   1.7s\n",
      "[CV] randomforestclassifier__n_estimators=500, randomforestclassifier__min_samples_split=8, randomforestclassifier__min_samples_leaf=50, randomforestclassifier__max_features=log2, randomforestclassifier__max_depth=8 \n",
      "[CV]  randomforestclassifier__n_estimators=500, randomforestclassifier__min_samples_split=8, randomforestclassifier__min_samples_leaf=50, randomforestclassifier__max_features=log2, randomforestclassifier__max_depth=8, total=   1.5s\n",
      "[CV] randomforestclassifier__n_estimators=500, randomforestclassifier__min_samples_split=8, randomforestclassifier__min_samples_leaf=50, randomforestclassifier__max_features=log2, randomforestclassifier__max_depth=8 \n",
      "[CV]  randomforestclassifier__n_estimators=500, randomforestclassifier__min_samples_split=8, randomforestclassifier__min_samples_leaf=50, randomforestclassifier__max_features=log2, randomforestclassifier__max_depth=8, total=   1.4s\n",
      "[CV] randomforestclassifier__n_estimators=500, randomforestclassifier__min_samples_split=8, randomforestclassifier__min_samples_leaf=50, randomforestclassifier__max_features=log2, randomforestclassifier__max_depth=8 \n"
     ]
    },
    {
     "name": "stdout",
     "output_type": "stream",
     "text": [
      "[CV]  randomforestclassifier__n_estimators=500, randomforestclassifier__min_samples_split=8, randomforestclassifier__min_samples_leaf=50, randomforestclassifier__max_features=log2, randomforestclassifier__max_depth=8, total=   1.5s\n",
      "[CV] randomforestclassifier__n_estimators=100, randomforestclassifier__min_samples_split=5, randomforestclassifier__min_samples_leaf=100, randomforestclassifier__max_features=log2, randomforestclassifier__max_depth=3 \n",
      "[CV]  randomforestclassifier__n_estimators=100, randomforestclassifier__min_samples_split=5, randomforestclassifier__min_samples_leaf=100, randomforestclassifier__max_features=log2, randomforestclassifier__max_depth=3, total=   0.2s\n",
      "[CV] randomforestclassifier__n_estimators=100, randomforestclassifier__min_samples_split=5, randomforestclassifier__min_samples_leaf=100, randomforestclassifier__max_features=log2, randomforestclassifier__max_depth=3 \n",
      "[CV]  randomforestclassifier__n_estimators=100, randomforestclassifier__min_samples_split=5, randomforestclassifier__min_samples_leaf=100, randomforestclassifier__max_features=log2, randomforestclassifier__max_depth=3, total=   0.2s\n",
      "[CV] randomforestclassifier__n_estimators=100, randomforestclassifier__min_samples_split=5, randomforestclassifier__min_samples_leaf=100, randomforestclassifier__max_features=log2, randomforestclassifier__max_depth=3 \n",
      "[CV]  randomforestclassifier__n_estimators=100, randomforestclassifier__min_samples_split=5, randomforestclassifier__min_samples_leaf=100, randomforestclassifier__max_features=log2, randomforestclassifier__max_depth=3, total=   0.3s\n",
      "[CV] randomforestclassifier__n_estimators=100, randomforestclassifier__min_samples_split=5, randomforestclassifier__min_samples_leaf=100, randomforestclassifier__max_features=log2, randomforestclassifier__max_depth=3 \n",
      "[CV]  randomforestclassifier__n_estimators=100, randomforestclassifier__min_samples_split=5, randomforestclassifier__min_samples_leaf=100, randomforestclassifier__max_features=log2, randomforestclassifier__max_depth=3, total=   0.2s\n",
      "[CV] randomforestclassifier__n_estimators=100, randomforestclassifier__min_samples_split=5, randomforestclassifier__min_samples_leaf=100, randomforestclassifier__max_features=log2, randomforestclassifier__max_depth=3 \n",
      "[CV]  randomforestclassifier__n_estimators=100, randomforestclassifier__min_samples_split=5, randomforestclassifier__min_samples_leaf=100, randomforestclassifier__max_features=log2, randomforestclassifier__max_depth=3, total=   0.2s\n",
      "[CV] randomforestclassifier__n_estimators=100, randomforestclassifier__min_samples_split=5, randomforestclassifier__min_samples_leaf=100, randomforestclassifier__max_features=log2, randomforestclassifier__max_depth=3 \n",
      "[CV]  randomforestclassifier__n_estimators=100, randomforestclassifier__min_samples_split=5, randomforestclassifier__min_samples_leaf=100, randomforestclassifier__max_features=log2, randomforestclassifier__max_depth=3, total=   0.2s\n",
      "[CV] randomforestclassifier__n_estimators=100, randomforestclassifier__min_samples_split=5, randomforestclassifier__min_samples_leaf=100, randomforestclassifier__max_features=log2, randomforestclassifier__max_depth=3 \n",
      "[CV]  randomforestclassifier__n_estimators=100, randomforestclassifier__min_samples_split=5, randomforestclassifier__min_samples_leaf=100, randomforestclassifier__max_features=log2, randomforestclassifier__max_depth=3, total=   0.2s\n",
      "[CV] randomforestclassifier__n_estimators=100, randomforestclassifier__min_samples_split=5, randomforestclassifier__min_samples_leaf=100, randomforestclassifier__max_features=log2, randomforestclassifier__max_depth=3 \n",
      "[CV]  randomforestclassifier__n_estimators=100, randomforestclassifier__min_samples_split=5, randomforestclassifier__min_samples_leaf=100, randomforestclassifier__max_features=log2, randomforestclassifier__max_depth=3, total=   0.2s\n",
      "[CV] randomforestclassifier__n_estimators=100, randomforestclassifier__min_samples_split=5, randomforestclassifier__min_samples_leaf=100, randomforestclassifier__max_features=log2, randomforestclassifier__max_depth=3 \n",
      "[CV]  randomforestclassifier__n_estimators=100, randomforestclassifier__min_samples_split=5, randomforestclassifier__min_samples_leaf=100, randomforestclassifier__max_features=log2, randomforestclassifier__max_depth=3, total=   0.2s\n",
      "[CV] randomforestclassifier__n_estimators=100, randomforestclassifier__min_samples_split=5, randomforestclassifier__min_samples_leaf=100, randomforestclassifier__max_features=log2, randomforestclassifier__max_depth=3 \n",
      "[CV]  randomforestclassifier__n_estimators=100, randomforestclassifier__min_samples_split=5, randomforestclassifier__min_samples_leaf=100, randomforestclassifier__max_features=log2, randomforestclassifier__max_depth=3, total=   0.2s\n",
      "[CV] randomforestclassifier__n_estimators=200, randomforestclassifier__min_samples_split=5, randomforestclassifier__min_samples_leaf=50, randomforestclassifier__max_features=None, randomforestclassifier__max_depth=None \n",
      "[CV]  randomforestclassifier__n_estimators=200, randomforestclassifier__min_samples_split=5, randomforestclassifier__min_samples_leaf=50, randomforestclassifier__max_features=None, randomforestclassifier__max_depth=None, total=   0.9s\n",
      "[CV] randomforestclassifier__n_estimators=200, randomforestclassifier__min_samples_split=5, randomforestclassifier__min_samples_leaf=50, randomforestclassifier__max_features=None, randomforestclassifier__max_depth=None \n",
      "[CV]  randomforestclassifier__n_estimators=200, randomforestclassifier__min_samples_split=5, randomforestclassifier__min_samples_leaf=50, randomforestclassifier__max_features=None, randomforestclassifier__max_depth=None, total=   0.9s\n",
      "[CV] randomforestclassifier__n_estimators=200, randomforestclassifier__min_samples_split=5, randomforestclassifier__min_samples_leaf=50, randomforestclassifier__max_features=None, randomforestclassifier__max_depth=None \n",
      "[CV]  randomforestclassifier__n_estimators=200, randomforestclassifier__min_samples_split=5, randomforestclassifier__min_samples_leaf=50, randomforestclassifier__max_features=None, randomforestclassifier__max_depth=None, total=   0.9s\n",
      "[CV] randomforestclassifier__n_estimators=200, randomforestclassifier__min_samples_split=5, randomforestclassifier__min_samples_leaf=50, randomforestclassifier__max_features=None, randomforestclassifier__max_depth=None \n",
      "[CV]  randomforestclassifier__n_estimators=200, randomforestclassifier__min_samples_split=5, randomforestclassifier__min_samples_leaf=50, randomforestclassifier__max_features=None, randomforestclassifier__max_depth=None, total=   0.9s\n",
      "[CV] randomforestclassifier__n_estimators=200, randomforestclassifier__min_samples_split=5, randomforestclassifier__min_samples_leaf=50, randomforestclassifier__max_features=None, randomforestclassifier__max_depth=None \n",
      "[CV]  randomforestclassifier__n_estimators=200, randomforestclassifier__min_samples_split=5, randomforestclassifier__min_samples_leaf=50, randomforestclassifier__max_features=None, randomforestclassifier__max_depth=None, total=   0.9s\n",
      "[CV] randomforestclassifier__n_estimators=200, randomforestclassifier__min_samples_split=5, randomforestclassifier__min_samples_leaf=50, randomforestclassifier__max_features=None, randomforestclassifier__max_depth=None \n",
      "[CV]  randomforestclassifier__n_estimators=200, randomforestclassifier__min_samples_split=5, randomforestclassifier__min_samples_leaf=50, randomforestclassifier__max_features=None, randomforestclassifier__max_depth=None, total=   0.9s\n",
      "[CV] randomforestclassifier__n_estimators=200, randomforestclassifier__min_samples_split=5, randomforestclassifier__min_samples_leaf=50, randomforestclassifier__max_features=None, randomforestclassifier__max_depth=None \n",
      "[CV]  randomforestclassifier__n_estimators=200, randomforestclassifier__min_samples_split=5, randomforestclassifier__min_samples_leaf=50, randomforestclassifier__max_features=None, randomforestclassifier__max_depth=None, total=   0.9s\n",
      "[CV] randomforestclassifier__n_estimators=200, randomforestclassifier__min_samples_split=5, randomforestclassifier__min_samples_leaf=50, randomforestclassifier__max_features=None, randomforestclassifier__max_depth=None \n",
      "[CV]  randomforestclassifier__n_estimators=200, randomforestclassifier__min_samples_split=5, randomforestclassifier__min_samples_leaf=50, randomforestclassifier__max_features=None, randomforestclassifier__max_depth=None, total=   0.9s\n",
      "[CV] randomforestclassifier__n_estimators=200, randomforestclassifier__min_samples_split=5, randomforestclassifier__min_samples_leaf=50, randomforestclassifier__max_features=None, randomforestclassifier__max_depth=None \n"
     ]
    },
    {
     "name": "stdout",
     "output_type": "stream",
     "text": [
      "[CV]  randomforestclassifier__n_estimators=200, randomforestclassifier__min_samples_split=5, randomforestclassifier__min_samples_leaf=50, randomforestclassifier__max_features=None, randomforestclassifier__max_depth=None, total=   0.9s\n",
      "[CV] randomforestclassifier__n_estimators=200, randomforestclassifier__min_samples_split=5, randomforestclassifier__min_samples_leaf=50, randomforestclassifier__max_features=None, randomforestclassifier__max_depth=None \n",
      "[CV]  randomforestclassifier__n_estimators=200, randomforestclassifier__min_samples_split=5, randomforestclassifier__min_samples_leaf=50, randomforestclassifier__max_features=None, randomforestclassifier__max_depth=None, total=   0.9s\n",
      "[CV] randomforestclassifier__n_estimators=400, randomforestclassifier__min_samples_split=8, randomforestclassifier__min_samples_leaf=8, randomforestclassifier__max_features=log2, randomforestclassifier__max_depth=1 \n",
      "[CV]  randomforestclassifier__n_estimators=400, randomforestclassifier__min_samples_split=8, randomforestclassifier__min_samples_leaf=8, randomforestclassifier__max_features=log2, randomforestclassifier__max_depth=1, total=   0.6s\n",
      "[CV] randomforestclassifier__n_estimators=400, randomforestclassifier__min_samples_split=8, randomforestclassifier__min_samples_leaf=8, randomforestclassifier__max_features=log2, randomforestclassifier__max_depth=1 \n",
      "[CV]  randomforestclassifier__n_estimators=400, randomforestclassifier__min_samples_split=8, randomforestclassifier__min_samples_leaf=8, randomforestclassifier__max_features=log2, randomforestclassifier__max_depth=1, total=   0.5s\n",
      "[CV] randomforestclassifier__n_estimators=400, randomforestclassifier__min_samples_split=8, randomforestclassifier__min_samples_leaf=8, randomforestclassifier__max_features=log2, randomforestclassifier__max_depth=1 \n",
      "[CV]  randomforestclassifier__n_estimators=400, randomforestclassifier__min_samples_split=8, randomforestclassifier__min_samples_leaf=8, randomforestclassifier__max_features=log2, randomforestclassifier__max_depth=1, total=   0.5s\n",
      "[CV] randomforestclassifier__n_estimators=400, randomforestclassifier__min_samples_split=8, randomforestclassifier__min_samples_leaf=8, randomforestclassifier__max_features=log2, randomforestclassifier__max_depth=1 \n",
      "[CV]  randomforestclassifier__n_estimators=400, randomforestclassifier__min_samples_split=8, randomforestclassifier__min_samples_leaf=8, randomforestclassifier__max_features=log2, randomforestclassifier__max_depth=1, total=   0.5s\n",
      "[CV] randomforestclassifier__n_estimators=400, randomforestclassifier__min_samples_split=8, randomforestclassifier__min_samples_leaf=8, randomforestclassifier__max_features=log2, randomforestclassifier__max_depth=1 \n",
      "[CV]  randomforestclassifier__n_estimators=400, randomforestclassifier__min_samples_split=8, randomforestclassifier__min_samples_leaf=8, randomforestclassifier__max_features=log2, randomforestclassifier__max_depth=1, total=   0.6s\n",
      "[CV] randomforestclassifier__n_estimators=400, randomforestclassifier__min_samples_split=8, randomforestclassifier__min_samples_leaf=8, randomforestclassifier__max_features=log2, randomforestclassifier__max_depth=1 \n",
      "[CV]  randomforestclassifier__n_estimators=400, randomforestclassifier__min_samples_split=8, randomforestclassifier__min_samples_leaf=8, randomforestclassifier__max_features=log2, randomforestclassifier__max_depth=1, total=   0.5s\n",
      "[CV] randomforestclassifier__n_estimators=400, randomforestclassifier__min_samples_split=8, randomforestclassifier__min_samples_leaf=8, randomforestclassifier__max_features=log2, randomforestclassifier__max_depth=1 \n",
      "[CV]  randomforestclassifier__n_estimators=400, randomforestclassifier__min_samples_split=8, randomforestclassifier__min_samples_leaf=8, randomforestclassifier__max_features=log2, randomforestclassifier__max_depth=1, total=   0.5s\n",
      "[CV] randomforestclassifier__n_estimators=400, randomforestclassifier__min_samples_split=8, randomforestclassifier__min_samples_leaf=8, randomforestclassifier__max_features=log2, randomforestclassifier__max_depth=1 \n",
      "[CV]  randomforestclassifier__n_estimators=400, randomforestclassifier__min_samples_split=8, randomforestclassifier__min_samples_leaf=8, randomforestclassifier__max_features=log2, randomforestclassifier__max_depth=1, total=   0.5s\n",
      "[CV] randomforestclassifier__n_estimators=400, randomforestclassifier__min_samples_split=8, randomforestclassifier__min_samples_leaf=8, randomforestclassifier__max_features=log2, randomforestclassifier__max_depth=1 \n",
      "[CV]  randomforestclassifier__n_estimators=400, randomforestclassifier__min_samples_split=8, randomforestclassifier__min_samples_leaf=8, randomforestclassifier__max_features=log2, randomforestclassifier__max_depth=1, total=   0.6s\n",
      "[CV] randomforestclassifier__n_estimators=400, randomforestclassifier__min_samples_split=8, randomforestclassifier__min_samples_leaf=8, randomforestclassifier__max_features=log2, randomforestclassifier__max_depth=1 \n",
      "[CV]  randomforestclassifier__n_estimators=400, randomforestclassifier__min_samples_split=8, randomforestclassifier__min_samples_leaf=8, randomforestclassifier__max_features=log2, randomforestclassifier__max_depth=1, total=   0.6s\n",
      "[CV] randomforestclassifier__n_estimators=500, randomforestclassifier__min_samples_split=9, randomforestclassifier__min_samples_leaf=2, randomforestclassifier__max_features=log2, randomforestclassifier__max_depth=4 \n",
      "[CV]  randomforestclassifier__n_estimators=500, randomforestclassifier__min_samples_split=9, randomforestclassifier__min_samples_leaf=2, randomforestclassifier__max_features=log2, randomforestclassifier__max_depth=4, total=   1.3s\n",
      "[CV] randomforestclassifier__n_estimators=500, randomforestclassifier__min_samples_split=9, randomforestclassifier__min_samples_leaf=2, randomforestclassifier__max_features=log2, randomforestclassifier__max_depth=4 \n",
      "[CV]  randomforestclassifier__n_estimators=500, randomforestclassifier__min_samples_split=9, randomforestclassifier__min_samples_leaf=2, randomforestclassifier__max_features=log2, randomforestclassifier__max_depth=4, total=   1.3s\n",
      "[CV] randomforestclassifier__n_estimators=500, randomforestclassifier__min_samples_split=9, randomforestclassifier__min_samples_leaf=2, randomforestclassifier__max_features=log2, randomforestclassifier__max_depth=4 \n",
      "[CV]  randomforestclassifier__n_estimators=500, randomforestclassifier__min_samples_split=9, randomforestclassifier__min_samples_leaf=2, randomforestclassifier__max_features=log2, randomforestclassifier__max_depth=4, total=   1.2s\n",
      "[CV] randomforestclassifier__n_estimators=500, randomforestclassifier__min_samples_split=9, randomforestclassifier__min_samples_leaf=2, randomforestclassifier__max_features=log2, randomforestclassifier__max_depth=4 \n",
      "[CV]  randomforestclassifier__n_estimators=500, randomforestclassifier__min_samples_split=9, randomforestclassifier__min_samples_leaf=2, randomforestclassifier__max_features=log2, randomforestclassifier__max_depth=4, total=   1.1s\n",
      "[CV] randomforestclassifier__n_estimators=500, randomforestclassifier__min_samples_split=9, randomforestclassifier__min_samples_leaf=2, randomforestclassifier__max_features=log2, randomforestclassifier__max_depth=4 \n",
      "[CV]  randomforestclassifier__n_estimators=500, randomforestclassifier__min_samples_split=9, randomforestclassifier__min_samples_leaf=2, randomforestclassifier__max_features=log2, randomforestclassifier__max_depth=4, total=   1.1s\n",
      "[CV] randomforestclassifier__n_estimators=500, randomforestclassifier__min_samples_split=9, randomforestclassifier__min_samples_leaf=2, randomforestclassifier__max_features=log2, randomforestclassifier__max_depth=4 \n",
      "[CV]  randomforestclassifier__n_estimators=500, randomforestclassifier__min_samples_split=9, randomforestclassifier__min_samples_leaf=2, randomforestclassifier__max_features=log2, randomforestclassifier__max_depth=4, total=   1.1s\n",
      "[CV] randomforestclassifier__n_estimators=500, randomforestclassifier__min_samples_split=9, randomforestclassifier__min_samples_leaf=2, randomforestclassifier__max_features=log2, randomforestclassifier__max_depth=4 \n",
      "[CV]  randomforestclassifier__n_estimators=500, randomforestclassifier__min_samples_split=9, randomforestclassifier__min_samples_leaf=2, randomforestclassifier__max_features=log2, randomforestclassifier__max_depth=4, total=   1.1s\n",
      "[CV] randomforestclassifier__n_estimators=500, randomforestclassifier__min_samples_split=9, randomforestclassifier__min_samples_leaf=2, randomforestclassifier__max_features=log2, randomforestclassifier__max_depth=4 \n"
     ]
    },
    {
     "name": "stdout",
     "output_type": "stream",
     "text": [
      "[CV]  randomforestclassifier__n_estimators=500, randomforestclassifier__min_samples_split=9, randomforestclassifier__min_samples_leaf=2, randomforestclassifier__max_features=log2, randomforestclassifier__max_depth=4, total=   1.2s\n",
      "[CV] randomforestclassifier__n_estimators=500, randomforestclassifier__min_samples_split=9, randomforestclassifier__min_samples_leaf=2, randomforestclassifier__max_features=log2, randomforestclassifier__max_depth=4 \n",
      "[CV]  randomforestclassifier__n_estimators=500, randomforestclassifier__min_samples_split=9, randomforestclassifier__min_samples_leaf=2, randomforestclassifier__max_features=log2, randomforestclassifier__max_depth=4, total=   1.1s\n",
      "[CV] randomforestclassifier__n_estimators=500, randomforestclassifier__min_samples_split=9, randomforestclassifier__min_samples_leaf=2, randomforestclassifier__max_features=log2, randomforestclassifier__max_depth=4 \n",
      "[CV]  randomforestclassifier__n_estimators=500, randomforestclassifier__min_samples_split=9, randomforestclassifier__min_samples_leaf=2, randomforestclassifier__max_features=log2, randomforestclassifier__max_depth=4, total=   1.1s\n",
      "[CV] randomforestclassifier__n_estimators=50, randomforestclassifier__min_samples_split=9, randomforestclassifier__min_samples_leaf=50, randomforestclassifier__max_features=log2, randomforestclassifier__max_depth=4 \n",
      "[CV]  randomforestclassifier__n_estimators=50, randomforestclassifier__min_samples_split=9, randomforestclassifier__min_samples_leaf=50, randomforestclassifier__max_features=log2, randomforestclassifier__max_depth=4, total=   0.1s\n",
      "[CV] randomforestclassifier__n_estimators=50, randomforestclassifier__min_samples_split=9, randomforestclassifier__min_samples_leaf=50, randomforestclassifier__max_features=log2, randomforestclassifier__max_depth=4 \n",
      "[CV]  randomforestclassifier__n_estimators=50, randomforestclassifier__min_samples_split=9, randomforestclassifier__min_samples_leaf=50, randomforestclassifier__max_features=log2, randomforestclassifier__max_depth=4, total=   0.1s\n",
      "[CV] randomforestclassifier__n_estimators=50, randomforestclassifier__min_samples_split=9, randomforestclassifier__min_samples_leaf=50, randomforestclassifier__max_features=log2, randomforestclassifier__max_depth=4 \n",
      "[CV]  randomforestclassifier__n_estimators=50, randomforestclassifier__min_samples_split=9, randomforestclassifier__min_samples_leaf=50, randomforestclassifier__max_features=log2, randomforestclassifier__max_depth=4, total=   0.1s\n",
      "[CV] randomforestclassifier__n_estimators=50, randomforestclassifier__min_samples_split=9, randomforestclassifier__min_samples_leaf=50, randomforestclassifier__max_features=log2, randomforestclassifier__max_depth=4 \n",
      "[CV]  randomforestclassifier__n_estimators=50, randomforestclassifier__min_samples_split=9, randomforestclassifier__min_samples_leaf=50, randomforestclassifier__max_features=log2, randomforestclassifier__max_depth=4, total=   0.1s\n",
      "[CV] randomforestclassifier__n_estimators=50, randomforestclassifier__min_samples_split=9, randomforestclassifier__min_samples_leaf=50, randomforestclassifier__max_features=log2, randomforestclassifier__max_depth=4 \n",
      "[CV]  randomforestclassifier__n_estimators=50, randomforestclassifier__min_samples_split=9, randomforestclassifier__min_samples_leaf=50, randomforestclassifier__max_features=log2, randomforestclassifier__max_depth=4, total=   0.1s\n",
      "[CV] randomforestclassifier__n_estimators=50, randomforestclassifier__min_samples_split=9, randomforestclassifier__min_samples_leaf=50, randomforestclassifier__max_features=log2, randomforestclassifier__max_depth=4 \n",
      "[CV]  randomforestclassifier__n_estimators=50, randomforestclassifier__min_samples_split=9, randomforestclassifier__min_samples_leaf=50, randomforestclassifier__max_features=log2, randomforestclassifier__max_depth=4, total=   0.1s\n",
      "[CV] randomforestclassifier__n_estimators=50, randomforestclassifier__min_samples_split=9, randomforestclassifier__min_samples_leaf=50, randomforestclassifier__max_features=log2, randomforestclassifier__max_depth=4 \n",
      "[CV]  randomforestclassifier__n_estimators=50, randomforestclassifier__min_samples_split=9, randomforestclassifier__min_samples_leaf=50, randomforestclassifier__max_features=log2, randomforestclassifier__max_depth=4, total=   0.1s\n",
      "[CV] randomforestclassifier__n_estimators=50, randomforestclassifier__min_samples_split=9, randomforestclassifier__min_samples_leaf=50, randomforestclassifier__max_features=log2, randomforestclassifier__max_depth=4 \n",
      "[CV]  randomforestclassifier__n_estimators=50, randomforestclassifier__min_samples_split=9, randomforestclassifier__min_samples_leaf=50, randomforestclassifier__max_features=log2, randomforestclassifier__max_depth=4, total=   0.1s\n",
      "[CV] randomforestclassifier__n_estimators=50, randomforestclassifier__min_samples_split=9, randomforestclassifier__min_samples_leaf=50, randomforestclassifier__max_features=log2, randomforestclassifier__max_depth=4 \n",
      "[CV]  randomforestclassifier__n_estimators=50, randomforestclassifier__min_samples_split=9, randomforestclassifier__min_samples_leaf=50, randomforestclassifier__max_features=log2, randomforestclassifier__max_depth=4, total=   0.1s\n",
      "[CV] randomforestclassifier__n_estimators=50, randomforestclassifier__min_samples_split=9, randomforestclassifier__min_samples_leaf=50, randomforestclassifier__max_features=log2, randomforestclassifier__max_depth=4 \n",
      "[CV]  randomforestclassifier__n_estimators=50, randomforestclassifier__min_samples_split=9, randomforestclassifier__min_samples_leaf=50, randomforestclassifier__max_features=log2, randomforestclassifier__max_depth=4, total=   0.1s\n",
      "[CV] randomforestclassifier__n_estimators=500, randomforestclassifier__min_samples_split=7, randomforestclassifier__min_samples_leaf=3, randomforestclassifier__max_features=log2, randomforestclassifier__max_depth=7 \n",
      "[CV]  randomforestclassifier__n_estimators=500, randomforestclassifier__min_samples_split=7, randomforestclassifier__min_samples_leaf=3, randomforestclassifier__max_features=log2, randomforestclassifier__max_depth=7, total=   1.6s\n",
      "[CV] randomforestclassifier__n_estimators=500, randomforestclassifier__min_samples_split=7, randomforestclassifier__min_samples_leaf=3, randomforestclassifier__max_features=log2, randomforestclassifier__max_depth=7 \n",
      "[CV]  randomforestclassifier__n_estimators=500, randomforestclassifier__min_samples_split=7, randomforestclassifier__min_samples_leaf=3, randomforestclassifier__max_features=log2, randomforestclassifier__max_depth=7, total=   1.6s\n",
      "[CV] randomforestclassifier__n_estimators=500, randomforestclassifier__min_samples_split=7, randomforestclassifier__min_samples_leaf=3, randomforestclassifier__max_features=log2, randomforestclassifier__max_depth=7 \n",
      "[CV]  randomforestclassifier__n_estimators=500, randomforestclassifier__min_samples_split=7, randomforestclassifier__min_samples_leaf=3, randomforestclassifier__max_features=log2, randomforestclassifier__max_depth=7, total=   1.6s\n",
      "[CV] randomforestclassifier__n_estimators=500, randomforestclassifier__min_samples_split=7, randomforestclassifier__min_samples_leaf=3, randomforestclassifier__max_features=log2, randomforestclassifier__max_depth=7 \n",
      "[CV]  randomforestclassifier__n_estimators=500, randomforestclassifier__min_samples_split=7, randomforestclassifier__min_samples_leaf=3, randomforestclassifier__max_features=log2, randomforestclassifier__max_depth=7, total=   1.6s\n",
      "[CV] randomforestclassifier__n_estimators=500, randomforestclassifier__min_samples_split=7, randomforestclassifier__min_samples_leaf=3, randomforestclassifier__max_features=log2, randomforestclassifier__max_depth=7 \n",
      "[CV]  randomforestclassifier__n_estimators=500, randomforestclassifier__min_samples_split=7, randomforestclassifier__min_samples_leaf=3, randomforestclassifier__max_features=log2, randomforestclassifier__max_depth=7, total=   1.6s\n",
      "[CV] randomforestclassifier__n_estimators=500, randomforestclassifier__min_samples_split=7, randomforestclassifier__min_samples_leaf=3, randomforestclassifier__max_features=log2, randomforestclassifier__max_depth=7 \n",
      "[CV]  randomforestclassifier__n_estimators=500, randomforestclassifier__min_samples_split=7, randomforestclassifier__min_samples_leaf=3, randomforestclassifier__max_features=log2, randomforestclassifier__max_depth=7, total=   1.6s\n",
      "[CV] randomforestclassifier__n_estimators=500, randomforestclassifier__min_samples_split=7, randomforestclassifier__min_samples_leaf=3, randomforestclassifier__max_features=log2, randomforestclassifier__max_depth=7 \n"
     ]
    },
    {
     "name": "stdout",
     "output_type": "stream",
     "text": [
      "[CV]  randomforestclassifier__n_estimators=500, randomforestclassifier__min_samples_split=7, randomforestclassifier__min_samples_leaf=3, randomforestclassifier__max_features=log2, randomforestclassifier__max_depth=7, total=   1.6s\n",
      "[CV] randomforestclassifier__n_estimators=500, randomforestclassifier__min_samples_split=7, randomforestclassifier__min_samples_leaf=3, randomforestclassifier__max_features=log2, randomforestclassifier__max_depth=7 \n",
      "[CV]  randomforestclassifier__n_estimators=500, randomforestclassifier__min_samples_split=7, randomforestclassifier__min_samples_leaf=3, randomforestclassifier__max_features=log2, randomforestclassifier__max_depth=7, total=   1.6s\n",
      "[CV] randomforestclassifier__n_estimators=500, randomforestclassifier__min_samples_split=7, randomforestclassifier__min_samples_leaf=3, randomforestclassifier__max_features=log2, randomforestclassifier__max_depth=7 \n",
      "[CV]  randomforestclassifier__n_estimators=500, randomforestclassifier__min_samples_split=7, randomforestclassifier__min_samples_leaf=3, randomforestclassifier__max_features=log2, randomforestclassifier__max_depth=7, total=   1.5s\n",
      "[CV] randomforestclassifier__n_estimators=500, randomforestclassifier__min_samples_split=7, randomforestclassifier__min_samples_leaf=3, randomforestclassifier__max_features=log2, randomforestclassifier__max_depth=7 \n",
      "[CV]  randomforestclassifier__n_estimators=500, randomforestclassifier__min_samples_split=7, randomforestclassifier__min_samples_leaf=3, randomforestclassifier__max_features=log2, randomforestclassifier__max_depth=7, total=   1.6s\n"
     ]
    },
    {
     "name": "stderr",
     "output_type": "stream",
     "text": [
      "[Parallel(n_jobs=1)]: Done 100 out of 100 | elapsed:  2.5min finished\n"
     ]
    },
    {
     "name": "stdout",
     "output_type": "stream",
     "text": [
      "rf has been fitted\n",
      "Fitting 10 folds for each of 10 candidates, totalling 100 fits\n",
      "[CV] gradientboostingclassifier__n_estimators=200, gradientboostingclassifier__min_samples_split=7, gradientboostingclassifier__min_samples_leaf=5, gradientboostingclassifier__max_features=log2, gradientboostingclassifier__max_depth=2, gradientboostingclassifier__learning_rate=0.003 \n"
     ]
    },
    {
     "name": "stderr",
     "output_type": "stream",
     "text": [
      "[Parallel(n_jobs=1)]: Using backend SequentialBackend with 1 concurrent workers.\n"
     ]
    },
    {
     "name": "stdout",
     "output_type": "stream",
     "text": [
      "[CV]  gradientboostingclassifier__n_estimators=200, gradientboostingclassifier__min_samples_split=7, gradientboostingclassifier__min_samples_leaf=5, gradientboostingclassifier__max_features=log2, gradientboostingclassifier__max_depth=2, gradientboostingclassifier__learning_rate=0.003, total=   1.1s\n",
      "[CV] gradientboostingclassifier__n_estimators=200, gradientboostingclassifier__min_samples_split=7, gradientboostingclassifier__min_samples_leaf=5, gradientboostingclassifier__max_features=log2, gradientboostingclassifier__max_depth=2, gradientboostingclassifier__learning_rate=0.003 \n"
     ]
    },
    {
     "name": "stderr",
     "output_type": "stream",
     "text": [
      "[Parallel(n_jobs=1)]: Done   1 out of   1 | elapsed:    1.1s remaining:    0.0s\n"
     ]
    },
    {
     "name": "stdout",
     "output_type": "stream",
     "text": [
      "[CV]  gradientboostingclassifier__n_estimators=200, gradientboostingclassifier__min_samples_split=7, gradientboostingclassifier__min_samples_leaf=5, gradientboostingclassifier__max_features=log2, gradientboostingclassifier__max_depth=2, gradientboostingclassifier__learning_rate=0.003, total=   1.1s\n",
      "[CV] gradientboostingclassifier__n_estimators=200, gradientboostingclassifier__min_samples_split=7, gradientboostingclassifier__min_samples_leaf=5, gradientboostingclassifier__max_features=log2, gradientboostingclassifier__max_depth=2, gradientboostingclassifier__learning_rate=0.003 \n",
      "[CV]  gradientboostingclassifier__n_estimators=200, gradientboostingclassifier__min_samples_split=7, gradientboostingclassifier__min_samples_leaf=5, gradientboostingclassifier__max_features=log2, gradientboostingclassifier__max_depth=2, gradientboostingclassifier__learning_rate=0.003, total=   1.1s\n",
      "[CV] gradientboostingclassifier__n_estimators=200, gradientboostingclassifier__min_samples_split=7, gradientboostingclassifier__min_samples_leaf=5, gradientboostingclassifier__max_features=log2, gradientboostingclassifier__max_depth=2, gradientboostingclassifier__learning_rate=0.003 \n",
      "[CV]  gradientboostingclassifier__n_estimators=200, gradientboostingclassifier__min_samples_split=7, gradientboostingclassifier__min_samples_leaf=5, gradientboostingclassifier__max_features=log2, gradientboostingclassifier__max_depth=2, gradientboostingclassifier__learning_rate=0.003, total=   1.1s\n",
      "[CV] gradientboostingclassifier__n_estimators=200, gradientboostingclassifier__min_samples_split=7, gradientboostingclassifier__min_samples_leaf=5, gradientboostingclassifier__max_features=log2, gradientboostingclassifier__max_depth=2, gradientboostingclassifier__learning_rate=0.003 \n",
      "[CV]  gradientboostingclassifier__n_estimators=200, gradientboostingclassifier__min_samples_split=7, gradientboostingclassifier__min_samples_leaf=5, gradientboostingclassifier__max_features=log2, gradientboostingclassifier__max_depth=2, gradientboostingclassifier__learning_rate=0.003, total=   1.1s\n",
      "[CV] gradientboostingclassifier__n_estimators=200, gradientboostingclassifier__min_samples_split=7, gradientboostingclassifier__min_samples_leaf=5, gradientboostingclassifier__max_features=log2, gradientboostingclassifier__max_depth=2, gradientboostingclassifier__learning_rate=0.003 \n",
      "[CV]  gradientboostingclassifier__n_estimators=200, gradientboostingclassifier__min_samples_split=7, gradientboostingclassifier__min_samples_leaf=5, gradientboostingclassifier__max_features=log2, gradientboostingclassifier__max_depth=2, gradientboostingclassifier__learning_rate=0.003, total=   1.1s\n",
      "[CV] gradientboostingclassifier__n_estimators=200, gradientboostingclassifier__min_samples_split=7, gradientboostingclassifier__min_samples_leaf=5, gradientboostingclassifier__max_features=log2, gradientboostingclassifier__max_depth=2, gradientboostingclassifier__learning_rate=0.003 \n",
      "[CV]  gradientboostingclassifier__n_estimators=200, gradientboostingclassifier__min_samples_split=7, gradientboostingclassifier__min_samples_leaf=5, gradientboostingclassifier__max_features=log2, gradientboostingclassifier__max_depth=2, gradientboostingclassifier__learning_rate=0.003, total=   1.1s\n",
      "[CV] gradientboostingclassifier__n_estimators=200, gradientboostingclassifier__min_samples_split=7, gradientboostingclassifier__min_samples_leaf=5, gradientboostingclassifier__max_features=log2, gradientboostingclassifier__max_depth=2, gradientboostingclassifier__learning_rate=0.003 \n",
      "[CV]  gradientboostingclassifier__n_estimators=200, gradientboostingclassifier__min_samples_split=7, gradientboostingclassifier__min_samples_leaf=5, gradientboostingclassifier__max_features=log2, gradientboostingclassifier__max_depth=2, gradientboostingclassifier__learning_rate=0.003, total=   1.1s\n",
      "[CV] gradientboostingclassifier__n_estimators=200, gradientboostingclassifier__min_samples_split=7, gradientboostingclassifier__min_samples_leaf=5, gradientboostingclassifier__max_features=log2, gradientboostingclassifier__max_depth=2, gradientboostingclassifier__learning_rate=0.003 \n",
      "[CV]  gradientboostingclassifier__n_estimators=200, gradientboostingclassifier__min_samples_split=7, gradientboostingclassifier__min_samples_leaf=5, gradientboostingclassifier__max_features=log2, gradientboostingclassifier__max_depth=2, gradientboostingclassifier__learning_rate=0.003, total=   1.1s\n",
      "[CV] gradientboostingclassifier__n_estimators=200, gradientboostingclassifier__min_samples_split=7, gradientboostingclassifier__min_samples_leaf=5, gradientboostingclassifier__max_features=log2, gradientboostingclassifier__max_depth=2, gradientboostingclassifier__learning_rate=0.003 \n",
      "[CV]  gradientboostingclassifier__n_estimators=200, gradientboostingclassifier__min_samples_split=7, gradientboostingclassifier__min_samples_leaf=5, gradientboostingclassifier__max_features=log2, gradientboostingclassifier__max_depth=2, gradientboostingclassifier__learning_rate=0.003, total=   1.1s\n",
      "[CV] gradientboostingclassifier__n_estimators=100, gradientboostingclassifier__min_samples_split=3, gradientboostingclassifier__min_samples_leaf=8, gradientboostingclassifier__max_features=log2, gradientboostingclassifier__max_depth=5, gradientboostingclassifier__learning_rate=10 \n",
      "[CV]  gradientboostingclassifier__n_estimators=100, gradientboostingclassifier__min_samples_split=3, gradientboostingclassifier__min_samples_leaf=8, gradientboostingclassifier__max_features=log2, gradientboostingclassifier__max_depth=5, gradientboostingclassifier__learning_rate=10, total=   1.7s\n",
      "[CV] gradientboostingclassifier__n_estimators=100, gradientboostingclassifier__min_samples_split=3, gradientboostingclassifier__min_samples_leaf=8, gradientboostingclassifier__max_features=log2, gradientboostingclassifier__max_depth=5, gradientboostingclassifier__learning_rate=10 \n",
      "[CV]  gradientboostingclassifier__n_estimators=100, gradientboostingclassifier__min_samples_split=3, gradientboostingclassifier__min_samples_leaf=8, gradientboostingclassifier__max_features=log2, gradientboostingclassifier__max_depth=5, gradientboostingclassifier__learning_rate=10, total=   1.8s\n",
      "[CV] gradientboostingclassifier__n_estimators=100, gradientboostingclassifier__min_samples_split=3, gradientboostingclassifier__min_samples_leaf=8, gradientboostingclassifier__max_features=log2, gradientboostingclassifier__max_depth=5, gradientboostingclassifier__learning_rate=10 \n",
      "[CV]  gradientboostingclassifier__n_estimators=100, gradientboostingclassifier__min_samples_split=3, gradientboostingclassifier__min_samples_leaf=8, gradientboostingclassifier__max_features=log2, gradientboostingclassifier__max_depth=5, gradientboostingclassifier__learning_rate=10, total=   1.8s\n",
      "[CV] gradientboostingclassifier__n_estimators=100, gradientboostingclassifier__min_samples_split=3, gradientboostingclassifier__min_samples_leaf=8, gradientboostingclassifier__max_features=log2, gradientboostingclassifier__max_depth=5, gradientboostingclassifier__learning_rate=10 \n",
      "[CV]  gradientboostingclassifier__n_estimators=100, gradientboostingclassifier__min_samples_split=3, gradientboostingclassifier__min_samples_leaf=8, gradientboostingclassifier__max_features=log2, gradientboostingclassifier__max_depth=5, gradientboostingclassifier__learning_rate=10, total=   1.8s\n",
      "[CV] gradientboostingclassifier__n_estimators=100, gradientboostingclassifier__min_samples_split=3, gradientboostingclassifier__min_samples_leaf=8, gradientboostingclassifier__max_features=log2, gradientboostingclassifier__max_depth=5, gradientboostingclassifier__learning_rate=10 \n",
      "[CV]  gradientboostingclassifier__n_estimators=100, gradientboostingclassifier__min_samples_split=3, gradientboostingclassifier__min_samples_leaf=8, gradientboostingclassifier__max_features=log2, gradientboostingclassifier__max_depth=5, gradientboostingclassifier__learning_rate=10, total=   1.7s\n",
      "[CV] gradientboostingclassifier__n_estimators=100, gradientboostingclassifier__min_samples_split=3, gradientboostingclassifier__min_samples_leaf=8, gradientboostingclassifier__max_features=log2, gradientboostingclassifier__max_depth=5, gradientboostingclassifier__learning_rate=10 \n",
      "[CV]  gradientboostingclassifier__n_estimators=100, gradientboostingclassifier__min_samples_split=3, gradientboostingclassifier__min_samples_leaf=8, gradientboostingclassifier__max_features=log2, gradientboostingclassifier__max_depth=5, gradientboostingclassifier__learning_rate=10, total=   1.8s\n",
      "[CV] gradientboostingclassifier__n_estimators=100, gradientboostingclassifier__min_samples_split=3, gradientboostingclassifier__min_samples_leaf=8, gradientboostingclassifier__max_features=log2, gradientboostingclassifier__max_depth=5, gradientboostingclassifier__learning_rate=10 \n"
     ]
    },
    {
     "name": "stdout",
     "output_type": "stream",
     "text": [
      "[CV]  gradientboostingclassifier__n_estimators=100, gradientboostingclassifier__min_samples_split=3, gradientboostingclassifier__min_samples_leaf=8, gradientboostingclassifier__max_features=log2, gradientboostingclassifier__max_depth=5, gradientboostingclassifier__learning_rate=10, total=   1.7s\n",
      "[CV] gradientboostingclassifier__n_estimators=100, gradientboostingclassifier__min_samples_split=3, gradientboostingclassifier__min_samples_leaf=8, gradientboostingclassifier__max_features=log2, gradientboostingclassifier__max_depth=5, gradientboostingclassifier__learning_rate=10 \n",
      "[CV]  gradientboostingclassifier__n_estimators=100, gradientboostingclassifier__min_samples_split=3, gradientboostingclassifier__min_samples_leaf=8, gradientboostingclassifier__max_features=log2, gradientboostingclassifier__max_depth=5, gradientboostingclassifier__learning_rate=10, total=   1.8s\n",
      "[CV] gradientboostingclassifier__n_estimators=100, gradientboostingclassifier__min_samples_split=3, gradientboostingclassifier__min_samples_leaf=8, gradientboostingclassifier__max_features=log2, gradientboostingclassifier__max_depth=5, gradientboostingclassifier__learning_rate=10 \n",
      "[CV]  gradientboostingclassifier__n_estimators=100, gradientboostingclassifier__min_samples_split=3, gradientboostingclassifier__min_samples_leaf=8, gradientboostingclassifier__max_features=log2, gradientboostingclassifier__max_depth=5, gradientboostingclassifier__learning_rate=10, total=   1.8s\n",
      "[CV] gradientboostingclassifier__n_estimators=100, gradientboostingclassifier__min_samples_split=3, gradientboostingclassifier__min_samples_leaf=8, gradientboostingclassifier__max_features=log2, gradientboostingclassifier__max_depth=5, gradientboostingclassifier__learning_rate=10 \n",
      "[CV]  gradientboostingclassifier__n_estimators=100, gradientboostingclassifier__min_samples_split=3, gradientboostingclassifier__min_samples_leaf=8, gradientboostingclassifier__max_features=log2, gradientboostingclassifier__max_depth=5, gradientboostingclassifier__learning_rate=10, total=   1.7s\n",
      "[CV] gradientboostingclassifier__n_estimators=50, gradientboostingclassifier__min_samples_split=7, gradientboostingclassifier__min_samples_leaf=100, gradientboostingclassifier__max_features=None, gradientboostingclassifier__max_depth=25, gradientboostingclassifier__learning_rate=50 \n",
      "[CV]  gradientboostingclassifier__n_estimators=50, gradientboostingclassifier__min_samples_split=7, gradientboostingclassifier__min_samples_leaf=100, gradientboostingclassifier__max_features=None, gradientboostingclassifier__max_depth=25, gradientboostingclassifier__learning_rate=50, total=   1.1s\n",
      "[CV] gradientboostingclassifier__n_estimators=50, gradientboostingclassifier__min_samples_split=7, gradientboostingclassifier__min_samples_leaf=100, gradientboostingclassifier__max_features=None, gradientboostingclassifier__max_depth=25, gradientboostingclassifier__learning_rate=50 \n",
      "[CV]  gradientboostingclassifier__n_estimators=50, gradientboostingclassifier__min_samples_split=7, gradientboostingclassifier__min_samples_leaf=100, gradientboostingclassifier__max_features=None, gradientboostingclassifier__max_depth=25, gradientboostingclassifier__learning_rate=50, total=   1.1s\n",
      "[CV] gradientboostingclassifier__n_estimators=50, gradientboostingclassifier__min_samples_split=7, gradientboostingclassifier__min_samples_leaf=100, gradientboostingclassifier__max_features=None, gradientboostingclassifier__max_depth=25, gradientboostingclassifier__learning_rate=50 \n",
      "[CV]  gradientboostingclassifier__n_estimators=50, gradientboostingclassifier__min_samples_split=7, gradientboostingclassifier__min_samples_leaf=100, gradientboostingclassifier__max_features=None, gradientboostingclassifier__max_depth=25, gradientboostingclassifier__learning_rate=50, total=   1.1s\n",
      "[CV] gradientboostingclassifier__n_estimators=50, gradientboostingclassifier__min_samples_split=7, gradientboostingclassifier__min_samples_leaf=100, gradientboostingclassifier__max_features=None, gradientboostingclassifier__max_depth=25, gradientboostingclassifier__learning_rate=50 \n",
      "[CV]  gradientboostingclassifier__n_estimators=50, gradientboostingclassifier__min_samples_split=7, gradientboostingclassifier__min_samples_leaf=100, gradientboostingclassifier__max_features=None, gradientboostingclassifier__max_depth=25, gradientboostingclassifier__learning_rate=50, total=   1.1s\n",
      "[CV] gradientboostingclassifier__n_estimators=50, gradientboostingclassifier__min_samples_split=7, gradientboostingclassifier__min_samples_leaf=100, gradientboostingclassifier__max_features=None, gradientboostingclassifier__max_depth=25, gradientboostingclassifier__learning_rate=50 \n",
      "[CV]  gradientboostingclassifier__n_estimators=50, gradientboostingclassifier__min_samples_split=7, gradientboostingclassifier__min_samples_leaf=100, gradientboostingclassifier__max_features=None, gradientboostingclassifier__max_depth=25, gradientboostingclassifier__learning_rate=50, total=   1.1s\n",
      "[CV] gradientboostingclassifier__n_estimators=50, gradientboostingclassifier__min_samples_split=7, gradientboostingclassifier__min_samples_leaf=100, gradientboostingclassifier__max_features=None, gradientboostingclassifier__max_depth=25, gradientboostingclassifier__learning_rate=50 \n",
      "[CV]  gradientboostingclassifier__n_estimators=50, gradientboostingclassifier__min_samples_split=7, gradientboostingclassifier__min_samples_leaf=100, gradientboostingclassifier__max_features=None, gradientboostingclassifier__max_depth=25, gradientboostingclassifier__learning_rate=50, total=   1.1s\n",
      "[CV] gradientboostingclassifier__n_estimators=50, gradientboostingclassifier__min_samples_split=7, gradientboostingclassifier__min_samples_leaf=100, gradientboostingclassifier__max_features=None, gradientboostingclassifier__max_depth=25, gradientboostingclassifier__learning_rate=50 \n",
      "[CV]  gradientboostingclassifier__n_estimators=50, gradientboostingclassifier__min_samples_split=7, gradientboostingclassifier__min_samples_leaf=100, gradientboostingclassifier__max_features=None, gradientboostingclassifier__max_depth=25, gradientboostingclassifier__learning_rate=50, total=   1.1s\n",
      "[CV] gradientboostingclassifier__n_estimators=50, gradientboostingclassifier__min_samples_split=7, gradientboostingclassifier__min_samples_leaf=100, gradientboostingclassifier__max_features=None, gradientboostingclassifier__max_depth=25, gradientboostingclassifier__learning_rate=50 \n",
      "[CV]  gradientboostingclassifier__n_estimators=50, gradientboostingclassifier__min_samples_split=7, gradientboostingclassifier__min_samples_leaf=100, gradientboostingclassifier__max_features=None, gradientboostingclassifier__max_depth=25, gradientboostingclassifier__learning_rate=50, total=   1.1s\n",
      "[CV] gradientboostingclassifier__n_estimators=50, gradientboostingclassifier__min_samples_split=7, gradientboostingclassifier__min_samples_leaf=100, gradientboostingclassifier__max_features=None, gradientboostingclassifier__max_depth=25, gradientboostingclassifier__learning_rate=50 \n",
      "[CV]  gradientboostingclassifier__n_estimators=50, gradientboostingclassifier__min_samples_split=7, gradientboostingclassifier__min_samples_leaf=100, gradientboostingclassifier__max_features=None, gradientboostingclassifier__max_depth=25, gradientboostingclassifier__learning_rate=50, total=   1.1s\n",
      "[CV] gradientboostingclassifier__n_estimators=50, gradientboostingclassifier__min_samples_split=7, gradientboostingclassifier__min_samples_leaf=100, gradientboostingclassifier__max_features=None, gradientboostingclassifier__max_depth=25, gradientboostingclassifier__learning_rate=50 \n",
      "[CV]  gradientboostingclassifier__n_estimators=50, gradientboostingclassifier__min_samples_split=7, gradientboostingclassifier__min_samples_leaf=100, gradientboostingclassifier__max_features=None, gradientboostingclassifier__max_depth=25, gradientboostingclassifier__learning_rate=50, total=   1.1s\n",
      "[CV] gradientboostingclassifier__n_estimators=500, gradientboostingclassifier__min_samples_split=5, gradientboostingclassifier__min_samples_leaf=1, gradientboostingclassifier__max_features=sqrt, gradientboostingclassifier__max_depth=3, gradientboostingclassifier__learning_rate=0.001 \n",
      "[CV]  gradientboostingclassifier__n_estimators=500, gradientboostingclassifier__min_samples_split=5, gradientboostingclassifier__min_samples_leaf=1, gradientboostingclassifier__max_features=sqrt, gradientboostingclassifier__max_depth=3, gradientboostingclassifier__learning_rate=0.001, total=   3.3s\n",
      "[CV] gradientboostingclassifier__n_estimators=500, gradientboostingclassifier__min_samples_split=5, gradientboostingclassifier__min_samples_leaf=1, gradientboostingclassifier__max_features=sqrt, gradientboostingclassifier__max_depth=3, gradientboostingclassifier__learning_rate=0.001 \n"
     ]
    },
    {
     "name": "stdout",
     "output_type": "stream",
     "text": [
      "[CV]  gradientboostingclassifier__n_estimators=500, gradientboostingclassifier__min_samples_split=5, gradientboostingclassifier__min_samples_leaf=1, gradientboostingclassifier__max_features=sqrt, gradientboostingclassifier__max_depth=3, gradientboostingclassifier__learning_rate=0.001, total=   3.3s\n",
      "[CV] gradientboostingclassifier__n_estimators=500, gradientboostingclassifier__min_samples_split=5, gradientboostingclassifier__min_samples_leaf=1, gradientboostingclassifier__max_features=sqrt, gradientboostingclassifier__max_depth=3, gradientboostingclassifier__learning_rate=0.001 \n",
      "[CV]  gradientboostingclassifier__n_estimators=500, gradientboostingclassifier__min_samples_split=5, gradientboostingclassifier__min_samples_leaf=1, gradientboostingclassifier__max_features=sqrt, gradientboostingclassifier__max_depth=3, gradientboostingclassifier__learning_rate=0.001, total=   3.3s\n",
      "[CV] gradientboostingclassifier__n_estimators=500, gradientboostingclassifier__min_samples_split=5, gradientboostingclassifier__min_samples_leaf=1, gradientboostingclassifier__max_features=sqrt, gradientboostingclassifier__max_depth=3, gradientboostingclassifier__learning_rate=0.001 \n",
      "[CV]  gradientboostingclassifier__n_estimators=500, gradientboostingclassifier__min_samples_split=5, gradientboostingclassifier__min_samples_leaf=1, gradientboostingclassifier__max_features=sqrt, gradientboostingclassifier__max_depth=3, gradientboostingclassifier__learning_rate=0.001, total=   3.3s\n",
      "[CV] gradientboostingclassifier__n_estimators=500, gradientboostingclassifier__min_samples_split=5, gradientboostingclassifier__min_samples_leaf=1, gradientboostingclassifier__max_features=sqrt, gradientboostingclassifier__max_depth=3, gradientboostingclassifier__learning_rate=0.001 \n",
      "[CV]  gradientboostingclassifier__n_estimators=500, gradientboostingclassifier__min_samples_split=5, gradientboostingclassifier__min_samples_leaf=1, gradientboostingclassifier__max_features=sqrt, gradientboostingclassifier__max_depth=3, gradientboostingclassifier__learning_rate=0.001, total=   3.4s\n",
      "[CV] gradientboostingclassifier__n_estimators=500, gradientboostingclassifier__min_samples_split=5, gradientboostingclassifier__min_samples_leaf=1, gradientboostingclassifier__max_features=sqrt, gradientboostingclassifier__max_depth=3, gradientboostingclassifier__learning_rate=0.001 \n",
      "[CV]  gradientboostingclassifier__n_estimators=500, gradientboostingclassifier__min_samples_split=5, gradientboostingclassifier__min_samples_leaf=1, gradientboostingclassifier__max_features=sqrt, gradientboostingclassifier__max_depth=3, gradientboostingclassifier__learning_rate=0.001, total=   3.3s\n",
      "[CV] gradientboostingclassifier__n_estimators=500, gradientboostingclassifier__min_samples_split=5, gradientboostingclassifier__min_samples_leaf=1, gradientboostingclassifier__max_features=sqrt, gradientboostingclassifier__max_depth=3, gradientboostingclassifier__learning_rate=0.001 \n",
      "[CV]  gradientboostingclassifier__n_estimators=500, gradientboostingclassifier__min_samples_split=5, gradientboostingclassifier__min_samples_leaf=1, gradientboostingclassifier__max_features=sqrt, gradientboostingclassifier__max_depth=3, gradientboostingclassifier__learning_rate=0.001, total=   3.4s\n",
      "[CV] gradientboostingclassifier__n_estimators=500, gradientboostingclassifier__min_samples_split=5, gradientboostingclassifier__min_samples_leaf=1, gradientboostingclassifier__max_features=sqrt, gradientboostingclassifier__max_depth=3, gradientboostingclassifier__learning_rate=0.001 \n",
      "[CV]  gradientboostingclassifier__n_estimators=500, gradientboostingclassifier__min_samples_split=5, gradientboostingclassifier__min_samples_leaf=1, gradientboostingclassifier__max_features=sqrt, gradientboostingclassifier__max_depth=3, gradientboostingclassifier__learning_rate=0.001, total=   3.3s\n",
      "[CV] gradientboostingclassifier__n_estimators=500, gradientboostingclassifier__min_samples_split=5, gradientboostingclassifier__min_samples_leaf=1, gradientboostingclassifier__max_features=sqrt, gradientboostingclassifier__max_depth=3, gradientboostingclassifier__learning_rate=0.001 \n",
      "[CV]  gradientboostingclassifier__n_estimators=500, gradientboostingclassifier__min_samples_split=5, gradientboostingclassifier__min_samples_leaf=1, gradientboostingclassifier__max_features=sqrt, gradientboostingclassifier__max_depth=3, gradientboostingclassifier__learning_rate=0.001, total=   3.3s\n",
      "[CV] gradientboostingclassifier__n_estimators=500, gradientboostingclassifier__min_samples_split=5, gradientboostingclassifier__min_samples_leaf=1, gradientboostingclassifier__max_features=sqrt, gradientboostingclassifier__max_depth=3, gradientboostingclassifier__learning_rate=0.001 \n",
      "[CV]  gradientboostingclassifier__n_estimators=500, gradientboostingclassifier__min_samples_split=5, gradientboostingclassifier__min_samples_leaf=1, gradientboostingclassifier__max_features=sqrt, gradientboostingclassifier__max_depth=3, gradientboostingclassifier__learning_rate=0.001, total=   3.4s\n",
      "[CV] gradientboostingclassifier__n_estimators=500, gradientboostingclassifier__min_samples_split=9, gradientboostingclassifier__min_samples_leaf=9, gradientboostingclassifier__max_features=sqrt, gradientboostingclassifier__max_depth=10, gradientboostingclassifier__learning_rate=1 \n",
      "[CV]  gradientboostingclassifier__n_estimators=500, gradientboostingclassifier__min_samples_split=9, gradientboostingclassifier__min_samples_leaf=9, gradientboostingclassifier__max_features=sqrt, gradientboostingclassifier__max_depth=10, gradientboostingclassifier__learning_rate=1, total=   4.6s\n",
      "[CV] gradientboostingclassifier__n_estimators=500, gradientboostingclassifier__min_samples_split=9, gradientboostingclassifier__min_samples_leaf=9, gradientboostingclassifier__max_features=sqrt, gradientboostingclassifier__max_depth=10, gradientboostingclassifier__learning_rate=1 \n",
      "[CV]  gradientboostingclassifier__n_estimators=500, gradientboostingclassifier__min_samples_split=9, gradientboostingclassifier__min_samples_leaf=9, gradientboostingclassifier__max_features=sqrt, gradientboostingclassifier__max_depth=10, gradientboostingclassifier__learning_rate=1, total=   5.3s\n",
      "[CV] gradientboostingclassifier__n_estimators=500, gradientboostingclassifier__min_samples_split=9, gradientboostingclassifier__min_samples_leaf=9, gradientboostingclassifier__max_features=sqrt, gradientboostingclassifier__max_depth=10, gradientboostingclassifier__learning_rate=1 \n",
      "[CV]  gradientboostingclassifier__n_estimators=500, gradientboostingclassifier__min_samples_split=9, gradientboostingclassifier__min_samples_leaf=9, gradientboostingclassifier__max_features=sqrt, gradientboostingclassifier__max_depth=10, gradientboostingclassifier__learning_rate=1, total=   5.8s\n",
      "[CV] gradientboostingclassifier__n_estimators=500, gradientboostingclassifier__min_samples_split=9, gradientboostingclassifier__min_samples_leaf=9, gradientboostingclassifier__max_features=sqrt, gradientboostingclassifier__max_depth=10, gradientboostingclassifier__learning_rate=1 \n",
      "[CV]  gradientboostingclassifier__n_estimators=500, gradientboostingclassifier__min_samples_split=9, gradientboostingclassifier__min_samples_leaf=9, gradientboostingclassifier__max_features=sqrt, gradientboostingclassifier__max_depth=10, gradientboostingclassifier__learning_rate=1, total=   6.4s\n",
      "[CV] gradientboostingclassifier__n_estimators=500, gradientboostingclassifier__min_samples_split=9, gradientboostingclassifier__min_samples_leaf=9, gradientboostingclassifier__max_features=sqrt, gradientboostingclassifier__max_depth=10, gradientboostingclassifier__learning_rate=1 \n",
      "[CV]  gradientboostingclassifier__n_estimators=500, gradientboostingclassifier__min_samples_split=9, gradientboostingclassifier__min_samples_leaf=9, gradientboostingclassifier__max_features=sqrt, gradientboostingclassifier__max_depth=10, gradientboostingclassifier__learning_rate=1, total=   5.6s\n",
      "[CV] gradientboostingclassifier__n_estimators=500, gradientboostingclassifier__min_samples_split=9, gradientboostingclassifier__min_samples_leaf=9, gradientboostingclassifier__max_features=sqrt, gradientboostingclassifier__max_depth=10, gradientboostingclassifier__learning_rate=1 \n",
      "[CV]  gradientboostingclassifier__n_estimators=500, gradientboostingclassifier__min_samples_split=9, gradientboostingclassifier__min_samples_leaf=9, gradientboostingclassifier__max_features=sqrt, gradientboostingclassifier__max_depth=10, gradientboostingclassifier__learning_rate=1, total=   5.4s\n",
      "[CV] gradientboostingclassifier__n_estimators=500, gradientboostingclassifier__min_samples_split=9, gradientboostingclassifier__min_samples_leaf=9, gradientboostingclassifier__max_features=sqrt, gradientboostingclassifier__max_depth=10, gradientboostingclassifier__learning_rate=1 \n"
     ]
    },
    {
     "name": "stdout",
     "output_type": "stream",
     "text": [
      "[CV]  gradientboostingclassifier__n_estimators=500, gradientboostingclassifier__min_samples_split=9, gradientboostingclassifier__min_samples_leaf=9, gradientboostingclassifier__max_features=sqrt, gradientboostingclassifier__max_depth=10, gradientboostingclassifier__learning_rate=1, total=   5.5s\n",
      "[CV] gradientboostingclassifier__n_estimators=500, gradientboostingclassifier__min_samples_split=9, gradientboostingclassifier__min_samples_leaf=9, gradientboostingclassifier__max_features=sqrt, gradientboostingclassifier__max_depth=10, gradientboostingclassifier__learning_rate=1 \n",
      "[CV]  gradientboostingclassifier__n_estimators=500, gradientboostingclassifier__min_samples_split=9, gradientboostingclassifier__min_samples_leaf=9, gradientboostingclassifier__max_features=sqrt, gradientboostingclassifier__max_depth=10, gradientboostingclassifier__learning_rate=1, total=   4.8s\n",
      "[CV] gradientboostingclassifier__n_estimators=500, gradientboostingclassifier__min_samples_split=9, gradientboostingclassifier__min_samples_leaf=9, gradientboostingclassifier__max_features=sqrt, gradientboostingclassifier__max_depth=10, gradientboostingclassifier__learning_rate=1 \n",
      "[CV]  gradientboostingclassifier__n_estimators=500, gradientboostingclassifier__min_samples_split=9, gradientboostingclassifier__min_samples_leaf=9, gradientboostingclassifier__max_features=sqrt, gradientboostingclassifier__max_depth=10, gradientboostingclassifier__learning_rate=1, total=   5.9s\n",
      "[CV] gradientboostingclassifier__n_estimators=500, gradientboostingclassifier__min_samples_split=9, gradientboostingclassifier__min_samples_leaf=9, gradientboostingclassifier__max_features=sqrt, gradientboostingclassifier__max_depth=10, gradientboostingclassifier__learning_rate=1 \n",
      "[CV]  gradientboostingclassifier__n_estimators=500, gradientboostingclassifier__min_samples_split=9, gradientboostingclassifier__min_samples_leaf=9, gradientboostingclassifier__max_features=sqrt, gradientboostingclassifier__max_depth=10, gradientboostingclassifier__learning_rate=1, total=   5.9s\n",
      "[CV] gradientboostingclassifier__n_estimators=500, gradientboostingclassifier__min_samples_split=7, gradientboostingclassifier__min_samples_leaf=10, gradientboostingclassifier__max_features=log2, gradientboostingclassifier__max_depth=3, gradientboostingclassifier__learning_rate=0.01 \n",
      "[CV]  gradientboostingclassifier__n_estimators=500, gradientboostingclassifier__min_samples_split=7, gradientboostingclassifier__min_samples_leaf=10, gradientboostingclassifier__max_features=log2, gradientboostingclassifier__max_depth=3, gradientboostingclassifier__learning_rate=0.01, total=   3.5s\n",
      "[CV] gradientboostingclassifier__n_estimators=500, gradientboostingclassifier__min_samples_split=7, gradientboostingclassifier__min_samples_leaf=10, gradientboostingclassifier__max_features=log2, gradientboostingclassifier__max_depth=3, gradientboostingclassifier__learning_rate=0.01 \n",
      "[CV]  gradientboostingclassifier__n_estimators=500, gradientboostingclassifier__min_samples_split=7, gradientboostingclassifier__min_samples_leaf=10, gradientboostingclassifier__max_features=log2, gradientboostingclassifier__max_depth=3, gradientboostingclassifier__learning_rate=0.01, total=   3.4s\n",
      "[CV] gradientboostingclassifier__n_estimators=500, gradientboostingclassifier__min_samples_split=7, gradientboostingclassifier__min_samples_leaf=10, gradientboostingclassifier__max_features=log2, gradientboostingclassifier__max_depth=3, gradientboostingclassifier__learning_rate=0.01 \n",
      "[CV]  gradientboostingclassifier__n_estimators=500, gradientboostingclassifier__min_samples_split=7, gradientboostingclassifier__min_samples_leaf=10, gradientboostingclassifier__max_features=log2, gradientboostingclassifier__max_depth=3, gradientboostingclassifier__learning_rate=0.01, total=   3.3s\n",
      "[CV] gradientboostingclassifier__n_estimators=500, gradientboostingclassifier__min_samples_split=7, gradientboostingclassifier__min_samples_leaf=10, gradientboostingclassifier__max_features=log2, gradientboostingclassifier__max_depth=3, gradientboostingclassifier__learning_rate=0.01 \n",
      "[CV]  gradientboostingclassifier__n_estimators=500, gradientboostingclassifier__min_samples_split=7, gradientboostingclassifier__min_samples_leaf=10, gradientboostingclassifier__max_features=log2, gradientboostingclassifier__max_depth=3, gradientboostingclassifier__learning_rate=0.01, total=   3.3s\n",
      "[CV] gradientboostingclassifier__n_estimators=500, gradientboostingclassifier__min_samples_split=7, gradientboostingclassifier__min_samples_leaf=10, gradientboostingclassifier__max_features=log2, gradientboostingclassifier__max_depth=3, gradientboostingclassifier__learning_rate=0.01 \n",
      "[CV]  gradientboostingclassifier__n_estimators=500, gradientboostingclassifier__min_samples_split=7, gradientboostingclassifier__min_samples_leaf=10, gradientboostingclassifier__max_features=log2, gradientboostingclassifier__max_depth=3, gradientboostingclassifier__learning_rate=0.01, total=   3.3s\n",
      "[CV] gradientboostingclassifier__n_estimators=500, gradientboostingclassifier__min_samples_split=7, gradientboostingclassifier__min_samples_leaf=10, gradientboostingclassifier__max_features=log2, gradientboostingclassifier__max_depth=3, gradientboostingclassifier__learning_rate=0.01 \n",
      "[CV]  gradientboostingclassifier__n_estimators=500, gradientboostingclassifier__min_samples_split=7, gradientboostingclassifier__min_samples_leaf=10, gradientboostingclassifier__max_features=log2, gradientboostingclassifier__max_depth=3, gradientboostingclassifier__learning_rate=0.01, total=   3.3s\n",
      "[CV] gradientboostingclassifier__n_estimators=500, gradientboostingclassifier__min_samples_split=7, gradientboostingclassifier__min_samples_leaf=10, gradientboostingclassifier__max_features=log2, gradientboostingclassifier__max_depth=3, gradientboostingclassifier__learning_rate=0.01 \n",
      "[CV]  gradientboostingclassifier__n_estimators=500, gradientboostingclassifier__min_samples_split=7, gradientboostingclassifier__min_samples_leaf=10, gradientboostingclassifier__max_features=log2, gradientboostingclassifier__max_depth=3, gradientboostingclassifier__learning_rate=0.01, total=   3.2s\n",
      "[CV] gradientboostingclassifier__n_estimators=500, gradientboostingclassifier__min_samples_split=7, gradientboostingclassifier__min_samples_leaf=10, gradientboostingclassifier__max_features=log2, gradientboostingclassifier__max_depth=3, gradientboostingclassifier__learning_rate=0.01 \n",
      "[CV]  gradientboostingclassifier__n_estimators=500, gradientboostingclassifier__min_samples_split=7, gradientboostingclassifier__min_samples_leaf=10, gradientboostingclassifier__max_features=log2, gradientboostingclassifier__max_depth=3, gradientboostingclassifier__learning_rate=0.01, total=   3.3s\n",
      "[CV] gradientboostingclassifier__n_estimators=500, gradientboostingclassifier__min_samples_split=7, gradientboostingclassifier__min_samples_leaf=10, gradientboostingclassifier__max_features=log2, gradientboostingclassifier__max_depth=3, gradientboostingclassifier__learning_rate=0.01 \n",
      "[CV]  gradientboostingclassifier__n_estimators=500, gradientboostingclassifier__min_samples_split=7, gradientboostingclassifier__min_samples_leaf=10, gradientboostingclassifier__max_features=log2, gradientboostingclassifier__max_depth=3, gradientboostingclassifier__learning_rate=0.01, total=   3.3s\n",
      "[CV] gradientboostingclassifier__n_estimators=500, gradientboostingclassifier__min_samples_split=7, gradientboostingclassifier__min_samples_leaf=10, gradientboostingclassifier__max_features=log2, gradientboostingclassifier__max_depth=3, gradientboostingclassifier__learning_rate=0.01 \n",
      "[CV]  gradientboostingclassifier__n_estimators=500, gradientboostingclassifier__min_samples_split=7, gradientboostingclassifier__min_samples_leaf=10, gradientboostingclassifier__max_features=log2, gradientboostingclassifier__max_depth=3, gradientboostingclassifier__learning_rate=0.01, total=   3.6s\n",
      "[CV] gradientboostingclassifier__n_estimators=100, gradientboostingclassifier__min_samples_split=8, gradientboostingclassifier__min_samples_leaf=4, gradientboostingclassifier__max_features=None, gradientboostingclassifier__max_depth=1, gradientboostingclassifier__learning_rate=0.03 \n",
      "[CV]  gradientboostingclassifier__n_estimators=100, gradientboostingclassifier__min_samples_split=8, gradientboostingclassifier__min_samples_leaf=4, gradientboostingclassifier__max_features=None, gradientboostingclassifier__max_depth=1, gradientboostingclassifier__learning_rate=0.03, total=   0.5s\n",
      "[CV] gradientboostingclassifier__n_estimators=100, gradientboostingclassifier__min_samples_split=8, gradientboostingclassifier__min_samples_leaf=4, gradientboostingclassifier__max_features=None, gradientboostingclassifier__max_depth=1, gradientboostingclassifier__learning_rate=0.03 \n"
     ]
    },
    {
     "name": "stdout",
     "output_type": "stream",
     "text": [
      "[CV]  gradientboostingclassifier__n_estimators=100, gradientboostingclassifier__min_samples_split=8, gradientboostingclassifier__min_samples_leaf=4, gradientboostingclassifier__max_features=None, gradientboostingclassifier__max_depth=1, gradientboostingclassifier__learning_rate=0.03, total=   0.6s\n",
      "[CV] gradientboostingclassifier__n_estimators=100, gradientboostingclassifier__min_samples_split=8, gradientboostingclassifier__min_samples_leaf=4, gradientboostingclassifier__max_features=None, gradientboostingclassifier__max_depth=1, gradientboostingclassifier__learning_rate=0.03 \n",
      "[CV]  gradientboostingclassifier__n_estimators=100, gradientboostingclassifier__min_samples_split=8, gradientboostingclassifier__min_samples_leaf=4, gradientboostingclassifier__max_features=None, gradientboostingclassifier__max_depth=1, gradientboostingclassifier__learning_rate=0.03, total=   0.5s\n",
      "[CV] gradientboostingclassifier__n_estimators=100, gradientboostingclassifier__min_samples_split=8, gradientboostingclassifier__min_samples_leaf=4, gradientboostingclassifier__max_features=None, gradientboostingclassifier__max_depth=1, gradientboostingclassifier__learning_rate=0.03 \n",
      "[CV]  gradientboostingclassifier__n_estimators=100, gradientboostingclassifier__min_samples_split=8, gradientboostingclassifier__min_samples_leaf=4, gradientboostingclassifier__max_features=None, gradientboostingclassifier__max_depth=1, gradientboostingclassifier__learning_rate=0.03, total=   0.5s\n",
      "[CV] gradientboostingclassifier__n_estimators=100, gradientboostingclassifier__min_samples_split=8, gradientboostingclassifier__min_samples_leaf=4, gradientboostingclassifier__max_features=None, gradientboostingclassifier__max_depth=1, gradientboostingclassifier__learning_rate=0.03 \n",
      "[CV]  gradientboostingclassifier__n_estimators=100, gradientboostingclassifier__min_samples_split=8, gradientboostingclassifier__min_samples_leaf=4, gradientboostingclassifier__max_features=None, gradientboostingclassifier__max_depth=1, gradientboostingclassifier__learning_rate=0.03, total=   0.5s\n",
      "[CV] gradientboostingclassifier__n_estimators=100, gradientboostingclassifier__min_samples_split=8, gradientboostingclassifier__min_samples_leaf=4, gradientboostingclassifier__max_features=None, gradientboostingclassifier__max_depth=1, gradientboostingclassifier__learning_rate=0.03 \n",
      "[CV]  gradientboostingclassifier__n_estimators=100, gradientboostingclassifier__min_samples_split=8, gradientboostingclassifier__min_samples_leaf=4, gradientboostingclassifier__max_features=None, gradientboostingclassifier__max_depth=1, gradientboostingclassifier__learning_rate=0.03, total=   0.5s\n",
      "[CV] gradientboostingclassifier__n_estimators=100, gradientboostingclassifier__min_samples_split=8, gradientboostingclassifier__min_samples_leaf=4, gradientboostingclassifier__max_features=None, gradientboostingclassifier__max_depth=1, gradientboostingclassifier__learning_rate=0.03 \n",
      "[CV]  gradientboostingclassifier__n_estimators=100, gradientboostingclassifier__min_samples_split=8, gradientboostingclassifier__min_samples_leaf=4, gradientboostingclassifier__max_features=None, gradientboostingclassifier__max_depth=1, gradientboostingclassifier__learning_rate=0.03, total=   0.5s\n",
      "[CV] gradientboostingclassifier__n_estimators=100, gradientboostingclassifier__min_samples_split=8, gradientboostingclassifier__min_samples_leaf=4, gradientboostingclassifier__max_features=None, gradientboostingclassifier__max_depth=1, gradientboostingclassifier__learning_rate=0.03 \n",
      "[CV]  gradientboostingclassifier__n_estimators=100, gradientboostingclassifier__min_samples_split=8, gradientboostingclassifier__min_samples_leaf=4, gradientboostingclassifier__max_features=None, gradientboostingclassifier__max_depth=1, gradientboostingclassifier__learning_rate=0.03, total=   0.5s\n",
      "[CV] gradientboostingclassifier__n_estimators=100, gradientboostingclassifier__min_samples_split=8, gradientboostingclassifier__min_samples_leaf=4, gradientboostingclassifier__max_features=None, gradientboostingclassifier__max_depth=1, gradientboostingclassifier__learning_rate=0.03 \n",
      "[CV]  gradientboostingclassifier__n_estimators=100, gradientboostingclassifier__min_samples_split=8, gradientboostingclassifier__min_samples_leaf=4, gradientboostingclassifier__max_features=None, gradientboostingclassifier__max_depth=1, gradientboostingclassifier__learning_rate=0.03, total=   0.5s\n",
      "[CV] gradientboostingclassifier__n_estimators=100, gradientboostingclassifier__min_samples_split=8, gradientboostingclassifier__min_samples_leaf=4, gradientboostingclassifier__max_features=None, gradientboostingclassifier__max_depth=1, gradientboostingclassifier__learning_rate=0.03 \n",
      "[CV]  gradientboostingclassifier__n_estimators=100, gradientboostingclassifier__min_samples_split=8, gradientboostingclassifier__min_samples_leaf=4, gradientboostingclassifier__max_features=None, gradientboostingclassifier__max_depth=1, gradientboostingclassifier__learning_rate=0.03, total=   0.5s\n",
      "[CV] gradientboostingclassifier__n_estimators=200, gradientboostingclassifier__min_samples_split=100, gradientboostingclassifier__min_samples_leaf=100, gradientboostingclassifier__max_features=log2, gradientboostingclassifier__max_depth=7, gradientboostingclassifier__learning_rate=10 \n",
      "[CV]  gradientboostingclassifier__n_estimators=200, gradientboostingclassifier__min_samples_split=100, gradientboostingclassifier__min_samples_leaf=100, gradientboostingclassifier__max_features=log2, gradientboostingclassifier__max_depth=7, gradientboostingclassifier__learning_rate=10, total=   3.7s\n",
      "[CV] gradientboostingclassifier__n_estimators=200, gradientboostingclassifier__min_samples_split=100, gradientboostingclassifier__min_samples_leaf=100, gradientboostingclassifier__max_features=log2, gradientboostingclassifier__max_depth=7, gradientboostingclassifier__learning_rate=10 \n",
      "[CV]  gradientboostingclassifier__n_estimators=200, gradientboostingclassifier__min_samples_split=100, gradientboostingclassifier__min_samples_leaf=100, gradientboostingclassifier__max_features=log2, gradientboostingclassifier__max_depth=7, gradientboostingclassifier__learning_rate=10, total=   3.7s\n",
      "[CV] gradientboostingclassifier__n_estimators=200, gradientboostingclassifier__min_samples_split=100, gradientboostingclassifier__min_samples_leaf=100, gradientboostingclassifier__max_features=log2, gradientboostingclassifier__max_depth=7, gradientboostingclassifier__learning_rate=10 \n",
      "[CV]  gradientboostingclassifier__n_estimators=200, gradientboostingclassifier__min_samples_split=100, gradientboostingclassifier__min_samples_leaf=100, gradientboostingclassifier__max_features=log2, gradientboostingclassifier__max_depth=7, gradientboostingclassifier__learning_rate=10, total=   3.6s\n",
      "[CV] gradientboostingclassifier__n_estimators=200, gradientboostingclassifier__min_samples_split=100, gradientboostingclassifier__min_samples_leaf=100, gradientboostingclassifier__max_features=log2, gradientboostingclassifier__max_depth=7, gradientboostingclassifier__learning_rate=10 \n",
      "[CV]  gradientboostingclassifier__n_estimators=200, gradientboostingclassifier__min_samples_split=100, gradientboostingclassifier__min_samples_leaf=100, gradientboostingclassifier__max_features=log2, gradientboostingclassifier__max_depth=7, gradientboostingclassifier__learning_rate=10, total=   3.7s\n",
      "[CV] gradientboostingclassifier__n_estimators=200, gradientboostingclassifier__min_samples_split=100, gradientboostingclassifier__min_samples_leaf=100, gradientboostingclassifier__max_features=log2, gradientboostingclassifier__max_depth=7, gradientboostingclassifier__learning_rate=10 \n",
      "[CV]  gradientboostingclassifier__n_estimators=200, gradientboostingclassifier__min_samples_split=100, gradientboostingclassifier__min_samples_leaf=100, gradientboostingclassifier__max_features=log2, gradientboostingclassifier__max_depth=7, gradientboostingclassifier__learning_rate=10, total=   3.7s\n",
      "[CV] gradientboostingclassifier__n_estimators=200, gradientboostingclassifier__min_samples_split=100, gradientboostingclassifier__min_samples_leaf=100, gradientboostingclassifier__max_features=log2, gradientboostingclassifier__max_depth=7, gradientboostingclassifier__learning_rate=10 \n",
      "[CV]  gradientboostingclassifier__n_estimators=200, gradientboostingclassifier__min_samples_split=100, gradientboostingclassifier__min_samples_leaf=100, gradientboostingclassifier__max_features=log2, gradientboostingclassifier__max_depth=7, gradientboostingclassifier__learning_rate=10, total=   3.7s\n",
      "[CV] gradientboostingclassifier__n_estimators=200, gradientboostingclassifier__min_samples_split=100, gradientboostingclassifier__min_samples_leaf=100, gradientboostingclassifier__max_features=log2, gradientboostingclassifier__max_depth=7, gradientboostingclassifier__learning_rate=10 \n"
     ]
    },
    {
     "name": "stdout",
     "output_type": "stream",
     "text": [
      "[CV]  gradientboostingclassifier__n_estimators=200, gradientboostingclassifier__min_samples_split=100, gradientboostingclassifier__min_samples_leaf=100, gradientboostingclassifier__max_features=log2, gradientboostingclassifier__max_depth=7, gradientboostingclassifier__learning_rate=10, total=   3.9s\n",
      "[CV] gradientboostingclassifier__n_estimators=200, gradientboostingclassifier__min_samples_split=100, gradientboostingclassifier__min_samples_leaf=100, gradientboostingclassifier__max_features=log2, gradientboostingclassifier__max_depth=7, gradientboostingclassifier__learning_rate=10 \n",
      "[CV]  gradientboostingclassifier__n_estimators=200, gradientboostingclassifier__min_samples_split=100, gradientboostingclassifier__min_samples_leaf=100, gradientboostingclassifier__max_features=log2, gradientboostingclassifier__max_depth=7, gradientboostingclassifier__learning_rate=10, total=   3.9s\n",
      "[CV] gradientboostingclassifier__n_estimators=200, gradientboostingclassifier__min_samples_split=100, gradientboostingclassifier__min_samples_leaf=100, gradientboostingclassifier__max_features=log2, gradientboostingclassifier__max_depth=7, gradientboostingclassifier__learning_rate=10 \n",
      "[CV]  gradientboostingclassifier__n_estimators=200, gradientboostingclassifier__min_samples_split=100, gradientboostingclassifier__min_samples_leaf=100, gradientboostingclassifier__max_features=log2, gradientboostingclassifier__max_depth=7, gradientboostingclassifier__learning_rate=10, total=   3.8s\n",
      "[CV] gradientboostingclassifier__n_estimators=200, gradientboostingclassifier__min_samples_split=100, gradientboostingclassifier__min_samples_leaf=100, gradientboostingclassifier__max_features=log2, gradientboostingclassifier__max_depth=7, gradientboostingclassifier__learning_rate=10 \n",
      "[CV]  gradientboostingclassifier__n_estimators=200, gradientboostingclassifier__min_samples_split=100, gradientboostingclassifier__min_samples_leaf=100, gradientboostingclassifier__max_features=log2, gradientboostingclassifier__max_depth=7, gradientboostingclassifier__learning_rate=10, total=   3.8s\n",
      "[CV] gradientboostingclassifier__n_estimators=300, gradientboostingclassifier__min_samples_split=3, gradientboostingclassifier__min_samples_leaf=3, gradientboostingclassifier__max_features=log2, gradientboostingclassifier__max_depth=2, gradientboostingclassifier__learning_rate=10 \n",
      "[CV]  gradientboostingclassifier__n_estimators=300, gradientboostingclassifier__min_samples_split=3, gradientboostingclassifier__min_samples_leaf=3, gradientboostingclassifier__max_features=log2, gradientboostingclassifier__max_depth=2, gradientboostingclassifier__learning_rate=10, total=   3.9s\n",
      "[CV] gradientboostingclassifier__n_estimators=300, gradientboostingclassifier__min_samples_split=3, gradientboostingclassifier__min_samples_leaf=3, gradientboostingclassifier__max_features=log2, gradientboostingclassifier__max_depth=2, gradientboostingclassifier__learning_rate=10 \n",
      "[CV]  gradientboostingclassifier__n_estimators=300, gradientboostingclassifier__min_samples_split=3, gradientboostingclassifier__min_samples_leaf=3, gradientboostingclassifier__max_features=log2, gradientboostingclassifier__max_depth=2, gradientboostingclassifier__learning_rate=10, total=   3.8s\n",
      "[CV] gradientboostingclassifier__n_estimators=300, gradientboostingclassifier__min_samples_split=3, gradientboostingclassifier__min_samples_leaf=3, gradientboostingclassifier__max_features=log2, gradientboostingclassifier__max_depth=2, gradientboostingclassifier__learning_rate=10 \n",
      "[CV]  gradientboostingclassifier__n_estimators=300, gradientboostingclassifier__min_samples_split=3, gradientboostingclassifier__min_samples_leaf=3, gradientboostingclassifier__max_features=log2, gradientboostingclassifier__max_depth=2, gradientboostingclassifier__learning_rate=10, total=   3.8s\n",
      "[CV] gradientboostingclassifier__n_estimators=300, gradientboostingclassifier__min_samples_split=3, gradientboostingclassifier__min_samples_leaf=3, gradientboostingclassifier__max_features=log2, gradientboostingclassifier__max_depth=2, gradientboostingclassifier__learning_rate=10 \n",
      "[CV]  gradientboostingclassifier__n_estimators=300, gradientboostingclassifier__min_samples_split=3, gradientboostingclassifier__min_samples_leaf=3, gradientboostingclassifier__max_features=log2, gradientboostingclassifier__max_depth=2, gradientboostingclassifier__learning_rate=10, total=   3.9s\n",
      "[CV] gradientboostingclassifier__n_estimators=300, gradientboostingclassifier__min_samples_split=3, gradientboostingclassifier__min_samples_leaf=3, gradientboostingclassifier__max_features=log2, gradientboostingclassifier__max_depth=2, gradientboostingclassifier__learning_rate=10 \n",
      "[CV]  gradientboostingclassifier__n_estimators=300, gradientboostingclassifier__min_samples_split=3, gradientboostingclassifier__min_samples_leaf=3, gradientboostingclassifier__max_features=log2, gradientboostingclassifier__max_depth=2, gradientboostingclassifier__learning_rate=10, total=   3.7s\n",
      "[CV] gradientboostingclassifier__n_estimators=300, gradientboostingclassifier__min_samples_split=3, gradientboostingclassifier__min_samples_leaf=3, gradientboostingclassifier__max_features=log2, gradientboostingclassifier__max_depth=2, gradientboostingclassifier__learning_rate=10 \n",
      "[CV]  gradientboostingclassifier__n_estimators=300, gradientboostingclassifier__min_samples_split=3, gradientboostingclassifier__min_samples_leaf=3, gradientboostingclassifier__max_features=log2, gradientboostingclassifier__max_depth=2, gradientboostingclassifier__learning_rate=10, total=   3.8s\n",
      "[CV] gradientboostingclassifier__n_estimators=300, gradientboostingclassifier__min_samples_split=3, gradientboostingclassifier__min_samples_leaf=3, gradientboostingclassifier__max_features=log2, gradientboostingclassifier__max_depth=2, gradientboostingclassifier__learning_rate=10 \n",
      "[CV]  gradientboostingclassifier__n_estimators=300, gradientboostingclassifier__min_samples_split=3, gradientboostingclassifier__min_samples_leaf=3, gradientboostingclassifier__max_features=log2, gradientboostingclassifier__max_depth=2, gradientboostingclassifier__learning_rate=10, total=   3.8s\n",
      "[CV] gradientboostingclassifier__n_estimators=300, gradientboostingclassifier__min_samples_split=3, gradientboostingclassifier__min_samples_leaf=3, gradientboostingclassifier__max_features=log2, gradientboostingclassifier__max_depth=2, gradientboostingclassifier__learning_rate=10 \n",
      "[CV]  gradientboostingclassifier__n_estimators=300, gradientboostingclassifier__min_samples_split=3, gradientboostingclassifier__min_samples_leaf=3, gradientboostingclassifier__max_features=log2, gradientboostingclassifier__max_depth=2, gradientboostingclassifier__learning_rate=10, total=   3.8s\n",
      "[CV] gradientboostingclassifier__n_estimators=300, gradientboostingclassifier__min_samples_split=3, gradientboostingclassifier__min_samples_leaf=3, gradientboostingclassifier__max_features=log2, gradientboostingclassifier__max_depth=2, gradientboostingclassifier__learning_rate=10 \n",
      "[CV]  gradientboostingclassifier__n_estimators=300, gradientboostingclassifier__min_samples_split=3, gradientboostingclassifier__min_samples_leaf=3, gradientboostingclassifier__max_features=log2, gradientboostingclassifier__max_depth=2, gradientboostingclassifier__learning_rate=10, total=   3.8s\n",
      "[CV] gradientboostingclassifier__n_estimators=300, gradientboostingclassifier__min_samples_split=3, gradientboostingclassifier__min_samples_leaf=3, gradientboostingclassifier__max_features=log2, gradientboostingclassifier__max_depth=2, gradientboostingclassifier__learning_rate=10 \n",
      "[CV]  gradientboostingclassifier__n_estimators=300, gradientboostingclassifier__min_samples_split=3, gradientboostingclassifier__min_samples_leaf=3, gradientboostingclassifier__max_features=log2, gradientboostingclassifier__max_depth=2, gradientboostingclassifier__learning_rate=10, total=   3.7s\n",
      "[CV] gradientboostingclassifier__n_estimators=100, gradientboostingclassifier__min_samples_split=9, gradientboostingclassifier__min_samples_leaf=1, gradientboostingclassifier__max_features=None, gradientboostingclassifier__max_depth=7, gradientboostingclassifier__learning_rate=50 \n",
      "[CV]  gradientboostingclassifier__n_estimators=100, gradientboostingclassifier__min_samples_split=9, gradientboostingclassifier__min_samples_leaf=1, gradientboostingclassifier__max_features=None, gradientboostingclassifier__max_depth=7, gradientboostingclassifier__learning_rate=50, total=   3.3s\n",
      "[CV] gradientboostingclassifier__n_estimators=100, gradientboostingclassifier__min_samples_split=9, gradientboostingclassifier__min_samples_leaf=1, gradientboostingclassifier__max_features=None, gradientboostingclassifier__max_depth=7, gradientboostingclassifier__learning_rate=50 \n"
     ]
    },
    {
     "name": "stdout",
     "output_type": "stream",
     "text": [
      "[CV]  gradientboostingclassifier__n_estimators=100, gradientboostingclassifier__min_samples_split=9, gradientboostingclassifier__min_samples_leaf=1, gradientboostingclassifier__max_features=None, gradientboostingclassifier__max_depth=7, gradientboostingclassifier__learning_rate=50, total=   3.2s\n",
      "[CV] gradientboostingclassifier__n_estimators=100, gradientboostingclassifier__min_samples_split=9, gradientboostingclassifier__min_samples_leaf=1, gradientboostingclassifier__max_features=None, gradientboostingclassifier__max_depth=7, gradientboostingclassifier__learning_rate=50 \n",
      "[CV]  gradientboostingclassifier__n_estimators=100, gradientboostingclassifier__min_samples_split=9, gradientboostingclassifier__min_samples_leaf=1, gradientboostingclassifier__max_features=None, gradientboostingclassifier__max_depth=7, gradientboostingclassifier__learning_rate=50, total=   3.3s\n",
      "[CV] gradientboostingclassifier__n_estimators=100, gradientboostingclassifier__min_samples_split=9, gradientboostingclassifier__min_samples_leaf=1, gradientboostingclassifier__max_features=None, gradientboostingclassifier__max_depth=7, gradientboostingclassifier__learning_rate=50 \n",
      "[CV]  gradientboostingclassifier__n_estimators=100, gradientboostingclassifier__min_samples_split=9, gradientboostingclassifier__min_samples_leaf=1, gradientboostingclassifier__max_features=None, gradientboostingclassifier__max_depth=7, gradientboostingclassifier__learning_rate=50, total=   3.2s\n",
      "[CV] gradientboostingclassifier__n_estimators=100, gradientboostingclassifier__min_samples_split=9, gradientboostingclassifier__min_samples_leaf=1, gradientboostingclassifier__max_features=None, gradientboostingclassifier__max_depth=7, gradientboostingclassifier__learning_rate=50 \n",
      "[CV]  gradientboostingclassifier__n_estimators=100, gradientboostingclassifier__min_samples_split=9, gradientboostingclassifier__min_samples_leaf=1, gradientboostingclassifier__max_features=None, gradientboostingclassifier__max_depth=7, gradientboostingclassifier__learning_rate=50, total=   3.0s\n",
      "[CV] gradientboostingclassifier__n_estimators=100, gradientboostingclassifier__min_samples_split=9, gradientboostingclassifier__min_samples_leaf=1, gradientboostingclassifier__max_features=None, gradientboostingclassifier__max_depth=7, gradientboostingclassifier__learning_rate=50 \n",
      "[CV]  gradientboostingclassifier__n_estimators=100, gradientboostingclassifier__min_samples_split=9, gradientboostingclassifier__min_samples_leaf=1, gradientboostingclassifier__max_features=None, gradientboostingclassifier__max_depth=7, gradientboostingclassifier__learning_rate=50, total=   2.9s\n",
      "[CV] gradientboostingclassifier__n_estimators=100, gradientboostingclassifier__min_samples_split=9, gradientboostingclassifier__min_samples_leaf=1, gradientboostingclassifier__max_features=None, gradientboostingclassifier__max_depth=7, gradientboostingclassifier__learning_rate=50 \n",
      "[CV]  gradientboostingclassifier__n_estimators=100, gradientboostingclassifier__min_samples_split=9, gradientboostingclassifier__min_samples_leaf=1, gradientboostingclassifier__max_features=None, gradientboostingclassifier__max_depth=7, gradientboostingclassifier__learning_rate=50, total=   2.9s\n",
      "[CV] gradientboostingclassifier__n_estimators=100, gradientboostingclassifier__min_samples_split=9, gradientboostingclassifier__min_samples_leaf=1, gradientboostingclassifier__max_features=None, gradientboostingclassifier__max_depth=7, gradientboostingclassifier__learning_rate=50 \n",
      "[CV]  gradientboostingclassifier__n_estimators=100, gradientboostingclassifier__min_samples_split=9, gradientboostingclassifier__min_samples_leaf=1, gradientboostingclassifier__max_features=None, gradientboostingclassifier__max_depth=7, gradientboostingclassifier__learning_rate=50, total=   3.5s\n",
      "[CV] gradientboostingclassifier__n_estimators=100, gradientboostingclassifier__min_samples_split=9, gradientboostingclassifier__min_samples_leaf=1, gradientboostingclassifier__max_features=None, gradientboostingclassifier__max_depth=7, gradientboostingclassifier__learning_rate=50 \n",
      "[CV]  gradientboostingclassifier__n_estimators=100, gradientboostingclassifier__min_samples_split=9, gradientboostingclassifier__min_samples_leaf=1, gradientboostingclassifier__max_features=None, gradientboostingclassifier__max_depth=7, gradientboostingclassifier__learning_rate=50, total=   3.2s\n",
      "[CV] gradientboostingclassifier__n_estimators=100, gradientboostingclassifier__min_samples_split=9, gradientboostingclassifier__min_samples_leaf=1, gradientboostingclassifier__max_features=None, gradientboostingclassifier__max_depth=7, gradientboostingclassifier__learning_rate=50 \n",
      "[CV]  gradientboostingclassifier__n_estimators=100, gradientboostingclassifier__min_samples_split=9, gradientboostingclassifier__min_samples_leaf=1, gradientboostingclassifier__max_features=None, gradientboostingclassifier__max_depth=7, gradientboostingclassifier__learning_rate=50, total=   3.3s\n"
     ]
    },
    {
     "name": "stderr",
     "output_type": "stream",
     "text": [
      "[Parallel(n_jobs=1)]: Done 100 out of 100 | elapsed:  4.7min finished\n"
     ]
    },
    {
     "name": "stdout",
     "output_type": "stream",
     "text": [
      "gb has been fitted\n"
     ]
    }
   ],
   "source": [
    "sim_fitted = {}\n",
    "for model_name, pipeline in pipeline_dict.items():\n",
    "    model = RandomizedSearchCV(estimator=pipeline, param_distributions=hp_dict_rand[model_name], cv=10,verbose=2)\n",
    "    model.fit(X_train, y_train)\n",
    "    sim_fitted[model_name] = model\n",
    "    print(model_name, \"has been fitted\")"
   ]
  },
  {
   "cell_type": "markdown",
   "metadata": {},
   "source": [
    "## Best Params?"
   ]
  },
  {
   "cell_type": "code",
   "execution_count": 59,
   "metadata": {},
   "outputs": [
    {
     "name": "stdout",
     "output_type": "stream",
     "text": [
      "Model accuracy for rf\n",
      "0.6442940038684719\n",
      "best_params for  rf\n",
      "randomforestclassifier__n_estimators ; 500\n",
      "randomforestclassifier__min_samples_split ; 6\n",
      "randomforestclassifier__min_samples_leaf ; 4\n",
      "randomforestclassifier__max_features ; log2\n",
      "randomforestclassifier__max_depth ; 50\n",
      "Model accuracy for gb\n",
      "0.6506769825918762\n",
      "best_params for  gb\n",
      "gradientboostingclassifier__n_estimators ; 500\n",
      "gradientboostingclassifier__min_samples_split ; 9\n",
      "gradientboostingclassifier__min_samples_leaf ; 9\n",
      "gradientboostingclassifier__max_features ; sqrt\n",
      "gradientboostingclassifier__max_depth ; 10\n",
      "gradientboostingclassifier__learning_rate ; 1\n"
     ]
    }
   ],
   "source": [
    "for model_name, sim_fitted_model  in sim_fitted.items():\n",
    "    print('Model accuracy for',model_name)    \n",
    "    print(sim_fitted_model.best_score_)\n",
    "    print(\"best_params for \", model_name)\n",
    "    for hyper, value in sim_fitted_model.best_params_.items():\n",
    "        print(hyper, \";\", value)"
   ]
  },
  {
   "cell_type": "code",
   "execution_count": null,
   "metadata": {},
   "outputs": [],
   "source": []
  }
 ],
 "metadata": {
  "kernelspec": {
   "display_name": "Python 3",
   "language": "python",
   "name": "python3"
  },
  "language_info": {
   "codemirror_mode": {
    "name": "ipython",
    "version": 3
   },
   "file_extension": ".py",
   "mimetype": "text/x-python",
   "name": "python",
   "nbconvert_exporter": "python",
   "pygments_lexer": "ipython3",
   "version": "3.7.3"
  }
 },
 "nbformat": 4,
 "nbformat_minor": 2
}
