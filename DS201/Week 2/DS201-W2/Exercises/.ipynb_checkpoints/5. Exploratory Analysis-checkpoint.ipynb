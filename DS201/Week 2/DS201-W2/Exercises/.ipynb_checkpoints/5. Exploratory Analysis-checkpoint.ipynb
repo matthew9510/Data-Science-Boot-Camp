{
 "cells": [
  {
   "cell_type": "markdown",
   "metadata": {
    "colab_type": "text",
    "id": "RsLXTMOumAIG"
   },
   "source": [
    "<h1 style=\"font-size:42px; text-align:center; margin-bottom:30px;\"><span style=\"color:SteelBlue\">Your Turn: </span> Exploratory Analysis</h1>\n",
    "\n",
    "\n",
    "<br><hr id=\"toc\">\n",
    "\n",
    "### In this module...\n",
    "\n",
    "In this module, we'll go through the essential exploratory analysis steps:\n",
    "1. [Basic information](#basic)\n",
    "2. [Distributions of numeric features](#numeric)\n",
    "3. [Distributions of categorical features](#categorical)\n",
    "4. [Segmentations](#segmentations)\n",
    "5. [Advanced segmentations](#advanced-segmentations) \n",
    "\n",
    "\n",
    "This time, however, you'll be in the driver's seat.\n",
    "<br><hr>"
   ]
  },
  {
   "cell_type": "markdown",
   "metadata": {
    "colab_type": "text",
    "id": "KQ6pXVfrmAII"
   },
   "source": [
    "### First, let's import libraries and load the dataset."
   ]
  },
  {
   "cell_type": "code",
   "execution_count": null,
   "metadata": {
    "colab": {},
    "colab_type": "code",
    "id": "wcXsguyXmAIK"
   },
   "outputs": [],
   "source": [
    "# NumPy for numerical computing\n",
    "\n",
    "# Pandas for DataFrames\n",
    "\n",
    "# Special Pandas option that adds a scroll bar, instead of \"...\"\n",
    "# for dataframes with lots of columns.\n",
    "pd.set_option('display.max_columns', 100)\n",
    "\n",
    "# Matplotlib for visualization\n",
    "\n",
    "# Seaborn for easier visualization"
   ]
  },
  {
   "cell_type": "markdown",
   "metadata": {
    "colab_type": "text",
    "id": "EIFgTxX-mAIP"
   },
   "source": [
    "Next, let's import the dataset.\n",
    "* The file path is <code style=\"color:crimson\">'../../data/employee_data.csv'</code>"
   ]
  },
  {
   "cell_type": "code",
   "execution_count": null,
   "metadata": {},
   "outputs": [],
   "source": [
    "import pandas as pd"
   ]
  },
  {
   "cell_type": "code",
   "execution_count": null,
   "metadata": {
    "colab": {},
    "colab_type": "code",
    "id": "br9PdASmmAIR"
   },
   "outputs": [],
   "source": [
    "# Load employee data from CSV\n",
    "df = pd.read_csv('../../data/employee_data.csv')"
   ]
  },
  {
   "cell_type": "markdown",
   "metadata": {
    "colab_type": "text",
    "id": "uZLVnZxdmAIV"
   },
   "source": [
    "Now we're ready to jump into exploring the data!"
   ]
  },
  {
   "cell_type": "markdown",
   "metadata": {
    "colab_type": "text",
    "id": "2XcqLvMZmAIX"
   },
   "source": [
    "<span id=\"basic\"></span>\n",
    "# 1. Basic information\n",
    "\n",
    "Let's begin by displaying the dataset's basic information.\n",
    "\n",
    "<br>\n",
    "\n",
    "**First, display the <span style=\"color:royalblue\">dimensions</span> (a.k.a. shape) of the dataset.**"
   ]
  },
  {
   "cell_type": "code",
   "execution_count": null,
   "metadata": {
    "colab": {},
    "colab_type": "code",
    "id": "coBQYoC1mAIY"
   },
   "outputs": [],
   "source": [
    "# Dataframe dimensions"
   ]
  },
  {
   "cell_type": "markdown",
   "metadata": {
    "colab_type": "text",
    "id": "1AARuwXgmAId"
   },
   "source": [
    "**Next, display the <span style=\"color:royalblue\">datatypes</span> of the features.**\n",
    "* Which are the **numeric** features?\n",
    "* Which are the **categorical** features?"
   ]
  },
  {
   "cell_type": "code",
   "execution_count": null,
   "metadata": {
    "colab": {},
    "colab_type": "code",
    "id": "i3eJ7k0WmAIe"
   },
   "outputs": [],
   "source": [
    "# Column datatypes"
   ]
  },
  {
   "cell_type": "markdown",
   "metadata": {
    "colab_type": "text",
    "id": "RnkLFepMmAIh"
   },
   "source": [
    "**Next, display the first 10 <span style=\"color:royalblue\">example observations</span> from the dataset.**\n",
    "* Remember, the purpose is not to perform rigorous analysis. \n",
    "* Instead, it's to get a **qualitative \"feel\"** for the dataset."
   ]
  },
  {
   "cell_type": "code",
   "execution_count": null,
   "metadata": {
    "colab": {},
    "colab_type": "code",
    "id": "RHvCkZNjmAIj"
   },
   "outputs": [],
   "source": [
    "# First 10 rows of data"
   ]
  },
  {
   "cell_type": "markdown",
   "metadata": {
    "colab_type": "text",
    "id": "_FkQBH2pmAIn"
   },
   "source": [
    "**Finally, display the last 10 rows of data to check for any signs of <span style=\"color:royalblue\">corrupted data</span>.**\n",
    "* Corrupted data will usually appear as a bunch of gibberish. It will be obvious.\n",
    "* Most of the time, you won't have corrupted data... but this is still a quick and easy check."
   ]
  },
  {
   "cell_type": "code",
   "execution_count": null,
   "metadata": {
    "colab": {},
    "colab_type": "code",
    "id": "r5oPtlwsmAIo"
   },
   "outputs": [],
   "source": [
    "# Last 10 rows of data"
   ]
  },
  {
   "cell_type": "markdown",
   "metadata": {
    "colab_type": "text",
    "id": "_MddVmGXmAIu"
   },
   "source": [
    "<div style=\"text-align:center; margin: 40px 0 40px 0; font-weight:bold\">\n",
    "    \n",
    "[Back to Contents](#toc)\n",
    "</div>"
   ]
  },
  {
   "cell_type": "markdown",
   "metadata": {
    "colab_type": "text",
    "id": "S4LKzSHjmAIw"
   },
   "source": [
    "<span id=\"numeric\"></span>\n",
    "# 2. Distributions of numeric features\n",
    "\n",
    "One of the most enlightening data exploration tasks is plotting the distributions of your features.\n",
    "\n",
    "<br>\n",
    "\n",
    "**First, plot the Pandas <span style=\"color:royalblue\">histogram grid</span> for all the numeric features.** \n",
    "\n",
    "Feel free to mess around with the settings and formatting, but here are the settings we used for reference:\n",
    "* We made the figure size 10x10\n",
    "* We also rotated x-labels by -45 degrees"
   ]
  },
  {
   "cell_type": "code",
   "execution_count": null,
   "metadata": {
    "colab": {},
    "colab_type": "code",
    "id": "iYt42lWVmAI0"
   },
   "outputs": [],
   "source": [
    "# Plot histogram grid"
   ]
  },
  {
   "cell_type": "markdown",
   "metadata": {
    "colab_type": "text",
    "id": "IB36WDiPmAI_"
   },
   "source": [
    "**Next, display formal <span style=\"color:royalblue\">summary statistics</span> for the numeric features.**"
   ]
  },
  {
   "cell_type": "code",
   "execution_count": null,
   "metadata": {
    "colab": {},
    "colab_type": "code",
    "id": "CcwZq1WjmAJA",
    "scrolled": true
   },
   "outputs": [],
   "source": [
    "# Summarize numerical features"
   ]
  },
  {
   "cell_type": "markdown",
   "metadata": {
    "colab_type": "text",
    "id": "S4bwOSjWmAJE"
   },
   "source": [
    "<div style=\"text-align:center; margin: 40px 0 40px 0; font-weight:bold\">\n",
    "    \n",
    "[Back to Contents](#toc)\n",
    "</div>"
   ]
  },
  {
   "cell_type": "markdown",
   "metadata": {
    "colab_type": "text",
    "id": "MEfdLJVemAJF"
   },
   "source": [
    "<span id=\"categorical\"></span>\n",
    "# 3. Distributions of categorical features\n",
    "\n",
    "Next, let's take a look at the distributions of our categorical features.\n",
    "\n",
    "<br>\n",
    "\n",
    "**First, display the <span style=\"color:royalblue\">summary statistics</span> for categorical features in the dataset.**"
   ]
  },
  {
   "cell_type": "code",
   "execution_count": null,
   "metadata": {
    "colab": {},
    "colab_type": "code",
    "id": "7eqkVgbYmAJG"
   },
   "outputs": [],
   "source": [
    "# Summarize categorical features"
   ]
  },
  {
   "cell_type": "markdown",
   "metadata": {
    "colab_type": "text",
    "id": "Mt3CGrchmAJJ"
   },
   "source": [
    "**Using a loop, display <span style=\"color:royalblue\">bar plots</span> for each of the categorical features.**"
   ]
  },
  {
   "cell_type": "code",
   "execution_count": null,
   "metadata": {
    "colab": {},
    "colab_type": "code",
    "id": "mcH5wFRImAJK"
   },
   "outputs": [],
   "source": [
    "# Plot bar plot for each categorical feature"
   ]
  },
  {
   "cell_type": "markdown",
   "metadata": {
    "colab_type": "text",
    "id": "FL0b67_fmAJP"
   },
   "source": [
    "<div style=\"text-align:center; margin: 40px 0 40px 0; font-weight:bold\">\n",
    "    \n",
    "[Back to Contents](#toc)\n",
    "</div>"
   ]
  },
  {
   "cell_type": "markdown",
   "metadata": {
    "colab_type": "text",
    "id": "7ohQw61HmAJQ"
   },
   "source": [
    "<span id=\"segmentations\"></span>\n",
    "# 4. Segmentations\n",
    "\n",
    "Next, let's create some segmentations. Segmentations are powerful ways to cut the data to observe the relationship between categorical features and numeric features.\n",
    "\n",
    "The code is provided in this section as we didn't cover it in our lesson. If everything was done properly upto this point, you should be able to just execute the code below to display the charts.\n",
    "\n",
    "**First, display a <span style=\"color:royalblue\">violin plot</span> with <code style=\"color:steelblue\">'status'</code> on the y-axis and <code style=\"color:steelblue\">'satisfaction'</code> on the x-axis.**"
   ]
  },
  {
   "cell_type": "code",
   "execution_count": null,
   "metadata": {
    "colab": {},
    "colab_type": "code",
    "id": "-3BvZQI4mAJS"
   },
   "outputs": [],
   "source": [
    "# Segment satisfaction by status and plot distributions\n",
    "sns.violinplot(y=\"status\", x=\"satisfaction\", data=df)"
   ]
  },
  {
   "cell_type": "markdown",
   "metadata": {
    "colab_type": "text",
    "id": "zhCjfX8imAJW"
   },
   "source": [
    "**Next, display a violin plot that segments <code style=\"color:steelblue\">'last_evaluation'</code> by <code style=\"color:steelblue\">'status'</code>.**"
   ]
  },
  {
   "cell_type": "code",
   "execution_count": null,
   "metadata": {
    "colab": {},
    "colab_type": "code",
    "id": "xEH6VMhbmAJY"
   },
   "outputs": [],
   "source": [
    "# Segment last_evaluation by status and plot distributions\n",
    "sns.violinplot(y=\"status\", x=\"last_evaluation\", data=df)"
   ]
  },
  {
   "cell_type": "markdown",
   "metadata": {
    "colab_type": "text",
    "id": "luoQJb2NmAJe"
   },
   "source": [
    "**<span style=\"color:royalblue\">Group by</span> <code style=\"color:steelblue\">'status'</code> and calculate the average value of each feature within each class.**"
   ]
  },
  {
   "cell_type": "code",
   "execution_count": null,
   "metadata": {
    "colab": {},
    "colab_type": "code",
    "id": "kruNN-PGmAJf"
   },
   "outputs": [],
   "source": [
    "# Segment by status and display the means within each class\n",
    "df.groupby('status').mean()"
   ]
  },
  {
   "cell_type": "markdown",
   "metadata": {
    "colab_type": "text",
    "id": "31n3dxCimAJp"
   },
   "source": [
    "<div style=\"text-align:center; margin: 40px 0 40px 0; font-weight:bold\">\n",
    "    \n",
    "[Back to Contents](#toc)\n",
    "</div>"
   ]
  },
  {
   "cell_type": "markdown",
   "metadata": {
    "colab_type": "text",
    "id": "zk-9-2b6mAJq"
   },
   "source": [
    "<span id=\"advanced-segmentations\"></span>\n",
    "# 5. Advanced segmentations\n",
    "\n",
    "Because the target variable is categorical, it can often be helpful to expand your segmentation analysis. \n",
    "\n",
    "<br>\n",
    "\n",
    "**Now, we'll see how to do bivariate segmentations, which can be produced with the <code style=\"color:steelblue\">sns.lmplot()</code> function from the Seaborn library.**\n",
    "* <code style=\"color:steelblue\">sns.lmplot()</code> is essentially a regular **scatterplot** with additional options.\n",
    "* For example, we can color each point based on its <code style=\"color:steelblue\">'status'</code>.\n",
    "* To do so, we'll use the <code style=\"color:steelblue\">hue=</code> argument."
   ]
  },
  {
   "cell_type": "code",
   "execution_count": null,
   "metadata": {
    "colab": {},
    "colab_type": "code",
    "id": "RBjfMVJ8mAJs"
   },
   "outputs": [],
   "source": [
    "# Scatterplot of satisfaction vs. last_evaluation\n",
    "sns.lmplot(y=\"satisfaction\", x=\"last_evaluation\", data=df, hue='status', fit_reg=None)"
   ]
  },
  {
   "cell_type": "markdown",
   "metadata": {
    "colab_type": "text",
    "id": "8Ck8XRj-mAJy"
   },
   "source": [
    "**Plot another scatterplot of <code style=\"color:steelblue\">'satisfaction'</code> and <code style=\"color:steelblue\">'last_evaluation'</code>, but only for employees who have <code style=\"color:crimson\">'Left'</code>.**\n",
    "* **Hint:** Do you still need the <code style=\"color:steelblue\">hue=</code> argument?\n",
    "* **Hint:** How might you change the <code style=\"color:steelblue\">data=df</code> argument?"
   ]
  },
  {
   "cell_type": "code",
   "execution_count": null,
   "metadata": {
    "colab": {},
    "colab_type": "code",
    "id": "Mkp1e1HPmAJ0"
   },
   "outputs": [],
   "source": [
    "# Scatterplot of satisfaction vs. last_evaluation, only those who have left\n",
    "sns.lmplot(y=\"satisfaction\", x=\"last_evaluation\", data=df[df.status == 'Left'], hue='status', fit_reg=None)"
   ]
  },
  {
   "cell_type": "markdown",
   "metadata": {
    "colab_type": "text",
    "id": "DM2RegxTmAJ4"
   },
   "source": [
    "<div style=\"text-align:center; margin: 40px 0 40px 0; font-weight:bold\">\n",
    "    \n",
    "[Back to Contents](#toc)\n",
    "   \n",
    "</div>"
   ]
  },
  {
   "cell_type": "markdown",
   "metadata": {
    "colab_type": "text",
    "id": "3kRvyQo9mAJ5"
   },
   "source": [
    "<br>\n",
    "\n",
    "Congratulations for making through Exploratory Analysis!\n",
    "\n",
    "As a reminder, here are a few things you did in this module:\n",
    "* You explored basic information about your dataset.\n",
    "* You plotted distributions of numeric and categorical features.\n",
    "* You segmented your dataset by <code style=\"color:steelblue\">'status'</code>.\n",
    "* And you dove into some advanced, bivariate segmentations.\n",
    "\n",
    "<div style=\"text-align:center; margin: 40px 0 40px 0; font-weight:bold\">\n",
    "[Back to Contents](#toc)\n",
    "</div>"
   ]
  },
  {
   "cell_type": "code",
   "execution_count": null,
   "metadata": {
    "colab": {},
    "colab_type": "code",
    "id": "-fETr6lOmAJ7"
   },
   "outputs": [],
   "source": []
  }
 ],
 "metadata": {
  "colab": {
   "name": "Exercise 1 - Exploratory Analysis.ipynb",
   "provenance": [],
   "version": "0.3.2"
  },
  "kernelspec": {
   "display_name": "Python 3",
   "language": "python",
   "name": "python3"
  },
  "language_info": {
   "codemirror_mode": {
    "name": "ipython",
    "version": 3
   },
   "file_extension": ".py",
   "mimetype": "text/x-python",
   "name": "python",
   "nbconvert_exporter": "python",
   "pygments_lexer": "ipython3",
   "version": "3.7.1"
  }
 },
 "nbformat": 4,
 "nbformat_minor": 1
}
