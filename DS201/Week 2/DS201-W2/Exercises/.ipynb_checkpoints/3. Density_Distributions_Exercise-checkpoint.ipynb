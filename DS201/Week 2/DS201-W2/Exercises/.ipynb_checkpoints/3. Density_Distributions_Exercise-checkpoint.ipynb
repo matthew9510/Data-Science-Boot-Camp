{
 "cells": [
  {
   "cell_type": "markdown",
   "metadata": {},
   "source": [
    "#### Import Libraries"
   ]
  },
  {
   "cell_type": "code",
   "execution_count": null,
   "metadata": {},
   "outputs": [],
   "source": [
    "# numpy\n",
    "# pandas\n",
    "# matplotlib\n",
    "# seaborn"
   ]
  },
  {
   "cell_type": "code",
   "execution_count": null,
   "metadata": {},
   "outputs": [],
   "source": [
    "# Seaborn Styles?"
   ]
  },
  {
   "cell_type": "markdown",
   "metadata": {},
   "source": [
    "#### Import Data"
   ]
  },
  {
   "cell_type": "code",
   "execution_count": null,
   "metadata": {},
   "outputs": [],
   "source": []
  },
  {
   "cell_type": "code",
   "execution_count": null,
   "metadata": {},
   "outputs": [],
   "source": [
    "# read usa data --- Filepath will be harder than usual!"
   ]
  },
  {
   "cell_type": "code",
   "execution_count": null,
   "metadata": {},
   "outputs": [],
   "source": [
    "# Pick a state to filter your dataframe by and save it to a new df\n",
    "# ex ca = usa[usa[?] == ?]"
   ]
  },
  {
   "cell_type": "code",
   "execution_count": null,
   "metadata": {
    "scrolled": true
   },
   "outputs": [],
   "source": [
    "# Print columns"
   ]
  },
  {
   "cell_type": "code",
   "execution_count": null,
   "metadata": {
    "scrolled": true
   },
   "outputs": [],
   "source": [
    "# Examine the \"Value counts\" for the \"County\" column.\n",
    "# Both to see what counties are there for our examination \n",
    "# and how well represented they are\n",
    "\n"
   ]
  },
  {
   "cell_type": "markdown",
   "metadata": {},
   "source": [
    "### Plot Swarm of a single column"
   ]
  },
  {
   "cell_type": "code",
   "execution_count": null,
   "metadata": {},
   "outputs": [],
   "source": [
    "# This is done for you as the syntax is \n",
    "# different than what were used to.\n",
    "\n",
    "# For swarm plots:\n",
    "# x must be some column with categorical data\n",
    "# y must be some column with numerical data\n",
    "\n",
    "# change data='state_df' to data=ca or data=ny, \n",
    "# or whatever you named your state_df.\n",
    "\n",
    "_ = sns.swarmplot(x = \"County\", y = \"Income\", data='state_df')\n",
    "plt.show()"
   ]
  },
  {
   "cell_type": "markdown",
   "metadata": {},
   "source": [
    "#### Limit the scope of your state dataframe to only contain a few select counties."
   ]
  },
  {
   "cell_type": "code",
   "execution_count": null,
   "metadata": {},
   "outputs": [],
   "source": []
  },
  {
   "cell_type": "code",
   "execution_count": null,
   "metadata": {},
   "outputs": [],
   "source": [
    "counties_to_examine = [\"fill\",\"me\",\"with\",\"a\",\"list\",\"of\",\"counties\"]\n",
    "# Use the .isin() method for pandas series to \n",
    "# cross reference your state_df and create county_df\n",
    "\n",
    "\n",
    "print(county_df[\"County\"].unique())\n",
    "print(\"\\nRows x Columns:\", county_df.shape)"
   ]
  },
  {
   "cell_type": "markdown",
   "metadata": {},
   "source": [
    "#### Plot Swarm of a single column - again."
   ]
  },
  {
   "cell_type": "code",
   "execution_count": null,
   "metadata": {},
   "outputs": [],
   "source": [
    "# Repeat of above swarm plot, except this time data=county_df\n",
    "\n",
    "_ = sns.swarmplot(x = \"County\", y = \"Income\", data=county_df)\n",
    "plt.show()"
   ]
  },
  {
   "cell_type": "code",
   "execution_count": null,
   "metadata": {},
   "outputs": [],
   "source": [
    "# The hybrid between a Histogram and Swarmplot is a violinplot\n",
    "# Shows the IQR and median!\n",
    "\n",
    "_ = sns.violinplot(x = \"County\", y = \"Income\", data=county_df)\n",
    "plt.show()"
   ]
  },
  {
   "cell_type": "markdown",
   "metadata": {},
   "source": [
    "### Plot ECDF of a single column."
   ]
  },
  {
   "cell_type": "code",
   "execution_count": null,
   "metadata": {},
   "outputs": [],
   "source": [
    "def prep_ecdf(data):\n",
    "\n",
    "    n = len(data)\n",
    "    x = np.sort(data)\n",
    "    y = np.arange(1, n + 1) / n\n",
    "\n",
    "    return x, y"
   ]
  },
  {
   "cell_type": "markdown",
   "metadata": {},
   "source": [
    "#### Prepare and Plot Income data for a single county"
   ]
  },
  {
   "cell_type": "code",
   "execution_count": null,
   "metadata": {},
   "outputs": [],
   "source": [
    "# Prepare Income Data\n",
    "is_my_county = county_df[\"County\"] == \"my county\"\n",
    "county = county_df[is_my_county]\n",
    "county_income = county[\"Income\"]\n",
    "\n",
    "x,y = prep_ecdf(county_income)"
   ]
  },
  {
   "cell_type": "code",
   "execution_count": null,
   "metadata": {},
   "outputs": [],
   "source": [
    "#Inspect\n",
    "# print(x)\n",
    "# print(\"-\"*100)\n",
    "# print(y)"
   ]
  },
  {
   "cell_type": "code",
   "execution_count": null,
   "metadata": {},
   "outputs": [],
   "source": [
    "# Plot\n",
    "# Remember we need to pass both x and y\n",
    "# As well as \".\" for the marker parameter\n",
    "# and \"none\" for the linestyle parameter\n",
    "\n",
    "_ = plt.plot()\n",
    "_ = plt.title(\"Some title\")\n",
    "\n",
    "# labels\n",
    "_ = ''\n",
    "_ = ''"
   ]
  },
  {
   "cell_type": "markdown",
   "metadata": {},
   "source": [
    "#### Prepare and Plot Income data for All counties in `county_df`"
   ]
  },
  {
   "cell_type": "code",
   "execution_count": null,
   "metadata": {},
   "outputs": [],
   "source": []
  },
  {
   "cell_type": "code",
   "execution_count": null,
   "metadata": {},
   "outputs": [],
   "source": [
    "#Ive gone ahead and included all of the code for the income of \n",
    "# all of the counties present in your county_df\n",
    "\n",
    "# You will use this again below, after your summary."
   ]
  },
  {
   "cell_type": "code",
   "execution_count": null,
   "metadata": {},
   "outputs": [],
   "source": [
    "labels = []\n",
    "for county in county_df[\"County\"].unique():\n",
    "    \n",
    "    county_income = county_df[county_df[\"County\"] == county][\"Income\"]\n",
    "    x,y = prep_ecdf(county_income)\n",
    "    _ = plt.plot(x, y, marker = \".\", linestyle = \"none\")\n",
    "    \n",
    "    labels.append(county)\n",
    "\n",
    "_ = plt.legend(labels, loc='lower right')\n",
    "_ = plt.xlabel(\"Incomes\")\n",
    "_ = plt.ylabel('ECDF')\n",
    "plt.show()"
   ]
  },
  {
   "cell_type": "code",
   "execution_count": null,
   "metadata": {},
   "outputs": [],
   "source": [
    "#What can we say about the incomes of these 4 counties? Take a minute to ponder this."
   ]
  },
  {
   "cell_type": "markdown",
   "metadata": {},
   "source": [
    "### Using the code above, print an ECDF for all counties of your choosing, but pick some other numerical value to plot them against! \n",
    "\n",
    "#### Aka some other numerical column other than \"Income\""
   ]
  },
  {
   "cell_type": "code",
   "execution_count": null,
   "metadata": {},
   "outputs": [],
   "source": [
    "# here"
   ]
  }
 ],
 "metadata": {
  "kernelspec": {
   "display_name": "Python 3",
   "language": "python",
   "name": "python3"
  },
  "language_info": {
   "codemirror_mode": {
    "name": "ipython",
    "version": 3
   },
   "file_extension": ".py",
   "mimetype": "text/x-python",
   "name": "python",
   "nbconvert_exporter": "python",
   "pygments_lexer": "ipython3",
   "version": "3.7.1"
  }
 },
 "nbformat": 4,
 "nbformat_minor": 2
}
