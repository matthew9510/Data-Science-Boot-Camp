{
 "cells": [
  {
   "cell_type": "markdown",
   "metadata": {},
   "source": [
    "## Density Distribution Exercises"
   ]
  },
  {
   "cell_type": "markdown",
   "metadata": {},
   "source": [
    "<hr>"
   ]
  },
  {
   "cell_type": "markdown",
   "metadata": {},
   "source": [
    "#### Import Libraries"
   ]
  },
  {
   "cell_type": "code",
   "execution_count": null,
   "metadata": {},
   "outputs": [],
   "source": [
    "# numpy\n",
    "# pandas\n",
    "# matplotlib\n",
    "# seaborn"
   ]
  },
  {
   "cell_type": "code",
   "execution_count": null,
   "metadata": {},
   "outputs": [],
   "source": [
    "# Seaborn Styles instead of matoplotlib?"
   ]
  },
  {
   "cell_type": "markdown",
   "metadata": {},
   "source": [
    "<br>"
   ]
  },
  {
   "cell_type": "markdown",
   "metadata": {},
   "source": [
    "#### Import Data"
   ]
  },
  {
   "cell_type": "code",
   "execution_count": null,
   "metadata": {},
   "outputs": [],
   "source": [
    "# read usa data --- Filepath will be harder than usual!"
   ]
  },
  {
   "cell_type": "code",
   "execution_count": null,
   "metadata": {},
   "outputs": [],
   "source": [
    "# Pick a state to filter your dataframe by and save it to a new df"
   ]
  },
  {
   "cell_type": "code",
   "execution_count": null,
   "metadata": {
    "scrolled": true
   },
   "outputs": [],
   "source": [
    "# Print column \"info\""
   ]
  },
  {
   "cell_type": "code",
   "execution_count": null,
   "metadata": {
    "scrolled": true
   },
   "outputs": [],
   "source": [
    "# Examine the \"Value counts\" for the \"County\" column.\n",
    "# Both to see what counties are there for our examination \n",
    "# and how well represented they all are."
   ]
  },
  {
   "cell_type": "markdown",
   "metadata": {},
   "source": [
    "<hr>\n",
    "<br>\n",
    "<br>"
   ]
  },
  {
   "cell_type": "markdown",
   "metadata": {},
   "source": [
    "### Plot Swarm Plot"
   ]
  },
  {
   "cell_type": "code",
   "execution_count": null,
   "metadata": {},
   "outputs": [],
   "source": [
    "# This is done for you as the syntax is \n",
    "# different than what were used to.\n",
    "\n",
    "# For swarm plots:\n",
    "# x must be some column with categorical data\n",
    "# y must be some column with numerical data\n",
    "\n",
    "# change data='state_df' to data=ca or data=ny, \n",
    "# or whatever you named your \"state_df\".\n",
    "\n",
    "sns.swarmplot(x = \"County\", y = \"Income\", data='state_df')\n",
    "plt.show()"
   ]
  },
  {
   "cell_type": "markdown",
   "metadata": {},
   "source": [
    "<br>"
   ]
  },
  {
   "cell_type": "markdown",
   "metadata": {},
   "source": [
    "#### Limit the scope of your state dataframe to only contain a few select counties."
   ]
  },
  {
   "cell_type": "code",
   "execution_count": null,
   "metadata": {},
   "outputs": [],
   "source": [
    "counties_to_examine = [\"fill\",\"me\",\"with\",\"a\",\"list\",\"of\",\"4\",\"counties\"]\n",
    "# Use the .isin() method for pandas series to \n",
    "# cross reference your state_df and create \"county_df\"\n",
    "\n",
    "\n",
    "print(county_df[\"County\"].unique())\n",
    "print(\"\\nRows x Columns:\", county_df.shape)"
   ]
  },
  {
   "cell_type": "markdown",
   "metadata": {},
   "source": [
    "<br>"
   ]
  },
  {
   "cell_type": "markdown",
   "metadata": {},
   "source": [
    "#### Plot Swarm of a single column - again."
   ]
  },
  {
   "cell_type": "code",
   "execution_count": null,
   "metadata": {},
   "outputs": [],
   "source": [
    "# Repeat of above swarm plot, except this time data=county_df\n",
    "\n",
    "_ = sns.swarmplot(x = \"County\", y = \"Income\", data='county_df')\n",
    "plt.show()"
   ]
  },
  {
   "cell_type": "code",
   "execution_count": null,
   "metadata": {},
   "outputs": [],
   "source": [
    "# The hybrid between a Histogram and Swarmplot is a violinplot\n",
    "# Shows the IQR and median!\n",
    "\n",
    "_ = sns.violinplot(x = \"County\", y = \"Income\", data='county_df')\n",
    "plt.show()"
   ]
  },
  {
   "cell_type": "markdown",
   "metadata": {},
   "source": [
    "<hr>\n",
    "<br>\n",
    "<br>"
   ]
  },
  {
   "cell_type": "markdown",
   "metadata": {},
   "source": [
    "### Plot ECDF of a single column."
   ]
  },
  {
   "cell_type": "code",
   "execution_count": null,
   "metadata": {},
   "outputs": [],
   "source": [
    "def prep_ecdf(data):\n",
    "\n",
    "    n = len(data)\n",
    "    x = np.sort(data)\n",
    "    y = np.arange(1, n + 1) / n\n",
    "\n",
    "    return x, y"
   ]
  },
  {
   "cell_type": "markdown",
   "metadata": {},
   "source": [
    "<br>"
   ]
  },
  {
   "cell_type": "markdown",
   "metadata": {},
   "source": [
    "#### Prepare and Plot Income data for a single county"
   ]
  },
  {
   "cell_type": "code",
   "execution_count": null,
   "metadata": {},
   "outputs": [],
   "source": [
    "# Prepare Income Data for ecdf\n",
    "\n",
    "\n",
    "# Make a boolean series against county_df['County']\n",
    "\n",
    "# Grab only the rows from county_df that \n",
    "# pertain to your county of choice \n",
    "\n",
    "# Grab the income data for the county you selected\n",
    "# psssst youre gonna pass this into prep_ecdf below. \n",
    "\n",
    "# prep x and y using prep_ecdf()"
   ]
  },
  {
   "cell_type": "markdown",
   "metadata": {},
   "source": [
    "<br>"
   ]
  },
  {
   "cell_type": "markdown",
   "metadata": {},
   "source": [
    "**Lets `print()` `x` and `y` to get a better feel for what an `ECDF` is doing.**"
   ]
  },
  {
   "cell_type": "code",
   "execution_count": null,
   "metadata": {},
   "outputs": [],
   "source": [
    "# print(x)\n",
    "# print(\"-\"*100)\n",
    "# print(y)"
   ]
  },
  {
   "cell_type": "markdown",
   "metadata": {},
   "source": [
    "<br>"
   ]
  },
  {
   "cell_type": "markdown",
   "metadata": {},
   "source": [
    "#### Plot the ECDF for the single county."
   ]
  },
  {
   "cell_type": "code",
   "execution_count": null,
   "metadata": {},
   "outputs": [],
   "source": [
    "# Set up Figure\n",
    "\n",
    "\n",
    "# Grab the `axis` and save to `ax`\n",
    "\n",
    "\n",
    "# PLOT: Make a simple `line plot` of x vs y \n",
    "# Pass in the following params: marker= \".\", ls= 'none'\n",
    "\n",
    "\n",
    "# Make it Pretty\n",
    "# set_title, set_xlabel, set_ylabel...\n",
    "\n",
    "\n",
    "# Remove annoying \"out\" stuff when printing plot.\n",
    "\n"
   ]
  },
  {
   "cell_type": "markdown",
   "metadata": {},
   "source": [
    "<hr>\n",
    "<br>\n",
    "<br>"
   ]
  },
  {
   "cell_type": "markdown",
   "metadata": {},
   "source": [
    "### Prepare and Plot Income data for All counties in `county_df`"
   ]
  },
  {
   "cell_type": "markdown",
   "metadata": {},
   "source": [
    "**Feel free to look at the code from the Notebook, I do not expect you to be able to write this for loop on your own... at least not yet!**"
   ]
  },
  {
   "cell_type": "code",
   "execution_count": null,
   "metadata": {},
   "outputs": [],
   "source": [
    "# 1. Set up Figure\n",
    "\n",
    "# 2. Grab the `axis` and save to `ax`\n",
    "\n",
    "\n",
    "# For loop adds a new line plot to `ax` each iteration, \n",
    "# and adds name of each unique 'county' to 'labels' list,\n",
    "# this is for use in the legend.\n",
    "labels = []\n",
    "for county in county_df[\"County\"].unique():\n",
    "    \n",
    "    # 1. Grab income values for each county in county_df\n",
    "    \n",
    "    # 2. Set up x and y using prep_ecdf()     \n",
    "    \n",
    "    # 3. Simple line plot of x vs y\n",
    "\n",
    "    # 4. Append each county to labels\n",
    "\n",
    "\n",
    "# Make It Pretty!\n",
    "\n",
    "# 1. Make a legend out of teh labels list from for loop.\n",
    "\n",
    "# 2. set_xlabel and set_ylabel\n",
    "\n",
    "# 3. Remove annoying \"out\" stuff when printing plot."
   ]
  },
  {
   "cell_type": "markdown",
   "metadata": {},
   "source": [
    "<br>"
   ]
  },
  {
   "cell_type": "markdown",
   "metadata": {},
   "source": [
    "### What can we say about the incomes of these 4 counties? Take a minute to ponder this."
   ]
  },
  {
   "cell_type": "markdown",
   "metadata": {},
   "source": []
  },
  {
   "cell_type": "markdown",
   "metadata": {},
   "source": [
    "<hr>\n",
    "<br>\n",
    "<br>"
   ]
  },
  {
   "cell_type": "markdown",
   "metadata": {},
   "source": [
    "### Using the code above, print an ECDF for the same counties, but pick some other numerical value to plot them against! \n",
    "\n",
    "#### Aka some other numerical column other than \"Income\""
   ]
  },
  {
   "cell_type": "code",
   "execution_count": null,
   "metadata": {},
   "outputs": [],
   "source": [
    "# here"
   ]
  }
 ],
 "metadata": {
  "kernelspec": {
   "display_name": "Python 3",
   "language": "python",
   "name": "python3"
  },
  "language_info": {
   "codemirror_mode": {
    "name": "ipython",
    "version": 3
   },
   "file_extension": ".py",
   "mimetype": "text/x-python",
   "name": "python",
   "nbconvert_exporter": "python",
   "pygments_lexer": "ipython3",
   "version": "3.7.1"
  }
 },
 "nbformat": 4,
 "nbformat_minor": 2
}
