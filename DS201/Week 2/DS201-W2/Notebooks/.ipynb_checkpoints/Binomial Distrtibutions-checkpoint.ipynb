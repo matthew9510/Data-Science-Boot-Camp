{
 "cells": [
  {
   "cell_type": "markdown",
   "metadata": {},
   "source": [
    "## Binomial Distributions\n",
    "<hr>"
   ]
  },
  {
   "cell_type": "code",
   "execution_count": 27,
   "metadata": {},
   "outputs": [],
   "source": [
    "import numpy as np\n",
    "import matplotlib.pyplot as plt\n",
    "import seaborn as sns; sns.set()"
   ]
  },
  {
   "cell_type": "markdown",
   "metadata": {},
   "source": [
    "<br>"
   ]
  },
  {
   "cell_type": "markdown",
   "metadata": {},
   "source": [
    "### Single Coin Flip"
   ]
  },
  {
   "cell_type": "code",
   "execution_count": 28,
   "metadata": {},
   "outputs": [
    {
     "data": {
      "text/plain": [
       "0"
      ]
     },
     "execution_count": 28,
     "metadata": {},
     "output_type": "execute_result"
    }
   ],
   "source": [
    "def flip_coin():\n",
    "    return np.random.randint(2)\n",
    "\n",
    "flip_coin()"
   ]
  },
  {
   "cell_type": "markdown",
   "metadata": {},
   "source": [
    "<br>"
   ]
  },
  {
   "cell_type": "markdown",
   "metadata": {},
   "source": [
    "### Coin Game: 10 Coin Flips"
   ]
  },
  {
   "cell_type": "code",
   "execution_count": 29,
   "metadata": {},
   "outputs": [
    {
     "data": {
      "text/plain": [
       "[1, 1, 1, 1, 1, 1, 0, 1, 1, 0]"
      ]
     },
     "execution_count": 29,
     "metadata": {},
     "output_type": "execute_result"
    }
   ],
   "source": [
    "def coin_game(num_flips):\n",
    "    coin_tosses = []\n",
    "    for x in range(num_flips):\n",
    "        coin = flip_coin()\n",
    "        coin_tosses.append(coin)\n",
    "    return coin_tosses\n",
    "\n",
    "coin_game(10)"
   ]
  },
  {
   "cell_type": "markdown",
   "metadata": {},
   "source": [
    "<br>"
   ]
  },
  {
   "cell_type": "markdown",
   "metadata": {},
   "source": [
    "### N simulations of Coin Game"
   ]
  },
  {
   "cell_type": "code",
   "execution_count": 40,
   "metadata": {},
   "outputs": [
    {
     "name": "stdout",
     "output_type": "stream",
     "text": [
      "[7 7 5 4 6 6 7 4 8 6 3 7 3 3 0 4 4 7 6 6]\n"
     ]
    }
   ],
   "source": [
    "def run_sims(num_sims):\n",
    "    all_tails = []\n",
    "    for sim in range(num_sims):\n",
    "        coin_tosses = coin_game(10)\n",
    "        all_tails.append(sum(coin_tosses))\n",
    "    \n",
    "    return np.array(all_tails)\n",
    "\n",
    "all_tails = run_sims(1000)\n",
    "print(all_tails[:20])"
   ]
  },
  {
   "cell_type": "markdown",
   "metadata": {},
   "source": [
    "### Plot Distribution"
   ]
  },
  {
   "cell_type": "code",
   "execution_count": 37,
   "metadata": {},
   "outputs": [
    {
     "data": {
      "text/plain": [
       "Text(0.5, 0, 'Tails / Total Flips')"
      ]
     },
     "execution_count": 37,
     "metadata": {},
     "output_type": "execute_result"
    },
    {
     "data": {
      "image/png": "[encoded data removed]",
      "text/plain": [
       "<Figure size 432x288 with 1 Axes>"
      ]
     },
     "metadata": {
      "needs_background": "light"
     },
     "output_type": "display_data"
    }
   ],
   "source": [
    "sns.countplot(all_tails)\n",
    "ax = plt.gca()\n",
    "ax.set_ylabel(\"Freq of Simulations\")\n",
    "ax.set_xlabel(\"Tails / Total Flips\")"
   ]
  },
  {
   "cell_type": "markdown",
   "metadata": {},
   "source": [
    "<hr>"
   ]
  },
  {
   "cell_type": "markdown",
   "metadata": {},
   "source": [
    "### N independent Binomial Trials"
   ]
  },
  {
   "cell_type": "markdown",
   "metadata": {},
   "source": [
    "<span style=\"color:red\"> One Coin: </span> 2 ^ 1 = <span style=\"color:red\"> 2 </span> = 2\n",
    "---\n",
    "1. **H**\n",
    "2. **T**"
   ]
  },
  {
   "cell_type": "markdown",
   "metadata": {},
   "source": [
    "\n",
    "<span style=\"color:red\"> Two Coins: </span> 2 ^ 2 = <span style=\"color:red\"> 2 * 2 </span> = 4\n",
    "---\n",
    "\n",
    "1. **HH**\n",
    "2. **HT**\n",
    "3. **TH**\n",
    "4. **TT**"
   ]
  },
  {
   "cell_type": "markdown",
   "metadata": {},
   "source": [
    "<span style=\"color:red\">Three Coins:</span> 2 ^ 3 = <span style=\"color:red\"> 2 * 2 * 2 </span> = 8\n",
    "----\n",
    "1. **HHH**\n",
    "2. **HHT**\n",
    "3. **HTH**\n",
    "4. **HTT**\n",
    "5. **THH**\n",
    "6. **THT**\n",
    "7. **TTH**\n",
    "8. **TTT**"
   ]
  },
  {
   "cell_type": "markdown",
   "metadata": {},
   "source": [
    "<span style=\"color:red\">Four Coins:</span> 2 ^ 4 = <span style=\"color:red\"> 2 * 2 * 2 * 2 </span> = 16\n",
    "----\n",
    "1. **HHHH**\n",
    "2. **HHHT**\n",
    "3. **HHTT**\n",
    "4. **HTTT**\n",
    "5. **HTHH**\n",
    "6. **HTHT**\n",
    "7. **HHTH**\n",
    "8. **HTTH**\n",
    "9. **THHT**\n",
    "10. **TTHT**\n",
    "11. **THTH**\n",
    "12. **THTT**\n",
    "13. **THHH**\n",
    "14. **TTHH**\n",
    "15. **TTTH**\n",
    "16. **TTTT**"
   ]
  },
  {
   "cell_type": "markdown",
   "metadata": {},
   "source": [
    "<br>\n",
    "<br>"
   ]
  },
  {
   "cell_type": "markdown",
   "metadata": {},
   "source": [
    "### Binomial Probabilities Formula"
   ]
  },
  {
   "cell_type": "markdown",
   "metadata": {},
   "source": [
    "<img src=\"https://phhp-faculty-cantrell.sites.medinfo.ufl.edu/files/2013/02/mod8-binomform.png\">"
   ]
  },
  {
   "cell_type": "markdown",
   "metadata": {},
   "source": [
    "### Converted to Python Code"
   ]
  },
  {
   "cell_type": "code",
   "execution_count": 3,
   "metadata": {},
   "outputs": [],
   "source": [
    "from math import factorial as ft\n",
    "\n",
    "def binomial_proba(N, x, p):\n",
    "    \n",
    "    factorial = (ft(N)/(ft(x)*ft(N-x)))\n",
    "    proba = (p**x)*(p**(N-x))\n",
    "    \n",
    "    return factorial * proba"
   ]
  },
  {
   "cell_type": "markdown",
   "metadata": {},
   "source": [
    "### The probability of rolling 5 tails out of 10 coin flips\n",
    "\n",
    "This is why in `Hacker stats`, as we increase the number of trials (of 10 coin flips), the frequency of trials where we have 5 Tails approaches ~2500"
   ]
  },
  {
   "cell_type": "code",
   "execution_count": 14,
   "metadata": {},
   "outputs": [
    {
     "data": {
      "text/plain": [
       "0.24609375"
      ]
     },
     "execution_count": 14,
     "metadata": {},
     "output_type": "execute_result"
    }
   ],
   "source": [
    "binomial_proba(N=10, x=5, p=0.5)"
   ]
  },
  {
   "cell_type": "code",
   "execution_count": 26,
   "metadata": {},
   "outputs": [
    {
     "name": "stdout",
     "output_type": "stream",
     "text": [
      "10 Flips, 0 Tails: 0.00098\n",
      "\n",
      "10 Flips, 1 Tails: 0.00977\n",
      "\n",
      "10 Flips, 2 Tails: 0.04395\n",
      "\n",
      "10 Flips, 3 Tails: 0.11719\n",
      "\n",
      "10 Flips, 4 Tails: 0.20508\n",
      "\n",
      "10 Flips, 5 Tails: 0.24609\n",
      "\n",
      "10 Flips, 6 Tails: 0.20508\n",
      "\n",
      "10 Flips, 7 Tails: 0.11719\n",
      "\n",
      "10 Flips, 8 Tails: 0.04395\n",
      "\n",
      "10 Flips, 9 Tails: 0.00977\n",
      "\n",
      "10 Flips, 10 Tails: 0.00098\n",
      "\n"
     ]
    }
   ],
   "source": [
    "for x in range(11):\n",
    "    print(\"10 Flips,\", x, \"Tails:\", round(binomial_proba(N=10, x=x, p=0.5), ndigits=5))\n",
    "    print()"
   ]
  }
 ],
 "metadata": {
  "kernelspec": {
   "display_name": "Python 3",
   "language": "python",
   "name": "python3"
  },
  "language_info": {
   "codemirror_mode": {
    "name": "ipython",
    "version": 3
   },
   "file_extension": ".py",
   "mimetype": "text/x-python",
   "name": "python",
   "nbconvert_exporter": "python",
   "pygments_lexer": "ipython3",
   "version": "3.7.1"
  }
 },
 "nbformat": 4,
 "nbformat_minor": 2
}
