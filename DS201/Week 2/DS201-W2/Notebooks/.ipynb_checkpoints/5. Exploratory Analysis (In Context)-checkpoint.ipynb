{
 "cells": [
  {
   "cell_type": "markdown",
   "metadata": {},
   "source": [
    "<h1 style=\"font-size:42px; text-align:center; margin-bottom:30px;\"><span style=\"color:SteelBlue\">In Context: </span> Exploratory Analysis</h1>\n",
    "\n",
    "\n",
    "\n",
    "<br><hr id=\"toc\">\n",
    "\n",
    "### In this lesson...\n",
    "\n",
    "In this lesson, we'll go through the essential exploratory analysis steps:\n",
    "1. [Basic information](#basic)\n",
    "2. [Distributions of numeric features](#numeric)\n",
    "3. [Distributions of categorical features](#categorical)\n",
    "4. [Segmentations](#segmentations)\n",
    "5. [Correlations](#correlations)\n",
    "\n",
    "<hr>"
   ]
  },
  {
   "cell_type": "markdown",
   "metadata": {},
   "source": [
    "### First, let's import libraries and load the dataset.\n",
    "\n",
    "In general, it's good practice to keep all of your library imports at the top of your notebook or program.\n",
    "\n",
    "Let's import the libraries we'll need for this lesson."
   ]
  },
  {
   "cell_type": "code",
   "execution_count": 2,
   "metadata": {},
   "outputs": [],
   "source": [
    "# NumPy for numerical computing\n",
    "import numpy as np\n",
    "\n",
    "# Pandas for DataFrames\n",
    "import pandas as pd\n",
    "pd.set_option('display.max_columns', 100)\n",
    "\n",
    "# Matplotlib for visualization\n",
    "from matplotlib import pyplot as plt\n",
    "# display plots in the notebook\n",
    "%matplotlib inline \n",
    "\n",
    "# Seaborn for easier visualization\n",
    "import seaborn as sns"
   ]
  },
  {
   "cell_type": "markdown",
   "metadata": {},
   "source": [
    "Next, let's import the dataset. \n",
    "* Pandas has a <code style=\"color:steelblue\">pd.read_csv()</code> function for importing CSV files into a Pandas DataFrame. \n",
    "* You can name the DataFrame variable anything, but we prefer the simple name: <code style=\"color:steelblue\">df</code> (short for DataFrame)."
   ]
  },
  {
   "cell_type": "code",
   "execution_count": 3,
   "metadata": {},
   "outputs": [],
   "source": [
    "# Load real estate data from CSV\n",
    "df = pd.read_csv('../../data/real_estate_data.csv')"
   ]
  },
  {
   "cell_type": "markdown",
   "metadata": {},
   "source": [
    "<br id=\"basic\">\n",
    "\n",
    "# 1. Basic information\n",
    "\n",
    "First, always look at basic information about the dataset."
   ]
  },
  {
   "cell_type": "markdown",
   "metadata": {},
   "source": [
    "#### Display the dimensions of the dataset."
   ]
  },
  {
   "cell_type": "code",
   "execution_count": null,
   "metadata": {},
   "outputs": [],
   "source": [
    "# Dataframe dimensions\n",
    "df.shape"
   ]
  },
  {
   "cell_type": "markdown",
   "metadata": {},
   "source": [
    "#### Next, display the data types of our features."
   ]
  },
  {
   "cell_type": "code",
   "execution_count": null,
   "metadata": {},
   "outputs": [],
   "source": [
    "# Column datatypes\n",
    "df.dtypes"
   ]
  },
  {
   "cell_type": "markdown",
   "metadata": {},
   "source": [
    "#### Display the first 5 rows to see example observations."
   ]
  },
  {
   "cell_type": "code",
   "execution_count": null,
   "metadata": {},
   "outputs": [],
   "source": [
    "# Display first 5 rows of df\n",
    "df.head()"
   ]
  },
  {
   "cell_type": "markdown",
   "metadata": {},
   "source": [
    "<br><hr style=\"border-color:royalblue;background-color:royalblue;height:1px;\">\n",
    "## <span style=\"color:RoyalBlue\">Exercise 1.1</span>\n",
    "\n",
    "Before moving on, let's dig a bit deeper into some of these functionalities. Getting some extra practice right now will set you up for smoother success as you continue through the project.\n",
    "<br>\n",
    "\n",
    "**First, try to filter df.dtypes to only categorical variables:**\n",
    "\n",
    "**Tip:** Remember the boolean filtering we've been talking about?"
   ]
  },
  {
   "cell_type": "code",
   "execution_count": null,
   "metadata": {},
   "outputs": [],
   "source": [
    "# Filter and display only df.dtypes that are 'object'\n",
    "df.dtypes[df.dtypes == 'object']"
   ]
  },
  {
   "cell_type": "markdown",
   "metadata": {},
   "source": [
    "#### Iterate through the categorical feature names and print each name."
   ]
  },
  {
   "cell_type": "code",
   "execution_count": null,
   "metadata": {},
   "outputs": [],
   "source": [
    "# Loop through categorical feature names and print each one\n",
    "for cat_feature in df.dtypes[df.dtypes == 'object'].index:\n",
    "    print(cat_feature)"
   ]
  },
  {
   "cell_type": "markdown",
   "metadata": {},
   "source": [
    "As you'll see later, the ability to select feature names based on some condition (instead of manually typing out each one) will be quite useful."
   ]
  },
  {
   "cell_type": "markdown",
   "metadata": {},
   "source": [
    "<br>\n",
    "\n",
    "**Next**, look at a few more examples by displaying the first 10 rows of data, instead of just the first 5"
   ]
  },
  {
   "cell_type": "code",
   "execution_count": null,
   "metadata": {},
   "outputs": [],
   "source": [
    "# Display the first 10 rows of data\n",
    "df.head(10)"
   ]
  },
  {
   "cell_type": "markdown",
   "metadata": {},
   "source": [
    "Finally, it's also helpful to look at the last 5 rows of data.\n",
    "* Sometimes datasets will have **corrupted data** hiding at the very end (depending on the data source).\n",
    "* It never hurts to double-check."
   ]
  },
  {
   "cell_type": "code",
   "execution_count": null,
   "metadata": {},
   "outputs": [],
   "source": [
    "# Display last 5 rows of data\n",
    "df.tail()"
   ]
  },
  {
   "cell_type": "markdown",
   "metadata": {},
   "source": [
    "<hr style=\"border-color:royalblue;background-color:royalblue;height:1px;\">\n",
    "\n",
    "<div style=\"text-align:center; margin: 40px 0 40px 0; font-weight:bold\">\n",
    "    \n",
    "[Back to Contents](#toc)\n",
    "</div>"
   ]
  },
  {
   "cell_type": "markdown",
   "metadata": {},
   "source": [
    "<br id=\"numeric\">\n",
    "\n",
    "# 2. Distributions of numeric features\n",
    "\n",
    "One of the most enlightening data exploration tasks is plotting the distributions of your features."
   ]
  },
  {
   "cell_type": "markdown",
   "metadata": {},
   "source": [
    "<br><hr style=\"border-color:royalblue;background-color:royalblue;height:1px;\">\n",
    "## <span style=\"color:RoyalBlue\">Exercise 1.2</span>\n",
    "\n",
    "**Plot the histogram grid, but make it larger, and rotate the x-axis labels clockwise by 45 degrees.**\n",
    "* <code style=\"color:steelblue\">df.hist()</code> has a <code style=\"color:steelblue\">figsize=</code> argument takes a tuple for figure size.\n",
    "* Try making the figure size 14 x 14\n",
    "* <code style=\"color:steelblue\">df.hist()</code> has a <code style=\"color:steelblue\">xrot=</code> argument rotates x-axis labels **counter-clockwise**.\n",
    "* The [documentation](http://pandas.pydata.org/pandas-docs/version/0.17.0/generated/pandas.DataFrame.hist.html) is useful for learning more about the arguments to the <code style=\"color:steelblue\">.hist()</code> function.\n",
    "* **Tip:** It's ok to arrive at the answer through **trial and error** (this is often easier than memorizing the various arguments)."
   ]
  },
  {
   "cell_type": "code",
   "execution_count": null,
   "metadata": {},
   "outputs": [],
   "source": [
    "# Plot histogram grid\n",
    "df.hist(xrot=-45, figsize=(14, 14))\n",
    "\n",
    "# Clear the text \"residue\"\n",
    "plt.show()"
   ]
  },
  {
   "cell_type": "markdown",
   "metadata": {},
   "source": [
    "#### Display summary statistics for the numerical features."
   ]
  },
  {
   "cell_type": "code",
   "execution_count": null,
   "metadata": {},
   "outputs": [],
   "source": [
    "# Summarize numerical features\n",
    "df.describe()"
   ]
  },
  {
   "cell_type": "markdown",
   "metadata": {},
   "source": [
    "<hr style=\"border-color:royalblue;background-color:royalblue;height:1px;\">\n",
    "\n",
    "<div style=\"text-align:center; margin: 40px 0 40px 0; font-weight:bold\">\n",
    "    \n",
    "[Back to Contents](#toc)\n",
    "</div>"
   ]
  },
  {
   "cell_type": "markdown",
   "metadata": {},
   "source": [
    "<br id=\"categorical\">\n",
    "\n",
    "# 3. Distributions of categorical features\n",
    "\n",
    "Next, let's take a look at the distributions of our categorical features.\n",
    "\n",
    "<br>\n",
    "Display summary statistics for categorical features."
   ]
  },
  {
   "cell_type": "code",
   "execution_count": null,
   "metadata": {},
   "outputs": [],
   "source": [
    "# Summarize categorical features\n",
    "df.describe(include=[\"object\"])"
   ]
  },
  {
   "cell_type": "markdown",
   "metadata": {},
   "source": [
    "Plot bar plot for the <code style=\"color:steelblue\">'exterior_walls'</code> feature."
   ]
  },
  {
   "cell_type": "code",
   "execution_count": null,
   "metadata": {},
   "outputs": [],
   "source": [
    "# Bar plot for 'exterior_walls'\n",
    "sns.countplot(y=\"exterior_walls\", data=df)"
   ]
  },
  {
   "cell_type": "markdown",
   "metadata": {},
   "source": [
    "<br><hr style=\"border-color:royalblue;background-color:royalblue;height:1px;\">\n",
    "## <span style=\"color:RoyalBlue\">Exercise 1.3</span>\n",
    "\n",
    "**Write a <code style=\"color:steelblue\">for</code> loop to plot bar plots of each of the categorical features.**\n",
    "* Write the loop to be able to handle any number of categorical features (borrow from your answer to <span style=\"color:royalblue\">Exercise 1.1</span>).\n",
    "* Invoke <code style=\"color:steelblue\">plt.show()</code> after each bar plot to display all 3 plots in one output.\n",
    "* Which features suffer from sparse classes?"
   ]
  },
  {
   "cell_type": "code",
   "execution_count": null,
   "metadata": {},
   "outputs": [],
   "source": [
    "# Plot bar plot for each categorical feature\n",
    "for features in df.dtypes[df.dtypes == \"object\"].index: \n",
    "    sns.countplot(y=features, data=df)\n",
    "    plt.show()"
   ]
  },
  {
   "cell_type": "markdown",
   "metadata": {},
   "source": [
    "<hr style=\"border-color:royalblue;background-color:royalblue;height:1px;\">\n",
    "\n",
    "<div style=\"text-align:center; margin: 40px 0 40px 0; font-weight:bold\">\n",
    "    \n",
    "[Back to Contents](#toc)\n",
    "</div>"
   ]
  },
  {
   "cell_type": "markdown",
   "metadata": {},
   "source": [
    "<br id=\"segmentations\">\n",
    "\n",
    "# 4. Segmentations\n",
    "\n",
    "Next, let's create some segmentations. Segmentations are powerful ways to cut the data to observe the relationship between **categorical features** and **numeric features**.\n",
    "\n",
    "<br>\n",
    "Segment <code style=\"color:steelblue\">'tx_price'</code> by <code style=\"color:steelblue\">'property_type'</code> and plot the resulting distributions"
   ]
  },
  {
   "cell_type": "code",
   "execution_count": null,
   "metadata": {},
   "outputs": [],
   "source": [
    "# Segment tx_price by property_type and plot distributions\n",
    "sns.boxplot(y=\"property_type\", x=\"tx_price\", data=df)"
   ]
  },
  {
   "cell_type": "markdown",
   "metadata": {},
   "source": [
    "Segment by <code style=\"color:steelblue\">'property_type'</code> and calculate the average value of each feature within each class:"
   ]
  },
  {
   "cell_type": "code",
   "execution_count": null,
   "metadata": {},
   "outputs": [],
   "source": [
    "# Segment by property_type and display the means within each class\n",
    "df.groupby(\"property_type\").mean()"
   ]
  },
  {
   "cell_type": "markdown",
   "metadata": {},
   "source": [
    "<br><hr style=\"border-color:royalblue;background-color:royalblue;height:1px;\">\n",
    "## <span style=\"color:RoyalBlue\">Exercise 1.4</span>\n",
    "\n",
    "On average, it looks like single family homes are more expensive.\n",
    "\n",
    "How else do the different property types differ? Let's see:\n",
    "\n",
    "<br>\n",
    "\n",
    "**First, segment <code style=\"color:steelblue\">'sqft'</code> by <code style=\"color:steelblue\">'property_type'</code> and plot the boxplots.**"
   ]
  },
  {
   "cell_type": "code",
   "execution_count": null,
   "metadata": {},
   "outputs": [],
   "source": [
    "# Segment sqft by sqft and property_type distributions\n",
    "sns.boxplot(y=\"property_type\", x=\"sqft\", data=df)"
   ]
  },
  {
   "cell_type": "markdown",
   "metadata": {},
   "source": [
    "<br>\n",
    "\n",
    "**After producing the plot, consider these questions:**\n",
    "* Which type of property is larger, on average?\n",
    "* Which type of property sees greater variance in sizes?\n",
    "* Does the difference in distributions between classes make intuitive sense?\n",
    "\n",
    "<br>\n",
    "\n",
    "**Next, display the standard deviations of each feature alongside their means after performing a groupby.**\n",
    "* This will give you a better idea of the variation within in feature, by class.\n",
    "\n",
    "* **Tip:** Pass a list of metrics into the <code style=\"color:steelblue\">.agg()</code> function, after performing your groupby.\n",
    "\n",
    "* Check out the [documentation](http://pandas.pydata.org/pandas-docs/stable/groupby.html#applying-multiple-functions-at-once) for more help."
   ]
  },
  {
   "cell_type": "code",
   "execution_count": null,
   "metadata": {},
   "outputs": [],
   "source": [
    "# Segment by property_type and display the means and standard deviations within each class\n",
    "df.groupby(\"property_type\").agg([np.mean, np.std])"
   ]
  },
  {
   "cell_type": "markdown",
   "metadata": {},
   "source": [
    "<hr style=\"border-color:royalblue;background-color:royalblue;height:1px;\">\n",
    "<div style=\"text-align:center; margin: 40px 0 40px 0; font-weight:bold\">\n",
    "    \n",
    "[Back to Contents](#toc)\n",
    "</div>"
   ]
  },
  {
   "cell_type": "markdown",
   "metadata": {},
   "source": [
    "<br id=\"correlations\">\n",
    "\n",
    "# 5. Correlations\n",
    "\n",
    "Finally, let's take a look at the relationships between **numeric features** and **other numeric features**.\n",
    "\n",
    "<br>\n",
    "Create a <code style=\"color:steelblue\">correlations</code> dataframe from <code style=\"color:steelblue\">df</code>."
   ]
  },
  {
   "cell_type": "code",
   "execution_count": null,
   "metadata": {},
   "outputs": [],
   "source": [
    "# Calculate correlations between numeric features\n",
    "correlations = df.corr()"
   ]
  },
  {
   "cell_type": "markdown",
   "metadata": {},
   "source": [
    "#### Visualize the correlation grid with a heatmap to make it easier to digest."
   ]
  },
  {
   "cell_type": "code",
   "execution_count": null,
   "metadata": {},
   "outputs": [],
   "source": [
    "# Make the figsize 7 x 6\n",
    "plt.figure(figsize=(7,6))\n",
    "\n",
    "# Plot heatmap of correlations\n",
    "_ = sns.heatmap(correlations)"
   ]
  },
  {
   "cell_type": "markdown",
   "metadata": {},
   "source": [
    "<br><hr style=\"border-color:royalblue;background-color:royalblue;height:1px;\">\n",
    "## <span style=\"color:RoyalBlue\">Exercise 1.5</span>\n",
    "\n",
    "When plotting a heatmap of correlations, it's often helpful to do four things:\n",
    "1. Change the background to white. This way, 0 correlation will show as white\n",
    "2. Annotate the cell with their correlations values\n",
    "3. Mask the top triangle (less visual noise)\n",
    "4. Drop the legend (colorbar on the side)\n",
    "\n",
    "<br>\n",
    "\n",
    "**First, change the background to white.**\n",
    "* Seaborn has several different **themes**. The default theme is called <code style=\"color:crimson\">'darkgrid'</code>.\n",
    "\n",
    "* You can change the theme with <code style=\"color:steelblue\">sns.set_style()</code>.\n",
    "\n",
    "* You only need to run this once, and the theme will persist until you change it again.\n",
    "\n",
    "* Change the theme to <code style=\"color:crimson\">'white'</code>\n",
    "\n",
    "* Make the figure size 10 x 8"
   ]
  },
  {
   "cell_type": "code",
   "execution_count": null,
   "metadata": {},
   "outputs": [],
   "source": [
    "# Change color scheme\n",
    "sns.set_style(\"white\")\n",
    "# Make the figsize 10 x 8\n",
    "plt.figure(figsize=(10,8))\n",
    "\n",
    "# Plot heatmap of correlations\n",
    "_ = sns.heatmap(correlations)"
   ]
  },
  {
   "cell_type": "markdown",
   "metadata": {},
   "source": [
    "See how the cells for <code style=\"color:steelblue\">'basement'</code> are now white? That's what we want because they were not able to be calculated.\n",
    "\n",
    "<br>\n",
    "\n",
    "**Next, display the correlation values in each cell.**\n",
    "\n",
    "* The <code style=\"color:steelblue\">annot=</code> argument controls whether to annotate each cell with its value. By default, it's <code style=\"color:crimson\">False</code>.\n",
    "* To make the chart cleaner, multiply the <code style=\"color:steelblue\">correlations</code> DataFrame by 100 before passing it to the heatmap function.\n",
    "* Pass in the argument <code style=\"color:steelblue\">fmt=<span style=\"color:crimson\">'.0f'</span></code> to format the annotations to a whole number."
   ]
  },
  {
   "cell_type": "code",
   "execution_count": null,
   "metadata": {},
   "outputs": [],
   "source": [
    "# Make the figsize 10 x 8\n",
    "plt.figure(figsize=(10, 8))\n",
    "\n",
    "# Plot heatmap of annotated correlations\n",
    "correlations = correlations * 100\n",
    "sns.heatmap(correlations, annot=True, fmt='.0f')"
   ]
  },
  {
   "cell_type": "markdown",
   "metadata": {},
   "source": [
    "#### Next, we'll generate a mask for the top triangle. Run this code:"
   ]
  },
  {
   "cell_type": "code",
   "execution_count": null,
   "metadata": {},
   "outputs": [],
   "source": [
    "# Generate a mask for the upper triangle\n",
    "mask = np.zeros_like(correlations, dtype=np.bool)\n",
    "mask[np.triu_indices_from(mask)] = True"
   ]
  },
  {
   "cell_type": "markdown",
   "metadata": {},
   "source": [
    "<br>\n",
    "\n",
    "**Plot the heatmap again, this time using that mask.**\n",
    "\n",
    "* <code style=\"color:steelblue\">sns.heatmap()</code> has a <code style=\"color:steelblue\">mask=</code> argument.\n",
    "* Keep all of the other styling changes you've made up to now."
   ]
  },
  {
   "cell_type": "code",
   "execution_count": null,
   "metadata": {},
   "outputs": [],
   "source": [
    "# Make the figsize 10 x 8\n",
    "plt.figure(figsize=(10, 8))\n",
    "\n",
    "# Plot heatmap of correlations\n",
    "sns.heatmap(correlations, annot=True, fmt='.0f', mask=mask)"
   ]
  },
  {
   "cell_type": "markdown",
   "metadata": {},
   "source": [
    "<br>\n",
    "\n",
    "**Finally, remove the colorbar on the side.**\n",
    "\n",
    "* <code style=\"color:steelblue\">sns.heatmap()</code> has a <code style=\"color:steelblue\">cbar=</code> argument. By default, it's <code style=\"color:crimson\">True</code>.\n",
    "* Keep all of the other styling changes you've made up to now.\n",
    "* But change the figure size to 9 x 8 (since we're removing the sidebar, this will help us keep nice proportions)"
   ]
  },
  {
   "cell_type": "code",
   "execution_count": null,
   "metadata": {},
   "outputs": [],
   "source": [
    "# Make the figsize 9 x 8\n",
    "plt.figure(figsize=(9, 8))\n",
    "\n",
    "# Plot heatmap of correlations\n",
    "sns.heatmap(correlations, annot=True, fmt='.0f', mask=mask, cbar=False)"
   ]
  },
  {
   "cell_type": "markdown",
   "metadata": {},
   "source": [
    "<hr style=\"border-color:royalblue;background-color:royalblue;height:1px;\">\n",
    "<div style=\"text-align:center; margin: 40px 0 40px 0; font-weight:bold\">\n",
    "    \n",
    "[Back to Contents](#toc)\n",
    "</div>"
   ]
  },
  {
   "cell_type": "code",
   "execution_count": null,
   "metadata": {},
   "outputs": [],
   "source": []
  }
 ],
 "metadata": {
  "kernelspec": {
   "display_name": "Python 3",
   "language": "python",
   "name": "python3"
  },
  "language_info": {
   "codemirror_mode": {
    "name": "ipython",
    "version": 3
   },
   "file_extension": ".py",
   "mimetype": "text/x-python",
   "name": "python",
   "nbconvert_exporter": "python",
   "pygments_lexer": "ipython3",
   "version": "3.7.1"
  }
 },
 "nbformat": 4,
 "nbformat_minor": 2
}
