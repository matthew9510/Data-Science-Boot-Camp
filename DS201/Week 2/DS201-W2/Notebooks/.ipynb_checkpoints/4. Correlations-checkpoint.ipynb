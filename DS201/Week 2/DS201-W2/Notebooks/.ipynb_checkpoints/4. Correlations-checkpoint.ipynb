{
 "cells": [
  {
   "cell_type": "code",
   "execution_count": 1,
   "metadata": {},
   "outputs": [],
   "source": [
    "import numpy as np\n",
    "import pandas as pd\n",
    "import matplotlib.pyplot as plt\n",
    "import seaborn as sns"
   ]
  },
  {
   "cell_type": "code",
   "execution_count": 2,
   "metadata": {},
   "outputs": [],
   "source": [
    "sns.set()"
   ]
  },
  {
   "cell_type": "code",
   "execution_count": 3,
   "metadata": {},
   "outputs": [],
   "source": [
    "usa = pd.read_csv('../../data/census_2015/acs2015_county_data.csv')"
   ]
  },
  {
   "cell_type": "code",
   "execution_count": 4,
   "metadata": {},
   "outputs": [],
   "source": [
    "mi = usa[usa['State'] == 'Michigan']"
   ]
  },
  {
   "cell_type": "code",
   "execution_count": 10,
   "metadata": {
    "scrolled": true
   },
   "outputs": [
    {
     "name": "stdout",
     "output_type": "stream",
     "text": [
      "['Asian' 'Black' 'Carpool' 'CensusId' 'ChildPoverty' 'Citizen'\n",
      " 'Construction' 'County' 'Drive' 'Employed' 'FamilyWork' 'Hispanic'\n",
      " 'Income' 'IncomeErr' 'IncomePerCap' 'IncomePerCapErr' 'MeanCommute' 'Men'\n",
      " 'Native' 'Office' 'OtherTransp' 'Pacific' 'Poverty' 'PrivateWork'\n",
      " 'Production' 'Professional' 'PublicWork' 'SelfEmployed' 'Service' 'State'\n",
      " 'TotalPop' 'Transit' 'Unemployment' 'Walk' 'White' 'Women' 'WorkAtHome']\n"
     ]
    }
   ],
   "source": [
    "print(np.sort(mi.columns))"
   ]
  },
  {
   "cell_type": "markdown",
   "metadata": {},
   "source": [
    "### Scatter"
   ]
  },
  {
   "cell_type": "code",
   "execution_count": 12,
   "metadata": {
    "scrolled": true
   },
   "outputs": [
    {
     "data": {
      "image/png": "[encoded data removed]",
      "text/plain": [
       "<Figure size 432x288 with 1 Axes>"
      ]
     },
     "metadata": {},
     "output_type": "display_data"
    }
   ],
   "source": [
    "feat1 = \"IncomePerCap\"\n",
    "feat2 = \"Unemployment\"\n",
    "\n",
    "_ = plt.scatter(x = feat1, y = feat2, data = mi)\n",
    "_ = plt.xlabel(x)\n",
    "_ = plt.ylabel(y)"
   ]
  },
  {
   "cell_type": "markdown",
   "metadata": {},
   "source": [
    "### Covariance"
   ]
  },
  {
   "cell_type": "code",
   "execution_count": 27,
   "metadata": {},
   "outputs": [
    {
     "data": {
      "text/plain": [
       "array([[ 5.30749045e+00, -4.58600567e+03],\n",
       "       [-4.58600567e+03,  1.46926888e+07]])"
      ]
     },
     "execution_count": 27,
     "metadata": {},
     "output_type": "execute_result"
    }
   ],
   "source": [
    "np.cov(mi[\"Unemployment\"], mi[\"IncomePerCap\"])"
   ]
  },
  {
   "cell_type": "code",
   "execution_count": 29,
   "metadata": {},
   "outputs": [],
   "source": [
    "def pearson_coeff(x,y):\n",
    "    covariance = np.cov(x,y)[0,1]\n",
    "    std_x = np.std(x)\n",
    "    std_y = np.std(y)\n",
    "    \n",
    "    return covariance / (std_x * std_y)"
   ]
  },
  {
   "cell_type": "code",
   "execution_count": 30,
   "metadata": {},
   "outputs": [
    {
     "data": {
      "text/plain": [
       "-0.5256583607798798"
      ]
     },
     "execution_count": 30,
     "metadata": {},
     "output_type": "execute_result"
    }
   ],
   "source": [
    "pearson_coeff(mi[\"Unemployment\"], mi[\"IncomePerCap\"])"
   ]
  },
  {
   "cell_type": "code",
   "execution_count": null,
   "metadata": {},
   "outputs": [],
   "source": []
  }
 ],
 "metadata": {
  "kernelspec": {
   "display_name": "Python 3",
   "language": "python",
   "name": "python3"
  },
  "language_info": {
   "codemirror_mode": {
    "name": "ipython",
    "version": 3
   },
   "file_extension": ".py",
   "mimetype": "text/x-python",
   "name": "python",
   "nbconvert_exporter": "python",
   "pygments_lexer": "ipython3",
   "version": "3.7.1"
  }
 },
 "nbformat": 4,
 "nbformat_minor": 2
}
