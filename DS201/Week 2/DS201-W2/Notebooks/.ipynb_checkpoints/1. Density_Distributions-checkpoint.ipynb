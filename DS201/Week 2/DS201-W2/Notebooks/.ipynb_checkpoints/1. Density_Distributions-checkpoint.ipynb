{
 "cells": [
  {
   "cell_type": "markdown",
   "metadata": {},
   "source": [
    "# Density Distributions"
   ]
  },
  {
   "cell_type": "markdown",
   "metadata": {},
   "source": [
    "#### Import Libraries"
   ]
  },
  {
   "cell_type": "code",
   "execution_count": null,
   "metadata": {},
   "outputs": [],
   "source": [
    "import numpy as np\n",
    "import pandas as pd\n",
    "\n",
    "import matplotlib.pyplot as plt\n",
    "import seaborn as sns; sns.set()"
   ]
  },
  {
   "cell_type": "markdown",
   "metadata": {},
   "source": [
    "<br>"
   ]
  },
  {
   "cell_type": "markdown",
   "metadata": {},
   "source": [
    "#### Import Data"
   ]
  },
  {
   "cell_type": "code",
   "execution_count": null,
   "metadata": {},
   "outputs": [],
   "source": [
    "usa = pd.read_csv('../../data/census_2015/acs2015_census_tract_data.csv')"
   ]
  },
  {
   "cell_type": "markdown",
   "metadata": {},
   "source": [
    "<br>"
   ]
  },
  {
   "cell_type": "markdown",
   "metadata": {},
   "source": [
    "#### Extract The Census Data for California"
   ]
  },
  {
   "cell_type": "code",
   "execution_count": null,
   "metadata": {},
   "outputs": [],
   "source": [
    "ca = usa[usa['State'] == 'California']"
   ]
  },
  {
   "cell_type": "markdown",
   "metadata": {},
   "source": [
    "<br>"
   ]
  },
  {
   "cell_type": "markdown",
   "metadata": {},
   "source": [
    "#### Initial Exploration"
   ]
  },
  {
   "cell_type": "code",
   "execution_count": null,
   "metadata": {},
   "outputs": [],
   "source": [
    "ca.head()"
   ]
  },
  {
   "cell_type": "markdown",
   "metadata": {},
   "source": [
    "<br>"
   ]
  },
  {
   "cell_type": "markdown",
   "metadata": {},
   "source": [
    "**Let's take a look at the column information**"
   ]
  },
  {
   "cell_type": "code",
   "execution_count": null,
   "metadata": {
    "scrolled": true
   },
   "outputs": [],
   "source": [
    "ca.info()"
   ]
  },
  {
   "cell_type": "markdown",
   "metadata": {},
   "source": [
    "<br>"
   ]
  },
  {
   "cell_type": "markdown",
   "metadata": {},
   "source": [
    "**Let's check out the `value_counts()` for the `County` column.**"
   ]
  },
  {
   "cell_type": "code",
   "execution_count": null,
   "metadata": {
    "scrolled": true
   },
   "outputs": [],
   "source": [
    "ca['County'].value_counts()"
   ]
  },
  {
   "cell_type": "markdown",
   "metadata": {},
   "source": [
    "<br>"
   ]
  },
  {
   "cell_type": "markdown",
   "metadata": {},
   "source": [
    "### Plot Swarm of a single column"
   ]
  },
  {
   "cell_type": "markdown",
   "metadata": {},
   "source": [
    "Seaborn is a plotting library built on top of matplotlib, check out how easy it is to plot a swarm plot, which is a great plot for visualizing a distribution based on some other column."
   ]
  },
  {
   "cell_type": "code",
   "execution_count": null,
   "metadata": {},
   "outputs": [],
   "source": [
    "sns.swarmplot(x = \"County\", y = \"Income\", data=ca)\n",
    "plt.show()"
   ]
  },
  {
   "cell_type": "markdown",
   "metadata": {},
   "source": [
    "<br>"
   ]
  },
  {
   "cell_type": "markdown",
   "metadata": {},
   "source": [
    "#### Limit the scope of the `ca` dataframe to only contain a few select counties."
   ]
  },
  {
   "cell_type": "markdown",
   "metadata": {},
   "source": [
    "We will be making a list containing the names of the counties that we are most interested in, as the plot above with ALL of the unique values of `County` is way too disorienting to provide any kind of meaningful information."
   ]
  },
  {
   "cell_type": "code",
   "execution_count": null,
   "metadata": {},
   "outputs": [],
   "source": [
    "counties_to_examine = [\"San Joaquin\", \n",
    "                       \"Los Angeles\", \n",
    "                       \"San Diego\", \n",
    "                       \"Contra Costa\"]"
   ]
  },
  {
   "cell_type": "markdown",
   "metadata": {},
   "source": [
    "<br>"
   ]
  },
  {
   "cell_type": "markdown",
   "metadata": {},
   "source": [
    "**The pandas `.isin()` method, lets us check every value of a column against a list of values.**\n",
    "\n",
    "Think of it as an extension of `ca['County] == 'San Diego` which only lets us check against a single value.\n",
    "\n",
    "> This is WRONG `ca['County'] == ['San Diego','Los Angeles', etc]`\n",
    "\n",
    "> This is RIGHT `ca['County'].isin([counties_to_examine])`"
   ]
  },
  {
   "cell_type": "code",
   "execution_count": null,
   "metadata": {},
   "outputs": [],
   "source": [
    "is_in_counties_list = ca[\"County\"].isin(counties_to_examine)"
   ]
  },
  {
   "cell_type": "markdown",
   "metadata": {},
   "source": [
    "<br>"
   ]
  },
  {
   "cell_type": "markdown",
   "metadata": {},
   "source": [
    "* **TRUE:** The boolean series `is_in_counties_list` has a `True` value for any county that is contained in `counties_to_examine`, aka if the `County` value of a row in `ca` corresonds to `Los Angeles`, `San Joaquin`, `San Diego`, or `Contra Costa`, the boolean value at that same index, in `is_in_counties_list`, will be `True`.\n",
    "\n",
    "<br>\n",
    "\n",
    "* **FALSE:** The boolean series `is_in_counties_list` has a `False` value for any county that is NOT contained in `counties_to_examine`, aka if the `County` value of a row in `ca` corresonds to say `Orange County`, `Alameda`,`Santa Barbara`, `etc...`, the boolean value at that same index, in `is_in_counties_list`, will be `False`."
   ]
  },
  {
   "cell_type": "code",
   "execution_count": null,
   "metadata": {},
   "outputs": [],
   "source": [
    "county_df = ca[is_in_counties_list]"
   ]
  },
  {
   "cell_type": "markdown",
   "metadata": {},
   "source": [
    "<br>"
   ]
  },
  {
   "cell_type": "markdown",
   "metadata": {},
   "source": [
    "**Lets go ahead and check the `unique` values of `County` in `county_df`, compare that to the `unique` values of `County` in `ca`. Its also useful to compare the `Shape`, notice that `county_df` has many fewer rows!**"
   ]
  },
  {
   "cell_type": "code",
   "execution_count": null,
   "metadata": {},
   "outputs": [],
   "source": [
    "print(\"----------\")\n",
    "print(\"county_df:\")\n",
    "print(\"----------\")\n",
    "\n",
    "print(\"Rows x Columns:\", county_df.shape)\n",
    "print(county_df[\"County\"].unique())\n",
    "\n",
    "\n",
    "print()\n",
    "\n",
    "\n",
    "print(\"----------\")\n",
    "print(\"ca:\")\n",
    "print(\"----------\")\n",
    "\n",
    "print(\"Rows x Columns:\", ca.shape)\n",
    "print(ca[\"County\"].unique())"
   ]
  },
  {
   "cell_type": "markdown",
   "metadata": {},
   "source": [
    "<br>"
   ]
  },
  {
   "cell_type": "markdown",
   "metadata": {},
   "source": [
    "#### Plot Swarm of a single column - again."
   ]
  },
  {
   "cell_type": "code",
   "execution_count": null,
   "metadata": {},
   "outputs": [],
   "source": [
    "_ = sns.swarmplot(x = \"County\", y = \"Income\", data=county_df)\n",
    "plt.show()"
   ]
  },
  {
   "cell_type": "markdown",
   "metadata": {},
   "source": [
    "**A Violin Plot is similar to a swarm plot, except we give up a bit of the granularity of the Swarm Plot, in favor of IQR and Median markers.**"
   ]
  },
  {
   "cell_type": "code",
   "execution_count": null,
   "metadata": {},
   "outputs": [],
   "source": [
    "sns.violinplot(x = \"County\", y = \"Income\", data=county_df)\n",
    "plt.show()"
   ]
  },
  {
   "cell_type": "markdown",
   "metadata": {},
   "source": [
    "<br>"
   ]
  },
  {
   "cell_type": "markdown",
   "metadata": {},
   "source": [
    "### Plot ECDF of a single column.\n",
    "\n",
    "> **ECDF** = Empirical Cumulative Distribution Function"
   ]
  },
  {
   "cell_type": "code",
   "execution_count": null,
   "metadata": {},
   "outputs": [],
   "source": [
    "def prep_ecdf(data):\n",
    "    \n",
    "    n = len(data)\n",
    "    x = np.sort(data)\n",
    "    y = np.arange(1, n + 1) / n\n",
    "\n",
    "    return x, y"
   ]
  },
  {
   "cell_type": "markdown",
   "metadata": {},
   "source": [
    "<br>"
   ]
  },
  {
   "cell_type": "markdown",
   "metadata": {},
   "source": [
    "#### Prepare and Plot Income data for San Diego"
   ]
  },
  {
   "cell_type": "code",
   "execution_count": null,
   "metadata": {},
   "outputs": [],
   "source": [
    "# Prepare Income Data\n",
    "is_sandiego = ca[\"County\"] == \"San Diego\"\n",
    "\n",
    "sd = ca[is_sandiego]\n",
    "sd_income = sd[\"Income\"]\n",
    "\n",
    "x,y = prep_ecdf(sd_income)"
   ]
  },
  {
   "cell_type": "markdown",
   "metadata": {},
   "source": [
    "<br>"
   ]
  },
  {
   "cell_type": "markdown",
   "metadata": {},
   "source": [
    "**Lets `print()` `x` and `y` to get a better feel for what an `ECDF` is doing.**"
   ]
  },
  {
   "cell_type": "code",
   "execution_count": null,
   "metadata": {
    "scrolled": true
   },
   "outputs": [],
   "source": [
    "print(x)\n",
    "print(\"-\"*60)\n",
    "print(y)"
   ]
  },
  {
   "cell_type": "markdown",
   "metadata": {},
   "source": [
    "<br>"
   ]
  },
  {
   "cell_type": "markdown",
   "metadata": {},
   "source": [
    "#### Plot the ECDF for San Diego Income"
   ]
  },
  {
   "cell_type": "code",
   "execution_count": null,
   "metadata": {},
   "outputs": [],
   "source": [
    "# Set up Figure\n",
    "plt.figure()\n",
    "\n",
    "# Grab the `axis` and save to `ax`\n",
    "ax = plt.gca()\n",
    "\n",
    "# ax.plot() is a simple `line plot`\n",
    "ax.plot(x, y, marker = \".\", linestyle = \"none\")\n",
    "\n",
    "# Make it Pretty\n",
    "ax.set_title(\"ECDF of San Diego Incomes\")\n",
    "ax.set_xlabel(\"County Income\")\n",
    "ax.set_ylabel(\"ECDF\")\n",
    "\n",
    "# Remove annoying \"out\" stuff when printing plot.\n",
    "plt.show()"
   ]
  },
  {
   "cell_type": "markdown",
   "metadata": {},
   "source": [
    "<br>"
   ]
  },
  {
   "cell_type": "markdown",
   "metadata": {},
   "source": [
    "#### Prepare and Plot Income data for All counties in `county_df`"
   ]
  },
  {
   "cell_type": "code",
   "execution_count": null,
   "metadata": {},
   "outputs": [],
   "source": [
    "# Set up Figure\n",
    "plt.figure()\n",
    "\n",
    "# Grab the `axis` and save to `ax`\n",
    "ax = plt.gca()\n",
    "\n",
    "\n",
    "# For loop adds a new line plot to `ax` each iteration, \n",
    "# and adds name of each unique 'county' to 'labels' list,\n",
    "# this is for use in the legend.\n",
    "labels = []\n",
    "for county in county_df[\"County\"].unique():\n",
    "    \n",
    "    county_inc = ca[ca[\"County\"] == county][\"Income\"]\n",
    "    \n",
    "    x,y = prep_ecdf(county_inc)\n",
    "    \n",
    "    ax.plot(x, y, marker = \".\", linestyle = \"none\")\n",
    "\n",
    "    labels.append(county)\n",
    "\n",
    "\n",
    "# Make It Pretty!\n",
    "# A Legend is a MUST when you have multiple plots on a single ax\n",
    "ax.legend(labels, loc='lower right')\n",
    "ax.set_xlabel(\"Incomes\")\n",
    "ax.set_ylabel('ECDF')\n",
    "plt.show()"
   ]
  },
  {
   "cell_type": "code",
   "execution_count": null,
   "metadata": {},
   "outputs": [],
   "source": [
    "#What can we say about the incomes of these 4 counties? Take a minute to ponder this."
   ]
  }
 ],
 "metadata": {
  "kernelspec": {
   "display_name": "Python 3",
   "language": "python",
   "name": "python3"
  },
  "language_info": {
   "codemirror_mode": {
    "name": "ipython",
    "version": 3
   },
   "file_extension": ".py",
   "mimetype": "text/x-python",
   "name": "python",
   "nbconvert_exporter": "python",
   "pygments_lexer": "ipython3",
   "version": "3.7.1"
  }
 },
 "nbformat": 4,
 "nbformat_minor": 2
}
