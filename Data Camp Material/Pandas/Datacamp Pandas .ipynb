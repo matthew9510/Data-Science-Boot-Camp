{
 "cells": [
  {
   "cell_type": "markdown",
   "metadata": {},
   "source": [
    "# This jupyter notebook adjoins the datacamp pandas lesson\n",
    "<hr>"
   ]
  },
  {
   "cell_type": "markdown",
   "metadata": {},
   "source": [
    "When working with data, the form of this data can vary greatly, but pretty often, you can boil it down to a **tabular structure**.\n",
    "\n",
    "<img src=\"Images/tabular_examples.jpg\"> </img>\n",
    "\n",
    "Every row is a measurement, or an observation, and for each observation there are different variables. A row is an observation while a column is a variable. \n",
    "\n",
    "For each measurement there's of course the temperature but also the date and time of the measurement, and the location. \n",
    "\n",
    "<hr>\n"
   ]
  },
  {
   "cell_type": "markdown",
   "metadata": {},
   "source": [
    "To start working on this data in Python, you'll need some kind of rectangular data structure. \n",
    "\n",
    "You already know what a 2D Numpy array is, it is an option, but not necessarily the best one. Remember that a Numpy array can only house elements with the same data type. \n",
    "\n",
    "In the example data set we can observe that there are different data types. \n",
    "\n",
    "To handle multiple data types in a rectangular data structure we will use  **Pandas**. \n",
    "\n",
    "Pandas is a high leve l data manipulation tool developed by Wes McKinney, built on the Numpy package. \n",
    "\n",
    "Compared to Numpy, it's more high level, making it interesting for data scientists all over the world. \n",
    "\n",
    "In pandas, we store the tabular data in a rectangular table called a **DataFrame**. \n",
    "\n",
    "<img src=\"Images/dataframe.jpg\"></img>\n",
    "\n",
    "### Note:\n",
    "That each row of the dataframe has a unique row label. \n",
    "\n",
    "The columns, or variables, also have labels. \n",
    "\n",
    "Notice that the values in the different columns have different data types; this is a very big difference with 2D Numpy arrays."
   ]
  },
  {
   "cell_type": "markdown",
   "metadata": {},
   "source": [
    "<hr>\n",
    "\n",
    "## Creating A DataFrame From A Dictionary\n",
    "\n",
    "Using the distinctive curly brackets, we create key value pairs. \n",
    "\n",
    "The keys are called labels, amd the values are the corresponding columns, in list form. \n",
    "\n",
    "After importing the pandas package \n",
    "``` import pandas as pd ``` \n",
    "you can create a DataFrame from the dictionary using pd (dot) DataFrame function. \n",
    "\n",
    "``` df = pd.DataFrame(dict_name)```\n",
    "\n",
    "## Note: \n",
    "- The DataFrame function is capitalized\n",
    "- The number of values for each key must have the same number of elements across all columns"
   ]
  },
  {
   "cell_type": "code",
   "execution_count": 1,
   "metadata": {},
   "outputs": [
    {
     "name": "stdout",
     "output_type": "stream",
     "text": [
      "     Key1  Key2  Key3\n",
      "0  value1     1     4\n",
      "1  value2     2     5\n",
      "2  value3     3     6\n"
     ]
    }
   ],
   "source": [
    "import pandas as pd\n",
    "someDict = {\"Key1\": ['value1', 'value2', 'value3'],\n",
    "            \"Key2\": [1, 2, 3],\n",
    "            \"Key3\": [4, 5, 6]}\n",
    "df = pd.DataFrame(someDict)\n",
    "print(df)"
   ]
  },
  {
   "cell_type": "markdown",
   "metadata": {},
   "source": [
    "Pandas assigned some automatic row labels from 0 up to 2. \n",
    "To specify them manually, you can set the index attribute of df to a list with the correct labels. "
   ]
  },
  {
   "cell_type": "code",
   "execution_count": 2,
   "metadata": {},
   "outputs": [
    {
     "name": "stdout",
     "output_type": "stream",
     "text": [
      "           Key1  Key2  Key3\n",
      "sample1  value1     1     4\n",
      "sample2  value2     2     5\n",
      "sample3  value3     3     6\n"
     ]
    }
   ],
   "source": [
    "df.index = [\"sample1\", \"sample2\", \"sample3\"]\n",
    "print(df)"
   ]
  },
  {
   "cell_type": "markdown",
   "metadata": {},
   "source": [
    "<hr> \n",
    "\n",
    "## DataFrame from CSV file \n",
    "\n",
    "Most times you will not build these DataFrames manually, instead we will import csv files. **CSV** stands for comma-separated values. \n",
    "\n",
    "We will import this data into Python using Pandas read_csv() function \n",
    "\n",
    "You'll pass the path of the file as an argument."
   ]
  },
  {
   "cell_type": "code",
   "execution_count": 3,
   "metadata": {},
   "outputs": [
    {
     "data": {
      "text/html": [
       "<div>\n",
       "<style scoped>\n",
       "    .dataframe tbody tr th:only-of-type {\n",
       "        vertical-align: middle;\n",
       "    }\n",
       "\n",
       "    .dataframe tbody tr th {\n",
       "        vertical-align: top;\n",
       "    }\n",
       "\n",
       "    .dataframe thead th {\n",
       "        text-align: right;\n",
       "    }\n",
       "</style>\n",
       "<table border=\"1\" class=\"dataframe\">\n",
       "  <thead>\n",
       "    <tr style=\"text-align: right;\">\n",
       "      <th></th>\n",
       "      <th>MONTH</th>\n",
       "      <th>MLY-PRCP-NORMAL</th>\n",
       "      <th>MLY-PRCP-25PCTL</th>\n",
       "      <th>MLY-PRCP-75PCTL</th>\n",
       "      <th>MLY-TAVG-NORMAL</th>\n",
       "    </tr>\n",
       "  </thead>\n",
       "  <tbody>\n",
       "    <tr>\n",
       "      <th>0</th>\n",
       "      <td>Jan</td>\n",
       "      <td>4.81</td>\n",
       "      <td>3.29</td>\n",
       "      <td>6.07</td>\n",
       "      <td>42.1</td>\n",
       "    </tr>\n",
       "    <tr>\n",
       "      <th>1</th>\n",
       "      <td>Feb</td>\n",
       "      <td>3.31</td>\n",
       "      <td>2.09</td>\n",
       "      <td>4.44</td>\n",
       "      <td>43.4</td>\n",
       "    </tr>\n",
       "    <tr>\n",
       "      <th>2</th>\n",
       "      <td>Mar</td>\n",
       "      <td>3.51</td>\n",
       "      <td>2.60</td>\n",
       "      <td>3.93</td>\n",
       "      <td>46.6</td>\n",
       "    </tr>\n",
       "    <tr>\n",
       "      <th>3</th>\n",
       "      <td>Apr</td>\n",
       "      <td>2.77</td>\n",
       "      <td>2.10</td>\n",
       "      <td>2.94</td>\n",
       "      <td>50.5</td>\n",
       "    </tr>\n",
       "    <tr>\n",
       "      <th>4</th>\n",
       "      <td>May</td>\n",
       "      <td>2.16</td>\n",
       "      <td>1.34</td>\n",
       "      <td>2.91</td>\n",
       "      <td>56.0</td>\n",
       "    </tr>\n",
       "    <tr>\n",
       "      <th>5</th>\n",
       "      <td>Jun</td>\n",
       "      <td>1.63</td>\n",
       "      <td>1.04</td>\n",
       "      <td>2.25</td>\n",
       "      <td>61.0</td>\n",
       "    </tr>\n",
       "    <tr>\n",
       "      <th>6</th>\n",
       "      <td>Jul</td>\n",
       "      <td>0.79</td>\n",
       "      <td>0.30</td>\n",
       "      <td>1.10</td>\n",
       "      <td>65.9</td>\n",
       "    </tr>\n",
       "    <tr>\n",
       "      <th>7</th>\n",
       "      <td>Aug</td>\n",
       "      <td>0.97</td>\n",
       "      <td>0.33</td>\n",
       "      <td>1.24</td>\n",
       "      <td>66.5</td>\n",
       "    </tr>\n",
       "    <tr>\n",
       "      <th>8</th>\n",
       "      <td>Sep</td>\n",
       "      <td>1.52</td>\n",
       "      <td>0.64</td>\n",
       "      <td>2.06</td>\n",
       "      <td>61.6</td>\n",
       "    </tr>\n",
       "    <tr>\n",
       "      <th>9</th>\n",
       "      <td>Oct</td>\n",
       "      <td>3.41</td>\n",
       "      <td>2.03</td>\n",
       "      <td>4.41</td>\n",
       "      <td>53.3</td>\n",
       "    </tr>\n",
       "    <tr>\n",
       "      <th>10</th>\n",
       "      <td>Nov</td>\n",
       "      <td>5.84</td>\n",
       "      <td>4.53</td>\n",
       "      <td>7.17</td>\n",
       "      <td>46.2</td>\n",
       "    </tr>\n",
       "    <tr>\n",
       "      <th>11</th>\n",
       "      <td>Dec</td>\n",
       "      <td>5.43</td>\n",
       "      <td>3.94</td>\n",
       "      <td>6.97</td>\n",
       "      <td>41.1</td>\n",
       "    </tr>\n",
       "  </tbody>\n",
       "</table>\n",
       "</div>"
      ],
      "text/plain": [
       "   MONTH  MLY-PRCP-NORMAL  MLY-PRCP-25PCTL  MLY-PRCP-75PCTL  MLY-TAVG-NORMAL\n",
       "0    Jan             4.81             3.29             6.07             42.1\n",
       "1    Feb             3.31             2.09             4.44             43.4\n",
       "2    Mar             3.51             2.60             3.93             46.6\n",
       "3    Apr             2.77             2.10             2.94             50.5\n",
       "4    May             2.16             1.34             2.91             56.0\n",
       "5    Jun             1.63             1.04             2.25             61.0\n",
       "6    Jul             0.79             0.30             1.10             65.9\n",
       "7    Aug             0.97             0.33             1.24             66.5\n",
       "8    Sep             1.52             0.64             2.06             61.6\n",
       "9    Oct             3.41             2.03             4.41             53.3\n",
       "10   Nov             5.84             4.53             7.17             46.2\n",
       "11   Dec             5.43             3.94             6.97             41.1"
      ]
     },
     "execution_count": 3,
     "metadata": {},
     "output_type": "execute_result"
    }
   ],
   "source": [
    "path = \"Weather.csv\"\n",
    "df = pd.read_csv(path)\n",
    "df"
   ]
  },
  {
   "cell_type": "markdown",
   "metadata": {},
   "source": [
    "When we print out the DataFrame we can notice that there is a problem. \n",
    "\n",
    "The row labels are seen as a column in their own right. \n",
    "\n",
    "To solve this, we'll have to tell the read_csv() function that the first column contains the row indexes, using the following argument ```index_col=0```"
   ]
  },
  {
   "cell_type": "code",
   "execution_count": 4,
   "metadata": {},
   "outputs": [
    {
     "name": "stdout",
     "output_type": "stream",
     "text": [
      "       MLY-PRCP-NORMAL  MLY-PRCP-25PCTL  MLY-PRCP-75PCTL  MLY-TAVG-NORMAL\n",
      "MONTH                                                                    \n",
      "Jan               4.81             3.29             6.07             42.1\n",
      "Feb               3.31             2.09             4.44             43.4\n",
      "Mar               3.51             2.60             3.93             46.6\n",
      "Apr               2.77             2.10             2.94             50.5\n",
      "May               2.16             1.34             2.91             56.0\n",
      "Jun               1.63             1.04             2.25             61.0\n",
      "Jul               0.79             0.30             1.10             65.9\n",
      "Aug               0.97             0.33             1.24             66.5\n",
      "Sep               1.52             0.64             2.06             61.6\n",
      "Oct               3.41             2.03             4.41             53.3\n",
      "Nov               5.84             4.53             7.17             46.2\n",
      "Dec               5.43             3.94             6.97             41.1\n"
     ]
    }
   ],
   "source": [
    "df = pd.read_csv(path, index_col=0)\n",
    "print(df)"
   ]
  },
  {
   "cell_type": "markdown",
   "metadata": {},
   "source": [
    "[Pandas read_csv() function documentation](https://pandas.pydata.org/pandas-docs/stable/reference/api/pandas.read_csv.html)"
   ]
  },
  {
   "cell_type": "markdown",
   "metadata": {},
   "source": [
    "<hr> \n",
    "\n",
    "## Dictionary to DataFrame (1)\n",
    "Pandas is an open source library, providing high-performance, easy-to-use data structures and data analysis tools for Python. Sounds promising!\n",
    "\n",
    "The DataFrame is one of Pandas' most important data structures. It's basically a way to store tabular data where you can label the rows and the columns. One way to build a DataFrame is from a dictionary.\n",
    "\n",
    "In the exercises that follow you will be working with vehicle data from different countries. Each observation corresponds to a country and the columns give information about the number of vehicles per capita, whether people drive left or right, and so on.\n",
    "\n",
    "Three lists are defined in the script:\n",
    "\n",
    "- names, containing the country names for which data is available.\n",
    "- dr, a list with booleans that tells whether people drive left or right in the corresponding country.\n",
    "- cpc, the number of motor vehicles per 1000 people in the corresponding country.\n",
    "- Each dictionary key is a column label and each value is a list which contains the column elements.\n",
    "\n",
    "## Instructions\n",
    "- Import pandas as pd.\n",
    "- Use the pre-defined lists to create a dictionary called my_dict. There should be three key value pairs:\n",
    "- key 'country' and value names.\n",
    "- key 'drives_right' and value dr.\n",
    "- key 'cars_per_cap' and value cpc.\n",
    "- Use pd.DataFrame() to turn your dict into a DataFrame called cars.\n",
    "- Print out cars and see how beautiful it is."
   ]
  },
  {
   "cell_type": "code",
   "execution_count": 5,
   "metadata": {},
   "outputs": [
    {
     "name": "stdout",
     "output_type": "stream",
     "text": [
      "         country  drives_right  cars_per_cap\n",
      "0  United States          True           809\n",
      "1      Australia         False           731\n",
      "2          Japan         False           588\n",
      "3          India         False            18\n",
      "4         Russia          True           200\n",
      "5        Morocco          True            70\n",
      "6          Egypt          True            45\n"
     ]
    }
   ],
   "source": [
    "# Pre-defined lists\n",
    "names = ['United States', 'Australia', 'Japan', 'India', 'Russia', 'Morocco', 'Egypt']\n",
    "dr =  [True, False, False, False, True, True, True]\n",
    "cpc = [809, 731, 588, 18, 200, 70, 45]\n",
    "\n",
    "# Import pandas as pd\n",
    "import pandas as pd\n",
    "\n",
    "# Create dictionary my_dict with three key:value pairs: my_dict\n",
    "my_dict = {'country':names, 'drives_right':dr, 'cars_per_cap':cpc}\n",
    "\n",
    "# Build a DataFrame cars from my_dict: cars\n",
    "cars = pd.DataFrame(my_dict)\n",
    "\n",
    "# Print cars\n",
    "print(cars)"
   ]
  },
  {
   "cell_type": "markdown",
   "metadata": {},
   "source": [
    "<hr>\n",
    "\n",
    "## Dictionary to DataFrame (2)\n",
    "The Python code that solves the previous exercise is included on the right. Have you noticed that the row labels (i.e. the labels for the different observations) were automatically set to integers from 0 up to 6?\n",
    "\n",
    "To solve this a list row_labels has been created. You can use it to specify the row labels of the cars DataFrame. You do this by setting the index attribute of cars, that you can access as cars.index.\n",
    "\n",
    "## Instructions\n",
    "- Hit Submit Answer to see that, indeed, the row labels are not correctly set.\n",
    "- Specify the row labels by setting cars.index equal to row_labels.\n",
    "- Print out cars again and check if the row labels are correct this time."
   ]
  },
  {
   "cell_type": "code",
   "execution_count": 6,
   "metadata": {},
   "outputs": [
    {
     "name": "stdout",
     "output_type": "stream",
     "text": [
      "         country  drives_right  cars_per_cap\n",
      "0  United States          True           809\n",
      "1      Australia         False           731\n",
      "2          Japan         False           588\n",
      "3          India         False            18\n",
      "4         Russia          True           200\n",
      "5        Morocco          True            70\n",
      "6          Egypt          True            45\n",
      "           country  drives_right  cars_per_cap\n",
      "US   United States          True           809\n",
      "AUS      Australia         False           731\n",
      "JAP          Japan         False           588\n",
      "IN           India         False            18\n",
      "RU          Russia          True           200\n",
      "MOR        Morocco          True            70\n",
      "EG           Egypt          True            45\n"
     ]
    }
   ],
   "source": [
    "import pandas as pd\n",
    "\n",
    "# Build cars DataFrame\n",
    "names = ['United States', 'Australia', 'Japan', 'India', 'Russia', 'Morocco', 'Egypt']\n",
    "dr =  [True, False, False, False, True, True, True]\n",
    "cpc = [809, 731, 588, 18, 200, 70, 45]\n",
    "dict = { 'country':names, 'drives_right':dr, 'cars_per_cap':cpc }\n",
    "cars = pd.DataFrame(dict)\n",
    "print(cars)\n",
    "\n",
    "# Definition of row_labels\n",
    "row_labels = ['US', 'AUS', 'JAP', 'IN', 'RU', 'MOR', 'EG']\n",
    "\n",
    "# Specify row labels of cars\n",
    "cars.index = row_labels\n",
    "\n",
    "# Print cars again\n",
    "print(cars)"
   ]
  },
  {
   "cell_type": "markdown",
   "metadata": {},
   "source": [
    "<hr>\n",
    "\n",
    "## Index and Select Data \n",
    "\n",
    "There are numerous way in which you can index and select data from DataFrames. \n",
    "\n",
    "First we will discuss using Square Brackets, followed by advanced data access methods, loc and iloc, that make Pandas extra powerful. \n",
    "\n",
    "\n",
    "Suppose that you only want to select the MLY-PRCP-NORMAL column from the weather DataFrame. \n",
    "\n",
    "You simply use square brackets passing in the column label. Python will print out the entire column, together with the row labels. "
   ]
  },
  {
   "cell_type": "code",
   "execution_count": 7,
   "metadata": {},
   "outputs": [
    {
     "name": "stdout",
     "output_type": "stream",
     "text": [
      "       MLY-PRCP-NORMAL  MLY-PRCP-25PCTL  MLY-PRCP-75PCTL  MLY-TAVG-NORMAL\n",
      "MONTH                                                                    \n",
      "Jan               4.81             3.29             6.07             42.1\n",
      "Feb               3.31             2.09             4.44             43.4\n",
      "Mar               3.51             2.60             3.93             46.6\n",
      "Apr               2.77             2.10             2.94             50.5\n",
      "May               2.16             1.34             2.91             56.0\n",
      "Jun               1.63             1.04             2.25             61.0\n",
      "Jul               0.79             0.30             1.10             65.9\n",
      "Aug               0.97             0.33             1.24             66.5\n",
      "Sep               1.52             0.64             2.06             61.6\n",
      "Oct               3.41             2.03             4.41             53.3\n",
      "Nov               5.84             4.53             7.17             46.2\n",
      "Dec               5.43             3.94             6.97             41.1\n",
      "\n",
      "MONTH\n",
      "Jan    4.81\n",
      "Feb    3.31\n",
      "Mar    3.51\n",
      "Apr    2.77\n",
      "May    2.16\n",
      "Jun    1.63\n",
      "Jul    0.79\n",
      "Aug    0.97\n",
      "Sep    1.52\n",
      "Oct    3.41\n",
      "Nov    5.84\n",
      "Dec    5.43\n",
      "Name: MLY-PRCP-NORMAL, dtype: float64\n"
     ]
    }
   ],
   "source": [
    "weather = pd.read_csv(path, index_col=0)\n",
    "print(weather)\n",
    "print()\n",
    "print(weather[\"MLY-PRCP-NORMAL\"])"
   ]
  },
  {
   "cell_type": "markdown",
   "metadata": {},
   "source": [
    "Theres something interesting here, the last line says ```Name: MLY-PRCP-NORMAL, dtype: float64```. We're clearly not dealing with a regular DataFrame here. \n",
    "\n",
    "Let's find out about the type of the object that gets returned, with the ```type()``` python built in function. "
   ]
  },
  {
   "cell_type": "code",
   "execution_count": 8,
   "metadata": {},
   "outputs": [
    {
     "name": "stdout",
     "output_type": "stream",
     "text": [
      "<class 'pandas.core.frame.DataFrame'>\n",
      "<class 'pandas.core.series.Series'>\n"
     ]
    }
   ],
   "source": [
    "print(type(weather))\n",
    "print(type(weather[\"MLY-PRCP-NORMAL\"]))"
   ]
  },
  {
   "cell_type": "markdown",
   "metadata": {},
   "source": [
    "## Pandas Series\n",
    "\n",
    "We can see that the data type of (weather\\[\"MLY-PRCP-NORMAL\"\\]) (a DataFrame column is a **Pandas Series**. \n",
    "\n",
    "<span style=\"background-color:yellow\">You can think of the Series as a one dimensional array that can be labeled, just like the DataFrame. \n",
    "Otherwise put, if you paste a bunch of Series, you can create a DataFrame\n",
    "</span>\n",
    "\n",
    "### Selecting a column\n",
    "If you want to select the MLY-PRCP-NORMAL column but **keep the data** in the data frame, you'll need double square brackets. Checking the type we see it's a DataFrame with only one column."
   ]
  },
  {
   "cell_type": "code",
   "execution_count": 9,
   "metadata": {},
   "outputs": [
    {
     "name": "stdout",
     "output_type": "stream",
     "text": [
      "weather[\"MLY-PRCP-NORMAL\"]\n",
      "type(weather[\"MLY-PRCP-NORMAL\"]):  <class 'pandas.core.series.Series'>\n",
      "MONTH\n",
      "Jan    4.81\n",
      "Feb    3.31\n",
      "Mar    3.51\n",
      "Apr    2.77\n",
      "May    2.16\n",
      "Jun    1.63\n",
      "Jul    0.79\n",
      "Aug    0.97\n",
      "Sep    1.52\n",
      "Oct    3.41\n",
      "Nov    5.84\n",
      "Dec    5.43\n",
      "Name: MLY-PRCP-NORMAL, dtype: float64\n",
      "\n",
      "weather[[\"MLY-PRCP-NORMAL\"]]\n",
      "type(weather[[\"MLY-PRCP-NORMAL\"]]): <class 'pandas.core.frame.DataFrame'>\n",
      "       MLY-PRCP-NORMAL\n",
      "MONTH                 \n",
      "Jan               4.81\n",
      "Feb               3.31\n",
      "Mar               3.51\n",
      "Apr               2.77\n",
      "May               2.16\n",
      "Jun               1.63\n",
      "Jul               0.79\n",
      "Aug               0.97\n",
      "Sep               1.52\n",
      "Oct               3.41\n",
      "Nov               5.84\n",
      "Dec               5.43\n"
     ]
    }
   ],
   "source": [
    "print('weather[\"MLY-PRCP-NORMAL\"]')\n",
    "print('type(weather[\"MLY-PRCP-NORMAL\"]): ', type(weather[\"MLY-PRCP-NORMAL\"]))\n",
    "print(weather[\"MLY-PRCP-NORMAL\"])\n",
    "\n",
    "print()\n",
    "\n",
    "print('weather[[\"MLY-PRCP-NORMAL\"]]')\n",
    "print('type(weather[[\"MLY-PRCP-NORMAL\"]]):', type(weather[[\"MLY-PRCP-NORMAL\"]]))\n",
    "print(weather[[\"MLY-PRCP-NORMAL\"]])"
   ]
  },
  {
   "cell_type": "markdown",
   "metadata": {},
   "source": [
    "### Selecting Multiple Columns \n",
    "\n",
    "You can extend this call to select two columns. \n",
    "\n",
    "If you look at it from a different angle, you're actually putting a list with column labels inside another set of square brackets, and end up with a **'sub data frame'**, containing only selected columns."
   ]
  },
  {
   "cell_type": "code",
   "execution_count": 10,
   "metadata": {},
   "outputs": [
    {
     "data": {
      "text/html": [
       "<div>\n",
       "<style scoped>\n",
       "    .dataframe tbody tr th:only-of-type {\n",
       "        vertical-align: middle;\n",
       "    }\n",
       "\n",
       "    .dataframe tbody tr th {\n",
       "        vertical-align: top;\n",
       "    }\n",
       "\n",
       "    .dataframe thead th {\n",
       "        text-align: right;\n",
       "    }\n",
       "</style>\n",
       "<table border=\"1\" class=\"dataframe\">\n",
       "  <thead>\n",
       "    <tr style=\"text-align: right;\">\n",
       "      <th></th>\n",
       "      <th>MLY-PRCP-NORMAL</th>\n",
       "      <th>MLY-PRCP-25PCTL</th>\n",
       "    </tr>\n",
       "    <tr>\n",
       "      <th>MONTH</th>\n",
       "      <th></th>\n",
       "      <th></th>\n",
       "    </tr>\n",
       "  </thead>\n",
       "  <tbody>\n",
       "    <tr>\n",
       "      <th>Jan</th>\n",
       "      <td>4.81</td>\n",
       "      <td>3.29</td>\n",
       "    </tr>\n",
       "    <tr>\n",
       "      <th>Feb</th>\n",
       "      <td>3.31</td>\n",
       "      <td>2.09</td>\n",
       "    </tr>\n",
       "    <tr>\n",
       "      <th>Mar</th>\n",
       "      <td>3.51</td>\n",
       "      <td>2.60</td>\n",
       "    </tr>\n",
       "    <tr>\n",
       "      <th>Apr</th>\n",
       "      <td>2.77</td>\n",
       "      <td>2.10</td>\n",
       "    </tr>\n",
       "    <tr>\n",
       "      <th>May</th>\n",
       "      <td>2.16</td>\n",
       "      <td>1.34</td>\n",
       "    </tr>\n",
       "    <tr>\n",
       "      <th>Jun</th>\n",
       "      <td>1.63</td>\n",
       "      <td>1.04</td>\n",
       "    </tr>\n",
       "    <tr>\n",
       "      <th>Jul</th>\n",
       "      <td>0.79</td>\n",
       "      <td>0.30</td>\n",
       "    </tr>\n",
       "    <tr>\n",
       "      <th>Aug</th>\n",
       "      <td>0.97</td>\n",
       "      <td>0.33</td>\n",
       "    </tr>\n",
       "    <tr>\n",
       "      <th>Sep</th>\n",
       "      <td>1.52</td>\n",
       "      <td>0.64</td>\n",
       "    </tr>\n",
       "    <tr>\n",
       "      <th>Oct</th>\n",
       "      <td>3.41</td>\n",
       "      <td>2.03</td>\n",
       "    </tr>\n",
       "    <tr>\n",
       "      <th>Nov</th>\n",
       "      <td>5.84</td>\n",
       "      <td>4.53</td>\n",
       "    </tr>\n",
       "    <tr>\n",
       "      <th>Dec</th>\n",
       "      <td>5.43</td>\n",
       "      <td>3.94</td>\n",
       "    </tr>\n",
       "  </tbody>\n",
       "</table>\n",
       "</div>"
      ],
      "text/plain": [
       "       MLY-PRCP-NORMAL  MLY-PRCP-25PCTL\n",
       "MONTH                                  \n",
       "Jan               4.81             3.29\n",
       "Feb               3.31             2.09\n",
       "Mar               3.51             2.60\n",
       "Apr               2.77             2.10\n",
       "May               2.16             1.34\n",
       "Jun               1.63             1.04\n",
       "Jul               0.79             0.30\n",
       "Aug               0.97             0.33\n",
       "Sep               1.52             0.64\n",
       "Oct               3.41             2.03\n",
       "Nov               5.84             4.53\n",
       "Dec               5.43             3.94"
      ]
     },
     "execution_count": 10,
     "metadata": {},
     "output_type": "execute_result"
    }
   ],
   "source": [
    "weather[[\"MLY-PRCP-NORMAL\",\"MLY-PRCP-25PCTL\"]]"
   ]
  },
  {
   "cell_type": "markdown",
   "metadata": {},
   "source": [
    "## Selecting Rows of DataFrames \n",
    "Although it's uncommon and more of a convenience feature, you can use the same square brackets to select rows from a DataFrame, The only way to do this is by specifying a slice. \n",
    "\n",
    "**Note:** The end of the slice is exclusive and the index starts at zero. "
   ]
  },
  {
   "cell_type": "code",
   "execution_count": 11,
   "metadata": {},
   "outputs": [
    {
     "data": {
      "text/html": [
       "<div>\n",
       "<style scoped>\n",
       "    .dataframe tbody tr th:only-of-type {\n",
       "        vertical-align: middle;\n",
       "    }\n",
       "\n",
       "    .dataframe tbody tr th {\n",
       "        vertical-align: top;\n",
       "    }\n",
       "\n",
       "    .dataframe thead th {\n",
       "        text-align: right;\n",
       "    }\n",
       "</style>\n",
       "<table border=\"1\" class=\"dataframe\">\n",
       "  <thead>\n",
       "    <tr style=\"text-align: right;\">\n",
       "      <th></th>\n",
       "      <th>MLY-PRCP-NORMAL</th>\n",
       "      <th>MLY-PRCP-25PCTL</th>\n",
       "      <th>MLY-PRCP-75PCTL</th>\n",
       "      <th>MLY-TAVG-NORMAL</th>\n",
       "    </tr>\n",
       "    <tr>\n",
       "      <th>MONTH</th>\n",
       "      <th></th>\n",
       "      <th></th>\n",
       "      <th></th>\n",
       "      <th></th>\n",
       "    </tr>\n",
       "  </thead>\n",
       "  <tbody>\n",
       "    <tr>\n",
       "      <th>Feb</th>\n",
       "      <td>3.31</td>\n",
       "      <td>2.09</td>\n",
       "      <td>4.44</td>\n",
       "      <td>43.4</td>\n",
       "    </tr>\n",
       "    <tr>\n",
       "      <th>Mar</th>\n",
       "      <td>3.51</td>\n",
       "      <td>2.60</td>\n",
       "      <td>3.93</td>\n",
       "      <td>46.6</td>\n",
       "    </tr>\n",
       "    <tr>\n",
       "      <th>Apr</th>\n",
       "      <td>2.77</td>\n",
       "      <td>2.10</td>\n",
       "      <td>2.94</td>\n",
       "      <td>50.5</td>\n",
       "    </tr>\n",
       "  </tbody>\n",
       "</table>\n",
       "</div>"
      ],
      "text/plain": [
       "       MLY-PRCP-NORMAL  MLY-PRCP-25PCTL  MLY-PRCP-75PCTL  MLY-TAVG-NORMAL\n",
       "MONTH                                                                    \n",
       "Feb               3.31             2.09             4.44             43.4\n",
       "Mar               3.51             2.60             3.93             46.6\n",
       "Apr               2.77             2.10             2.94             50.5"
      ]
     },
     "execution_count": 11,
     "metadata": {},
     "output_type": "execute_result"
    }
   ],
   "source": [
    "weather[1:4]"
   ]
  },
  {
   "cell_type": "markdown",
   "metadata": {},
   "source": [
    "## Selecting Specific Columns And Rows Of A DataFrame"
   ]
  },
  {
   "cell_type": "code",
   "execution_count": 12,
   "metadata": {},
   "outputs": [
    {
     "data": {
      "text/html": [
       "<div>\n",
       "<style scoped>\n",
       "    .dataframe tbody tr th:only-of-type {\n",
       "        vertical-align: middle;\n",
       "    }\n",
       "\n",
       "    .dataframe tbody tr th {\n",
       "        vertical-align: top;\n",
       "    }\n",
       "\n",
       "    .dataframe thead th {\n",
       "        text-align: right;\n",
       "    }\n",
       "</style>\n",
       "<table border=\"1\" class=\"dataframe\">\n",
       "  <thead>\n",
       "    <tr style=\"text-align: right;\">\n",
       "      <th></th>\n",
       "      <th>MLY-PRCP-NORMAL</th>\n",
       "      <th>MLY-PRCP-25PCTL</th>\n",
       "    </tr>\n",
       "    <tr>\n",
       "      <th>MONTH</th>\n",
       "      <th></th>\n",
       "      <th></th>\n",
       "    </tr>\n",
       "  </thead>\n",
       "  <tbody>\n",
       "    <tr>\n",
       "      <th>Jan</th>\n",
       "      <td>4.81</td>\n",
       "      <td>3.29</td>\n",
       "    </tr>\n",
       "    <tr>\n",
       "      <th>Feb</th>\n",
       "      <td>3.31</td>\n",
       "      <td>2.09</td>\n",
       "    </tr>\n",
       "    <tr>\n",
       "      <th>Mar</th>\n",
       "      <td>3.51</td>\n",
       "      <td>2.60</td>\n",
       "    </tr>\n",
       "    <tr>\n",
       "      <th>Apr</th>\n",
       "      <td>2.77</td>\n",
       "      <td>2.10</td>\n",
       "    </tr>\n",
       "  </tbody>\n",
       "</table>\n",
       "</div>"
      ],
      "text/plain": [
       "       MLY-PRCP-NORMAL  MLY-PRCP-25PCTL\n",
       "MONTH                                  \n",
       "Jan               4.81             3.29\n",
       "Feb               3.31             2.09\n",
       "Mar               3.51             2.60\n",
       "Apr               2.77             2.10"
      ]
     },
     "execution_count": 12,
     "metadata": {},
     "output_type": "execute_result"
    }
   ],
   "source": [
    "weather[[\"MLY-PRCP-NORMAL\",\"MLY-PRCP-25PCTL\"]][0:4]"
   ]
  },
  {
   "cell_type": "markdown",
   "metadata": {},
   "source": [
    "Square brackets only offers limited functionality. \n",
    "\n",
    "Similarly to Numpy 2D arrays: \n",
    "When using square brackets you index or slice before the comma to reference the rows, and the index or slice after the comma references the columns.\n",
    "```my_array[rows, columns]```\n",
    "\n",
    "## ```loc``` Function \n",
    "Pandas can do the same thing but the syntax is a little different.\n",
    "To do this in pandas we have to use ```loc``` and ```iloc``` functions. \n",
    "\n",
    "- ```loc``` - is a technique to select parts of your data based on labels,  which means that you have to specify rows and columns based on their row and column labels. \n",
    "- ```iloc``` - is integer index based, so you have to specify rows and columns by their integer index like you did in the previous exercise\n",
    "\n",
    "Lets try get the row for the Month 'Feb' \n"
   ]
  },
  {
   "cell_type": "code",
   "execution_count": 13,
   "metadata": {},
   "outputs": [
    {
     "data": {
      "text/plain": [
       "MLY-PRCP-NORMAL     3.31\n",
       "MLY-PRCP-25PCTL     2.09\n",
       "MLY-PRCP-75PCTL     4.44\n",
       "MLY-TAVG-NORMAL    43.40\n",
       "Name: Feb, dtype: float64"
      ]
     },
     "execution_count": 13,
     "metadata": {},
     "output_type": "execute_result"
    }
   ],
   "source": [
    "weather.loc['Feb']"
   ]
  },
  {
   "cell_type": "markdown",
   "metadata": {},
   "source": [
    "Note that ```.loc``` returns a Series, containing all the row's information, rather than inconveniently shown on different lines. \n",
    "\n",
    "To get a data frame, we have to put the 'Feb' string (the index value | row label) inside double pair of brackets."
   ]
  },
  {
   "cell_type": "code",
   "execution_count": 14,
   "metadata": {},
   "outputs": [
    {
     "data": {
      "text/html": [
       "<div>\n",
       "<style scoped>\n",
       "    .dataframe tbody tr th:only-of-type {\n",
       "        vertical-align: middle;\n",
       "    }\n",
       "\n",
       "    .dataframe tbody tr th {\n",
       "        vertical-align: top;\n",
       "    }\n",
       "\n",
       "    .dataframe thead th {\n",
       "        text-align: right;\n",
       "    }\n",
       "</style>\n",
       "<table border=\"1\" class=\"dataframe\">\n",
       "  <thead>\n",
       "    <tr style=\"text-align: right;\">\n",
       "      <th></th>\n",
       "      <th>MLY-PRCP-NORMAL</th>\n",
       "      <th>MLY-PRCP-25PCTL</th>\n",
       "      <th>MLY-PRCP-75PCTL</th>\n",
       "      <th>MLY-TAVG-NORMAL</th>\n",
       "    </tr>\n",
       "    <tr>\n",
       "      <th>MONTH</th>\n",
       "      <th></th>\n",
       "      <th></th>\n",
       "      <th></th>\n",
       "      <th></th>\n",
       "    </tr>\n",
       "  </thead>\n",
       "  <tbody>\n",
       "    <tr>\n",
       "      <th>Feb</th>\n",
       "      <td>3.31</td>\n",
       "      <td>2.09</td>\n",
       "      <td>4.44</td>\n",
       "      <td>43.4</td>\n",
       "    </tr>\n",
       "  </tbody>\n",
       "</table>\n",
       "</div>"
      ],
      "text/plain": [
       "       MLY-PRCP-NORMAL  MLY-PRCP-25PCTL  MLY-PRCP-75PCTL  MLY-TAVG-NORMAL\n",
       "MONTH                                                                    \n",
       "Feb               3.31             2.09             4.44             43.4"
      ]
     },
     "execution_count": 14,
     "metadata": {},
     "output_type": "execute_result"
    }
   ],
   "source": [
    "weather.loc[['Feb']]"
   ]
  },
  {
   "cell_type": "markdown",
   "metadata": {},
   "source": [
    "### Using ```loc``` with Multiple Rows \n",
    "Pass in multiple row labels <span style=\"color:red\">inside double square brackets </span> separated by commas.\n",
    "\n",
    "This will select the entire rows, meaning all columns will be included. \n",
    "\n",
    "You can use single square brackets but the difference is that you can extend your selection with a comma and a specification of the columns of interest. "
   ]
  },
  {
   "cell_type": "code",
   "execution_count": 21,
   "metadata": {},
   "outputs": [
    {
     "data": {
      "text/html": [
       "<div>\n",
       "<style scoped>\n",
       "    .dataframe tbody tr th:only-of-type {\n",
       "        vertical-align: middle;\n",
       "    }\n",
       "\n",
       "    .dataframe tbody tr th {\n",
       "        vertical-align: top;\n",
       "    }\n",
       "\n",
       "    .dataframe thead th {\n",
       "        text-align: right;\n",
       "    }\n",
       "</style>\n",
       "<table border=\"1\" class=\"dataframe\">\n",
       "  <thead>\n",
       "    <tr style=\"text-align: right;\">\n",
       "      <th></th>\n",
       "      <th>MLY-PRCP-NORMAL</th>\n",
       "      <th>MLY-PRCP-25PCTL</th>\n",
       "      <th>MLY-PRCP-75PCTL</th>\n",
       "      <th>MLY-TAVG-NORMAL</th>\n",
       "    </tr>\n",
       "    <tr>\n",
       "      <th>MONTH</th>\n",
       "      <th></th>\n",
       "      <th></th>\n",
       "      <th></th>\n",
       "      <th></th>\n",
       "    </tr>\n",
       "  </thead>\n",
       "  <tbody>\n",
       "    <tr>\n",
       "      <th>Jan</th>\n",
       "      <td>4.81</td>\n",
       "      <td>3.29</td>\n",
       "      <td>6.07</td>\n",
       "      <td>42.1</td>\n",
       "    </tr>\n",
       "    <tr>\n",
       "      <th>Feb</th>\n",
       "      <td>3.31</td>\n",
       "      <td>2.09</td>\n",
       "      <td>4.44</td>\n",
       "      <td>43.4</td>\n",
       "    </tr>\n",
       "    <tr>\n",
       "      <th>Mar</th>\n",
       "      <td>3.51</td>\n",
       "      <td>2.60</td>\n",
       "      <td>3.93</td>\n",
       "      <td>46.6</td>\n",
       "    </tr>\n",
       "  </tbody>\n",
       "</table>\n",
       "</div>"
      ],
      "text/plain": [
       "       MLY-PRCP-NORMAL  MLY-PRCP-25PCTL  MLY-PRCP-75PCTL  MLY-TAVG-NORMAL\n",
       "MONTH                                                                    \n",
       "Jan               4.81             3.29             6.07             42.1\n",
       "Feb               3.31             2.09             4.44             43.4\n",
       "Mar               3.51             2.60             3.93             46.6"
      ]
     },
     "execution_count": 21,
     "metadata": {},
     "output_type": "execute_result"
    }
   ],
   "source": [
    "# weather.loc['Jan','Feb','Mar'] # Will not work, to many indexers for single brackets\n",
    "weather.loc[['Jan','Feb','Mar']]"
   ]
  },
  {
   "cell_type": "markdown",
   "metadata": {},
   "source": [
    "### Row and Column ```loc``` \n",
    "\n",
    "Lets select the same rows but now only select specific columns, the intersection will be returned.\n",
    "\n",
    "Syntax: ```df[[rows index separated with commas] , [columns index separated with commas]]``` "
   ]
  },
  {
   "cell_type": "code",
   "execution_count": 23,
   "metadata": {},
   "outputs": [
    {
     "data": {
      "text/html": [
       "<div>\n",
       "<style scoped>\n",
       "    .dataframe tbody tr th:only-of-type {\n",
       "        vertical-align: middle;\n",
       "    }\n",
       "\n",
       "    .dataframe tbody tr th {\n",
       "        vertical-align: top;\n",
       "    }\n",
       "\n",
       "    .dataframe thead th {\n",
       "        text-align: right;\n",
       "    }\n",
       "</style>\n",
       "<table border=\"1\" class=\"dataframe\">\n",
       "  <thead>\n",
       "    <tr style=\"text-align: right;\">\n",
       "      <th></th>\n",
       "      <th>MLY-PRCP-NORMAL</th>\n",
       "      <th>MLY-PRCP-25PCTL</th>\n",
       "    </tr>\n",
       "    <tr>\n",
       "      <th>MONTH</th>\n",
       "      <th></th>\n",
       "      <th></th>\n",
       "    </tr>\n",
       "  </thead>\n",
       "  <tbody>\n",
       "    <tr>\n",
       "      <th>Jan</th>\n",
       "      <td>4.81</td>\n",
       "      <td>3.29</td>\n",
       "    </tr>\n",
       "    <tr>\n",
       "      <th>Feb</th>\n",
       "      <td>3.31</td>\n",
       "      <td>2.09</td>\n",
       "    </tr>\n",
       "    <tr>\n",
       "      <th>Mar</th>\n",
       "      <td>3.51</td>\n",
       "      <td>2.60</td>\n",
       "    </tr>\n",
       "  </tbody>\n",
       "</table>\n",
       "</div>"
      ],
      "text/plain": [
       "       MLY-PRCP-NORMAL  MLY-PRCP-25PCTL\n",
       "MONTH                                  \n",
       "Jan               4.81             3.29\n",
       "Feb               3.31             2.09\n",
       "Mar               3.51             2.60"
      ]
     },
     "execution_count": 23,
     "metadata": {},
     "output_type": "execute_result"
    }
   ],
   "source": [
    "weather.loc[['Jan','Feb','Mar'],['MLY-PRCP-NORMAL', 'MLY-PRCP-25PCTL']]"
   ]
  },
  {
   "cell_type": "markdown",
   "metadata": {},
   "source": [
    "### Selecting all rows but a specific ammount of columns\n",
    "\n",
    "Replace the first list that specifies the row labels with a colon, which specifies a slice going from beginning to end. "
   ]
  },
  {
   "cell_type": "code",
   "execution_count": 24,
   "metadata": {},
   "outputs": [
    {
     "data": {
      "text/html": [
       "<div>\n",
       "<style scoped>\n",
       "    .dataframe tbody tr th:only-of-type {\n",
       "        vertical-align: middle;\n",
       "    }\n",
       "\n",
       "    .dataframe tbody tr th {\n",
       "        vertical-align: top;\n",
       "    }\n",
       "\n",
       "    .dataframe thead th {\n",
       "        text-align: right;\n",
       "    }\n",
       "</style>\n",
       "<table border=\"1\" class=\"dataframe\">\n",
       "  <thead>\n",
       "    <tr style=\"text-align: right;\">\n",
       "      <th></th>\n",
       "      <th>MLY-PRCP-NORMAL</th>\n",
       "      <th>MLY-PRCP-25PCTL</th>\n",
       "    </tr>\n",
       "    <tr>\n",
       "      <th>MONTH</th>\n",
       "      <th></th>\n",
       "      <th></th>\n",
       "    </tr>\n",
       "  </thead>\n",
       "  <tbody>\n",
       "    <tr>\n",
       "      <th>Jan</th>\n",
       "      <td>4.81</td>\n",
       "      <td>3.29</td>\n",
       "    </tr>\n",
       "    <tr>\n",
       "      <th>Feb</th>\n",
       "      <td>3.31</td>\n",
       "      <td>2.09</td>\n",
       "    </tr>\n",
       "    <tr>\n",
       "      <th>Mar</th>\n",
       "      <td>3.51</td>\n",
       "      <td>2.60</td>\n",
       "    </tr>\n",
       "    <tr>\n",
       "      <th>Apr</th>\n",
       "      <td>2.77</td>\n",
       "      <td>2.10</td>\n",
       "    </tr>\n",
       "    <tr>\n",
       "      <th>May</th>\n",
       "      <td>2.16</td>\n",
       "      <td>1.34</td>\n",
       "    </tr>\n",
       "    <tr>\n",
       "      <th>Jun</th>\n",
       "      <td>1.63</td>\n",
       "      <td>1.04</td>\n",
       "    </tr>\n",
       "    <tr>\n",
       "      <th>Jul</th>\n",
       "      <td>0.79</td>\n",
       "      <td>0.30</td>\n",
       "    </tr>\n",
       "    <tr>\n",
       "      <th>Aug</th>\n",
       "      <td>0.97</td>\n",
       "      <td>0.33</td>\n",
       "    </tr>\n",
       "    <tr>\n",
       "      <th>Sep</th>\n",
       "      <td>1.52</td>\n",
       "      <td>0.64</td>\n",
       "    </tr>\n",
       "    <tr>\n",
       "      <th>Oct</th>\n",
       "      <td>3.41</td>\n",
       "      <td>2.03</td>\n",
       "    </tr>\n",
       "    <tr>\n",
       "      <th>Nov</th>\n",
       "      <td>5.84</td>\n",
       "      <td>4.53</td>\n",
       "    </tr>\n",
       "    <tr>\n",
       "      <th>Dec</th>\n",
       "      <td>5.43</td>\n",
       "      <td>3.94</td>\n",
       "    </tr>\n",
       "  </tbody>\n",
       "</table>\n",
       "</div>"
      ],
      "text/plain": [
       "       MLY-PRCP-NORMAL  MLY-PRCP-25PCTL\n",
       "MONTH                                  \n",
       "Jan               4.81             3.29\n",
       "Feb               3.31             2.09\n",
       "Mar               3.51             2.60\n",
       "Apr               2.77             2.10\n",
       "May               2.16             1.34\n",
       "Jun               1.63             1.04\n",
       "Jul               0.79             0.30\n",
       "Aug               0.97             0.33\n",
       "Sep               1.52             0.64\n",
       "Oct               3.41             2.03\n",
       "Nov               5.84             4.53\n",
       "Dec               5.43             3.94"
      ]
     },
     "execution_count": 24,
     "metadata": {},
     "output_type": "execute_result"
    }
   ],
   "source": [
    "weather.loc[ : ,['MLY-PRCP-NORMAL', 'MLY-PRCP-25PCTL']]"
   ]
  },
  {
   "cell_type": "markdown",
   "metadata": {},
   "source": [
    "## Recap\n",
    "- Square brackets:\n",
    "    - Column access: ```df[['col1','col2']]```  Note: double square brackets because two series will result as a dataframe\n",
    "    - Row access: ```df[start_row_num: end_row_num_not_included]```\n",
    "\n",
    "- loc (label-based):\n",
    "    - Column access: ```df.loc[ : , ['col1','col2'] ]```\n",
    "    - Row access: ```df.loc[['row_0_label','row_10_label']]```\n",
    "    - Column and Row Access: ```df.loc[['row_0_label','row_10_label'] , ['col1','col2'] ]```\n",
    "    \n",
    "\n",
    "When using ```loc```, subsetting becomes similar to how you subsetted 2D Numpy Arrays. The only difference is that you have to use row labels with ```loc```, not the positions of the elements. \n",
    "<hr>\n"
   ]
  },
  {
   "cell_type": "markdown",
   "metadata": {},
   "source": [
    "## ```iloc``` Function \n",
    "\n",
    "If you want to subSet pandas DataFrames based on their position, or index, you'll need to use the ```iloc``` function.\n",
    "\n",
    "### Row Access Using ```iloc``` \n",
    "Let's get the 'Jan' row, using ```iloc```. Opposed to passing in the row label index we will use a numerical index. "
   ]
  },
  {
   "cell_type": "code",
   "execution_count": 27,
   "metadata": {},
   "outputs": [
    {
     "name": "stdout",
     "output_type": "stream",
     "text": [
      "       MLY-PRCP-NORMAL  MLY-PRCP-25PCTL  MLY-PRCP-75PCTL  MLY-TAVG-NORMAL\n",
      "MONTH                                                                    \n",
      "Jan               4.81             3.29             6.07             42.1\n",
      "\n",
      "       MLY-PRCP-NORMAL  MLY-PRCP-25PCTL  MLY-PRCP-75PCTL  MLY-TAVG-NORMAL\n",
      "MONTH                                                                    \n",
      "Jan               4.81             3.29             6.07             42.1\n"
     ]
    }
   ],
   "source": [
    "print(weather.loc[['Jan']])\n",
    "print()\n",
    "print(weather.iloc[[0]])"
   ]
  },
  {
   "cell_type": "markdown",
   "metadata": {},
   "source": [
    "### Multiple Row Access Using ```iloc``` "
   ]
  },
  {
   "cell_type": "code",
   "execution_count": 30,
   "metadata": {},
   "outputs": [
    {
     "name": "stdout",
     "output_type": "stream",
     "text": [
      "       MLY-PRCP-NORMAL  MLY-PRCP-25PCTL  MLY-PRCP-75PCTL  MLY-TAVG-NORMAL\n",
      "MONTH                                                                    \n",
      "Jan               4.81             3.29             6.07             42.1\n",
      "Feb               3.31             2.09             4.44             43.4\n",
      "Mar               3.51             2.60             3.93             46.6\n",
      "\n",
      "       MLY-PRCP-NORMAL  MLY-PRCP-25PCTL  MLY-PRCP-75PCTL  MLY-TAVG-NORMAL\n",
      "MONTH                                                                    \n",
      "Jan               4.81             3.29             6.07             42.1\n",
      "Feb               3.31             2.09             4.44             43.4\n",
      "Mar               3.51             2.60             3.93             46.6\n"
     ]
    }
   ],
   "source": [
    "print(weather.loc[['Jan','Feb','Mar']])\n",
    "print()\n",
    "# print(weather.iloc[[0:3]]) # Cannot slice\n",
    "print(weather.iloc[[0,1,2]])"
   ]
  },
  {
   "cell_type": "markdown",
   "metadata": {},
   "source": [
    "## Row and Column ```iloc```"
   ]
  },
  {
   "cell_type": "code",
   "execution_count": 35,
   "metadata": {},
   "outputs": [
    {
     "name": "stdout",
     "output_type": "stream",
     "text": [
      "       MLY-PRCP-NORMAL  MLY-PRCP-25PCTL\n",
      "MONTH                                  \n",
      "Jan               4.81             3.29\n",
      "Feb               3.31             2.09\n",
      "Mar               3.51             2.60\n",
      "\n",
      "       MLY-PRCP-NORMAL  MLY-PRCP-25PCTL\n",
      "MONTH                                  \n",
      "Jan               4.81             3.29\n",
      "Feb               3.31             2.09\n",
      "Mar               3.51             2.60\n",
      "       MLY-PRCP-NORMAL  MLY-PRCP-25PCTL\n",
      "MONTH                                  \n",
      "Jan               4.81             3.29\n",
      "Feb               3.31             2.09\n",
      "Mar               3.51             2.60\n",
      "Apr               2.77             2.10\n",
      "May               2.16             1.34\n",
      "Jun               1.63             1.04\n",
      "Jul               0.79             0.30\n",
      "Aug               0.97             0.33\n",
      "Sep               1.52             0.64\n",
      "Oct               3.41             2.03\n",
      "Nov               5.84             4.53\n",
      "Dec               5.43             3.94\n"
     ]
    }
   ],
   "source": [
    "print(weather.loc[['Jan','Feb','Mar'],['MLY-PRCP-NORMAL', 'MLY-PRCP-25PCTL']])\n",
    "print()\n",
    "print(weather.iloc[[0,1,2], [0, 1]])\n",
    "print(weather.iloc[: , [0, 1]])"
   ]
  },
  {
   "cell_type": "markdown",
   "metadata": {},
   "source": [
    "<hr>\n",
    "\n",
    "## Square Brackets (1)\n",
    "In the sample code on the right, the same cars data is imported from a CSV files as a Pandas DataFrame. To select only the cars_per_cap column from cars, you can use:\n",
    "\n",
    "```\n",
    "cars['cars_per_cap']\n",
    "cars[['cars_per_cap']]\n",
    "```\n",
    "\n",
    "<span style=\"background-color:yellow\">The single bracket version gives a Pandas Series, the double bracket version gives a Pandas DataFrame.</span>\n",
    "\n",
    "## Instructions\n",
    "- Use single square brackets to print out the country column of cars as a Pandas Series.\n",
    "- Use double square brackets to print out the country column of cars as a Pandas DataFrame.\n",
    "- Use double square brackets to print out a DataFrame with both the country and drives_right columns of cars, in this order."
   ]
  },
  {
   "cell_type": "code",
   "execution_count": 52,
   "metadata": {},
   "outputs": [
    {
     "name": "stdout",
     "output_type": "stream",
     "text": [
      "     cars_per_cap        country  drives_right\n",
      "US            809  United States          True\n",
      "AUS           731      Australia         False\n",
      "JAP           588          Japan         False\n",
      "IN             18          India         False\n",
      "RU            200         Russia          True\n",
      "MOR            70        Morocco          True\n",
      "EG             45          Egypt          True\n",
      "US     United States\n",
      "AUS        Australia\n",
      "JAP            Japan\n",
      "IN             India\n",
      "RU            Russia\n",
      "MOR          Morocco\n",
      "EG             Egypt\n",
      "Name: country, dtype: object\n",
      "           country\n",
      "US   United States\n",
      "AUS      Australia\n",
      "JAP          Japan\n",
      "IN           India\n",
      "RU          Russia\n",
      "MOR        Morocco\n",
      "EG           Egypt\n",
      "           country  drives_right\n",
      "US   United States          True\n",
      "AUS      Australia         False\n",
      "JAP          Japan         False\n",
      "IN           India         False\n",
      "RU          Russia          True\n",
      "MOR        Morocco          True\n",
      "EG           Egypt          True\n"
     ]
    }
   ],
   "source": [
    "# Import cars data\n",
    "import pandas as pd\n",
    "cars = pd.read_csv('cars.csv', index_col = 0)\n",
    "print(cars)\n",
    "\n",
    "# Print out country column as Pandas Series\n",
    "print(cars['country'])\n",
    "\n",
    "# Print out country column as Pandas DataFrame\n",
    "print(cars[['country']])\n",
    "\n",
    "# Print out DataFrame with country and drives_right columns\n",
    "print(cars[['country','drives_right']])"
   ]
  },
  {
   "cell_type": "markdown",
   "metadata": {},
   "source": [
    "<hr>\n",
    "\n",
    "## Square Brackets (2)\n",
    "Square brackets can do more than just selecting columns. You can also use them to get rows, or observations, from a DataFrame. The following call selects the first five rows from the cars DataFrame:\n",
    "\n",
    "```cars[0:5]```\n",
    "The result is another DataFrame containing only the rows you specified.\n",
    "\n",
    "<span style=\"background-color:yellow\">Pay attention: You can only select rows using square brackets if you specify a slice, like ```0:4```. Also, you're using the integer indexes of the rows here, not the row labels!</span>\n",
    "\n",
    "## Instructions\n",
    "- Select the first 3 observations from cars and print them out.\n",
    "- Select the fourth, fifth and sixth observation, corresponding to row indexes 3, 4 and 5, and print them out."
   ]
  },
  {
   "cell_type": "code",
   "execution_count": 41,
   "metadata": {},
   "outputs": [
    {
     "name": "stdout",
     "output_type": "stream",
     "text": [
      "     cars_per_cap        country  drives_right\n",
      "US            809  United States          True\n",
      "AUS           731      Australia         False\n",
      "JAP           588          Japan         False\n",
      "     cars_per_cap  country  drives_right\n",
      "IN             18    India         False\n",
      "RU            200   Russia          True\n",
      "MOR            70  Morocco          True\n",
      "     cars_per_cap  country  drives_right\n",
      "IN             18    India         False\n",
      "RU            200   Russia          True\n",
      "MOR            70  Morocco          True\n"
     ]
    }
   ],
   "source": [
    "# Import cars data\n",
    "import pandas as pd\n",
    "cars = pd.read_csv('cars.csv', index_col = 0)\n",
    "\n",
    "# Print out first 3 observations\n",
    "print(cars[0:3])\n",
    "\n",
    "# Print out fourth, fifth and sixth observation\n",
    "print(cars[3:6])"
   ]
  },
  {
   "cell_type": "markdown",
   "metadata": {},
   "source": [
    "<hr>\n",
    "\n",
    "## ```loc``` and ```iloc``` (1) Selecting Rows\n",
    "With loc and iloc you can do practically any data selection operation on DataFrames you can think of. \n",
    "\n",
    "- ```loc``` is label-based, which means that you have to specify rows and columns based on their row and column labels. \n",
    "\n",
    "- ```iloc``` is integer index based, so you have to specify rows and columns by their integer index like you did in the previous exercise.\n",
    "\n",
    "Try out the following commands in the IPython Shell to experiment with loc and iloc to select observations. Each pair of commands here gives the same result.\n",
    "\n",
    "```\n",
    "cars.loc['RU']\n",
    "cars.iloc[4]\n",
    "\n",
    "cars.loc[['RU']]\n",
    "cars.iloc[[4]]\n",
    "\n",
    "cars.loc[['RU', 'AUS']]\n",
    "cars.iloc[[4, 1]]\n",
    "```\n",
    "\n",
    "As before, code is included that imports the cars data as a Pandas DataFrame.\n",
    "\n",
    "## Instructions\n",
    "- Use loc or iloc to select the observation corresponding to Japan as a Series. The label of this row is JAP, the index is 2. Make sure to print the resulting Series.\n",
    "- Use loc or iloc to select the observations for Australia and Egypt as a DataFrame. You can find out about the labels/indexes of these rows by inspecting cars in the IPython Shell. Make sure to print the resulting DataFrame."
   ]
  },
  {
   "cell_type": "code",
   "execution_count": 51,
   "metadata": {},
   "outputs": [
    {
     "name": "stdout",
     "output_type": "stream",
     "text": [
      "cars_per_cap      588\n",
      "country         Japan\n",
      "drives_right    False\n",
      "Name: JAP, dtype: object\n",
      "588\n",
      "cars_per_cap      588\n",
      "country         Japan\n",
      "drives_right    False\n",
      "Name: JAP, dtype: object\n",
      "588\n",
      "     cars_per_cap    country  drives_right\n",
      "AUS           731  Australia         False\n",
      "EG             45      Egypt          True\n",
      "     cars_per_cap    country  drives_right\n",
      "AUS           731  Australia         False\n",
      "EG             45      Egypt          True\n"
     ]
    }
   ],
   "source": [
    "# Import cars data\n",
    "import pandas as pd\n",
    "cars = pd.read_csv('cars.csv', index_col = 0)\n",
    "\n",
    "# Print out observation for Japan\n",
    "print(cars.loc['JAP']) # print a series\n",
    "print(cars.loc['JAP']['cars_per_cap']) # print a value in a series\n",
    "\n",
    "print(cars.iloc[2]) # print a series\n",
    "print(cars.iloc[2][0]) # print a value in a series\n",
    "\n",
    "\n",
    "# Print out observations for Australia and Egypt\n",
    "print(cars.loc[['AUS', 'EG']]) # if you are selecting more than one row or column then you must utilize double brackets to signify you want a DataFrame, since a series is a one-dimensional array and you want more than one-dimension\n",
    "print(cars.iloc[[1, 6]]) # if you are selecting more than one row or column then you must utilize double brackets to signify you want a DataFrame, since a series is a one-dimensional array and you want more than one-dimension\n",
    "# print(cars.iloc[[1: 6]]) # Note: slicing doesn't work with iloc"
   ]
  },
  {
   "cell_type": "markdown",
   "metadata": {},
   "source": [
    "<hr>\n",
    "\n",
    "## ```loc``` and ```iloc``` (2) Selecting Rows and Columns\n",
    "loc and iloc also allow you to select both rows and columns from a DataFrame. To experiment, try out the following commands in the IPython Shell. Again, paired commands produce the same result.\n",
    "\n",
    "```\n",
    "cars.loc['IN', 'cars_per_cap']\n",
    "cars.iloc[3, 0]\n",
    "\n",
    "cars.loc[['IN', 'RU'], 'cars_per_cap']\n",
    "cars.iloc[[3, 4], 0]\n",
    "\n",
    "cars.loc[['IN', 'RU'], ['cars_per_cap', 'country']]\n",
    "cars.iloc[[3, 4], [0, 1]]\n",
    "```\n",
    "\n",
    "## Instructions\n",
    "- Print out the drives_right value of the row corresponding to Morocco (its row label is MOR)\n",
    "- Print out a sub-DataFrame, containing the observations for Russia and Morocco and the columns country and drives_right."
   ]
  },
  {
   "cell_type": "code",
   "execution_count": 53,
   "metadata": {},
   "outputs": [
    {
     "name": "stdout",
     "output_type": "stream",
     "text": [
      "True\n",
      "True\n",
      "     country  drives_right\n",
      "RU    Russia          True\n",
      "MOR  Morocco          True\n",
      "     country  drives_right\n",
      "RU    Russia          True\n",
      "MOR  Morocco          True\n"
     ]
    }
   ],
   "source": [
    "# Import cars data\n",
    "import pandas as pd\n",
    "cars = pd.read_csv('cars.csv', index_col = 0)\n",
    "\n",
    "# Print out drives_right value of Morocco\n",
    "print(cars.loc['MOR','drives_right'])\n",
    "print(cars.iloc[5,2])\n",
    "\n",
    "# Print sub-DataFrame\n",
    "print(cars.loc[['RU','MOR'],['country','drives_right']])\n",
    "print(cars.iloc[[4,5],[1,2]])"
   ]
  },
  {
   "cell_type": "markdown",
   "metadata": {},
   "source": [
    "<hr>\n",
    "\n",
    "## ```loc``` and ```iloc``` (3) Selecting Only Columns\n",
    "It's also possible to select only columns with loc and iloc. In both cases, you simply put a slice going from beginning to end in front of the comma:\n",
    "\n",
    "```\n",
    "cars.loc[:, 'country']\n",
    "cars.iloc[:, 1]\n",
    "\n",
    "cars.loc[:, ['country','drives_right']]\n",
    "cars.iloc[:, [1, 2]]\n",
    "```\n",
    "\n",
    "## Instructions\n",
    "- Print out the drives_right column as a Series using loc or iloc.\n",
    "- Print out the drives_right column as a DataFrame using loc or iloc.\n",
    "- Print out both the cars_per_cap and drives_right column as a DataFrame using loc or iloc."
   ]
  },
  {
   "cell_type": "code",
   "execution_count": 56,
   "metadata": {},
   "outputs": [
    {
     "name": "stdout",
     "output_type": "stream",
     "text": [
      "US      True\n",
      "AUS    False\n",
      "JAP    False\n",
      "IN     False\n",
      "RU      True\n",
      "MOR     True\n",
      "EG      True\n",
      "Name: drives_right, dtype: bool\n",
      "US      True\n",
      "AUS    False\n",
      "JAP    False\n",
      "IN     False\n",
      "RU      True\n",
      "MOR     True\n",
      "EG      True\n",
      "Name: drives_right, dtype: bool\n",
      "     drives_right\n",
      "US           True\n",
      "AUS         False\n",
      "JAP         False\n",
      "IN          False\n",
      "RU           True\n",
      "MOR          True\n",
      "EG           True\n",
      "     drives_right\n",
      "US           True\n",
      "AUS         False\n",
      "JAP         False\n",
      "IN          False\n",
      "RU           True\n",
      "MOR          True\n",
      "EG           True\n",
      "     cars_per_cap  drives_right\n",
      "US            809          True\n",
      "AUS           731         False\n",
      "JAP           588         False\n",
      "IN             18         False\n",
      "RU            200          True\n",
      "MOR            70          True\n",
      "EG             45          True\n",
      "     cars_per_cap  drives_right\n",
      "US            809          True\n",
      "AUS           731         False\n",
      "JAP           588         False\n",
      "IN             18         False\n",
      "RU            200          True\n",
      "MOR            70          True\n",
      "EG             45          True\n"
     ]
    }
   ],
   "source": [
    "# Import cars data\n",
    "import pandas as pd\n",
    "cars = pd.read_csv('cars.csv', index_col = 0)\n",
    "\n",
    "# Print out drives_right column as Series\n",
    "print(cars.loc[:, 'drives_right'])\n",
    "print(cars.iloc[:,2])\n",
    "\n",
    "# Print out drives_right column as DataFrame\n",
    "print(cars.loc[:, ['drives_right']])\n",
    "print(cars.iloc[:,[2]])\n",
    "\n",
    "# Print out cars_per_cap and drives_right as DataFrame\n",
    "print(cars.loc[:,['cars_per_cap','drives_right']])\n",
    "print(cars.iloc[:,[0,2]])"
   ]
  }
 ],
 "metadata": {
  "kernelspec": {
   "display_name": "Python 3",
   "language": "python",
   "name": "python3"
  },
  "language_info": {
   "codemirror_mode": {
    "name": "ipython",
    "version": 3
   },
   "file_extension": ".py",
   "mimetype": "text/x-python",
   "name": "python",
   "nbconvert_exporter": "python",
   "pygments_lexer": "ipython3",
   "version": "3.7.3"
  }
 },
 "nbformat": 4,
 "nbformat_minor": 2
}
