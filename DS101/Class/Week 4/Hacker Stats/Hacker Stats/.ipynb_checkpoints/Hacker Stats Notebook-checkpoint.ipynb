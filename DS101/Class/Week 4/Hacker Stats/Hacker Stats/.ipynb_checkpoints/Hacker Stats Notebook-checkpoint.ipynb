{
 "cells": [
  {
   "cell_type": "code",
   "execution_count": 1,
   "metadata": {},
   "outputs": [],
   "source": [
    "import numpy as np\n",
    "import matplotlib.pyplot as plt\n",
    "import seaborn as sns; sns.set()"
   ]
  },
  {
   "cell_type": "markdown",
   "metadata": {},
   "source": [
    "### Setting a Random Seed"
   ]
  },
  {
   "cell_type": "code",
   "execution_count": 3,
   "metadata": {},
   "outputs": [],
   "source": [
    "np.random.seed(22)"
   ]
  },
  {
   "cell_type": "markdown",
   "metadata": {},
   "source": [
    "<br>"
   ]
  },
  {
   "cell_type": "markdown",
   "metadata": {},
   "source": [
    "### Roll a Single Dice\n",
    "<hr>\n",
    "\n",
    "This call to the np.random.randint() function, will result in one of the following random integers:\n",
    "`1`, `2`, `3`, `4`, `5` or `6`"
   ]
  },
  {
   "cell_type": "code",
   "execution_count": 4,
   "metadata": {},
   "outputs": [
    {
     "name": "stdout",
     "output_type": "stream",
     "text": [
      "6\n"
     ]
    }
   ],
   "source": [
    "dice = np.random.randint(1,7)\n",
    "print(dice)"
   ]
  },
  {
   "cell_type": "markdown",
   "metadata": {},
   "source": [
    "<br>"
   ]
  },
  {
   "cell_type": "markdown",
   "metadata": {},
   "source": [
    "### Roll `n` Dice\n",
    "<hr>\n",
    "\n",
    "This `for loop` will execute as many dice rolls as we like.\n",
    "\n",
    "ex) if we want `10` dice rolls —set `n = 10`\n",
    "\n",
    "ex) if we want `50` dice rolls —set `n = 50` \n",
    "\n",
    "The goal is to eventually combine *this* loop with some sort of game logic, to recreate the dice game.\n",
    "\n",
    "The game logic will use the result of each roll to move our player **UP** or **DOWN**"
   ]
  },
  {
   "cell_type": "code",
   "execution_count": 5,
   "metadata": {},
   "outputs": [
    {
     "name": "stdout",
     "output_type": "stream",
     "text": [
      "5\n",
      "5\n",
      "1\n",
      "5\n",
      "4\n",
      "5\n",
      "1\n",
      "5\n",
      "6\n",
      "3\n"
     ]
    }
   ],
   "source": [
    "n = 10\n",
    "for roll in range(n):\n",
    "    dice = np.random.randint(1,7)\n",
    "    print(dice)"
   ]
  },
  {
   "cell_type": "markdown",
   "metadata": {},
   "source": [
    "<br>"
   ]
  },
  {
   "cell_type": "code",
   "execution_count": 6,
   "metadata": {},
   "outputs": [
    {
     "name": "stdout",
     "output_type": "stream",
     "text": [
      "5\n",
      "11\n",
      "1\n",
      "10\n",
      "3\n",
      "11\n",
      "6\n",
      "14\n",
      "2\n",
      "13\n",
      "1\n",
      "12\n",
      "1\n",
      "11\n",
      "6\n",
      "15\n",
      "5\n",
      "18\n",
      "6\n",
      "21\n"
     ]
    }
   ],
   "source": [
    "n = 10\n",
    "step = 5\n",
    "for roll in range(n):\n",
    "    dice = np.random.randint(1,7)\n",
    "    print(dice)\n",
    "    if dice < 3:\n",
    "        step = step - 1\n",
    "    elif dice > 2 and dice < 5:\n",
    "        step = step + 1 \n",
    "    else:\n",
    "        step = step + np.random.randint(1,7)\n",
    "    print(step)"
   ]
  },
  {
   "cell_type": "markdown",
   "metadata": {},
   "source": [
    "<h2 style=\"color:red\"><center>---Exercise 1---</center></h2>"
   ]
  },
  {
   "cell_type": "markdown",
   "metadata": {},
   "source": [
    "<hr>\n",
    "<br>\n",
    "<br>"
   ]
  },
  {
   "cell_type": "markdown",
   "metadata": {},
   "source": [
    "### Ex1. Game Logic - Taking a Step (Solution)"
   ]
  },
  {
   "cell_type": "code",
   "execution_count": 155,
   "metadata": {},
   "outputs": [
    {
     "name": "stdout",
     "output_type": "stream",
     "text": [
      "Initial Step: 5\n",
      "\n",
      "After Dice Roll: 10\n"
     ]
    }
   ],
   "source": [
    "# Set inital Step\n",
    "step = 5 \n",
    "\n",
    "# Roll a Single Dice \n",
    "dice = np.random.randint(1,7)\n",
    "print(\"Initial Step:\", step)\n",
    "print()\n",
    "\n",
    "\n",
    "# Game Logic\n",
    "if dice <= 2:\n",
    "    step = step - 1\n",
    "    \n",
    "elif dice <= 5:\n",
    "    step = step + 1 \n",
    "    \n",
    "else:\n",
    "    new_roll = np.random.randint(1,7)\n",
    "    step = step + new_roll\n",
    "    \n",
    "\n",
    "print(\"After Dice Roll:\", step)"
   ]
  },
  {
   "cell_type": "markdown",
   "metadata": {},
   "source": [
    "<hr>\n",
    "<br>\n",
    "<br>"
   ]
  },
  {
   "cell_type": "markdown",
   "metadata": {},
   "source": [
    "### A simple random walk"
   ]
  },
  {
   "cell_type": "code",
   "execution_count": 47,
   "metadata": {},
   "outputs": [
    {
     "name": "stdout",
     "output_type": "stream",
     "text": [
      "[0, -1, -2, -3, -4, -5, -4, -5, -6, -5, -6]\n"
     ]
    }
   ],
   "source": [
    "tiles = [0]\n",
    "\n",
    "for flip in range(10):\n",
    "    # grab most recent tile position\n",
    "    tile = tiles[-1]\n",
    "    \n",
    "    # flip coin\n",
    "    coin = np.random.randint(2)\n",
    "    \n",
    "    \n",
    "    # game logic\n",
    "    if coin == 0:\n",
    "        next_tile = tile + 1\n",
    "        \n",
    "    else:\n",
    "        next_tile = tile - 1\n",
    "    \n",
    "    \n",
    "    # add to random_walk\n",
    "    tiles.append(next_tile)\n",
    "    \n",
    "# Print results\n",
    "print(tiles)"
   ]
  },
  {
   "cell_type": "markdown",
   "metadata": {},
   "source": [
    "<h2 style=\"color:red\"><center>---Exercise 2---</center></h2>"
   ]
  },
  {
   "cell_type": "markdown",
   "metadata": {},
   "source": [
    "<hr>\n",
    "<br>\n",
    "<br>"
   ]
  },
  {
   "cell_type": "markdown",
   "metadata": {},
   "source": [
    "### Ex2. Increasing Complexity - Random Walk (Solution)"
   ]
  },
  {
   "cell_type": "markdown",
   "metadata": {},
   "source": [
    "Now, we want to be able to capture each next step, so we have a history of each step that was landed on.\n",
    "A python list would be the perfect tool here because of the `append` method."
   ]
  },
  {
   "cell_type": "code",
   "execution_count": 154,
   "metadata": {},
   "outputs": [
    {
     "name": "stdout",
     "output_type": "stream",
     "text": [
      "[0, 0, 0, 0, 1, 0, 1, 2, 3, 2, 3]\n"
     ]
    }
   ],
   "source": [
    "# initiate random walk at step 0\n",
    "random_walk = [0]\n",
    "\n",
    "for roll in range(10):\n",
    "#     Grab most recent step and roll a new die\n",
    "    prev_step = random_walk[-1]\n",
    "    dice = np.random.randint(1,7)\n",
    "    \n",
    "#     game logic to decide next step\n",
    "    if dice <= 2:\n",
    "        next_step = max(0, prev_step - 1)\n",
    "        \n",
    "    elif dice <= 5:\n",
    "        next_step = prev_step + 1\n",
    "        \n",
    "    else:\n",
    "        next_step = prev_step + np.random.randint(1,7)\n",
    "        \n",
    "#     Append each new step to random_walk    \n",
    "    random_walk.append(next_step)\n",
    "    \n",
    "print(random_walk)"
   ]
  },
  {
   "cell_type": "markdown",
   "metadata": {},
   "source": [
    "<hr>\n",
    "<br>\n",
    "<br>"
   ]
  },
  {
   "cell_type": "markdown",
   "metadata": {},
   "source": [
    "## Simulate Game Using Functions"
   ]
  },
  {
   "cell_type": "markdown",
   "metadata": {},
   "source": [
    "<br>"
   ]
  },
  {
   "cell_type": "markdown",
   "metadata": {},
   "source": [
    "### `dice_roll()`\n",
    "\n",
    ">**Input:** None\n",
    "\n",
    ">**Output:** `dice`; Random Integer in range: [1,2,3,4,5,6]"
   ]
  },
  {
   "cell_type": "code",
   "execution_count": 8,
   "metadata": {},
   "outputs": [],
   "source": [
    "def dice_roll():\n",
    "    return np.random.randint(1,7)"
   ]
  },
  {
   "cell_type": "markdown",
   "metadata": {},
   "source": [
    "<br>\n",
    "<br>"
   ]
  },
  {
   "cell_type": "markdown",
   "metadata": {},
   "source": [
    "### `dice_game()`\n",
    "\n",
    "This function takes in a current `step`, performs the dice game logic, and outputs a `next_step`\n",
    "\n",
    "> **Input:** `step` - Integer\n",
    "\n",
    "> **Output:** `next_step` - Integer"
   ]
  },
  {
   "cell_type": "code",
   "execution_count": 7,
   "metadata": {},
   "outputs": [],
   "source": [
    "def dice_game(step):\n",
    "    dice = dice_roll()\n",
    "    \n",
    "    if dice <= 2:\n",
    "        next_step = max(0, step - 1)\n",
    "    elif dice <= 5:\n",
    "        next_step = step + 1 \n",
    "    else:\n",
    "        next_step = step + dice_roll()\n",
    "        \n",
    "    if np.random.rand() <= 0.001:\n",
    "        next_step = 0\n",
    "        \n",
    "    return next_step"
   ]
  },
  {
   "cell_type": "markdown",
   "metadata": {},
   "source": [
    "<br>\n",
    "<br>"
   ]
  },
  {
   "cell_type": "markdown",
   "metadata": {},
   "source": [
    "### `random_walk()`\n",
    "\n",
    ">**Input:** None\n",
    "\n",
    ">**Output:** A Single `random_walk`"
   ]
  },
  {
   "cell_type": "code",
   "execution_count": 9,
   "metadata": {},
   "outputs": [],
   "source": [
    "def random_walk():\n",
    "    random_walk = [0]\n",
    "    \n",
    "    for roll in range(100):\n",
    "        step = random_walk[-1]\n",
    "        next_step = dice_game(step)\n",
    "        random_walk.append(next_step)\n",
    "    return random_walk"
   ]
  },
  {
   "cell_type": "code",
   "execution_count": 10,
   "metadata": {},
   "outputs": [
    {
     "name": "stdout",
     "output_type": "stream",
     "text": [
      "[0, 0, 0, 1, 2, 3, 4, 6, 7, 8, 9, 15, 14, 13, 14, 19, 20, 21, 20, 21, 22, 23, 22, 28, 29, 28, 27, 26, 27, 26, 27, 26, 32, 33, 32, 31, 30, 33, 34, 35, 36, 35, 36, 37, 38, 39, 38, 37, 38, 37, 40, 39, 40, 41, 43, 44, 46, 45, 49, 50, 49, 48, 49, 50, 56, 55, 56, 57, 58, 62, 63, 64, 63, 69, 70, 69, 68, 69, 70, 69, 71, 70, 75, 76, 75, 74, 75, 77, 76, 75, 79, 85, 86, 87, 88, 89, 90, 95, 96, 97, 98]\n"
     ]
    }
   ],
   "source": [
    "print(random_walk())"
   ]
  },
  {
   "cell_type": "markdown",
   "metadata": {},
   "source": [
    "<br>\n",
    "<br>"
   ]
  },
  {
   "cell_type": "markdown",
   "metadata": {},
   "source": [
    "### `simulate_games()`\n",
    "\n",
    ">**Input:** `num_sims` - Integer\n",
    "\n",
    ">**Output:** `all_walks` - Numpy Array of `random_walks`\n",
    ">> `num_sims` will decide how many `random_walks` will be contained inside of `all_walks`"
   ]
  },
  {
   "cell_type": "code",
   "execution_count": 11,
   "metadata": {},
   "outputs": [],
   "source": [
    "def simulate_games(num_sims):\n",
    "    all_walks = []\n",
    "    for sim in range(num_sims):\n",
    "        rand_walk = random_walk()\n",
    "        all_walks.append(rand_walk)\n",
    "        np_walks = np.array(all_walks)\n",
    "    return np.transpose(np_walks)"
   ]
  },
  {
   "cell_type": "code",
   "execution_count": 14,
   "metadata": {},
   "outputs": [
    {
     "name": "stdout",
     "output_type": "stream",
     "text": [
      "[[ 0  0]\n",
      " [ 4  3]\n",
      " [ 5  8]\n",
      " [ 4  9]\n",
      " [ 5 10]\n",
      " [ 4 11]\n",
      " [ 5 10]\n",
      " [ 6  9]\n",
      " [ 7  8]\n",
      " [ 6  7]\n",
      " [10  6]\n",
      " [11  7]\n",
      " [12  8]\n",
      " [13  7]\n",
      " [19  8]\n",
      " [18  7]\n",
      " [19  6]\n",
      " [18  7]\n",
      " [17 12]\n",
      " [16 11]\n",
      " [17 12]\n",
      " [18 11]\n",
      " [17 12]\n",
      " [18 13]\n",
      " [19 12]\n",
      " [20 13]\n",
      " [19 14]\n",
      " [20 19]\n",
      " [19 18]\n",
      " [20 19]\n",
      " [21 18]\n",
      " [20 17]\n",
      " [21 18]\n",
      " [20 17]\n",
      " [19 16]\n",
      " [18 17]\n",
      " [19 18]\n",
      " [18 22]\n",
      " [17 21]\n",
      " [18 22]\n",
      " [19 23]\n",
      " [18 24]\n",
      " [19 23]\n",
      " [20 22]\n",
      " [21 23]\n",
      " [20 27]\n",
      " [21 31]\n",
      " [25 30]\n",
      " [26 31]\n",
      " [32 32]\n",
      " [31 33]\n",
      " [32 32]\n",
      " [33 33]\n",
      " [32 34]\n",
      " [33 36]\n",
      " [34 37]\n",
      " [35 38]\n",
      " [36 37]\n",
      " [38 38]\n",
      " [37 44]\n",
      " [36 45]\n",
      " [37 48]\n",
      " [36 49]\n",
      " [37 53]\n",
      " [42 55]\n",
      " [41 56]\n",
      " [42 58]\n",
      " [41 59]\n",
      " [42 60]\n",
      " [41 62]\n",
      " [43 63]\n",
      " [44 62]\n",
      " [45 63]\n",
      " [46 64]\n",
      " [47 65]\n",
      " [50 66]\n",
      " [49 65]\n",
      " [48 64]\n",
      " [49 67]\n",
      " [48 68]\n",
      " [52 73]\n",
      " [56 72]\n",
      " [55 73]\n",
      " [58 74]\n",
      " [59 75]\n",
      " [58 74]\n",
      " [59 79]\n",
      " [60 80]\n",
      " [61 81]\n",
      " [62 82]\n",
      " [61 81]\n",
      " [62 82]\n",
      " [61 83]\n",
      " [60 84]\n",
      " [61 85]\n",
      " [60 86]\n",
      " [59 87]\n",
      " [58 88]\n",
      " [59 89]\n",
      " [60 93]\n",
      " [59 94]]\n"
     ]
    }
   ],
   "source": [
    "print(simulate_games(2))"
   ]
  },
  {
   "cell_type": "markdown",
   "metadata": {},
   "source": [
    "<br>"
   ]
  },
  {
   "cell_type": "markdown",
   "metadata": {},
   "source": [
    "### `plot_distribution()`\n",
    "\n",
    ">**Input:** `all_walks` - numpy array of all `random_walks`\n",
    "\n",
    ">**Output:** Histogram of all `final_steps`"
   ]
  },
  {
   "cell_type": "code",
   "execution_count": 16,
   "metadata": {},
   "outputs": [],
   "source": [
    "def plot_distribution(dist):\n",
    "    plt.hist(dist[-1])\n",
    "    plt.title('Dice Game Outcomes')\n",
    "    plt.xlabel('Game Outcome')\n",
    "    plt.ylabel('# Games')\n",
    "    plt.show()"
   ]
  },
  {
   "cell_type": "code",
   "execution_count": 17,
   "metadata": {},
   "outputs": [
    {
     "data": {
      "image/png": "[encoded data removed]",
      "text/plain": [
       "<Figure size 432x288 with 1 Axes>"
      ]
     },
     "metadata": {
      "needs_background": "light"
     },
     "output_type": "display_data"
    }
   ],
   "source": [
    "plot_distribution(simulate_games(10))"
   ]
  },
  {
   "cell_type": "markdown",
   "metadata": {},
   "source": [
    "### `plot_all_walks()`\n",
    "\n",
    ">**Input:** `all_walks` - numpy array of all `random_walks`\n",
    "\n",
    ">**Output:** plots every single `random_walk`"
   ]
  },
  {
   "cell_type": "code",
   "execution_count": 18,
   "metadata": {},
   "outputs": [],
   "source": [
    "def plot_all_walks(all_walks):\n",
    "    plt.figure()\n",
    "    ax = plt.gca()\n",
    "    ax.set_xlabel(\"Dice Roll (Time)\")\n",
    "    ax.set_ylabel(\"Steps Taken (Random Walk)\")\n",
    "    ax.plot(all_walks)\n",
    "    plt.show()"
   ]
  },
  {
   "cell_type": "markdown",
   "metadata": {},
   "source": [
    "<hr>\n",
    "<br>\n",
    "<br>"
   ]
  },
  {
   "cell_type": "markdown",
   "metadata": {},
   "source": [
    "### Run Simulations and Plot Results"
   ]
  },
  {
   "cell_type": "code",
   "execution_count": 20,
   "metadata": {},
   "outputs": [
    {
     "data": {
      "image/png": "[encoded data removed]",
      "text/plain": [
       "<Figure size 432x288 with 1 Axes>"
      ]
     },
     "metadata": {
      "needs_background": "light"
     },
     "output_type": "display_data"
    },
    {
     "data": {
      "image/png": "[encoded data removed]",
      "text/plain": [
       "<Figure size 432x288 with 1 Axes>"
      ]
     },
     "metadata": {
      "needs_background": "light"
     },
     "output_type": "display_data"
    }
   ],
   "source": [
    "all_walks = simulate_games(100)\n",
    "plot_distribution(all_walks)\n",
    "plot_all_walks(all_walks)"
   ]
  }
 ],
 "metadata": {
  "kernelspec": {
   "display_name": "Python 3",
   "language": "python",
   "name": "python3"
  },
  "language_info": {
   "codemirror_mode": {
    "name": "ipython",
    "version": 3
   },
   "file_extension": ".py",
   "mimetype": "text/x-python",
   "name": "python",
   "nbconvert_exporter": "python",
   "pygments_lexer": "ipython3",
   "version": "3.7.3"
  }
 },
 "nbformat": 4,
 "nbformat_minor": 2
}
