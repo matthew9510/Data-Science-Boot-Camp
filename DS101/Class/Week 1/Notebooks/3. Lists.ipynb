{
 "cells": [
  {
   "cell_type": "markdown",
   "metadata": {},
   "source": [
    "# [Lists](https://docs.python.org/3/library/stdtypes.html#lists)"
   ]
  },
  {
   "cell_type": "markdown",
   "metadata": {},
   "source": [
    "<img width=\"500px\" src=\"https://media.giphy.com/media/xTiTnuhyBF54B852nK/giphy.gif\">\n",
    "\n",
    "**Note: Python lists can have multiple different types of objects in them at one time**"
   ]
  },
  {
   "cell_type": "markdown",
   "metadata": {},
   "source": [
    "```python\n",
    "my_empty_list = []\n",
    "print('empty list:', my_empty_list)\n",
    "print('type:', type(my_empty_list))```"
   ]
  },
  {
   "cell_type": "code",
   "execution_count": 3,
   "metadata": {},
   "outputs": [
    {
     "name": "stdout",
     "output_type": "stream",
     "text": [
      "empty list: []\n",
      "type: <class 'list'>\n"
     ]
    }
   ],
   "source": [
    "my_empty_list = []\n",
    "print('empty list:', my_empty_list)\n",
    "print('type:', type(my_empty_list))"
   ]
  },
  {
   "cell_type": "markdown",
   "metadata": {},
   "source": [
    "## 1. Making a List"
   ]
  },
  {
   "cell_type": "markdown",
   "metadata": {},
   "source": [
    "```python\n",
    "list_of_ints = [1, 2, 6, 7]\n",
    "list_of_misc = [0.2, 5, \"Python\", \"is\", \"still\", \"fun\", \"!\"]\n",
    "\n",
    "print(list_of_ints)\n",
    "print()\n",
    "print(list_of_misc)```"
   ]
  },
  {
   "cell_type": "code",
   "execution_count": 4,
   "metadata": {},
   "outputs": [
    {
     "name": "stdout",
     "output_type": "stream",
     "text": [
      "[1, 2, 6, 7]\n",
      "\n",
      "[0.2, 5, 'Python', 'is', 'still', 'fun', '!']\n"
     ]
    }
   ],
   "source": [
    "list_of_ints = [1, 2, 6, 7]\n",
    "list_of_misc = [0.2, 5, \"Python\", \"is\", \"still\", \"fun\", \"!\"]\n",
    "\n",
    "print(list_of_ints)\n",
    "print()\n",
    "print(list_of_misc)"
   ]
  },
  {
   "cell_type": "markdown",
   "metadata": {},
   "source": [
    "***\n",
    "<br>\n",
    "<br>"
   ]
  },
  {
   "cell_type": "markdown",
   "metadata": {},
   "source": [
    "## 2. Length of a List"
   ]
  },
  {
   "cell_type": "markdown",
   "metadata": {},
   "source": [
    "```python\n",
    "len_ints = len(list_of_ints)\n",
    "len_misc = len(list_of_misc)\n",
    "\n",
    "print('length of list_of_ints:', len_ints)\n",
    "print()\n",
    "print('length of list_of_misc:', len_misc)```"
   ]
  },
  {
   "cell_type": "code",
   "execution_count": 5,
   "metadata": {},
   "outputs": [
    {
     "name": "stdout",
     "output_type": "stream",
     "text": [
      "length of list_of_ints: 4\n",
      "\n",
      "length of list_of_misc: 7\n"
     ]
    }
   ],
   "source": [
    "len_ints = len(list_of_ints)\n",
    "len_misc = len(list_of_misc)\n",
    "\n",
    "print('length of list_of_ints:', len_ints)\n",
    "print()\n",
    "print('length of list_of_misc:', len_misc)"
   ]
  },
  {
   "cell_type": "markdown",
   "metadata": {},
   "source": [
    "***\n",
    "<br>\n",
    "<br>"
   ]
  },
  {
   "cell_type": "markdown",
   "metadata": {},
   "source": [
    "## 3. Indexing and Slicing"
   ]
  },
  {
   "cell_type": "markdown",
   "metadata": {},
   "source": [
    "<img src=\"https://i.stack.imgur.com/vIKaD.png\">\n",
    "\n",
    "**Note: Indexing is zero indexed, meaning that the first item in the list is accessed using index number 0**"
   ]
  },
  {
   "cell_type": "markdown",
   "metadata": {},
   "source": [
    "### Indexing"
   ]
  },
  {
   "cell_type": "markdown",
   "metadata": {},
   "source": [
    "```python\n",
    "my_list = ['Python', 'is', 'still', 'cool']\n",
    "\n",
    "print(\"index 0:\", my_list[0])\n",
    "print(\"index 3:\", my_list[3])```"
   ]
  },
  {
   "cell_type": "code",
   "execution_count": 6,
   "metadata": {},
   "outputs": [
    {
     "name": "stdout",
     "output_type": "stream",
     "text": [
      "index 0: Python\n",
      "index 3: cool\n"
     ]
    }
   ],
   "source": [
    "my_list = ['Python', 'is', 'still', 'cool']\n",
    "\n",
    "print(\"index 0:\", my_list[0])\n",
    "print(\"index 3:\", my_list[3])"
   ]
  },
  {
   "cell_type": "markdown",
   "metadata": {},
   "source": [
    "### List inside of a List "
   ]
  },
  {
   "cell_type": "markdown",
   "metadata": {},
   "source": [
    "```python\n",
    "coordinates = [[12.0, 13.3], [0.6, 18.0], [88.0, 1.1]]\n",
    "\n",
    "print('first coordinate:', coordinates[0])\n",
    "print('second element of first coordinate:', coordinates[0][1])\n",
    "# Your Turn\n",
    "print('first element of third coordinate:', )\n",
    "print('first element of second coordinate:', )\n",
    "print('second element of second coordinate:', )```"
   ]
  },
  {
   "cell_type": "code",
   "execution_count": 7,
   "metadata": {},
   "outputs": [
    {
     "name": "stdout",
     "output_type": "stream",
     "text": [
      "first coordinate: [12.0, 13.3]\n",
      "second element of first coordinate: 13.3\n",
      "first element of third coordinate: 88.0\n",
      "first element of second coordinate: 0.6\n",
      "second element of second coordinate: 18.0\n"
     ]
    }
   ],
   "source": [
    "coordinates = [[12.0, 13.3], [0.6, 18.0], [88.0, 1.1]]\n",
    "\n",
    "print('first coordinate:', coordinates[0])\n",
    "print('second element of first coordinate:', coordinates[0][1])\n",
    "# Your Turn\n",
    "print('first element of third coordinate:', coordinates[2][0] )\n",
    "print('first element of second coordinate:', coordinates[1][0])\n",
    "print('second element of second coordinate:', coordinates[1][1])"
   ]
  },
  {
   "cell_type": "markdown",
   "metadata": {},
   "source": [
    "### Slicing"
   ]
  },
  {
   "cell_type": "markdown",
   "metadata": {},
   "source": [
    "##### `list[start : stop (not-included) : step]`\n",
    "\n",
    "**Note stop index is <span style=\"color:red\">not included</span>"
   ]
  },
  {
   "cell_type": "markdown",
   "metadata": {},
   "source": [
    "```python\n",
    "main_list = [1,2,3,4,5,6,7,8,9,10]\n",
    "print(\"Main List:\", main_list)\n",
    "\n",
    "print(\"-------------------------------------------\")\n",
    "\n",
    "sub_list = main_list[0:5]\n",
    "print(\"Sub List:\", sub_list)```"
   ]
  },
  {
   "cell_type": "code",
   "execution_count": 8,
   "metadata": {},
   "outputs": [
    {
     "name": "stdout",
     "output_type": "stream",
     "text": [
      "Main List: [1, 2, 3, 4, 5, 6, 7, 8, 9, 10]\n",
      "-------------------------------------------\n",
      "Sub List: [1, 2, 3, 4, 5]\n"
     ]
    }
   ],
   "source": [
    "main_list = [1,2,3,4,5,6,7,8,9,10]\n",
    "print(\"Main List:\", main_list)\n",
    "\n",
    "print(\"-------------------------------------------\")\n",
    "\n",
    "sub_list = main_list[0:5]\n",
    "print(\"Sub List:\", sub_list)"
   ]
  },
  {
   "cell_type": "markdown",
   "metadata": {},
   "source": [
    "***\n",
    "<br>\n",
    "<br>"
   ]
  },
  {
   "cell_type": "markdown",
   "metadata": {},
   "source": [
    "## 4. Updating values"
   ]
  },
  {
   "cell_type": "markdown",
   "metadata": {},
   "source": [
    "#### Replacing Values"
   ]
  },
  {
   "cell_type": "markdown",
   "metadata": {},
   "source": [
    "```python\n",
    "my_list = [0, 1, 2, 3, 4, 5]\n",
    "print(my_list)\n",
    "\n",
    "print(\"-------------------------------------------\")\n",
    "\n",
    "my_list[0] = 99\n",
    "print(my_list)```"
   ]
  },
  {
   "cell_type": "code",
   "execution_count": 9,
   "metadata": {},
   "outputs": [
    {
     "name": "stdout",
     "output_type": "stream",
     "text": [
      "[0, 1, 2, 3, 4, 5]\n",
      "-------------------------------------------\n",
      "[99, 1, 2, 3, 4, 5]\n"
     ]
    }
   ],
   "source": [
    "my_list = [0, 1, 2, 3, 4, 5]\n",
    "print(my_list)\n",
    "\n",
    "print(\"-------------------------------------------\")\n",
    "\n",
    "my_list[0] = 99\n",
    "print(my_list)"
   ]
  },
  {
   "cell_type": "markdown",
   "metadata": {},
   "source": [
    "#### Deleting Values"
   ]
  },
  {
   "cell_type": "markdown",
   "metadata": {
    "collapsed": true
   },
   "source": [
    "```python\n",
    "my_list = [0, 1, 2, 3, 4, 5]\n",
    "print(my_list)\n",
    "\n",
    "print(\"-------------------------------------------\")\n",
    "\n",
    "# remove first value\n",
    "del my_list[0]\n",
    "print(my_list)```"
   ]
  },
  {
   "cell_type": "code",
   "execution_count": 10,
   "metadata": {},
   "outputs": [
    {
     "name": "stdout",
     "output_type": "stream",
     "text": [
      "[0, 1, 2, 3, 4, 5]\n",
      "-------------------------------------------\n",
      "[1, 2, 3, 4, 5]\n"
     ]
    }
   ],
   "source": [
    "my_list = [0, 1, 2, 3, 4, 5]\n",
    "print(my_list)\n",
    "\n",
    "print(\"-------------------------------------------\")\n",
    "\n",
    "# remove first value and shifts all elements down one index\n",
    "del my_list[0]\n",
    "print(my_list)"
   ]
  },
  {
   "cell_type": "markdown",
   "metadata": {},
   "source": [
    "<hr>\n",
    "<br>\n",
    "<center><h1 style = 'color:red'>-----------Exercises-------------</h1></center>\n",
    "<br>\n",
    "<hr>\n",
    "<br>"
   ]
  },
  {
   "cell_type": "markdown",
   "metadata": {},
   "source": [
    "## 5. Lists and Logic"
   ]
  },
  {
   "cell_type": "code",
   "execution_count": 11,
   "metadata": {},
   "outputs": [
    {
     "name": "stdout",
     "output_type": "stream",
     "text": [
      "Membership test operations\n",
      "**************************\n",
      "\n",
      "The operators \"in\" and \"not in\" test for membership.  \"x in s\"\n",
      "evaluates to \"True\" if *x* is a member of *s*, and \"False\" otherwise.\n",
      "\"x not in s\" returns the negation of \"x in s\".  All built-in sequences\n",
      "and set types support this as well as dictionary, for which \"in\" tests\n",
      "whether the dictionary has a given key. For container types such as\n",
      "list, tuple, set, frozenset, dict, or collections.deque, the\n",
      "expression \"x in y\" is equivalent to \"any(x is e or x == e for e in\n",
      "y)\".\n",
      "\n",
      "For the string and bytes types, \"x in y\" is \"True\" if and only if *x*\n",
      "is a substring of *y*.  An equivalent test is \"y.find(x) != -1\".\n",
      "Empty strings are always considered to be a substring of any other\n",
      "string, so \"\"\" in \"abc\"\" will return \"True\".\n",
      "\n",
      "For user-defined classes which define the \"__contains__()\" method, \"x\n",
      "in y\" returns \"True\" if \"y.__contains__(x)\" returns a true value, and\n",
      "\"False\" otherwise.\n",
      "\n",
      "For user-defined classes which do not define \"__contains__()\" but do\n",
      "define \"__iter__()\", \"x in y\" is \"True\" if some value \"z\" with \"x ==\n",
      "z\" is produced while iterating over \"y\".  If an exception is raised\n",
      "during the iteration, it is as if \"in\" raised that exception.\n",
      "\n",
      "Lastly, the old-style iteration protocol is tried: if a class defines\n",
      "\"__getitem__()\", \"x in y\" is \"True\" if and only if there is a non-\n",
      "negative integer index *i* such that \"x == y[i]\", and all lower\n",
      "integer indices do not raise \"IndexError\" exception.  (If any other\n",
      "exception is raised, it is as if \"in\" raised that exception).\n",
      "\n",
      "The operator \"not in\" is defined to have the inverse true value of\n",
      "\"in\".\n",
      "\n",
      "Related help topics: SEQUENCEMETHODS\n",
      "\n"
     ]
    }
   ],
   "source": [
    "help('in')"
   ]
  },
  {
   "cell_type": "markdown",
   "metadata": {},
   "source": [
    "### Checking if character is `in` string."
   ]
  },
  {
   "cell_type": "markdown",
   "metadata": {},
   "source": [
    "```python\n",
    "test = 'd' in 'dog'\n",
    "print('is \"d\" in \"dog\"?', test)```"
   ]
  },
  {
   "cell_type": "code",
   "execution_count": 12,
   "metadata": {},
   "outputs": [
    {
     "name": "stdout",
     "output_type": "stream",
     "text": [
      "is \"d\" in \"dog\"? True\n"
     ]
    }
   ],
   "source": [
    "test = 'd' in 'dog'\n",
    "print('is \"d\" in \"dog\"?', test)"
   ]
  },
  {
   "cell_type": "markdown",
   "metadata": {},
   "source": [
    "<br>\n",
    "<br>"
   ]
  },
  {
   "cell_type": "markdown",
   "metadata": {},
   "source": [
    "### Checking if item is `in` list."
   ]
  },
  {
   "cell_type": "markdown",
   "metadata": {
    "collapsed": true
   },
   "source": [
    "```python\n",
    "languages = ['Java', 'C++', 'Go', 'Python', 'JavaScript']\n",
    "\n",
    "if 'Python' in languages:\n",
    "    print('Python is there!')```"
   ]
  },
  {
   "cell_type": "code",
   "execution_count": 13,
   "metadata": {},
   "outputs": [
    {
     "name": "stdout",
     "output_type": "stream",
     "text": [
      "Python is there!\n"
     ]
    }
   ],
   "source": [
    "languages = ['Java', 'C++', 'Go', 'Python', 'JavaScript']\n",
    "\n",
    "if 'Python' in languages:\n",
    "    print('Python is there!')"
   ]
  },
  {
   "cell_type": "markdown",
   "metadata": {},
   "source": [
    "#### In General"
   ]
  },
  {
   "cell_type": "markdown",
   "metadata": {},
   "source": [
    "```python\n",
    "lang = 'Go'\n",
    "languages = ['Java', 'C++', 'Go', 'Python', 'JavaScript']\n",
    "\n",
    "if lang in languages:\n",
    "    print(lang, 'is there!')\n",
    "else:\n",
    "    print(lang, 'is NOT there!')```"
   ]
  },
  {
   "cell_type": "code",
   "execution_count": 14,
   "metadata": {},
   "outputs": [
    {
     "name": "stdout",
     "output_type": "stream",
     "text": [
      "Go is there!\n"
     ]
    }
   ],
   "source": [
    "lang = 'Go'\n",
    "languages = ['Java', 'C++', 'Go', 'Python', 'JavaScript']\n",
    "\n",
    "if lang in languages:\n",
    "    print(lang, 'is there!')\n",
    "else:\n",
    "    print(lang, 'is NOT there!')"
   ]
  },
  {
   "cell_type": "markdown",
   "metadata": {},
   "source": [
    "<br>\n",
    "<br>"
   ]
  },
  {
   "cell_type": "markdown",
   "metadata": {},
   "source": [
    "### Checking if item is `not in` list."
   ]
  },
  {
   "cell_type": "markdown",
   "metadata": {
    "collapsed": true
   },
   "source": [
    "```python\n",
    "if 6 not in [1, 2, 3, 7]:\n",
    "    print('number 6 is not present')```"
   ]
  },
  {
   "cell_type": "code",
   "execution_count": 15,
   "metadata": {},
   "outputs": [
    {
     "name": "stdout",
     "output_type": "stream",
     "text": [
      "number 6 is not present\n"
     ]
    }
   ],
   "source": [
    "if 6 not in [1, 2, 3, 7]:\n",
    "    print('number 6 is not present')"
   ]
  },
  {
   "cell_type": "markdown",
   "metadata": {},
   "source": [
    "#### In General"
   ]
  },
  {
   "cell_type": "markdown",
   "metadata": {},
   "source": [
    "```python\n",
    "num = 7\n",
    "num_list = [1, 2, 3, 7]\n",
    "\n",
    "if num not in num_list:\n",
    "    print('number', num, 'is not present!')\n",
    "else:\n",
    "    print('number', num, 'is present!')```"
   ]
  },
  {
   "cell_type": "code",
   "execution_count": 16,
   "metadata": {},
   "outputs": [
    {
     "name": "stdout",
     "output_type": "stream",
     "text": [
      "number 7 is present!\n"
     ]
    }
   ],
   "source": [
    "num = 7\n",
    "num_list = [1, 2, 3, 7]\n",
    "\n",
    "if num not in num_list:\n",
    "    print('number', num, 'is not present!')\n",
    "else:\n",
    "    print('number', num, 'is present!')"
   ]
  },
  {
   "cell_type": "markdown",
   "metadata": {},
   "source": [
    "***\n",
    "<br>\n",
    "<br>"
   ]
  },
  {
   "cell_type": "markdown",
   "metadata": {},
   "source": [
    "## 6. List are mutable"
   ]
  },
  {
   "cell_type": "markdown",
   "metadata": {},
   "source": [
    "- A shallow copy can be made by simply copying the reference.\n",
    "\n",
    "- A deep copy means actually creating a new array and copying over the values.\n",
    "\n",
    "[Reference](https://www.cs.utexas.edu/~scottm/cs307/handouts/deepCopying.htm)"
   ]
  },
  {
   "cell_type": "markdown",
   "metadata": {},
   "source": [
    "```python\n",
    "original = [1, 2, 3]\n",
    "modified = original\n",
    "\n",
    "modified[0] = 99\n",
    "print('original: {}, modified: {}'.format(original, modified))```"
   ]
  },
  {
   "cell_type": "code",
   "execution_count": 17,
   "metadata": {},
   "outputs": [
    {
     "name": "stdout",
     "output_type": "stream",
     "text": [
      "original: [99, 2, 3], modified: [99, 2, 3]\n"
     ]
    }
   ],
   "source": [
    "original = [1, 2, 3]\n",
    "modified = original\n",
    "\n",
    "modified[0] = 99\n",
    "print('original: {}, modified: {}'.format(original, modified))"
   ]
  },
  {
   "cell_type": "markdown",
   "metadata": {},
   "source": [
    "#### You can get around this by creating a `COPY`:"
   ]
  },
  {
   "cell_type": "markdown",
   "metadata": {},
   "source": [
    "```python\n",
    "original = [1, 2, 3]\n",
    "modified = original.copy()\n",
    "\n",
    "modified[0] = 99\n",
    "print('original: {}, modified: {}'.format(original, modified))```"
   ]
  },
  {
   "cell_type": "code",
   "execution_count": 18,
   "metadata": {},
   "outputs": [
    {
     "name": "stdout",
     "output_type": "stream",
     "text": [
      "original: [1, 2, 3], modified: [99, 2, 3]\n"
     ]
    }
   ],
   "source": [
    "original = [1, 2, 3]\n",
    "modified = original.copy()\n",
    "\n",
    "modified[0] = 99\n",
    "print('original: {}, modified: {}'.format(original, modified))"
   ]
  },
  {
   "cell_type": "markdown",
   "metadata": {},
   "source": [
    "***\n",
    "<br>\n",
    "<center><h1 style = 'color:red'>-----------Quiz-------------</h1></center>\n",
    "<br>"
   ]
  },
  {
   "cell_type": "markdown",
   "metadata": {},
   "source": [
    "<hr>\n",
    "<br>"
   ]
  },
  {
   "cell_type": "markdown",
   "metadata": {},
   "source": [
    "## 7. Useful List Methods"
   ]
  },
  {
   "cell_type": "markdown",
   "metadata": {},
   "source": [
    "### `list.append()`"
   ]
  },
  {
   "cell_type": "markdown",
   "metadata": {},
   "source": [
    "<img width=\"500px\" src=\"https://www.afternerd.com/blog/wp-content/uploads/2018/05/appending.png\">"
   ]
  },
  {
   "cell_type": "markdown",
   "metadata": {},
   "source": [
    "```python\n",
    "my_list = [\"green eggs\", \"and\"]\n",
    "print(\"Before Append:\", my_list)\n",
    "\n",
    "print(\"------------------------------------------\")\n",
    "\n",
    "my_list.append('ham')\n",
    "print(\"After Append:\", my_list)```"
   ]
  },
  {
   "cell_type": "code",
   "execution_count": 19,
   "metadata": {},
   "outputs": [
    {
     "name": "stdout",
     "output_type": "stream",
     "text": [
      "Before Append: ['green eggs', 'and']\n",
      "------------------------------------------\n",
      "After Append: ['green eggs', 'and', 'ham']\n"
     ]
    }
   ],
   "source": [
    "my_list = [\"green eggs\", \"and\"]\n",
    "print(\"Before Append:\", my_list)\n",
    "\n",
    "print(\"------------------------------------------\")\n",
    "\n",
    "my_list.append('ham')\n",
    "print(\"After Append:\", my_list)"
   ]
  },
  {
   "cell_type": "markdown",
   "metadata": {},
   "source": [
    "<br>"
   ]
  },
  {
   "cell_type": "markdown",
   "metadata": {},
   "source": [
    "### `list.remove()`"
   ]
  },
  {
   "cell_type": "markdown",
   "metadata": {},
   "source": [
    "```python\n",
    "my_list = ['Python', 'is', 'sometimes', 'fun']\n",
    "print(\"Before Remove:\", my_list)\n",
    "\n",
    "print(\"-------------------------------------------\")\n",
    "\n",
    "my_list.remove('sometimes')\n",
    "print(\"After Remove:\", my_list)```"
   ]
  },
  {
   "cell_type": "code",
   "execution_count": 20,
   "metadata": {},
   "outputs": [
    {
     "name": "stdout",
     "output_type": "stream",
     "text": [
      "Before Remove: ['Python', 'is', 'sometimes', 'fun']\n",
      "-------------------------------------------\n",
      "After Remove: ['Python', 'is', 'fun']\n"
     ]
    }
   ],
   "source": [
    "my_list = ['Python', 'is', 'sometimes', 'fun']\n",
    "print(\"Before Remove:\", my_list)\n",
    "\n",
    "print(\"-------------------------------------------\")\n",
    "\n",
    "my_list.remove('sometimes') # deletes list element and shifts all elements down one index from that index on   \n",
    "print(\"After Remove:\", my_list)"
   ]
  },
  {
   "cell_type": "markdown",
   "metadata": {},
   "source": [
    "#### If you are not sure wheter a value IS IN the list... better to check first:"
   ]
  },
  {
   "cell_type": "markdown",
   "metadata": {},
   "source": [
    "```python\n",
    "if 'Java' in my_list:\n",
    "    my_list.remove('Java')\n",
    "else:\n",
    "    print('Java is not part of this story.')```"
   ]
  },
  {
   "cell_type": "code",
   "execution_count": 21,
   "metadata": {},
   "outputs": [
    {
     "name": "stdout",
     "output_type": "stream",
     "text": [
      "Java is not part of this story\n"
     ]
    }
   ],
   "source": [
    "if 'Java' in my_list:\n",
    "    my_list.remove('Java')\n",
    "else:\n",
    "    print('Java is not part of this story')"
   ]
  },
  {
   "cell_type": "markdown",
   "metadata": {},
   "source": [
    "<br>"
   ]
  },
  {
   "cell_type": "markdown",
   "metadata": {},
   "source": [
    "### `list.sort()`"
   ]
  },
  {
   "cell_type": "markdown",
   "metadata": {},
   "source": [
    "```python\n",
    "numbers = [8, 1, 6, 5, 10]\n",
    "print('Before Sort:', numbers)\n",
    "\n",
    "print(\"--------------------------------\")\n",
    "\n",
    "numbers.sort()\n",
    "print('After Sort:', numbers)```"
   ]
  },
  {
   "cell_type": "code",
   "execution_count": 22,
   "metadata": {},
   "outputs": [
    {
     "name": "stdout",
     "output_type": "stream",
     "text": [
      "Before Sort: [8, 1, 6, 5, 10]\n",
      "--------------------------------\n",
      "After Sort: [1, 5, 6, 8, 10]\n"
     ]
    }
   ],
   "source": [
    "numbers = [8, 1, 6, 5, 10]\n",
    "print('Before Sort:', numbers)\n",
    "\n",
    "print(\"--------------------------------\")\n",
    "\n",
    "numbers.sort()\n",
    "print('After Sort:', numbers)"
   ]
  },
  {
   "cell_type": "code",
   "execution_count": 23,
   "metadata": {},
   "outputs": [
    {
     "name": "stdout",
     "output_type": "stream",
     "text": [
      "<class 'NoneType'>\n"
     ]
    }
   ],
   "source": [
    "numbers = [8, 1, 6, 5, 10]\n",
    "hi = numbers.sort()\n",
    "print(type(hi))"
   ]
  },
  {
   "cell_type": "code",
   "execution_count": 24,
   "metadata": {},
   "outputs": [
    {
     "name": "stdout",
     "output_type": "stream",
     "text": [
      "Help on method_descriptor:\n",
      "\n",
      "sort(self, /, *, key=None, reverse=False)\n",
      "    Stable sort *IN PLACE*.\n",
      "\n"
     ]
    }
   ],
   "source": [
    "help(list.sort)"
   ]
  },
  {
   "cell_type": "markdown",
   "metadata": {},
   "source": [
    "**Note that list.sort() will not return a list, rather instead it alters the list that the function is called on**"
   ]
  },
  {
   "cell_type": "markdown",
   "metadata": {},
   "source": [
    "#### Reverse sort"
   ]
  },
  {
   "cell_type": "markdown",
   "metadata": {
    "collapsed": true
   },
   "source": [
    "```python\n",
    "numbers.sort(reverse=True)\n",
    "print('numbers reversed:', numbers)```"
   ]
  },
  {
   "cell_type": "code",
   "execution_count": 26,
   "metadata": {},
   "outputs": [
    {
     "name": "stdout",
     "output_type": "stream",
     "text": [
      "numbers reversed: [10, 8, 6, 5, 1]\n"
     ]
    }
   ],
   "source": [
    "numbers.sort(reverse=True)\n",
    "print('numbers reversed:', numbers)"
   ]
  },
  {
   "cell_type": "markdown",
   "metadata": {},
   "source": [
    "#### Sorting words?"
   ]
  },
  {
   "cell_type": "markdown",
   "metadata": {},
   "source": [
    "```python\n",
    "words = ['this', 'is', 'a', 'list', 'of', 'words']\n",
    "words.sort()\n",
    "print('words: {}', words)```"
   ]
  },
  {
   "cell_type": "code",
   "execution_count": 27,
   "metadata": {},
   "outputs": [
    {
     "name": "stdout",
     "output_type": "stream",
     "text": [
      "words: {} ['a', 'is', 'list', 'of', 'this', 'words']\n"
     ]
    }
   ],
   "source": [
    "words = ['this', 'is', 'a', 'list', 'of', 'words']\n",
    "words.sort()\n",
    "print('words: {}', words)"
   ]
  },
  {
   "cell_type": "markdown",
   "metadata": {},
   "source": [
    "#### While `list.sort()` sorts the <span style=\"color: red\">list in-place </span>, `sorted(list)` returns a new list and leaves the original untouched:"
   ]
  },
  {
   "cell_type": "markdown",
   "metadata": {},
   "source": [
    "```python\n",
    "numbers = [8, 1, 6, 5, 10]\n",
    "sorted_numbers = sorted(numbers)\n",
    "print('unsorted:', numbers)\n",
    "print('sorted:', sorted_numbers)```"
   ]
  },
  {
   "cell_type": "code",
   "execution_count": 28,
   "metadata": {},
   "outputs": [
    {
     "name": "stdout",
     "output_type": "stream",
     "text": [
      "unsorted: [8, 1, 6, 5, 10]\n",
      "sorted: [1, 5, 6, 8, 10]\n"
     ]
    }
   ],
   "source": [
    "numbers = [8, 1, 6, 5, 10]\n",
    "sorted_numbers = sorted(numbers)\n",
    "print('unsorted:', numbers)\n",
    "print('sorted:', sorted_numbers)"
   ]
  },
  {
   "cell_type": "markdown",
   "metadata": {},
   "source": [
    "<hr>\n",
    "<br>\n",
    "<center><h1 style = 'color:red'>-----------Exercises-------------</h1></center>\n",
    "<br>\n",
    "<hr>\n",
    "<br>"
   ]
  }
 ],
 "metadata": {
  "kernelspec": {
   "display_name": "Python 3",
   "language": "python",
   "name": "python3"
  },
  "language_info": {
   "codemirror_mode": {
    "name": "ipython",
    "version": 3
   },
   "file_extension": ".py",
   "mimetype": "text/x-python",
   "name": "python",
   "nbconvert_exporter": "python",
   "pygments_lexer": "ipython3",
   "version": "3.7.3"
  }
 },
 "nbformat": 4,
 "nbformat_minor": 2
}
