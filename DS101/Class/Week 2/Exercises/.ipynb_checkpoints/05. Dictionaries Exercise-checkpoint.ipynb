{
 "cells": [
  {
   "cell_type": "markdown",
   "metadata": {},
   "source": [
    "# 1. Populating a dictionary"
   ]
  },
  {
   "cell_type": "markdown",
   "metadata": {},
   "source": [
    "#### Create a dictionary by using all of the given variables. \n",
    "\n",
    ">Hint: Some of the `keys` in the final dictionary will have `values` that require combinations of soem of these varibles! \n",
    "\n",
    ">The `name` property of `my_dict` for example!"
   ]
  },
  {
   "cell_type": "code",
   "execution_count": null,
   "metadata": {},
   "outputs": [],
   "source": [
    "first_name = 'John'\n",
    "last_name = 'Doe'\n",
    "favorite_hobby = 'Python'\n",
    "sports_hobby = 'gym'\n",
    "age = 82"
   ]
  },
  {
   "cell_type": "markdown",
   "metadata": {},
   "source": [
    "#### Your Solution:"
   ]
  },
  {
   "cell_type": "code",
   "execution_count": null,
   "metadata": {},
   "outputs": [],
   "source": []
  },
  {
   "cell_type": "markdown",
   "metadata": {},
   "source": [
    "#### Test Solution:"
   ]
  },
  {
   "cell_type": "code",
   "execution_count": null,
   "metadata": {},
   "outputs": [],
   "source": [
    "assert my_dict == {\n",
    "        'name': 'John Doe',\n",
    "        'age': 82,\n",
    "        'hobbies': ['Python', 'gym']\n",
    "    }"
   ]
  },
  {
   "cell_type": "markdown",
   "metadata": {},
   "source": [
    "---\n",
    "<br>\n",
    "<br>"
   ]
  },
  {
   "cell_type": "markdown",
   "metadata": {},
   "source": [
    "# 2. Modifying a dictioanry"
   ]
  },
  {
   "cell_type": "markdown",
   "metadata": {},
   "source": [
    "Modify my dict the values of `my_dict` to contain **your** own information, i've provided the code for a for loop below that will \"pretty\" print the contents of `my_dict`"
   ]
  },
  {
   "cell_type": "markdown",
   "metadata": {},
   "source": [
    "Your Work here!"
   ]
  },
  {
   "cell_type": "code",
   "execution_count": null,
   "metadata": {},
   "outputs": [],
   "source": []
  },
  {
   "cell_type": "markdown",
   "metadata": {},
   "source": [
    "<br>"
   ]
  },
  {
   "cell_type": "markdown",
   "metadata": {},
   "source": [
    "This `For Loop` uses the following concepts:\n",
    "1. **For Loop**: We loop over the `my_dict.items()` `dict` method.\n",
    "<br>\n",
    "\n",
    "2. **`dict` Methods**: `my_dict.items()` results in a `list` of `tuples`\n",
    "<br>\n",
    "\n",
    "3. **Tuple Unpacking**: We can use this fact (2) to \"unpack\" each `tuple` into the `key` and `value` \"dummy\" variables.\n",
    "<br> \n",
    "\n",
    "4. **Print**: We use these `key` and `value` \"dummy\" variables to print every (`key`, `value`) dictionary pair —in `my_dict`, so that each pair gets its own line!\n",
    "<br>\n"
   ]
  },
  {
   "cell_type": "code",
   "execution_count": null,
   "metadata": {},
   "outputs": [],
   "source": [
    "for key, value in my_dict.items():\n",
    "    print(key + \":\", value)"
   ]
  }
 ],
 "metadata": {
  "kernelspec": {
   "display_name": "Python 3",
   "language": "python",
   "name": "python3"
  },
  "language_info": {
   "codemirror_mode": {
    "name": "ipython",
    "version": 3
   },
   "file_extension": ".py",
   "mimetype": "text/x-python",
   "name": "python",
   "nbconvert_exporter": "python",
   "pygments_lexer": "ipython3",
   "version": "3.7.1"
  }
 },
 "nbformat": 4,
 "nbformat_minor": 2
}
