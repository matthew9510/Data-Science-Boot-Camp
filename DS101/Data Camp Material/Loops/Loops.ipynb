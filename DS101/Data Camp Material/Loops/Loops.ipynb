{
 "cells": [
  {
   "cell_type": "markdown",
   "metadata": {},
   "source": [
    "# This jupyter notebook adjoins the datacamp loops lesson\n",
    "<hr>"
   ]
  },
  {
   "cell_type": "markdown",
   "metadata": {},
   "source": [
    "We use loops to go through a specific set of lines of code multiple times based on a condition"
   ]
  },
  {
   "cell_type": "markdown",
   "metadata": {},
   "source": [
    "# While Loop\n",
    "A while loop is some sort of if statement. \n",
    "It executes the code inside, if the condition is True.\n",
    "Oppose to an if statement, the while loop will continue to execute this code over and over again as long as the condition is true. \n",
    "\n",
    "Syntax: \n",
    "\n",
    "```\n",
    "while condition: \n",
    "    expression\n",
    "```\n",
    "When you can reformulate the problem as 'repeating an action until a particular condition is met' a while loop is often the way to go. \n",
    "\n",
    "The while loop will execute as long as the condition is met. \n",
    "\n",
    "<span style=\"color:red\">We need to remember that the while loop will run until the condition is not met. This means that we need some way to alter the variables in the condition in order to eventually stop the while loop from running.</span>\n",
    "\n",
    "When the while loop's condition is not met, the code inside the loop will not be executed anymore and python will move on to the next executable line of code below the loop.  "
   ]
  },
  {
   "cell_type": "markdown",
   "metadata": {},
   "source": [
    "### Note: Conditionals are allowed inside loops."
   ]
  },
  {
   "cell_type": "code",
   "execution_count": 1,
   "metadata": {},
   "outputs": [
    {
     "name": "stdout",
     "output_type": "stream",
     "text": [
      "10 is even.\n",
      "9 is odd.\n",
      "8 is even.\n",
      "7 is odd.\n",
      "6 is even.\n",
      "5 is odd.\n",
      "4 is even.\n",
      "3 is odd.\n",
      "2 is even.\n",
      "1 is odd.\n"
     ]
    }
   ],
   "source": [
    "some_var = 10\n",
    "while(some_var > 0):\n",
    "    if some_var % 2 == 0:\n",
    "        print(some_var, \"is even.\")\n",
    "    else:\n",
    "        print(some_var, \"is odd.\")\n",
    "    some_var = some_var - 1"
   ]
  },
  {
   "cell_type": "markdown",
   "metadata": {},
   "source": [
    "<hr> \n",
    "\n",
    "# For Loop\n",
    "\n",
    "```\n",
    "for var in seq :\n",
    "    expression\n",
    "```\n",
    "\n",
    "Read as: for each var, a variable, in seq, a sequence, execute the expressions"
   ]
  },
  {
   "cell_type": "code",
   "execution_count": 2,
   "metadata": {},
   "outputs": [
    {
     "name": "stdout",
     "output_type": "stream",
     "text": [
      "11\n",
      "12\n",
      "13\n",
      "14\n",
      "15\n"
     ]
    }
   ],
   "source": [
    "some_list = [11,12,13,14,15]\n",
    "for var in some_list:\n",
    "    print(var)"
   ]
  },
  {
   "cell_type": "markdown",
   "metadata": {},
   "source": [
    "When you run this script, Python encounters the for loop and evaluates the sequence element, a list in our case.\n",
    "\n",
    "It sees that it's a list containing 5 elements. \n",
    "\n",
    "Then the actual iteration starts. \n",
    "\n",
    "In the first run, Python stores the first element in some_list, so the integer 1, in the variable var. \n",
    "\n",
    "Next, the expression, print(var), is executed, printing out 1. \n",
    "\n",
    "In the second iteration, python stores the second value of some_list in var, being 2 now, and prints out the var again. \n",
    "\n",
    "This process continues until all vars in some_list have been iterated over and we end up with 5 separate printouts. \n",
    "\n",
    "## Enumerate() Function\n",
    "In this solution you don't have access to the index of the elements you're iterating over. \n",
    "\n",
    "Say that, together with printing out the var stored in some_list, you also want to display the index in the list.\n",
    "\n",
    "To achieve this you can use the enumerate() function.\n",
    "\n",
    "enumerate(some_list) produces two values on each iteration: the index of the value and the value itself.\n",
    "\n",
    "Instead of a single variable varm you now write index, height seperated by a comma.\n",
    "\n",
    "Now on each iteration, index will contain the index and var will contain the value. "
   ]
  },
  {
   "cell_type": "code",
   "execution_count": 3,
   "metadata": {},
   "outputs": [
    {
     "name": "stdout",
     "output_type": "stream",
     "text": [
      "index: 0 :  11\n",
      "index: 1 :  12\n",
      "index: 2 :  13\n",
      "index: 3 :  14\n",
      "index: 4 :  15\n"
     ]
    }
   ],
   "source": [
    "for index, value in enumerate(some_list):\n",
    "    print(\"index:\", str(index), \": \", str(value))"
   ]
  },
  {
   "cell_type": "markdown",
   "metadata": {},
   "source": [
    "<hr>\n",
    "\n",
    "You can also create a for loop that iterates over every character of a string, \"python\" for example. "
   ]
  },
  {
   "cell_type": "code",
   "execution_count": 4,
   "metadata": {},
   "outputs": [
    {
     "name": "stdout",
     "output_type": "stream",
     "text": [
      "P\n",
      "Y\n",
      "T\n",
      "H\n",
      "O\n",
      "N\n"
     ]
    }
   ],
   "source": [
    "for char in \"python\":\n",
    "    print(char.capitalize())"
   ]
  },
  {
   "cell_type": "code",
   "execution_count": 5,
   "metadata": {
    "scrolled": true
   },
   "outputs": [
    {
     "name": "stdout",
     "output_type": "stream",
     "text": [
      "index: 0 :  P\n",
      "index: 1 :  Y\n",
      "index: 2 :  T\n",
      "index: 3 :  H\n",
      "index: 4 :  O\n",
      "index: 5 :  N\n"
     ]
    }
   ],
   "source": [
    "for index, char in enumerate(\"python\"):\n",
    "     print(\"index:\", str(index), \": \", str(char.capitalize()))"
   ]
  },
  {
   "cell_type": "markdown",
   "metadata": {},
   "source": [
    "<hr>\n",
    "\n",
    "# Looping Data Structures\n",
    "\n",
    "## Looping Over Dictionaries"
   ]
  },
  {
   "cell_type": "code",
   "execution_count": 6,
   "metadata": {},
   "outputs": [],
   "source": [
    "world = { \"afghanistan\": 30.55,\n",
    "          \"albania\": 2.77,\n",
    "          \"algeria\":39.21 }"
   ]
  },
  {
   "cell_type": "markdown",
   "metadata": {},
   "source": [
    "The world dictionary contains country names as **keys** and corresponding populations as **values**. \n",
    "\n",
    "Call the dictionary method ```.items()``` on a dictionary to generate a key and value for each iteration of a for loop.\n",
    "\n",
    "The first value returned is the key, and the second value will be the value."
   ]
  },
  {
   "cell_type": "code",
   "execution_count": 7,
   "metadata": {},
   "outputs": [
    {
     "name": "stdout",
     "output_type": "stream",
     "text": [
      "afghanistan :  30.55\n",
      "albania :  2.77\n",
      "algeria :  39.21\n"
     ]
    }
   ],
   "source": [
    "for key, value in world.items():\n",
    "    print(key, \": \", value)"
   ]
  },
  {
   "cell_type": "markdown",
   "metadata": {},
   "source": [
    "### Note: Dictionaries are inherently <span style=\"color:red\"> unordered</span>, meaning the order in which they are iterated over is not fixed. \n",
    "\n",
    "<hr>\n"
   ]
  },
  {
   "cell_type": "code",
   "execution_count": 8,
   "metadata": {},
   "outputs": [
    {
     "name": "stdout",
     "output_type": "stream",
     "text": [
      "afghanistan\n",
      "albania\n",
      "algeria\n"
     ]
    }
   ],
   "source": [
    "for key in world.keys():\n",
    "    print(key)"
   ]
  },
  {
   "cell_type": "code",
   "execution_count": 9,
   "metadata": {},
   "outputs": [
    {
     "name": "stdout",
     "output_type": "stream",
     "text": [
      "30.55\n",
      "2.77\n",
      "39.21\n"
     ]
    }
   ],
   "source": [
    "for value in world.values():\n",
    "    print(value)"
   ]
  },
  {
   "cell_type": "markdown",
   "metadata": {},
   "source": [
    "<hr>\n",
    "\n",
    "## Looping over Numpy Arrays:"
   ]
  },
  {
   "cell_type": "code",
   "execution_count": 10,
   "metadata": {},
   "outputs": [
    {
     "name": "stdout",
     "output_type": "stream",
     "text": [
      "21.85171572722109\n",
      "20.97505668934241\n",
      "21.750282138093777\n",
      "24.74734749867025\n",
      "21.44127836209856\n"
     ]
    }
   ],
   "source": [
    "import numpy as np\n",
    "np_height = np.array([1.73, 1.68, 1.71, 1.89, 1.79])\n",
    "np_weight = np.array([65.4, 59.2, 63.6, 88.4, 68.7])\n",
    "\n",
    "bmi = np_weight / np_height ** 2\n",
    "\n",
    "for val in bmi: \n",
    "    print(val)"
   ]
  },
  {
   "cell_type": "markdown",
   "metadata": {},
   "source": [
    "Looping over 2D-Numpy Arrays:\n"
   ]
  },
  {
   "cell_type": "code",
   "execution_count": 11,
   "metadata": {},
   "outputs": [],
   "source": [
    "meas = np.array([np_height, np_weight])"
   ]
  },
  {
   "cell_type": "markdown",
   "metadata": {},
   "source": [
    "If we want to print out each element in this 2D array separately, the same basic for loop will not work. \n",
    "\n",
    "The 2D array is actually build up from an array of 1D arrays. \n",
    "\n",
    "To visit every element of an array, you can use a Numpy function ```nditer()```\n",
    "\n",
    "This function will print out all the heights and then all the weights. Think of each row / 1d array inside of a 2D array being printed one after the other. "
   ]
  },
  {
   "cell_type": "code",
   "execution_count": 12,
   "metadata": {},
   "outputs": [
    {
     "name": "stdout",
     "output_type": "stream",
     "text": [
      "1.73\n",
      "1.68\n",
      "1.71\n",
      "1.89\n",
      "1.79\n",
      "65.4\n",
      "59.2\n",
      "63.6\n",
      "88.4\n",
      "68.7\n"
     ]
    }
   ],
   "source": [
    "for val in np.nditer(meas):\n",
    "    print(val)"
   ]
  },
  {
   "cell_type": "markdown",
   "metadata": {},
   "source": [
    "<hr> \n",
    "\n",
    "## Looping over Pandas Data Frames\n",
    "\n"
   ]
  },
  {
   "cell_type": "code",
   "execution_count": 13,
   "metadata": {},
   "outputs": [
    {
     "data": {
      "text/html": [
       "<div>\n",
       "<style scoped>\n",
       "    .dataframe tbody tr th:only-of-type {\n",
       "        vertical-align: middle;\n",
       "    }\n",
       "\n",
       "    .dataframe tbody tr th {\n",
       "        vertical-align: top;\n",
       "    }\n",
       "\n",
       "    .dataframe thead th {\n",
       "        text-align: right;\n",
       "    }\n",
       "</style>\n",
       "<table border=\"1\" class=\"dataframe\">\n",
       "  <thead>\n",
       "    <tr style=\"text-align: right;\">\n",
       "      <th></th>\n",
       "      <th>country</th>\n",
       "      <th>capital</th>\n",
       "      <th>area</th>\n",
       "      <th>population</th>\n",
       "    </tr>\n",
       "  </thead>\n",
       "  <tbody>\n",
       "    <tr>\n",
       "      <th>BR</th>\n",
       "      <td>Brazil</td>\n",
       "      <td>Brasilia</td>\n",
       "      <td>8.516</td>\n",
       "      <td>200.40</td>\n",
       "    </tr>\n",
       "    <tr>\n",
       "      <th>RU</th>\n",
       "      <td>Russia</td>\n",
       "      <td>Moscow</td>\n",
       "      <td>17.100</td>\n",
       "      <td>143.50</td>\n",
       "    </tr>\n",
       "    <tr>\n",
       "      <th>IN</th>\n",
       "      <td>India</td>\n",
       "      <td>New Delhi</td>\n",
       "      <td>3.286</td>\n",
       "      <td>1252.00</td>\n",
       "    </tr>\n",
       "    <tr>\n",
       "      <th>CH</th>\n",
       "      <td>China</td>\n",
       "      <td>Beijing</td>\n",
       "      <td>9.597</td>\n",
       "      <td>1357.00</td>\n",
       "    </tr>\n",
       "    <tr>\n",
       "      <th>SA</th>\n",
       "      <td>South Africa</td>\n",
       "      <td>Pretoria</td>\n",
       "      <td>1.221</td>\n",
       "      <td>52.98</td>\n",
       "    </tr>\n",
       "  </tbody>\n",
       "</table>\n",
       "</div>"
      ],
      "text/plain": [
       "         country    capital    area  population\n",
       "BR        Brazil   Brasilia   8.516      200.40\n",
       "RU        Russia     Moscow  17.100      143.50\n",
       "IN         India  New Delhi   3.286     1252.00\n",
       "CH         China    Beijing   9.597     1357.00\n",
       "SA  South Africa   Pretoria   1.221       52.98"
      ]
     },
     "execution_count": 13,
     "metadata": {},
     "output_type": "execute_result"
    }
   ],
   "source": [
    "import pandas as pd\n",
    "brics = pd.read_csv(\"BRICS.csv\", index_col=0)\n",
    "brics"
   ]
  },
  {
   "cell_type": "code",
   "execution_count": 14,
   "metadata": {},
   "outputs": [
    {
     "name": "stdout",
     "output_type": "stream",
     "text": [
      "country\n",
      "capital\n",
      "area\n",
      "population\n"
     ]
    }
   ],
   "source": [
    "for val in brics: \n",
    "    print(val)"
   ]
  },
  {
   "cell_type": "markdown",
   "metadata": {},
   "source": [
    "Using a for loop over a DataFrame results in column names."
   ]
  },
  {
   "cell_type": "markdown",
   "metadata": {},
   "source": [
    "In pandas, you have to mention explicitly that you want to iterate over the rows using the ```iterrows()``` method on the brics DataFrame, thus specifying another \"sequence\". \n",
    "\n",
    "The iterrows method looks at the DataFrame, and on each iteration generates two pieces of data: the label of the row and then the actual data in the row as a Pandas Series. \n",
    "\n",
    "Syntax: \n",
    "``` for label, row_as_series in brics.iterrows():\n",
    "        expression\n",
    "```\n"
   ]
  },
  {
   "cell_type": "code",
   "execution_count": 15,
   "metadata": {},
   "outputs": [
    {
     "name": "stdout",
     "output_type": "stream",
     "text": [
      "BR\n",
      "country         Brazil\n",
      "capital       Brasilia\n",
      "area             8.516\n",
      "population       200.4\n",
      "Name: BR, dtype: object\n",
      "RU\n",
      "country       Russia\n",
      "capital       Moscow\n",
      "area            17.1\n",
      "population     143.5\n",
      "Name: RU, dtype: object\n",
      "IN\n",
      "country           India\n",
      "capital       New Delhi\n",
      "area              3.286\n",
      "population         1252\n",
      "Name: IN, dtype: object\n",
      "CH\n",
      "country         China\n",
      "capital       Beijing\n",
      "area            9.597\n",
      "population       1357\n",
      "Name: CH, dtype: object\n",
      "SA\n",
      "country       South Africa\n",
      "capital           Pretoria\n",
      "area                 1.221\n",
      "population           52.98\n",
      "Name: SA, dtype: object\n"
     ]
    }
   ],
   "source": [
    "for label, row_as_series in brics.iterrows():\n",
    "    print(label)\n",
    "    print(row_as_series)"
   ]
  },
  {
   "cell_type": "markdown",
   "metadata": {},
   "source": [
    "In the first iteration the label is 'BR', and the row is this entire Pandas Series. \n",
    "\n",
    "Because this row variable on each iteration is a Series, you can easily select additional information from it using the subsetting techniques.\n",
    "\n",
    "Suppose you only want to print out the capital on each iteration. "
   ]
  },
  {
   "cell_type": "code",
   "execution_count": 16,
   "metadata": {},
   "outputs": [
    {
     "name": "stdout",
     "output_type": "stream",
     "text": [
      "BR :  Brasilia\n",
      "RU :  Moscow\n",
      "IN :  New Delhi\n",
      "CH :  Beijing\n",
      "SA :  Pretoria\n"
     ]
    }
   ],
   "source": [
    "for label, row in brics.iterrows():\n",
    "    print(label, \": \", row['capital'])"
   ]
  },
  {
   "cell_type": "markdown",
   "metadata": {},
   "source": [
    "Adding a new column to the brics DataFrame, named 'named_length', containing the number of characters the country's name counts. "
   ]
  },
  {
   "cell_type": "code",
   "execution_count": 17,
   "metadata": {},
   "outputs": [
    {
     "data": {
      "text/html": [
       "<div>\n",
       "<style scoped>\n",
       "    .dataframe tbody tr th:only-of-type {\n",
       "        vertical-align: middle;\n",
       "    }\n",
       "\n",
       "    .dataframe tbody tr th {\n",
       "        vertical-align: top;\n",
       "    }\n",
       "\n",
       "    .dataframe thead th {\n",
       "        text-align: right;\n",
       "    }\n",
       "</style>\n",
       "<table border=\"1\" class=\"dataframe\">\n",
       "  <thead>\n",
       "    <tr style=\"text-align: right;\">\n",
       "      <th></th>\n",
       "      <th>country</th>\n",
       "      <th>capital</th>\n",
       "      <th>area</th>\n",
       "      <th>population</th>\n",
       "      <th>name_length</th>\n",
       "    </tr>\n",
       "  </thead>\n",
       "  <tbody>\n",
       "    <tr>\n",
       "      <th>BR</th>\n",
       "      <td>Brazil</td>\n",
       "      <td>Brasilia</td>\n",
       "      <td>8.516</td>\n",
       "      <td>200.40</td>\n",
       "      <td>6.0</td>\n",
       "    </tr>\n",
       "    <tr>\n",
       "      <th>RU</th>\n",
       "      <td>Russia</td>\n",
       "      <td>Moscow</td>\n",
       "      <td>17.100</td>\n",
       "      <td>143.50</td>\n",
       "      <td>6.0</td>\n",
       "    </tr>\n",
       "    <tr>\n",
       "      <th>IN</th>\n",
       "      <td>India</td>\n",
       "      <td>New Delhi</td>\n",
       "      <td>3.286</td>\n",
       "      <td>1252.00</td>\n",
       "      <td>5.0</td>\n",
       "    </tr>\n",
       "    <tr>\n",
       "      <th>CH</th>\n",
       "      <td>China</td>\n",
       "      <td>Beijing</td>\n",
       "      <td>9.597</td>\n",
       "      <td>1357.00</td>\n",
       "      <td>5.0</td>\n",
       "    </tr>\n",
       "    <tr>\n",
       "      <th>SA</th>\n",
       "      <td>South Africa</td>\n",
       "      <td>Pretoria</td>\n",
       "      <td>1.221</td>\n",
       "      <td>52.98</td>\n",
       "      <td>12.0</td>\n",
       "    </tr>\n",
       "  </tbody>\n",
       "</table>\n",
       "</div>"
      ],
      "text/plain": [
       "         country    capital    area  population  name_length\n",
       "BR        Brazil   Brasilia   8.516      200.40          6.0\n",
       "RU        Russia     Moscow  17.100      143.50          6.0\n",
       "IN         India  New Delhi   3.286     1252.00          5.0\n",
       "CH         China    Beijing   9.597     1357.00          5.0\n",
       "SA  South Africa   Pretoria   1.221       52.98         12.0"
      ]
     },
     "execution_count": 17,
     "metadata": {},
     "output_type": "execute_result"
    }
   ],
   "source": [
    "for label, row in brics.iterrows():\n",
    "    brics.loc[label, \"name_length\"] = len(row[\"country\"])\n",
    "brics"
   ]
  },
  {
   "cell_type": "markdown",
   "metadata": {},
   "source": [
    "### This technique is not efficient, because you're creating a Series object on every iteration. Which is bad for huge data sets\n",
    "\n",
    "## A Better Approach\n",
    "If you want to calculate an entire DataFrame column by applying a function on a particular column in an element-wise fashion is by using ```apply()``` method. The apply function does vectorized operations.\n",
    "\n",
    "<span style=\"color:red\">In this case you don't need a for loop</span>"
   ]
  },
  {
   "cell_type": "code",
   "execution_count": 18,
   "metadata": {},
   "outputs": [
    {
     "data": {
      "text/html": [
       "<div>\n",
       "<style scoped>\n",
       "    .dataframe tbody tr th:only-of-type {\n",
       "        vertical-align: middle;\n",
       "    }\n",
       "\n",
       "    .dataframe tbody tr th {\n",
       "        vertical-align: top;\n",
       "    }\n",
       "\n",
       "    .dataframe thead th {\n",
       "        text-align: right;\n",
       "    }\n",
       "</style>\n",
       "<table border=\"1\" class=\"dataframe\">\n",
       "  <thead>\n",
       "    <tr style=\"text-align: right;\">\n",
       "      <th></th>\n",
       "      <th>country</th>\n",
       "      <th>capital</th>\n",
       "      <th>area</th>\n",
       "      <th>population</th>\n",
       "      <th>name_length</th>\n",
       "    </tr>\n",
       "  </thead>\n",
       "  <tbody>\n",
       "    <tr>\n",
       "      <th>BR</th>\n",
       "      <td>Brazil</td>\n",
       "      <td>Brasilia</td>\n",
       "      <td>8.516</td>\n",
       "      <td>200.40</td>\n",
       "      <td>6</td>\n",
       "    </tr>\n",
       "    <tr>\n",
       "      <th>RU</th>\n",
       "      <td>Russia</td>\n",
       "      <td>Moscow</td>\n",
       "      <td>17.100</td>\n",
       "      <td>143.50</td>\n",
       "      <td>6</td>\n",
       "    </tr>\n",
       "    <tr>\n",
       "      <th>IN</th>\n",
       "      <td>India</td>\n",
       "      <td>New Delhi</td>\n",
       "      <td>3.286</td>\n",
       "      <td>1252.00</td>\n",
       "      <td>5</td>\n",
       "    </tr>\n",
       "    <tr>\n",
       "      <th>CH</th>\n",
       "      <td>China</td>\n",
       "      <td>Beijing</td>\n",
       "      <td>9.597</td>\n",
       "      <td>1357.00</td>\n",
       "      <td>5</td>\n",
       "    </tr>\n",
       "    <tr>\n",
       "      <th>SA</th>\n",
       "      <td>South Africa</td>\n",
       "      <td>Pretoria</td>\n",
       "      <td>1.221</td>\n",
       "      <td>52.98</td>\n",
       "      <td>12</td>\n",
       "    </tr>\n",
       "  </tbody>\n",
       "</table>\n",
       "</div>"
      ],
      "text/plain": [
       "         country    capital    area  population  name_length\n",
       "BR        Brazil   Brasilia   8.516      200.40            6\n",
       "RU        Russia     Moscow  17.100      143.50            6\n",
       "IN         India  New Delhi   3.286     1252.00            5\n",
       "CH         China    Beijing   9.597     1357.00            5\n",
       "SA  South Africa   Pretoria   1.221       52.98           12"
      ]
     },
     "execution_count": 18,
     "metadata": {},
     "output_type": "execute_result"
    }
   ],
   "source": [
    "brics[\"name_length\"] = brics[\"country\"].apply(len)\n",
    "brics"
   ]
  },
  {
   "cell_type": "markdown",
   "metadata": {},
   "source": [
    "You're selecting the country column from the brics DataFrame, and then, on this column, you apply the len function. \n",
    "\n",
    "```apply()``` calls the len function with each country name as input and produces a new array, that you can easily store as a new column, \"name_length\".\n",
    "\n",
    "Not only is this more efficient it's also easier to read.  \n"
   ]
  }
 ],
 "metadata": {
  "kernelspec": {
   "display_name": "Python 3",
   "language": "python",
   "name": "python3"
  },
  "language_info": {
   "codemirror_mode": {
    "name": "ipython",
    "version": 3
   },
   "file_extension": ".py",
   "mimetype": "text/x-python",
   "name": "python",
   "nbconvert_exporter": "python",
   "pygments_lexer": "ipython3",
   "version": "3.7.3"
  }
 },
 "nbformat": 4,
 "nbformat_minor": 2
}
