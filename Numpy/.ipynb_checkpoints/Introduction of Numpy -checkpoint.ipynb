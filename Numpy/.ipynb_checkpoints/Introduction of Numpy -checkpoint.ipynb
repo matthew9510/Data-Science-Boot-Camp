{
 "cells": [
  {
   "cell_type": "markdown",
   "metadata": {},
   "source": [
    "# NumPy \n",
    "\n",
    "Numpy is a is a library for the Python programming language, adding support for large, multi-dimensional arrays and matrices, along with a large collection of high-level mathematical functions to operate on these arrays.\n",
    "\n",
    "**Numpy** stands for numeric python.\n",
    "<hr>"
   ]
  },
  {
   "cell_type": "markdown",
   "metadata": {},
   "source": [
    "In data science we will want to carry out operations on entire collections of values.\n",
    "\n",
    "Numpy can do these operations at a very low level of abstraction which makes operations very fast.\n",
    "\n",
    "Through an example of using python lists below we can see that <span style=\"color:red;\">python doesn't allow element wise calculations</span>. In python we could solve this problem by going through each list element one after another and calculate the operation for each index separately, but this is very inefficient and tiresome to write. "
   ]
  },
  {
   "cell_type": "code",
   "execution_count": 1,
   "metadata": {},
   "outputs": [],
   "source": [
    "python_list_one = [0,1,2,3,4,5]\n",
    "python_list_two = [1,2,3,4,5,6]"
   ]
  },
  {
   "cell_type": "markdown",
   "metadata": {},
   "source": [
    "<img src=\"Images/multiplying_python_lists_error.jpg\"></img>"
   ]
  },
  {
   "cell_type": "markdown",
   "metadata": {},
   "source": [
    "A solution to allow element wise calculations is to use Numpy."
   ]
  },
  {
   "cell_type": "markdown",
   "metadata": {},
   "source": [
    "<hr></hr> \n",
    "\n",
    "## Importing numpy\n",
    "\n",
    "Importing Numpy will allow our script to be able to use a data type called a numpy array.\n",
    "\n",
    "Numpy is similar to python lists except that it has an additional feature which allows preforming calculations over entire arrays (lists)."
   ]
  },
  {
   "cell_type": "code",
   "execution_count": 2,
   "metadata": {},
   "outputs": [],
   "source": [
    "import numpy as np"
   ]
  },
  {
   "cell_type": "markdown",
   "metadata": {},
   "source": [
    "<hr>\n",
    "\n",
    "## Using Numpy Arrays\n",
    "\n",
    "<span style=\"color:red;\">Note: calculations are performed element wise</span>\n",
    "\n",
    "Suppose we have two numpy arrays called ```np_height``` and ```np_weight```.\n",
    "\n",
    "Numpy will allow us to calculate the bmi, a body mass index, which is a measure of body fat based on height and weight that applies to adult men and women. \n",
    "\n",
    "The BMI formula is ```weight / height ^ 2 ```\n",
    "\n",
    "In the example below we can see that calculations can be performed element-wise. \n",
    "\n",
    "The first index in the result bmi array is performed by dividing the first element in np_list_one by the fist element in np_list_two after being squared. Then the second element in the result bmi array is performed by dividing the second element in np_list_one by the second element in np_list_two after being squared.\n",
    "And so on...\n",
    "\n",
    "<img src=\"Images/Elementwise_operations.jpg\"></img>\n",
    "\n",
    "<hr>"
   ]
  },
  {
   "cell_type": "markdown",
   "metadata": {},
   "source": [
    "We can perform many different operations on numpy arrays. Take for example the code below:"
   ]
  },
  {
   "cell_type": "code",
   "execution_count": 3,
   "metadata": {},
   "outputs": [
    {
     "name": "stdout",
     "output_type": "stream",
     "text": [
      "[ 0  2  6 12 20 30]\n"
     ]
    }
   ],
   "source": [
    "np_list_one = np.array(python_list_one)\n",
    "np_list_two = np.array(python_list_two)\n",
    "np_product_array = np_list_one * np_list_two\n",
    "print(np_product_array)"
   ]
  },
  {
   "cell_type": "markdown",
   "metadata": {},
   "source": [
    "Essentially Numpy knows how to work with numpy arrays as if they are single values. \n",
    "\n",
    "### Note: \n",
    "Numpy only allows arrays to hold only one data type, if you try make a numpy array with a list that has multiple data types then the numpy array values will be strings.\n",
    "\n",
    "<hr>"
   ]
  },
  {
   "cell_type": "markdown",
   "metadata": {},
   "source": [
    "## Differences Between Python Lists and Numpy Arrays\n",
    "\n",
    "If you use the addition operator on python lists then the lists get pasted together (extended).\n",
    "\n",
    "If you use the addition operator on numpy arrays then python will then do an element wise sum of the arrays."
   ]
  },
  {
   "cell_type": "code",
   "execution_count": 4,
   "metadata": {},
   "outputs": [
    {
     "name": "stdout",
     "output_type": "stream",
     "text": [
      "[0, 1, 2, 3, 4, 5, 0, 1, 2, 3, 4, 5]\n",
      "[ 0  2  4  6  8 10]\n",
      "[ 0  2  4  6  8 10]\n"
     ]
    }
   ],
   "source": [
    "numpy_array_one = np.array(python_list_one)\n",
    "\n",
    "python_list_addition = python_list_one + python_list_one\n",
    "print(python_list_addition)\n",
    "\n",
    "numpy_array_addition = numpy_array_one + numpy_array_one\n",
    "print(numpy_array_addition)\n",
    "\n",
    "result_mixing_types_addition = python_list_one + numpy_array_one\n",
    "print(result_mixing_types_addition)"
   ]
  },
  {
   "cell_type": "markdown",
   "metadata": {},
   "source": [
    "## Similarities Between Python Lists and Numpy Arrays\n",
    "\n",
    "We can work with numpy arrays in similar ways as python lists."
   ]
  },
  {
   "cell_type": "code",
   "execution_count": 5,
   "metadata": {},
   "outputs": [
    {
     "name": "stdout",
     "output_type": "stream",
     "text": [
      "0\n"
     ]
    }
   ],
   "source": [
    "print(numpy_array_one[0])"
   ]
  },
  {
   "cell_type": "markdown",
   "metadata": {},
   "source": [
    "## Indexing Numpy Arrays\n",
    "\n",
    "Specifically for numpy there is another way to do list sub-setting by using an array of booleans. \n",
    "\n",
    "Suppose you want to get all the values in the numpy array that are even."
   ]
  },
  {
   "cell_type": "code",
   "execution_count": 6,
   "metadata": {},
   "outputs": [
    {
     "data": {
      "text/plain": [
       "array([ True, False,  True, False,  True, False])"
      ]
     },
     "execution_count": 6,
     "metadata": {},
     "output_type": "execute_result"
    }
   ],
   "source": [
    "numpy_array_one % 2 == 0"
   ]
  },
  {
   "cell_type": "markdown",
   "metadata": {},
   "source": [
    "The result is an numpy array containing booleans: True if the corresponding value is even and false otherwise.\n",
    "\n",
    "You can use this boolean array inside square brackets to sub-setting. "
   ]
  },
  {
   "cell_type": "code",
   "execution_count": 7,
   "metadata": {},
   "outputs": [
    {
     "name": "stdout",
     "output_type": "stream",
     "text": [
      "[0 2 4]\n"
     ]
    }
   ],
   "source": [
    "numpy_array_even = numpy_array_one[numpy_array_one % 2 == 0]\n",
    "print(numpy_array_even)"
   ]
  },
  {
   "cell_type": "markdown",
   "metadata": {},
   "source": [
    "### Note: \n",
    "<span style=\"color:red\">Numpy arrays cannot contain elements with different types</span>. If you try to build such a list, some of the elements' types are changed to end up with a **homogeneous list**. This is known as **type coercion**.\n",
    "\n",
    "When **type coercion** happens with boolean values and numbers:\n",
    "\n",
    "- True will be converted to 1\n",
    "\n",
    "- False will be converted to 0"
   ]
  },
  {
   "cell_type": "code",
   "execution_count": 8,
   "metadata": {},
   "outputs": [
    {
     "name": "stdout",
     "output_type": "stream",
     "text": [
      "[1 1 2 3]\n"
     ]
    }
   ],
   "source": [
    "python_list_three = [True, 1 , 2, 3]\n",
    "print(np.array(python_list_three))"
   ]
  },
  {
   "cell_type": "code",
   "execution_count": 9,
   "metadata": {},
   "outputs": [
    {
     "name": "stdout",
     "output_type": "stream",
     "text": [
      "[True, 1, 2, 3, 4, False]\n",
      "[4 5 2]\n"
     ]
    }
   ],
   "source": [
    "print([True, 1, 2] + [3, 4, False])\n",
    "print(np.array([True, 1, 2]) + np.array([3, 4, False]))\n"
   ]
  },
  {
   "cell_type": "markdown",
   "metadata": {},
   "source": [
    "<hr>\n",
    "\n",
    "## Numpy Array Type \n",
    "\n",
    "Numpy array is a ```numpy.ndarray``` type. \n",
    "\n",
    "- The ```numpy.``` part of the type tells you its a type that was defined in the numpy package.\n",
    "\n",
    "- The ndarray part of the type stands for N-dimensional array."
   ]
  },
  {
   "cell_type": "code",
   "execution_count": 10,
   "metadata": {},
   "outputs": [
    {
     "data": {
      "text/plain": [
       "numpy.ndarray"
      ]
     },
     "execution_count": 10,
     "metadata": {},
     "output_type": "execute_result"
    }
   ],
   "source": [
    "numpy_array = np.array([1,2,3])\n",
    "type(numpy_array)"
   ]
  },
  {
   "cell_type": "markdown",
   "metadata": {},
   "source": [
    "<hr>\n",
    "\n",
    "## Multi-Dimensional Numpy Array\n",
    "\n",
    "You can think of the 2 dimensional numpy array as an improved list of lists where you can perform calculations on the arrays and you can do more advanced ways of subsetting. \n",
    "\n",
    "Each subset in the list, corresponds to a row in the two dimensional numpy array."
   ]
  },
  {
   "cell_type": "code",
   "execution_count": 11,
   "metadata": {},
   "outputs": [
    {
     "name": "stdout",
     "output_type": "stream",
     "text": [
      "[[1 2 3]\n",
      " [4 5 6]]\n"
     ]
    }
   ],
   "source": [
    "python_2d_list = [[1,2,3],[4,5,6]]\n",
    "np_2d_array = np.array(python_2d_list)\n",
    "print(np_2d_array)"
   ]
  },
  {
   "cell_type": "markdown",
   "metadata": {},
   "source": [
    "### np.shape()\n",
    "\n",
    "Shape is an attribute and a function of numpy of a numpy array that can give you information about what the data structure looks like.\n",
    "\n",
    "Calling np.shape() we can see the shape of a np.array"
   ]
  },
  {
   "cell_type": "code",
   "execution_count": 12,
   "metadata": {},
   "outputs": [
    {
     "name": "stdout",
     "output_type": "stream",
     "text": [
      "[[1 2 3]\n",
      " [4 5 6]]\n",
      "np_2d_array shape: (2, 3)\n",
      "np_2d_array shape: (2, 3)\n"
     ]
    }
   ],
   "source": [
    "print(np_2d_array)\n",
    "print(\"np_2d_array shape:\", np_2d_array.shape)\n",
    "print(\"np_2d_array shape:\", np.shape(np_2d_array))"
   ]
  },
  {
   "cell_type": "markdown",
   "metadata": {},
   "source": [
    "We can see that we have two rows and 3 columns.\n",
    "<hr>"
   ]
  },
  {
   "cell_type": "markdown",
   "metadata": {},
   "source": [
    "## Multi-Dimensional Numpy Array Rules: \n",
    "\n",
    "Similar for 2d numpy arrays can only contain a single type.\n",
    "\n",
    "If you have one of the elements being a string while the rest are floats or ints, all of the elements will be **coerced** to strings to end up with a **homogenous** array. \n",
    "<hr>"
   ]
  },
  {
   "cell_type": "markdown",
   "metadata": {},
   "source": [
    "## Subsetting A Multi-Dimensional Numpy Array\n",
    "\n",
    "Suppose you want the first row and then the third element in that row. \n",
    "\n",
    "To select a row we use square brackets after referencing the variable name."
   ]
  },
  {
   "cell_type": "code",
   "execution_count": 13,
   "metadata": {},
   "outputs": [
    {
     "name": "stdout",
     "output_type": "stream",
     "text": [
      "[[1 2 3]\n",
      " [4 5 6]]\n",
      "[1 2 3]\n"
     ]
    }
   ],
   "source": [
    "print(np_2d_array)\n",
    "print(np_2d_array[0]) # select a row "
   ]
  },
  {
   "cell_type": "markdown",
   "metadata": {},
   "source": [
    "To select the first row and third element you can extend the same call with another pair of brackets. \n",
    "You select the row and then from that row you can do another selection."
   ]
  },
  {
   "cell_type": "code",
   "execution_count": 14,
   "metadata": {},
   "outputs": [
    {
     "name": "stdout",
     "output_type": "stream",
     "text": [
      "[[1 2 3]\n",
      " [4 5 6]]\n"
     ]
    },
    {
     "data": {
      "text/plain": [
       "3"
      ]
     },
     "execution_count": 14,
     "metadata": {},
     "output_type": "execute_result"
    }
   ],
   "source": [
    "print(np_2d_array)\n",
    "np_2d_array[0][2]"
   ]
  },
  {
   "cell_type": "markdown",
   "metadata": {},
   "source": [
    "There is also another way of subsetting using single square brackets and using a comma. "
   ]
  },
  {
   "cell_type": "code",
   "execution_count": 15,
   "metadata": {},
   "outputs": [
    {
     "name": "stdout",
     "output_type": "stream",
     "text": [
      "[[1 2 3]\n",
      " [4 5 6]]\n",
      "3\n"
     ]
    }
   ],
   "source": [
    "print(np_2d_array)\n",
    "print(np_2d_array[0,2])"
   ]
  },
  {
   "cell_type": "markdown",
   "metadata": {},
   "source": [
    "The value before the comma specifies the row, the value after the comma specifies the column.\n",
    "\n",
    "The intersection of the rows and columns you specified are then returned.\n",
    "\n",
    "<img src=\"Images/numpy_2d_array_selection.jpg\"></img>\n",
    "\n",
    "This way of indexing numpy arrays is more intuitive and opens up more possibilities. "
   ]
  },
  {
   "cell_type": "markdown",
   "metadata": {},
   "source": [
    "Suppose you have the following list:"
   ]
  },
  {
   "cell_type": "code",
   "execution_count": 16,
   "metadata": {},
   "outputs": [
    {
     "name": "stdout",
     "output_type": "stream",
     "text": [
      "[[ 1.73  1.68  1.71  1.89  1.79]\n",
      " [65.4  59.2  63.6  88.4  68.7 ]]\n"
     ]
    }
   ],
   "source": [
    "height = [1.73, 1.68, 1.71, 1.89, 1.79]\n",
    "np_height = np.array(height)\n",
    "\n",
    "weight = [65.4, 59.2, 63.6, 88.4, 68.7]\n",
    "np_weight = np.array(weight)\n",
    "\n",
    "np_2d_weights_and_heights = np.array([np_height, np_weight])\n",
    "print(np_2d_weights_and_heights)"
   ]
  },
  {
   "cell_type": "markdown",
   "metadata": {},
   "source": [
    "Each index of the array in terms of the column number is shared as one data entry. \n",
    "\n",
    "Suppose we want to select the height and weight of the second and third family member.\n",
    "\n",
    "You want both rows, so you put in a colon before the comma. Since you only want the second and third column you put the indices 1 to 3 after the comma. Remember that the third index is not included."
   ]
  },
  {
   "cell_type": "code",
   "execution_count": 17,
   "metadata": {},
   "outputs": [
    {
     "name": "stdout",
     "output_type": "stream",
     "text": [
      "[[ 1.68  1.71]\n",
      " [59.2  63.6 ]]\n"
     ]
    }
   ],
   "source": [
    "print(np_2d_weights_and_heights[:,1:3])"
   ]
  },
  {
   "cell_type": "markdown",
   "metadata": {},
   "source": [
    "<img src=\"Images/numpy_2d_array_selection_2.jpg\"></img>\n",
    "\n",
    "The intersection gives us a 2d numpy array with 2 rows and 2 columns.\n",
    "\n",
    "Similarly you can select the weight of all family members through using the following reference. "
   ]
  },
  {
   "cell_type": "code",
   "execution_count": 18,
   "metadata": {},
   "outputs": [
    {
     "name": "stdout",
     "output_type": "stream",
     "text": [
      "[65.4 59.2 63.6 88.4 68.7]\n"
     ]
    }
   ],
   "source": [
    "print(np_2d_weights_and_heights[1,:])"
   ]
  },
  {
   "cell_type": "markdown",
   "metadata": {},
   "source": [
    "You only want the second row so put a 1 before the comma, and since you want all columns you use a colon after the comma. \n",
    "\n",
    "<img src=\"Images/numpy_2d_array_selection_3.jpg\"></img>\n",
    "\n",
    "The intersection gives us the entire second row."
   ]
  },
  {
   "cell_type": "code",
   "execution_count": 19,
   "metadata": {},
   "outputs": [
    {
     "name": "stdout",
     "output_type": "stream",
     "text": [
      "[[ 1.73  1.68  1.71  1.89  1.79]\n",
      " [65.4  59.2  63.6  88.4  68.7 ]]\n",
      "np_2d_weights_and_heights.shape:  (2, 5)\n",
      "np_2d_weights_and_heights.shape:  (2, 5)\n",
      "1.71\n",
      "[[ 1.68  1.71]\n",
      " [59.2  63.6 ]]\n",
      "[65.4 59.2 63.6 88.4 68.7]\n"
     ]
    }
   ],
   "source": [
    "print(np_2d_weights_and_heights)\n",
    "print(\"np_2d_weights_and_heights.shape: \", np_2d_weights_and_heights.shape) # Getting the shape calling the attribute shape\n",
    "print(\"np_2d_weights_and_heights.shape: \", np.shape(np_2d_weights_and_heights)) # Getting the shape using the function \n",
    "\n",
    "print(np_2d_weights_and_heights[0,2])\n",
    "print(np_2d_weights_and_heights[:,1:3])\n",
    "print(np_2d_weights_and_heights[1,:])"
   ]
  },
  {
   "cell_type": "markdown",
   "metadata": {},
   "source": [
    "<hr>\n",
    "\n",
    "## Multi-Dimensional Numpy Array Element-Wise Calculations \n",
    "\n",
    "Using multi-dimensional numpy arrays we can perform calculations that will be performed element-wise."
   ]
  },
  {
   "cell_type": "code",
   "execution_count": 20,
   "metadata": {},
   "outputs": [
    {
     "name": "stdout",
     "output_type": "stream",
     "text": [
      "[[1 2 3]\n",
      " [4 5 6]]\n",
      "[[ 2  4  6]\n",
      " [ 8 10 12]]\n",
      "[[0 0 0]\n",
      " [0 0 0]]\n",
      "[[ 1  4  9]\n",
      " [16 25 36]]\n",
      "[[1. 1. 1.]\n",
      " [1. 1. 1.]]\n",
      "[ 5 29]\n"
     ]
    }
   ],
   "source": [
    "print(np_2d_array)\n",
    "print(np_2d_array + np_2d_array)\n",
    "print(np_2d_array - np_2d_array)\n",
    "print(np_2d_array * np_2d_array)\n",
    "print(np_2d_array / np_2d_array)\n",
    "\n",
    "print(np_2d_array[:,0] + np_2d_array[:,1] ** 2)\n"
   ]
  },
  {
   "cell_type": "markdown",
   "metadata": {},
   "source": [
    "**Sum**\n",
    "#### Note: \n",
    "np.sum() is less computationally expensive than python's ```sum()``` function"
   ]
  },
  {
   "cell_type": "code",
   "execution_count": 21,
   "metadata": {},
   "outputs": [
    {
     "name": "stdout",
     "output_type": "stream",
     "text": [
      "5\n"
     ]
    }
   ],
   "source": [
    "sum_col_0 = np.sum(np_2d_array[:,0])\n",
    "print(sum_col_0)"
   ]
  },
  {
   "cell_type": "markdown",
   "metadata": {},
   "source": [
    "**sort**\n",
    "\n",
    "np.sort() is less computationally expensive than python's sort() function"
   ]
  },
  {
   "cell_type": "code",
   "execution_count": 22,
   "metadata": {},
   "outputs": [
    {
     "name": "stdout",
     "output_type": "stream",
     "text": [
      "[1 4]\n",
      "(2,)\n"
     ]
    }
   ],
   "source": [
    "sorted_col_0 = np.sort(np_2d_array[:,0])\n",
    "print(sorted_col_0)\n",
    "print(sorted_col_0.shape)"
   ]
  },
  {
   "cell_type": "markdown",
   "metadata": {},
   "source": [
    "## Basic Statistics With Numpy\n",
    "\n",
    "**Mean** - average value "
   ]
  },
  {
   "cell_type": "code",
   "execution_count": 23,
   "metadata": {},
   "outputs": [
    {
     "name": "stdout",
     "output_type": "stream",
     "text": [
      "2.5\n"
     ]
    }
   ],
   "source": [
    "mean_of_col0 = np.mean(np_2d_array[:,0])\n",
    "print(mean_of_col0)"
   ]
  },
  {
   "cell_type": "markdown",
   "metadata": {},
   "source": [
    "**Median** - middle value of a sorted list"
   ]
  },
  {
   "cell_type": "code",
   "execution_count": 24,
   "metadata": {},
   "outputs": [
    {
     "name": "stdout",
     "output_type": "stream",
     "text": [
      "2.5\n"
     ]
    }
   ],
   "source": [
    "median_of_col0 = np.median(np_2d_array[:,0])\n",
    "print(median_of_col0)"
   ]
  },
  {
   "cell_type": "markdown",
   "metadata": {},
   "source": [
    "**Standard deviation** - a measure that is used to quantify the amount of variation or dispersion of a set of data values"
   ]
  },
  {
   "cell_type": "code",
   "execution_count": 25,
   "metadata": {},
   "outputs": [
    {
     "name": "stdout",
     "output_type": "stream",
     "text": [
      "1.5\n"
     ]
    }
   ],
   "source": [
    "std_col_0 = np.std(np_2d_array[:,0])\n",
    "print(std_col_0)"
   ]
  },
  {
   "cell_type": "markdown",
   "metadata": {},
   "source": [
    "**np.corrcoef()** - Finds out if columns are correlated"
   ]
  },
  {
   "cell_type": "code",
   "execution_count": 26,
   "metadata": {},
   "outputs": [
    {
     "name": "stdout",
     "output_type": "stream",
     "text": [
      "[[1. 1.]\n",
      " [1. 1.]]\n"
     ]
    }
   ],
   "source": [
    "correlation = np.corrcoef(np_2d_array[:,0], np_2d_array[:,1])\n",
    "print(correlation)"
   ]
  },
  {
   "cell_type": "markdown",
   "metadata": {},
   "source": [
    "<hr>\n",
    "\n",
    "## Generating Data\n",
    "\n",
    "We can generate data using ```np.random.normal()```"
   ]
  },
  {
   "cell_type": "code",
   "execution_count": 27,
   "metadata": {},
   "outputs": [
    {
     "name": "stdout",
     "output_type": "stream",
     "text": [
      "[[ 1.29 63.37]\n",
      " [ 1.59 46.37]\n",
      " [ 1.89 49.68]\n",
      " ...\n",
      " [ 1.69 53.04]\n",
      " [ 1.94 67.46]\n",
      " [ 1.71 48.5 ]]\n"
     ]
    }
   ],
   "source": [
    "np_height = np.round(np.random.normal(1.75,0.20, 5000), 2)\n",
    "np_weight = np.round(np.random.normal(60.32, 15, 5000),2)\n",
    "np_city = np.column_stack((np_height, np_weight))\n",
    "print(np_city)"
   ]
  },
  {
   "cell_type": "markdown",
   "metadata": {},
   "source": [
    "### We Can Paste Two Columns Together Using \n",
    "\n",
    "np.column_stack()"
   ]
  },
  {
   "cell_type": "markdown",
   "metadata": {},
   "source": [
    "<hr>\n",
    "\n",
    "## Average versus median\n",
    "\n",
    "Sometimes in data sets we will have outliers.\n",
    "\n",
    "These outliers will drastically effect calculating the average. \n",
    "\n",
    "What we can do then rather than calculating the average  is calculate the median. \n",
    "\n",
    "It's always a good idea to check both the median and the mean, to get an idea about the overall distribution of the entire dataset."
   ]
  }
 ],
 "metadata": {
  "kernelspec": {
   "display_name": "Python 3",
   "language": "python",
   "name": "python3"
  },
  "language_info": {
   "codemirror_mode": {
    "name": "ipython",
    "version": 3
   },
   "file_extension": ".py",
   "mimetype": "text/x-python",
   "name": "python",
   "nbconvert_exporter": "python",
   "pygments_lexer": "ipython3",
   "version": "3.7.3"
  }
 },
 "nbformat": 4,
 "nbformat_minor": 2
}
