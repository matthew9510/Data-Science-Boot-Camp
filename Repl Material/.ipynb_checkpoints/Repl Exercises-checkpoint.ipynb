{
 "cells": [
  {
   "cell_type": "markdown",
   "metadata": {},
   "source": [
    "# Repl Python Exercises "
   ]
  },
  {
   "cell_type": "markdown",
   "metadata": {},
   "source": [
    "<hr>\n",
    "\n",
    "## Variables 1\n",
    "### Instructions:\n",
    "1. Storing values in variables\n",
    "    - Store the value \"Hello!\" in the variable greet\n",
    "    - Consider what data type is being saved inside of greet\n",
    "\n",
    "\n",
    "2. Printing variables\n",
    "    - Use the print() function to print the value of  greet"
   ]
  },
  {
   "cell_type": "code",
   "execution_count": 1,
   "metadata": {},
   "outputs": [
    {
     "name": "stdout",
     "output_type": "stream",
     "text": [
      "Hello!\n"
     ]
    }
   ],
   "source": [
    "# 1. Storing values in variables\n",
    "greet = \"Hello!\"\n",
    "\n",
    "# 2. Printing variables \n",
    "print(greet)"
   ]
  },
  {
   "cell_type": "markdown",
   "metadata": {},
   "source": [
    "<hr>\n",
    "\n",
    "## Variables 2\n",
    "### Instructions:\n",
    "1. Create Variables\n",
    "    - Create a variable called first_name and assign \"Bob\" into it\n",
    "    - Create a variable called last_name and assign \"Jones\" into it\n",
    "\n",
    "\n",
    "2. Print Variables\n",
    "    - Create a single print() statement.\n",
    "    - Print output should include the values of  first_name and last_name, separated by a space. ex: Bob Jones, NOT BobJones\n"
   ]
  },
  {
   "cell_type": "code",
   "execution_count": 2,
   "metadata": {},
   "outputs": [
    {
     "name": "stdout",
     "output_type": "stream",
     "text": [
      "Bob Jones\n"
     ]
    }
   ],
   "source": [
    "# 1. Create Variable\n",
    "first_name = \"Bob\"\n",
    "last_name = \"Jones\"\n",
    "\n",
    "# 2. Print Variable\n",
    "print(first_name, last_name)"
   ]
  },
  {
   "cell_type": "markdown",
   "metadata": {},
   "source": [
    "<hr>\n",
    "\n",
    "## Variables 3\n",
    "### Instructions:\n",
    "1. Set up variable: x\n",
    "    - Store integer 20 in variable x.\n",
    "\n",
    "\n",
    "2. Manipulate the Variable\n",
    "    - Increment the variable x by 10\n",
    "\n",
    "\n",
    "3. Print Updated Variable\n",
    "    - Print the NEW value of variable x"
   ]
  },
  {
   "cell_type": "code",
   "execution_count": 3,
   "metadata": {},
   "outputs": [
    {
     "name": "stdout",
     "output_type": "stream",
     "text": [
      "30\n"
     ]
    }
   ],
   "source": [
    "# 1. Set up variable `x`\n",
    "x = 20\n",
    "\n",
    "# 2. Manipulate the Variable\n",
    "x += 10\n",
    "\n",
    "# 3. Print Updated Variable\n",
    "print(x)"
   ]
  },
  {
   "cell_type": "markdown",
   "metadata": {},
   "source": [
    "<hr> \n",
    "\n",
    "## Variables 4\n",
    "### Instructions:\n",
    "1. Type Coercion\n",
    "    - Inputs are taken as strings. \n",
    "    - Pass in 5 for a and 8 for b\n",
    "    - Hint: We need to tell python to save the inputs as Integers NOT floats...\n",
    "\n",
    "\n",
    "2. Manipulate Variables\n",
    "    - Increase the value of variable a by 2.5\n",
    "    - Double the value of variable b\n",
    "\n",
    "\n",
    "3. Print Variables\n",
    "    - Print out the sum of variable a and b"
   ]
  },
  {
   "cell_type": "code",
   "execution_count": 17,
   "metadata": {},
   "outputs": [
    {
     "name": "stdout",
     "output_type": "stream",
     "text": [
      "a: 5\n",
      "b: 8\n",
      "23.5\n"
     ]
    }
   ],
   "source": [
    "# 1. Type Coercion\n",
    "a = float(input(\"a: \"))\n",
    "b = float(input(\"b: \"))\n",
    "\n",
    "# 2. Manipulate Variables\n",
    "a += 2.5\n",
    "b = b * 2\n",
    "\n",
    "# 3. Print Variables\n",
    "sum = a + b \n",
    "print(sum)"
   ]
  },
  {
   "cell_type": "markdown",
   "metadata": {},
   "source": [
    "<hr> \n",
    "\n",
    "## Strings 1 - Indexing\n",
    "### Instructions: \n",
    "\n",
    "1. Create Variable word\n",
    "    - Store the word \"Boondoggle\" in the variable word.\n",
    "\n",
    "\n",
    "2. Capturing Index of String\n",
    "    - Grab the first letter from word and save it to a variable named: first_letter\n",
    "    - Grab the last letter from word and save it to a variable named: last_letter\n",
    "\n",
    "\n",
    "3. Printing Variables\n",
    "    - Your program should have 2 print statements\n",
    "    - The first should only print the variable first_letter\n",
    "    - The second should only print last_letter"
   ]
  },
  {
   "cell_type": "code",
   "execution_count": 5,
   "metadata": {},
   "outputs": [
    {
     "name": "stdout",
     "output_type": "stream",
     "text": [
      "B\n",
      "e\n"
     ]
    }
   ],
   "source": [
    "# 1. Create Variable \"word\"\n",
    "word = \"Boondoggle\"\n",
    "\n",
    "# 2. Capturing Indexes of String\n",
    "first_letter = word[0]\n",
    "last_letter = word[-1]\n",
    "\n",
    "# 3. Print Variable\n",
    "print(first_letter)\n",
    "print(last_letter)"
   ]
  },
  {
   "cell_type": "markdown",
   "metadata": {},
   "source": [
    "<hr> \n",
    "\n",
    "## Strings 2 - Slicing\n",
    "### Instructions: \n",
    "1. Create Variale word\n",
    "    - Store \"Antidisestablishmentarianism\" in the variable: word\n",
    "\n",
    "\n",
    "2. Grab string slices and store them in variables.\n",
    "    - Grab \"anti\" from word aka first 4 letters and put them in variable: first_4.\n",
    "    - Grab the letters \"establishment\" and put them in variable\" sub_string.\n",
    "\n",
    "\n",
    "3. Print The Variables\n",
    "    - Write 2 print() statements.\n",
    "    - One for each of the variables that you will create."
   ]
  },
  {
   "cell_type": "code",
   "execution_count": 6,
   "metadata": {},
   "outputs": [
    {
     "name": "stdout",
     "output_type": "stream",
     "text": [
      "Anti\n",
      "establishment\n"
     ]
    }
   ],
   "source": [
    "# 1. Create the Variable `word`\n",
    "word = \"Antidisestablishmentarianism\"\n",
    "\n",
    "\n",
    "# 2. Grab string slices and store them in variables.\n",
    "first_4 = word[0:4] # note stop idx is excluded\n",
    "\n",
    "sub_string = word[7:20]\n",
    "find = \"establishment\"\n",
    "sub_string_idx = word.index(find)\n",
    "sub_string = word[sub_string_idx: sub_string_idx + len(sub_string)]\n",
    "\n",
    "# 3. Print The Variables\n",
    "print(first_4)\n",
    "print(sub_string)"
   ]
  },
  {
   "cell_type": "markdown",
   "metadata": {},
   "source": [
    "## Strings 3 - More Slicing\n",
    "### Instructions:\n",
    "1. Create Variable sentence\n",
    "    - Place \"Hello Maddison!\" inside the variable sentence\n",
    "\n",
    "\n",
    "2. Grab string slices and store them in variables.\n",
    " \n",
    "Use \"positive\" indices:\n",
    "- Grab \"Hello\" from sentence and place it in variable: greeting.\n",
    "\n",
    "\n",
    "Use \"negative\" indices:\n",
    "- Grab JUST \"madison\" from sentence and place it in variable: name.\n",
    "\n",
    "\n",
    "3. Print The Variables\n",
    "    - Write 2 print() statements\n",
    "    - One for each variable that you will create."
   ]
  },
  {
   "cell_type": "code",
   "execution_count": 7,
   "metadata": {},
   "outputs": [
    {
     "name": "stdout",
     "output_type": "stream",
     "text": [
      "Hello\n",
      "Maddison\n"
     ]
    }
   ],
   "source": [
    "# 1. Create Variable sentence\n",
    "sentence = \"Hello Maddison!\"\n",
    "\n",
    "# 2. Grab string slices and store them in variables.\n",
    "greeting = sentence[0:5]\n",
    "name = sentence[-1 * (len(sentence) - sentence.index(\"Maddison\")): -1 : +1]\n",
    "\n",
    "# 3. Print The Variables\n",
    "print(greeting)\n",
    "print(name)"
   ]
  },
  {
   "cell_type": "markdown",
   "metadata": {},
   "source": [
    "<hr>\n",
    "\n",
    "## Lists 1 - Indexing\n",
    "### Instructions: \n",
    "1. List Indexing\n",
    "    - Using list indexing, print \"Tommy\" to the screen.\n",
    "    - Pattern: list_name[index]\n",
    "    - Hint: lists are 0-indexed. \n",
    "        - The \"1st\" element is index 0, the \"2nd\" is index 1, and so on.\n",
    "\n",
    "2. List Indexing 2\n",
    "    - Using list indexing AND the same list, save \"Zach\" to the name variable\n",
    "    - Then, print the name variable to the screen.\n",
    "    - Pattern: list_name[index]\n",
    "    - Hint: lists are 0-indexed. \n",
    "        - The \"1st\" element is index 0, the \"2nd\" is index 1, and so on.\n"
   ]
  },
  {
   "cell_type": "code",
   "execution_count": 8,
   "metadata": {},
   "outputs": [
    {
     "name": "stdout",
     "output_type": "stream",
     "text": [
      "Tommy\n",
      "Zach\n"
     ]
    }
   ],
   "source": [
    "names = ['Tommy', 'Jason','Trinie','Zach','Kimberly','Billy']\n",
    "\n",
    "# 1. List Indexing 1\n",
    "try:\n",
    "    print(names[names.index('Tommy')])\n",
    "except ValueError:\n",
    "    print(\"The element does not exist\")\n",
    "\n",
    "#2 List Indexing 2\n",
    "try:\n",
    "    name = names[names.index(\"Zach\")]\n",
    "    print(name)\n",
    "except ValueError:\n",
    "    print(\"The element does not exist\")"
   ]
  },
  {
   "cell_type": "markdown",
   "metadata": {},
   "source": [
    "<hr>\n",
    "\n",
    "## Lists 2 -  Slicing \n",
    "### Instructions: \n",
    "1. List Slicing 1\n",
    "    - Using list slicing, print [32, 27] to the screen.\n",
    "    - Pattern: list_name[start : end]\n",
    "    - Hint: The \"end\" index is non-inclusive! play with it.\n",
    "        - Remember: Lists are \"0-indexed\"\n",
    "        - The \"1st\" element is index 0, the \"2nd\" is index 1, and so on.\n",
    "\n",
    "\n",
    "2. List Slicing 2\n",
    "    - Using list slicing, save [17, 23, 54, 32] to the variable sub_ages\n",
    "    - print sub_ages to the screen.\n",
    "    - Pattern: ```list_name[start : end]```\n",
    "    - Hint: The \"end\" index is non-inclusive! play with it.\n",
    "        - Remember: Lists are \"0-indexed\"\n",
    "        - The \"1st\" element is index 0, the \"2nd\" is index 1, and so on."
   ]
  },
  {
   "cell_type": "code",
   "execution_count": 9,
   "metadata": {},
   "outputs": [
    {
     "name": "stdout",
     "output_type": "stream",
     "text": [
      "[32, 27]\n",
      "[17, 23, 54, 32]\n"
     ]
    }
   ],
   "source": [
    "# 1. List Slicing 1\n",
    "ages = [17, 23, 54, 32, 27, 15, 44]\n",
    "try:\n",
    "    print(ages[ages.index(32) : ages.index(27) + 1])\n",
    "except (IndexError, ValueError):\n",
    "    print(\"One or both of those elements don't exist\")\n",
    "\n",
    "\n",
    "# 2. List Slicing 2\n",
    "try:\n",
    "    sub_ages = ages[ages.index(17) : ages.index(32) + 1]\n",
    "    print(sub_ages)\n",
    "except (IndexError, ValueError):\n",
    "    print(\"One or both of those elements don't exist\")"
   ]
  },
  {
   "cell_type": "markdown",
   "metadata": {},
   "source": [
    "<hr>\n",
    "\n",
    "## Lists 3 - Popping\n",
    "### Instructions: \n",
    "\n",
    "List Methods\n",
    "\n",
    "1. List \"popping\" 1\n",
    "    - Use list.pop() method to print the last id, '1711', in ids —to the screen. \n",
    "    - Hint: list.pop() removes AND returns the last item in a list.\n",
    "        - You could then save it to a variable or print it directly to the screen\n",
    "        - In this case, we want to just print it \n",
    "\n",
    "\n",
    "2. List \"popping\" 2\n",
    "    - Use list.pop() method to save '1711' to the variable popped_id\n",
    "    - Print the popped_id variable.\n",
    "    - We have to 'reset' the ids list, otherwise we'd just keep removing items from the end.\n",
    "    - Hint: list.pop() removes AND returns the last item in a list.\n",
    "        - You could then save it to a variable or print it directly to the screen\n",
    "        - In this case, we want to save to variable, then print it."
   ]
  },
  {
   "cell_type": "code",
   "execution_count": 10,
   "metadata": {},
   "outputs": [
    {
     "name": "stdout",
     "output_type": "stream",
     "text": [
      "1711\n",
      "1711\n"
     ]
    }
   ],
   "source": [
    "# 1. List \"popping\" 1\n",
    "ids = [1720, 1730, 1754, 1745, 1711]\n",
    "print(ids.pop(ids.index(1711)))\n",
    "\n",
    "\n",
    "# 2. List \"popping\" 2\n",
    "ids = [1720, 1730, 1754, 1745, 1711]\n",
    "popped_id = ids.pop(ids.index(1711))\n",
    "print(popped_id)"
   ]
  },
  {
   "cell_type": "markdown",
   "metadata": {},
   "source": [
    "<hr> \n",
    "\n",
    "## Lists 4 - Append / Extend\n",
    "### Instructions: \n",
    "\n",
    "List Methods 2\n",
    "1. \"Appending\" items to list.\n",
    "    - Append the value of missing_name to the names list\n",
    "    - Print names to screen to verify your work.\n",
    "    - We can append items to the end of a list using the list.append() method\n",
    "    - The change happens \"In-Place\", no need to save the result to a new variable.\n",
    "\n",
    "\n",
    "2. \"Extending\" items to list.\n",
    "    - Append the values of missing_names to the names list\n",
    "    - Print names to screen to verify your work.\n",
    "    - We can append the items of one list to the end of another using the list.extend() method.\n",
    "    - The change happens \"In-Place\", no need to save the result to a new variable."
   ]
  },
  {
   "cell_type": "code",
   "execution_count": 11,
   "metadata": {},
   "outputs": [
    {
     "name": "stdout",
     "output_type": "stream",
     "text": [
      "['Daniel', 'Johnny', 'Miguel', 'Robby', 'Amanda']\n",
      "['Daniel', 'Johnny', 'Miguel', 'Robby', 'Amanda', 'Hawk', 'Alicia']\n"
     ]
    }
   ],
   "source": [
    "# 1. \"Appending\" item to list\n",
    "names = [\"Daniel\", \"Johnny\", \"Miguel\", \"Robby\"]\n",
    "missing_name = \"Amanda\"\n",
    "# Code goes Here\n",
    "names.append(missing_name)\n",
    "print(names)\n",
    "\n",
    "\n",
    "# 2. \"Extending\" items to list\n",
    "names = [\"Daniel\", \"Johnny\", \"Miguel\", \"Robby\"]\n",
    "missing_names = [\"Amanda\", \"Hawk\", \"Alicia\"]\n",
    "# Code goes Here\n",
    "# names.append(missing_names) # appends a list object type\n",
    "names.extend(missing_names)\n",
    "print(names)"
   ]
  },
  {
   "cell_type": "markdown",
   "metadata": {},
   "source": [
    "<hr> \n",
    "\n",
    "## Conditionals 1 - ```if``` statement\n",
    "### Instructions:\n",
    " 1. Input Data From Keyboard.\n",
    "    - No need to touch this line\n",
    "    - We convert the input to float, so the conditional can treat it as a number\n",
    "\n",
    " 2. Conditional\n",
    "    - Conditional should test if number is greater than 0, if it is run the print statement. If not your program should not do any more work.\n",
    "\n",
    "\n",
    "**Ex:**\n",
    "\n",
    "Message: num is greater than 0 for all values of num greater-than 0\n",
    "\n",
    "Enter Number: 15\n",
    "\n",
    "15 is greater than 0\n",
    "\n",
    "####  Nothing should output for values of num less-than or equal-to 0\n",
    "Enter Number: -8\n",
    "\n",
    "Enter Number: 0\n"
   ]
  },
  {
   "cell_type": "code",
   "execution_count": 12,
   "metadata": {},
   "outputs": [
    {
     "name": "stdout",
     "output_type": "stream",
     "text": [
      "Enter number:0\n"
     ]
    }
   ],
   "source": [
    "# 1. Input Data From Keyboard.\n",
    "num = int(input(\"Enter number:\"))\n",
    "\n",
    "# 2. Conditional\n",
    "if(num > 0):\n",
    "      print(str(num) + \" is greater than 0\")"
   ]
  },
  {
   "cell_type": "markdown",
   "metadata": {},
   "source": [
    "<hr>\n",
    "\n",
    "## Conditionals 2 - ```if else``` statement\n",
    "### Instructions: \n",
    "1. Input Data From Keyboard.\n",
    "    - No need to touch this line\n",
    "    - We convert the input to float, so the conditional can treat it as a number.\n",
    "\n",
    "2. Conditionals\n",
    "    - Make a conditional that tests whether the value inside of num is greater than 0, less than 0, or equal to 0. \n",
    "    - Depending on the conditional, craft the appropriate print statement.\n",
    "    - Make sure to coerce num to being a string, when saving result, or else you will get a TypeError.\n",
    "\n",
    "\n",
    "3. Print Result\n",
    "    - The value of result should be crafted by your if statements, based on the value of num result should be holding the right message.\n",
    "    - simply print the value of result.\n",
    "\n",
    "This is how your program should behave!\n",
    "In: 5\n",
    "Out: 5 is positive\n",
    "\n",
    "In: -2\n",
    "Out: -2 is negative\n",
    "\n",
    "In: 0\n",
    "0 is equal to 0"
   ]
  },
  {
   "cell_type": "code",
   "execution_count": 13,
   "metadata": {},
   "outputs": [
    {
     "name": "stdout",
     "output_type": "stream",
     "text": [
      "In:0\n",
      "0 is equal to 0\n"
     ]
    }
   ],
   "source": [
    "# 1. Input Data From Keyboard.\n",
    "num = float(input(\"In:\"))\n",
    "\n",
    "num = int(num)\n",
    "# 2. Conditionals\n",
    "if num == 0:\n",
    "    result = str(num) + \" is equal to \" + str(num)\n",
    "elif num > 0:\n",
    "    result = str(num) + \" is positive\"\n",
    "else:\n",
    "    result = str(num) + \" is negative\"\n",
    "\n",
    "# 3. Print Result\n",
    "print(result)\n"
   ]
  },
  {
   "cell_type": "markdown",
   "metadata": {},
   "source": [
    "<hr> \n",
    "\n",
    "## Conditionals 3 - ```if - elif - else``` \n",
    "### Instructions: \n",
    " 1. Input Data From Keyboard.\n",
    "    - We convert the input to int, so the conditional can treat it as a number\n",
    "\n",
    "2. Conditional\n",
    "    - Conditional should test in the following order if number is greater than 0, run the custom print() statement. \n",
    "    - If not program tests if num is equal-to 0, if so run custom print() statement.\n",
    "    - if not, program should spit out ```\"num is less than 0\".```\n"
   ]
  },
  {
   "cell_type": "code",
   "execution_count": 14,
   "metadata": {},
   "outputs": [
    {
     "name": "stdout",
     "output_type": "stream",
     "text": [
      "Enter a num: 0\n",
      "\n",
      "0 is equal to 0\n"
     ]
    }
   ],
   "source": [
    "num = int(input(\"Enter a num: \"))\n",
    "\n",
    "print()\n",
    "if num > 0:\n",
    "    print(str(num) + \" is greater than 0\")\n",
    "elif num == 0:\n",
    "    print(str(num) + \" is equal to \" + str(num))\n",
    "else:\n",
    "    print(str(num) + \" is less than 0\")"
   ]
  },
  {
   "cell_type": "markdown",
   "metadata": {},
   "source": [
    "<hr> \n",
    "\n",
    "##  Loops 1 - Printing\n",
    "### Instructions: \n",
    "1. Looping and Printing - Theory\n",
    "    - Finish the print() statement so that every name prints to the screen, one at a time.\n",
    "Like so:\n",
    "```\n",
    "Arnold\n",
    "Helga\n",
    "Gerald\n",
    "Phoebe\n",
    "Brainy\n",
    "```\n",
    "\n",
    "2. Looping and Printing - Applied\n",
    "    - Create a loop that runs for every name in names, have it execute the custom print statement.\n",
    "    - Finish the print() statement so the following prints out:\n",
    "``` \n",
    "Arnold is a character from \"Hey Arnold.\"\n",
    "Helga is a character from \"Hey Arnold.\"\n",
    "Gerald is a character from \"Hey Arnold.\"\n",
    "Phoebe is a character from \"Hey Arnold.\"\n",
    "Brainy is a character from \"Hey Arnold.\"\n",
    "```"
   ]
  },
  {
   "cell_type": "code",
   "execution_count": 18,
   "metadata": {},
   "outputs": [
    {
     "name": "stdout",
     "output_type": "stream",
     "text": [
      "Arnold\n",
      "Helga\n",
      "Gerald\n",
      "Phoebe\n",
      "Brainy\n",
      "\n",
      "Arnold is a character from \"Hey Arnold.\"\n",
      "Helga is a character from \"Hey Arnold.\"\n",
      "Gerald is a character from \"Hey Arnold.\"\n",
      "Phoebe is a character from \"Hey Arnold.\"\n",
      "Brainy is a character from \"Hey Arnold.\"\n"
     ]
    }
   ],
   "source": [
    "names = [\"Arnold\",\"Helga\", \"Gerald\", \"Phoebe\",\"Brainy\"]\n",
    "\n",
    "# 1. Looping and Printing - Theory \n",
    "for name in names:\n",
    "    print(name)\n",
    "\n",
    "# This line seperates the outputs, for clarity.\n",
    "print()\n",
    "\n",
    "# 2. Looping and Printing - Applied\n",
    "for name in names:\n",
    "    print(name + ' is a character from \"Hey Arnold.\"')"
   ]
  },
  {
   "cell_type": "markdown",
   "metadata": {},
   "source": [
    "<hr>\n",
    "\n",
    "## Loops 2 - Conditionals \n",
    "1. Looping and Conditionals - Simple\n",
    "    - Finish the print() statement outside the if(), same as in the previous exercise.\n",
    "    - Finish the if() and the print() statement contained within, so the following prints to the screen:\n",
    "    - Hint: Notice \"Chuckie\" gets uppercased.\n",
    "```\n",
    "Arnold is a character from \"Hey Arnold.\"\n",
    "Helga is a character from \"Hey Arnold.\"\n",
    "CHUCKIE is NOT a character from \"Hey Arnold.\"\n",
    "Gerald is a character from \"Hey Arnold.\"\n",
    "Phoebe is a character from \"Hey Arnold.\"\n",
    "Brainy is a character from \"Hey Arnold.\"\n",
    "```\n",
    "\n",
    "2. Looping and Conditionals - Filtering\n",
    "    - Finish the if() and the print() statement contained within, so only the even numbers print to the screen\n",
    "    - Hint: Modulus (%) will be necessary.\n",
    "```\n",
    "2\n",
    "4\n",
    "6\n",
    "8\n",
    "10\n",
    "```"
   ]
  },
  {
   "cell_type": "code",
   "execution_count": 20,
   "metadata": {},
   "outputs": [
    {
     "name": "stdout",
     "output_type": "stream",
     "text": [
      "Arnold is a character from \"Hey Arnold.\"\n",
      "Helga is a character from \"Hey Arnold.\"\n",
      "CHUCKIE is NOT a character from \"Hey Arnold.\"\n",
      "Gerald is a character from \"Hey Arnold.\"\n",
      "Phoebe is a character from \"Hey Arnold.\"\n",
      "Brainy is a character from \"Hey Arnold.\"\n",
      "\n",
      "2\n",
      "4\n",
      "6\n",
      "8\n",
      "10\n"
     ]
    }
   ],
   "source": [
    "# 1. Looping and Conditionals - Simple\n",
    "names = [\"Arnold\",\"Helga\", \"Chuckie\",\n",
    "        \"Gerald\", \"Phoebe\",\"Brainy\"]\n",
    "\n",
    "for name in names:\n",
    "    if name == \"Chuckie\":\n",
    "        print(name.upper() + ' is NOT a character from \"Hey Arnold.\"')\n",
    "    else:\n",
    "        print(name.capitalize() + ' is a character from \"Hey Arnold.\"')\n",
    "    \n",
    "# This line seperates the outputs, for clarity.\n",
    "print()\n",
    "\n",
    "# 2. Looping and Conditionals - Filtering\n",
    "numbers = [1,2,3,4,5,6,7,8,9,10]\n",
    "\n",
    "for num in numbers:\n",
    "    if num % 2 == 0:\n",
    "        print(num)"
   ]
  },
  {
   "cell_type": "markdown",
   "metadata": {},
   "source": [
    "<hr> \n",
    "\n",
    "## Loops 3 - Building lists and ```range()``` \n",
    "### Instructions: \n",
    "\n",
    "1. Looping: Building Lists w/ range() for loop has been provided\n",
    "    - Its printing too many numbers! edit the range function!\n",
    "    - Build nums by appending each num from the loop to nums, this happens within the loop.\n",
    "    - Print the resulting list —nums, outside the loop.\n",
    "\n",
    "Output should look like:\n",
    "```\n",
    "[0, 1, 2, 3, 4, 5, 6, 7]\n",
    "```\n",
    "\n",
    "\n",
    "2. Looping: Mapping\n",
    "    - You will loop through digits to create times_2\n",
    "    - times_2 should contain every digit from digits, except multiplied by 2.\n",
    "    - for loop has NOT been provided, you must provide that code.\n",
    "    - Print the resulting list —times_2, outside the loop.\n",
    "\n",
    "Output should look like:\n",
    " \n",
    "``` \n",
    "[2, 4, 6, 8, 10, 12, 14, 16, 18, 20]\n",
    "```"
   ]
  },
  {
   "cell_type": "code",
   "execution_count": 22,
   "metadata": {},
   "outputs": [
    {
     "name": "stdout",
     "output_type": "stream",
     "text": [
      "[0, 1, 2, 3, 4, 5, 6, 7]\n",
      "\n",
      "[2, 4, 6, 8, 10, 12, 14, 16, 18, 20]\n"
     ]
    }
   ],
   "source": [
    "# 1. Looping: Building Lists w/ range()\n",
    "nums = []\n",
    "for num in range(8):\n",
    "    nums.append(num)\n",
    "\n",
    "print(nums)\n",
    "\n",
    "# This line seperates the outputs, for clarity.\n",
    "print()\n",
    "\n",
    "# 2. Looping: Mapping\n",
    "\n",
    "digits = [1,2,3,4,5,6,7,8,9,10]\n",
    "times_2 = []\n",
    "\n",
    "# Loop goes here\n",
    "for digit in digits:\n",
    "    times_2.append(digit * 2)\n",
    "\n",
    "# Another Way \n",
    "times_2 = list(map(lambda x : x * 2, digits))\n",
    "print(times_2)"
   ]
  },
  {
   "cell_type": "markdown",
   "metadata": {},
   "source": [
    "<hr> \n",
    "\n",
    "## Loops 4 - Accumulators \n",
    "### Instructions: \n",
    "1. Accumulators\n",
    "    - I've created a list of the first 100 whole numbers for you.\n",
    "    - Using a for loop, I want you to construct the variable total_sum. \n",
    "    - total_sum should hold the sum of  the first 100 integers.\n",
    "    - The loop will take a bit to run, don't be alarmed. \n",
    "    \n",
    "Output should be:\n",
    "```\n",
    "Sum of first 100 integers: 5050\n",
    "```\n",
    "\n",
    "2. Accumulators with Filter\n",
    "    - I've created a list of the first 25 whole numbers for you.\n",
    "    - Using a for loop, I want you to construct the variable odd_prod. \n",
    "    - odd_prod should hold the product of ONLY THE ODD numbers from 1-25.\n",
    "    - The loop will take a bit to run, don't be alarmed. \n",
    "    - Hint: Modulus!! (%)\n",
    "\n",
    "Output should be:\n",
    "``` \n",
    "Product of the \"odds\" from 1-25: 7905853580625\n",
    "```"
   ]
  },
  {
   "cell_type": "code",
   "execution_count": 23,
   "metadata": {},
   "outputs": [
    {
     "name": "stdout",
     "output_type": "stream",
     "text": [
      "Sum of first 100 integers: 5050\n",
      "Product of the \"odds\" from 1-25: 7905853580625\n"
     ]
    }
   ],
   "source": [
    "# importing functools for reduce() \n",
    "import functools\n",
    "\n",
    "# 1. Accumulators\n",
    "long_list = list(range(101))\n",
    "total_sum = 0\n",
    "\n",
    "# Loop goes here\n",
    "# for num in long_list:\n",
    "#  total_sum += num\n",
    "\n",
    "# Using reduce opposed to using a loop\n",
    "total_sum = functools.reduce(lambda x, y: x + y, long_list)\n",
    "print(\"Sum of first 100 integers:\", total_sum)\n",
    "\n",
    "# 2. Accumulators with Filter\n",
    "also_long = list(range(1, 26))\n",
    "odd_prod = 1\n",
    "\n",
    "# Loop goes here\n",
    "for item in also_long:\n",
    "    if(item % 2 == 1):\n",
    "        odd_prod *= item\n",
    "\n",
    "#print(list(map(lambda x: x * y, filter(lambda x: if x % 2 == 1, also_long))\n",
    "odd_prod = functools.reduce(lambda x , y: x * y, filter(lambda x: x % 2 == 1, also_long))\n",
    "\n",
    "print('Product of the \"odds\" from 1-25:', odd_prod)"
   ]
  },
  {
   "cell_type": "markdown",
   "metadata": {},
   "source": [
    "<hr>\n",
    "\n",
    "## Functions - Without ```return```\n",
    "### Instructions:\n",
    "1. The function hello_name\n",
    "    - Function should work as follows:\n",
    "\n",
    "In:\n",
    "```\n",
    "\"Jerry\"\n",
    "```\n",
    "Out:\n",
    "```\n",
    "\"Hello Jerry!\"\n",
    "```\n",
    "\n",
    "2. For Loops and Functions\n",
    "    - Use a for loop to pass each name in names to the hello_name function.\n",
    "\n",
    "In:\n",
    "```\n",
    "[\"Dave\",\"Sam\",\"Josh\",\"Tom\", \"Luke\"]\n",
    "```\n",
    "\n",
    "Out:\n",
    "```\n",
    "\"Hello Dave!\"\n",
    "\"Hello Sam!\"\n",
    "\"Hello Josh!\"\n",
    "\"Hello Tom!\"\n",
    "\"Hello Luke!\"\n",
    "```"
   ]
  },
  {
   "cell_type": "code",
   "execution_count": 25,
   "metadata": {},
   "outputs": [
    {
     "name": "stdout",
     "output_type": "stream",
     "text": [
      "Hello Jerry!\n",
      "--------------------\n",
      "Hello Dave!\n",
      "Hello Sam!\n",
      "Hello Josh!\n",
      "Hello Tom!\n",
      "Hello Luke!\n"
     ]
    }
   ],
   "source": [
    "# 1. Prints hello to name.\n",
    "def hello_name(name):\n",
    "    print(\"Hello\", name + \"!\")\n",
    "\n",
    "#Call the function on some name\n",
    "hello_name(\"Jerry\")\n",
    "\n",
    "print(\"--\"*10)\n",
    "\n",
    "#2. For Loops and Functions\n",
    "names = [\"Dave\",\"Sam\",\"Josh\",\"Tom\", \"Luke\"]\n",
    "for name in names:\n",
    "    hello_name(name)"
   ]
  },
  {
   "cell_type": "markdown",
   "metadata": {},
   "source": [
    "<hr> \n",
    "\n",
    "## Functions -  with ```return```\n",
    "### Instructions: \n",
    "1. sum_nums\n",
    "    - Write a function sum_nums, that returns the sum of its 2 arguments.\n",
    "\n",
    "**Example:**\n",
    "\n",
    "In:\n",
    "```\n",
    "sum_nums(4,5)\n",
    "```\n",
    "\n",
    "Out:\n",
    "```\n",
    "9\n",
    "```\n",
    "\n",
    "\n",
    "2. mult_by_10\n",
    "    - Write a function mult_by_10, that takes a list as input and outputs a list where each element is multiplied by 10.\n",
    "\n",
    "**Example:**\n",
    "\n",
    "In:\n",
    "```\n",
    "mult_by_10([1,2,3,4,5])\n",
    "```\n",
    "\n",
    "Out:\n",
    "```\n",
    "[10,20,30,40,50]\n",
    "```"
   ]
  },
  {
   "cell_type": "code",
   "execution_count": 26,
   "metadata": {},
   "outputs": [
    {
     "name": "stdout",
     "output_type": "stream",
     "text": [
      "9\n",
      "[10, 20, 30, 40, 50]\n"
     ]
    }
   ],
   "source": [
    "# 1. sum_nums\n",
    "# define function here\n",
    "def sum_nums(a, b):\n",
    "    return a + b\n",
    "\n",
    "\n",
    "# Call function here \n",
    "# and store the result \n",
    "# in \"result\"\n",
    "num1 = 4\n",
    "num2 = 5\n",
    "result = sum_nums(num1,num2)\n",
    "\n",
    "# Print result\n",
    "print(result)\n",
    "\n",
    "\n",
    "# 1. mult_by_10\n",
    "# define function here\n",
    "def mult_by_10(someList):\n",
    "    return(list(map(lambda x: x * 10, someList)))\n",
    "\n",
    "# Call function here \n",
    "# and store the result \n",
    "# in \"result\"\n",
    "old_list = [1,2,3,4,5]\n",
    "new_list = mult_by_10(old_list)\n",
    "\n",
    "# Print result\n",
    "print(new_list)"
   ]
  },
  {
   "cell_type": "markdown",
   "metadata": {},
   "source": [
    "<hr> \n",
    "\n",
    "## Functions - With Default Arguments \n",
    "### Instructions: \n",
    "1. Run the code, which includes the function call (without arguments), try to make sense of the error message.\n",
    "\n",
    "2. Add a default argument for c, should default to 100 —when a value is not passed.\n",
    "\n",
    "3. print calls to the special_operation function with the following combinations of values.\n",
    "\n",
    "        Notice that some of these calls will throw errors if no default for c is found in the definition of special_operation().\n",
    "\n",
    "Try passing the arguments in different orders, get a feel for how these keyword and default arguments work.\n",
    "\n",
    "in:\n",
    "a=1, b=3, c=4\n",
    "\n",
    "out:\n",
    "7\n",
    "\n",
    "in:\n",
    "a=4, b=3, c=1\n",
    "\n",
    "out:\n",
    "13\n",
    "\n",
    "in:\n",
    "a=1, b=3\n",
    "\n",
    "out:\n",
    "103\n",
    "\n",
    "\n",
    "4. Add a default argument for b also, should default to 50—when a value is not passed.\n",
    "**This will NOT affect the other function calls, because b has been passed in every time.**\n",
    "\n",
    "5. print calls to the special_operation function with only the following value for a.\n",
    "\n",
    "in:\n",
    "a=4\n",
    "\n",
    "out:\n",
    "300"
   ]
  },
  {
   "cell_type": "code",
   "execution_count": 29,
   "metadata": {},
   "outputs": [
    {
     "name": "stdout",
     "output_type": "stream",
     "text": [
      "7\n",
      "13\n",
      "103\n",
      "300\n"
     ]
    }
   ],
   "source": [
    "def special_operation(a,b=50,c=100):\n",
    "    return a * b + c\n",
    "    \n",
    "print(special_operation(c=4, a=1, b=3))\n",
    "print(special_operation(a=4, b=3, c=1))\n",
    "print(special_operation(a=1, b=3))\n",
    "print(special_operation(4))\n",
    "\n",
    "# print(special_operation(a=1, b=3, c=4))\n",
    "# print(special_operation(a=1, b=3, c=4))\n",
    "# print(special_operation(a=1, b=3))\n",
    "# print(special_operation(a=4))"
   ]
  }
 ],
 "metadata": {
  "kernelspec": {
   "display_name": "Python 3",
   "language": "python",
   "name": "python3"
  },
  "language_info": {
   "codemirror_mode": {
    "name": "ipython",
    "version": 3
   },
   "file_extension": ".py",
   "mimetype": "text/x-python",
   "name": "python",
   "nbconvert_exporter": "python",
   "pygments_lexer": "ipython3",
   "version": "3.7.3"
  }
 },
 "nbformat": 4,
 "nbformat_minor": 2
}
